{
 "cells": [
  {
   "cell_type": "code",
   "execution_count": 1,
   "id": "e2310cd8",
   "metadata": {},
   "outputs": [
    {
     "name": "stdout",
     "output_type": "stream",
     "text": [
      "3.10.9 | packaged by Anaconda, Inc. | (main, Mar  1 2023, 18:18:15) [MSC v.1916 64 bit (AMD64)]\n"
     ]
    }
   ],
   "source": [
    "import sys\n",
    "print(sys.version)"
   ]
  },
  {
   "cell_type": "code",
   "execution_count": null,
   "id": "072cd476",
   "metadata": {},
   "outputs": [],
   "source": [
    "# Python comments"
   ]
  },
  {
   "cell_type": "code",
   "execution_count": 2,
   "id": "822eb0a9",
   "metadata": {},
   "outputs": [
    {
     "name": "stdout",
     "output_type": "stream",
     "text": [
      "27\n",
      "hello\n"
     ]
    }
   ],
   "source": [
    "# add tha two number\n",
    "print(5+22)\n",
    "# this is comments\n",
    "print('hello')"
   ]
  },
  {
   "cell_type": "code",
   "execution_count": 3,
   "id": "e9b20599",
   "metadata": {},
   "outputs": [
    {
     "name": "stdout",
     "output_type": "stream",
     "text": [
      "hii .. Python!\n"
     ]
    }
   ],
   "source": [
    "# print(\"hello Python\")\n",
    "print(\"hii .. Python!\")"
   ]
  },
  {
   "cell_type": "code",
   "execution_count": 4,
   "id": "1a009673",
   "metadata": {},
   "outputs": [
    {
     "name": "stdout",
     "output_type": "stream",
     "text": [
      "Python\n"
     ]
    }
   ],
   "source": [
    "# Multiline comments in Python\n",
    "\n",
    "# this is comments\n",
    "# hello \n",
    "# more line\n",
    "print('Python')"
   ]
  },
  {
   "cell_type": "code",
   "execution_count": 5,
   "id": "f2494dbd",
   "metadata": {},
   "outputs": [
    {
     "name": "stdout",
     "output_type": "stream",
     "text": [
      "hii..\n"
     ]
    }
   ],
   "source": [
    "''' hello \n",
    "How are you\n",
    "    welcome\n",
    "'''      #this is comments \n",
    "print('hii..')"
   ]
  },
  {
   "cell_type": "code",
   "execution_count": null,
   "id": "8b887b2f",
   "metadata": {},
   "outputs": [],
   "source": [
    "# Python Variables"
   ]
  },
  {
   "cell_type": "code",
   "execution_count": null,
   "id": "e823c57d",
   "metadata": {},
   "outputs": [],
   "source": [
    " Variables are containers for storing data values."
   ]
  },
  {
   "cell_type": "code",
   "execution_count": 6,
   "id": "eac287d7",
   "metadata": {},
   "outputs": [
    {
     "name": "stdout",
     "output_type": "stream",
     "text": [
      "5\n",
      "Python\n"
     ]
    }
   ],
   "source": [
    "x = 5  #int\n",
    "y = 'Python' #str\n",
    "\n",
    "print(x)\n",
    "print(y)"
   ]
  },
  {
   "cell_type": "code",
   "execution_count": null,
   "id": "de8598fd",
   "metadata": {},
   "outputs": [],
   "source": [
    "# Python Casting"
   ]
  },
  {
   "cell_type": "code",
   "execution_count": 7,
   "id": "f9b5c8ce",
   "metadata": {},
   "outputs": [
    {
     "name": "stdout",
     "output_type": "stream",
     "text": [
      "5\n",
      "5\n",
      "5.0\n"
     ]
    }
   ],
   "source": [
    "x = str(5)\n",
    "print(x)\n",
    "y = int(5)\n",
    "print(y)\n",
    "z = float(5)\n",
    "print(z)"
   ]
  },
  {
   "cell_type": "code",
   "execution_count": 8,
   "id": "2ec25463",
   "metadata": {},
   "outputs": [
    {
     "name": "stdout",
     "output_type": "stream",
     "text": [
      "<class 'int'>\n",
      "<class 'str'>\n",
      "<class 'bool'>\n",
      "<class 'float'>\n"
     ]
    }
   ],
   "source": [
    "# Using type() function\n",
    "\n",
    "x = 10\n",
    "print(type(x))\n",
    "\n",
    "y = \"Python\"\n",
    "print(type(y))\n",
    "\n",
    "a = True\n",
    "print(type(a))\n",
    "\n",
    "b = 3.14\n",
    "print(type(b))"
   ]
  },
  {
   "cell_type": "code",
   "execution_count": 9,
   "id": "b58464f7",
   "metadata": {},
   "outputs": [
    {
     "name": "stdout",
     "output_type": "stream",
     "text": [
      "Python\n"
     ]
    }
   ],
   "source": [
    "# x = \"Python\"\n",
    "x = 'Python'\n",
    "print(x)"
   ]
  },
  {
   "cell_type": "code",
   "execution_count": null,
   "id": "e64fcdc7",
   "metadata": {},
   "outputs": [],
   "source": [
    "#  Python is Case Sensitive "
   ]
  },
  {
   "cell_type": "code",
   "execution_count": 10,
   "id": "c50c2113",
   "metadata": {},
   "outputs": [
    {
     "name": "stdout",
     "output_type": "stream",
     "text": [
      "2549049524592\n",
      "2549050853168\n"
     ]
    }
   ],
   "source": [
    "a = 5\n",
    "A = \"Python\"\n",
    "print(id(a))\n",
    "print(id(A))"
   ]
  },
  {
   "cell_type": "code",
   "execution_count": 11,
   "id": "39fd811c",
   "metadata": {},
   "outputs": [
    {
     "name": "stdout",
     "output_type": "stream",
     "text": [
      "Python\n"
     ]
    }
   ],
   "source": [
    "# var = 'Python'\n",
    "# my_var='Python'\n",
    "_='Python' \n",
    "print(_)\n"
   ]
  },
  {
   "cell_type": "code",
   "execution_count": 12,
   "id": "19e4a661",
   "metadata": {},
   "outputs": [
    {
     "name": "stdout",
     "output_type": "stream",
     "text": [
      "Python\n",
      "50\n",
      "AI\n"
     ]
    }
   ],
   "source": [
    "# Python multiple  variables  \n",
    "\n",
    "a,b,c = \"Python\",50,\"AI\"\n",
    "print(a)\n",
    "print(b)\n",
    "print(c)\n"
   ]
  },
  {
   "cell_type": "code",
   "execution_count": 13,
   "id": "8608370e",
   "metadata": {},
   "outputs": [
    {
     "name": "stdout",
     "output_type": "stream",
     "text": [
      "2549050853168\n",
      "2549050853168\n",
      "2549050853168\n",
      "Python\n"
     ]
    }
   ],
   "source": [
    "x = y = z = \"Python\"\n",
    "print(id(x))\n",
    "print(id(y))\n",
    "print(id(z))\n",
    "print(z)"
   ]
  },
  {
   "cell_type": "code",
   "execution_count": null,
   "id": "78188161",
   "metadata": {},
   "outputs": [],
   "source": [
    "# Python in Unpack a Collection"
   ]
  },
  {
   "cell_type": "code",
   "execution_count": 14,
   "id": "7c6ce9e2",
   "metadata": {},
   "outputs": [
    {
     "name": "stdout",
     "output_type": "stream",
     "text": [
      "Python\n",
      "ML\n",
      "AI\n"
     ]
    }
   ],
   "source": [
    "l1 = [\"Python\",\"ML\",\"AI\"]\n",
    "x,y,z=l1\n",
    "print(x)\n",
    "print(y)\n",
    "print(z)"
   ]
  },
  {
   "cell_type": "code",
   "execution_count": null,
   "id": "1cdda089",
   "metadata": {},
   "outputs": [],
   "source": [
    "# Python - Global Variables"
   ]
  },
  {
   "cell_type": "code",
   "execution_count": null,
   "id": "07369c07",
   "metadata": {},
   "outputs": [],
   "source": [
    "Variables that are created outside of a function (as in all of the examples in the previous pages) are known as global variables.\n",
    "\n",
    "Global variables can be used by everyone, both inside of functions and outside."
   ]
  },
  {
   "cell_type": "code",
   "execution_count": 15,
   "id": "bed8e144",
   "metadata": {},
   "outputs": [
    {
     "name": "stdout",
     "output_type": "stream",
     "text": [
      "Best language is Python\n",
      "Python\n"
     ]
    }
   ],
   "source": [
    "x = \"Python\"\n",
    "\n",
    "def myfunc():\n",
    "    print(\"Best language is \" + x)\n",
    "    \n",
    "myfunc()\n",
    "print(x)"
   ]
  },
  {
   "cell_type": "code",
   "execution_count": 16,
   "id": "4ecfdc61",
   "metadata": {},
   "outputs": [
    {
     "name": "stdout",
     "output_type": "stream",
     "text": [
      "Python is Fantastic\n",
      "Python is awesome\n"
     ]
    }
   ],
   "source": [
    "x = \"awesome\"\n",
    "\n",
    "def myfunc():\n",
    "    x = \"Fantastic\"\n",
    "    \n",
    "    print(\"Python is \" + x)\n",
    "    \n",
    "myfunc()\n",
    "\n",
    "print(\"Python is \" + x)"
   ]
  },
  {
   "cell_type": "code",
   "execution_count": null,
   "id": "440345a5",
   "metadata": {},
   "outputs": [],
   "source": [
    "# The global Keyword in Python"
   ]
  },
  {
   "cell_type": "code",
   "execution_count": 17,
   "id": "25535b8c",
   "metadata": {},
   "outputs": [
    {
     "name": "stdout",
     "output_type": "stream",
     "text": [
      "Python is Fantastic\n"
     ]
    }
   ],
   "source": [
    "def myfunc():\n",
    "    global x\n",
    "    x = \"Fantastic\"\n",
    "    \n",
    "myfunc()\n",
    "\n",
    "print(\"Python is \" + x)"
   ]
  },
  {
   "cell_type": "code",
   "execution_count": 18,
   "id": "13efd11b",
   "metadata": {},
   "outputs": [
    {
     "name": "stdout",
     "output_type": "stream",
     "text": [
      "25\n"
     ]
    }
   ],
   "source": [
    "# Accessing global Variable From Inside a Function\n",
    "\n",
    "# global variable\n",
    "\n",
    "a = 10\n",
    "b = 15\n",
    "\n",
    "# function to perform add\n",
    "\n",
    "def add():\n",
    "    c = a+b\n",
    "    print(c)\n",
    "    \n",
    "add()"
   ]
  },
  {
   "cell_type": "code",
   "execution_count": 19,
   "id": "59276689",
   "metadata": {},
   "outputs": [
    {
     "ename": "UnboundLocalError",
     "evalue": "local variable 'a' referenced before assignment",
     "output_type": "error",
     "traceback": [
      "\u001b[1;31m---------------------------------------------------------------------------\u001b[0m",
      "\u001b[1;31mUnboundLocalError\u001b[0m                         Traceback (most recent call last)",
      "Cell \u001b[1;32mIn[19], line 12\u001b[0m\n\u001b[0;32m      9\u001b[0m     a\u001b[38;5;241m=\u001b[39mb\n\u001b[0;32m     10\u001b[0m     \u001b[38;5;28mprint\u001b[39m(b)\n\u001b[1;32m---> 12\u001b[0m \u001b[43mchange\u001b[49m\u001b[43m(\u001b[49m\u001b[43m)\u001b[49m\n",
      "Cell \u001b[1;32mIn[19], line 8\u001b[0m, in \u001b[0;36mchange\u001b[1;34m()\u001b[0m\n\u001b[0;32m      7\u001b[0m \u001b[38;5;28;01mdef\u001b[39;00m \u001b[38;5;21mchange\u001b[39m():\n\u001b[1;32m----> 8\u001b[0m     b \u001b[38;5;241m=\u001b[39m \u001b[43ma\u001b[49m \u001b[38;5;241m+\u001b[39m \u001b[38;5;241m5\u001b[39m\n\u001b[0;32m      9\u001b[0m     a\u001b[38;5;241m=\u001b[39mb\n\u001b[0;32m     10\u001b[0m     \u001b[38;5;28mprint\u001b[39m(b)\n",
      "\u001b[1;31mUnboundLocalError\u001b[0m: local variable 'a' referenced before assignment"
     ]
    }
   ],
   "source": [
    "# Modifying Global Variable From Inside the Function\n",
    "\n",
    "a = 15\n",
    "\n",
    "# funtion to change a global value\n",
    "\n",
    "def change():\n",
    "    b = a + 5\n",
    "    a=b\n",
    "    print(b)\n",
    "    \n",
    "change()"
   ]
  },
  {
   "cell_type": "code",
   "execution_count": 20,
   "id": "3dd1e83c",
   "metadata": {},
   "outputs": [
    {
     "name": "stdout",
     "output_type": "stream",
     "text": [
      "Value of x inside a function : 20\n",
      "Value of x outside a function : 20\n"
     ]
    }
   ],
   "source": [
    "#  Changing Global Variable From Inside a Function using global\n",
    "\n",
    "x = 15\n",
    "\n",
    "\n",
    "def change():\n",
    "# using a global keyword\n",
    "    global x\n",
    "\n",
    "    # increment value of a by 5\n",
    "    x = x + 5\n",
    "    print(\"Value of x inside a function :\", x)\n",
    "\n",
    "\n",
    "change()\n",
    "print(\"Value of x outside a function :\", x)\n"
   ]
  },
  {
   "cell_type": "code",
   "execution_count": 21,
   "id": "00f4a87d",
   "metadata": {},
   "outputs": [
    {
     "name": "stdout",
     "output_type": "stream",
     "text": [
      "Python is awesome\n"
     ]
    }
   ],
   "source": [
    "# exercise global keyword\n",
    "\n",
    "x = \"awesome\"\n",
    "\n",
    "def myfunc():\n",
    "    x = \"fantastic\"\n",
    "myfunc()\n",
    "print(\"Python is \" + x)"
   ]
  },
  {
   "cell_type": "code",
   "execution_count": 22,
   "id": "21046410",
   "metadata": {},
   "outputs": [
    {
     "name": "stdout",
     "output_type": "stream",
     "text": [
      "Python is  Fantastic\n"
     ]
    }
   ],
   "source": [
    "# exercise\n",
    "\n",
    "x = \"awesome\"\n",
    "\n",
    "def myfunc():\n",
    "    global x \n",
    "    \n",
    "    x = \"Fantastic\"\n",
    "myfunc()\n",
    "print(\"Python is  \" + x)"
   ]
  },
  {
   "cell_type": "code",
   "execution_count": null,
   "id": "7f1401d5",
   "metadata": {},
   "outputs": [],
   "source": [
    "# Python Data-Types"
   ]
  },
  {
   "cell_type": "code",
   "execution_count": null,
   "id": "5812a8c4",
   "metadata": {},
   "outputs": [],
   "source": [
    "# Text Type:\tstr\n",
    "# Numeric Types:\tint, float, complex\n",
    "# Sequence Types:\tlist, tuple, range\n",
    "# Mapping Type:\tdict\n",
    "# Set Types:\tset, frozenset\n",
    "# Boolean Type:\tbool\n",
    "# Binary Types:\tbytes, bytearray, memoryview\n",
    "# None Type:\tNoneType"
   ]
  },
  {
   "cell_type": "code",
   "execution_count": 23,
   "id": "9baaa187",
   "metadata": {},
   "outputs": [
    {
     "name": "stdout",
     "output_type": "stream",
     "text": [
      "<class 'str'>\n",
      "<class 'int'>\n",
      "<class 'float'>\n",
      "<class 'bool'>\n",
      "<class 'complex'>\n",
      "<class 'list'>\n",
      "<class 'tuple'>\n",
      "<class 'dict'>\n"
     ]
    }
   ],
   "source": [
    "x = \"Hello world\"\n",
    "print(type(x))\n",
    "\n",
    "x = 20\n",
    "print(type(x))\n",
    "\n",
    "x = 3.14\n",
    "print(type(x))\n",
    "\n",
    "x = True\n",
    "print(type(x))\n",
    "\n",
    "x = (1+2j)\n",
    "print(type(x))\n",
    "\n",
    "x = [1,'Python',False]\n",
    "print(type(x))\n",
    "\n",
    "x= (1,'Python')\n",
    "print(type(x))\n",
    "\n",
    "x = {1:'one',\n",
    "    2:'two'}\n",
    "print(type(x))\n",
    "\n"
   ]
  },
  {
   "cell_type": "code",
   "execution_count": 24,
   "id": "4f437f21",
   "metadata": {},
   "outputs": [
    {
     "name": "stdout",
     "output_type": "stream",
     "text": [
      "<class 'frozenset'>\n"
     ]
    }
   ],
   "source": [
    "x = frozenset({\"apple\",\"Banana\"})\n",
    "print(type(x))"
   ]
  },
  {
   "cell_type": "code",
   "execution_count": 25,
   "id": "995f1204",
   "metadata": {},
   "outputs": [
    {
     "name": "stdout",
     "output_type": "stream",
     "text": [
      "<class 'bytes'>\n",
      "<class 'bytes'>\n"
     ]
    }
   ],
   "source": [
    "x = b\"Hello\"\n",
    "print(type(x))\n",
    "x = b'1'\n",
    "print(type(x))"
   ]
  },
  {
   "cell_type": "code",
   "execution_count": 26,
   "id": "d3997379",
   "metadata": {},
   "outputs": [
    {
     "name": "stdout",
     "output_type": "stream",
     "text": [
      "<class 'bytearray'>\n"
     ]
    }
   ],
   "source": [
    "x = bytearray(50)\n",
    "print(type(x))"
   ]
  },
  {
   "cell_type": "code",
   "execution_count": 27,
   "id": "0c42c7ef",
   "metadata": {},
   "outputs": [
    {
     "name": "stdout",
     "output_type": "stream",
     "text": [
      "<class 'memoryview'>\n",
      "<memory at 0x0000025104048580>\n"
     ]
    }
   ],
   "source": [
    "x = memoryview(bytes(5))\n",
    "print(type(x))\n",
    "print(x)"
   ]
  },
  {
   "cell_type": "code",
   "execution_count": 28,
   "id": "568320fa",
   "metadata": {},
   "outputs": [
    {
     "name": "stdout",
     "output_type": "stream",
     "text": [
      "<class 'str'>\n"
     ]
    }
   ],
   "source": [
    "a = str(\"Python\")\n",
    "print(type(a))"
   ]
  },
  {
   "cell_type": "code",
   "execution_count": 29,
   "id": "1ee3a903",
   "metadata": {},
   "outputs": [
    {
     "name": "stdout",
     "output_type": "stream",
     "text": [
      "<class 'complex'>\n",
      "1j\n"
     ]
    }
   ],
   "source": [
    "a = complex(1j)\n",
    "print(type(a))\n",
    "print(a)"
   ]
  },
  {
   "cell_type": "code",
   "execution_count": null,
   "id": "27fcefc7",
   "metadata": {},
   "outputs": [],
   "source": [
    "#  Python Type Conversion"
   ]
  },
  {
   "cell_type": "code",
   "execution_count": 30,
   "id": "a93a17db",
   "metadata": {},
   "outputs": [
    {
     "name": "stdout",
     "output_type": "stream",
     "text": [
      "1.0\n",
      "3\n",
      "(1+0j)\n",
      "<class 'float'>\n",
      "<class 'int'>\n",
      "<class 'complex'>\n"
     ]
    }
   ],
   "source": [
    "# You cannot convert complex numbers into another number type.\n",
    "\n",
    "x = 1     #int\n",
    "y = 3.14  #float\n",
    "z = 1j    #complex\n",
    "\n",
    "a = float(x)\n",
    "b = int(y)\n",
    "c = complex(x)\n",
    "\n",
    "print(a)\n",
    "print(b)\n",
    "print(c)\n",
    "\n",
    "print(type(a))\n",
    "print(type(b))\n",
    "print(type(c))"
   ]
  },
  {
   "cell_type": "code",
   "execution_count": 31,
   "id": "1fcaa6be",
   "metadata": {},
   "outputs": [
    {
     "name": "stdout",
     "output_type": "stream",
     "text": [
      "4\n",
      "9\n"
     ]
    }
   ],
   "source": [
    "# Python Random Module\n",
    "\n",
    "import random\n",
    "print(random.randrange(1,11))\n",
    "print(random.randint(1,10))"
   ]
  },
  {
   "cell_type": "code",
   "execution_count": null,
   "id": "84acd539",
   "metadata": {},
   "outputs": [],
   "source": [
    "# Python Random Module"
   ]
  },
  {
   "cell_type": "code",
   "execution_count": 32,
   "id": "1a3e7fce",
   "metadata": {},
   "outputs": [],
   "source": [
    "import random"
   ]
  },
  {
   "cell_type": "code",
   "execution_count": 33,
   "id": "28e51557",
   "metadata": {},
   "outputs": [
    {
     "name": "stdout",
     "output_type": "stream",
     "text": [
      "0.5714025946899135\n"
     ]
    }
   ],
   "source": [
    "random.seed(10)\n",
    "print(random.random())"
   ]
  },
  {
   "cell_type": "code",
   "execution_count": 34,
   "id": "f42824b1",
   "metadata": {},
   "outputs": [
    {
     "name": "stdout",
     "output_type": "stream",
     "text": [
      "0.5714025946899135\n",
      "0.5714025946899135\n"
     ]
    }
   ],
   "source": [
    "import random\n",
    "\n",
    "random.seed(10)\n",
    "print(random.random())\n",
    "\n",
    "random.seed(10)\n",
    "print(random.random())"
   ]
  },
  {
   "cell_type": "code",
   "execution_count": 35,
   "id": "ef87f466",
   "metadata": {},
   "outputs": [
    {
     "name": "stdout",
     "output_type": "stream",
     "text": [
      "0.4288890546751146\n"
     ]
    }
   ],
   "source": [
    "import random\n",
    "\n",
    "print(random.random())"
   ]
  },
  {
   "cell_type": "code",
   "execution_count": null,
   "id": "bc9abbc6",
   "metadata": {},
   "outputs": [],
   "source": []
  },
  {
   "cell_type": "code",
   "execution_count": null,
   "id": "1c7c837c",
   "metadata": {},
   "outputs": [],
   "source": [
    "# Python Strings"
   ]
  },
  {
   "cell_type": "code",
   "execution_count": 36,
   "id": "0d6ed343",
   "metadata": {},
   "outputs": [
    {
     "name": "stdout",
     "output_type": "stream",
     "text": [
      "Python\n",
      "Python\n"
     ]
    }
   ],
   "source": [
    "print(\"Python\")\n",
    "print('Python')"
   ]
  },
  {
   "cell_type": "code",
   "execution_count": 37,
   "id": "954eb227",
   "metadata": {},
   "outputs": [
    {
     "name": "stdout",
     "output_type": "stream",
     "text": [
      "it's alright\n",
      "he is called 'Jonny'\n",
      "He is called \"P\"\n"
     ]
    }
   ],
   "source": [
    "# Quotes Inside Quotes\n",
    "\n",
    "print(\"it's alright\")\n",
    "print(\"he is called 'Jonny'\")\n",
    "print('He is called \"P\"')"
   ]
  },
  {
   "cell_type": "code",
   "execution_count": 38,
   "id": "d2aa5266",
   "metadata": {},
   "outputs": [
    {
     "name": "stdout",
     "output_type": "stream",
     "text": [
      "l\n",
      "!\n"
     ]
    }
   ],
   "source": [
    "a = \"Hello World!\"\n",
    "print(a[2])\n",
    "print(a[-1])\n",
    "# print(a[5])"
   ]
  },
  {
   "cell_type": "code",
   "execution_count": 39,
   "id": "a5284fb8",
   "metadata": {},
   "outputs": [
    {
     "name": "stdout",
     "output_type": "stream",
     "text": [
      "Apple"
     ]
    }
   ],
   "source": [
    "for x in \"Apple\":\n",
    "    print(x,end=\"\")"
   ]
  },
  {
   "cell_type": "code",
   "execution_count": 40,
   "id": "4150ffa4",
   "metadata": {},
   "outputs": [
    {
     "name": "stdout",
     "output_type": "stream",
     "text": [
      "14\n"
     ]
    }
   ],
   "source": [
    "# how to find string Length\n",
    "\n",
    "a = \"Hello Everyone\"\n",
    "print(len(a))"
   ]
  },
  {
   "cell_type": "code",
   "execution_count": 41,
   "id": "79f1de56",
   "metadata": {},
   "outputs": [
    {
     "name": "stdout",
     "output_type": "stream",
     "text": [
      "True\n"
     ]
    }
   ],
   "source": [
    "txt = \"The best things in life are free\"\n",
    "print(\"life\" in txt)"
   ]
  },
  {
   "cell_type": "code",
   "execution_count": 42,
   "id": "e0363829",
   "metadata": {},
   "outputs": [
    {
     "data": {
      "text/plain": [
       "True"
      ]
     },
     "execution_count": 42,
     "metadata": {},
     "output_type": "execute_result"
    }
   ],
   "source": [
    "\"are\" in txt"
   ]
  },
  {
   "cell_type": "code",
   "execution_count": 43,
   "id": "79bb486c",
   "metadata": {},
   "outputs": [
    {
     "name": "stdout",
     "output_type": "stream",
     "text": [
      "not presents in txt\n"
     ]
    }
   ],
   "source": [
    "txt = \"The best things in life are free\"\n",
    "\n",
    "if \"bet\" in txt:\n",
    "    print(\"yes, 'best' in presents\")\n",
    "else:\n",
    "    print(\"not presents in txt\")"
   ]
  },
  {
   "cell_type": "code",
   "execution_count": 44,
   "id": "9e077129",
   "metadata": {},
   "outputs": [
    {
     "name": "stdout",
     "output_type": "stream",
     "text": [
      "True\n"
     ]
    }
   ],
   "source": [
    "txt = \"The best things in life are free\"  # NOT IN \n",
    "\n",
    "print(\"all\" not in txt)"
   ]
  },
  {
   "cell_type": "code",
   "execution_count": 45,
   "id": "60814e6e",
   "metadata": {},
   "outputs": [
    {
     "name": "stdout",
     "output_type": "stream",
     "text": [
      "c\n"
     ]
    }
   ],
   "source": [
    "# Exercise\n",
    "x = \"Welcome\"\n",
    "\n",
    "print(x[3])"
   ]
  },
  {
   "cell_type": "code",
   "execution_count": null,
   "id": "81d1e078",
   "metadata": {},
   "outputs": [],
   "source": [
    "# Python - Slicing Strings"
   ]
  },
  {
   "cell_type": "code",
   "execution_count": 46,
   "id": "88f72baf",
   "metadata": {},
   "outputs": [
    {
     "name": "stdout",
     "output_type": "stream",
     "text": [
      "Hello\n"
     ]
    }
   ],
   "source": [
    "a = \"Hello, World!\"\n",
    "# print(a[2:5])   \n",
    "print(a[:5])  # slice from the start"
   ]
  },
  {
   "cell_type": "code",
   "execution_count": 47,
   "id": "770707bd",
   "metadata": {},
   "outputs": [
    {
     "name": "stdout",
     "output_type": "stream",
     "text": [
      " World!\n"
     ]
    }
   ],
   "source": [
    "b = \"Hello, World!\"\n",
    "print(b[6:])      # slice th the END"
   ]
  },
  {
   "cell_type": "code",
   "execution_count": 48,
   "id": "c9d51430",
   "metadata": {},
   "outputs": [
    {
     "data": {
      "text/plain": [
       "'Hello, World!'"
      ]
     },
     "execution_count": 48,
     "metadata": {},
     "output_type": "execute_result"
    }
   ],
   "source": [
    "# nagative indexing\n",
    "b"
   ]
  },
  {
   "cell_type": "code",
   "execution_count": 49,
   "id": "562799bf",
   "metadata": {},
   "outputs": [
    {
     "name": "stdout",
     "output_type": "stream",
     "text": [
      "!\n"
     ]
    }
   ],
   "source": [
    "print(b[-1])"
   ]
  },
  {
   "cell_type": "code",
   "execution_count": 50,
   "id": "426ddb0a",
   "metadata": {},
   "outputs": [
    {
     "name": "stdout",
     "output_type": "stream",
     "text": [
      "orl\n"
     ]
    }
   ],
   "source": [
    "print(b[-5:-2])"
   ]
  },
  {
   "cell_type": "code",
   "execution_count": 51,
   "id": "00c27dca",
   "metadata": {},
   "outputs": [
    {
     "name": "stdout",
     "output_type": "stream",
     "text": [
      "llo, Wor\n"
     ]
    }
   ],
   "source": [
    "print(b[-11:-3])"
   ]
  },
  {
   "cell_type": "code",
   "execution_count": 52,
   "id": "57ac557d",
   "metadata": {},
   "outputs": [
    {
     "data": {
      "text/plain": [
       "'hello, world!'"
      ]
     },
     "execution_count": 52,
     "metadata": {},
     "output_type": "execute_result"
    }
   ],
   "source": [
    "# Python - Modify Strings\n",
    "\n",
    "a = \"Hello, World!\"\n",
    "# a.upper()\n",
    "a.lower()"
   ]
  },
  {
   "cell_type": "code",
   "execution_count": 53,
   "id": "aef70d96",
   "metadata": {
    "scrolled": true
   },
   "outputs": [
    {
     "name": "stdout",
     "output_type": "stream",
     "text": [
      "Hello , World\n",
      " Hello , World\n",
      "Hello , World  \n"
     ]
    }
   ],
   "source": [
    "a = \" Hello , World  \"\n",
    "\n",
    "print(a.strip())\n",
    "print(a.rstrip())\n",
    "print(a.lstrip())"
   ]
  },
  {
   "cell_type": "code",
   "execution_count": 54,
   "id": "a15126e6",
   "metadata": {},
   "outputs": [
    {
     "name": "stdout",
     "output_type": "stream",
     "text": [
      " Hello , World  \n"
     ]
    }
   ],
   "source": [
    "# Replace String\n",
    "print(a)"
   ]
  },
  {
   "cell_type": "code",
   "execution_count": 55,
   "id": "b5036368",
   "metadata": {},
   "outputs": [
    {
     "name": "stdout",
     "output_type": "stream",
     "text": [
      "Pr@t@p , M@kw@n@\n"
     ]
    }
   ],
   "source": [
    "x = \"Pratap , Makwana\"\n",
    "\n",
    "print(x.replace(\"a\",\"@\"))"
   ]
  },
  {
   "cell_type": "code",
   "execution_count": 56,
   "id": "bcbfe7c4",
   "metadata": {},
   "outputs": [
    {
     "name": "stdout",
     "output_type": "stream",
     "text": [
      "PraTap , Makwana\n"
     ]
    }
   ],
   "source": [
    "print(x.replace(\"t\",\"T\"))"
   ]
  },
  {
   "cell_type": "code",
   "execution_count": 57,
   "id": "9547b481",
   "metadata": {},
   "outputs": [
    {
     "name": "stdout",
     "output_type": "stream",
     "text": [
      "Pratap bhai Makwana\n"
     ]
    }
   ],
   "source": [
    "print(x.replace(\",\",\"bhai\"))"
   ]
  },
  {
   "cell_type": "code",
   "execution_count": 58,
   "id": "cc98590c",
   "metadata": {},
   "outputs": [
    {
     "name": "stdout",
     "output_type": "stream",
     "text": [
      "['Python', ',@', 'and', 'AI!']\n"
     ]
    }
   ],
   "source": [
    "x = \"Python ,@  and AI!\"\n",
    "print(x.split())"
   ]
  },
  {
   "cell_type": "code",
   "execution_count": 59,
   "id": "55feeabe",
   "metadata": {},
   "outputs": [
    {
     "data": {
      "text/plain": [
       "['P', 'y', 'th', 'o', 'n']"
      ]
     },
     "execution_count": 59,
     "metadata": {},
     "output_type": "execute_result"
    }
   ],
   "source": [
    "x = \"P y th o n\"\n",
    "x.split()"
   ]
  },
  {
   "cell_type": "code",
   "execution_count": 60,
   "id": "9c3f384e",
   "metadata": {},
   "outputs": [
    {
     "data": {
      "text/plain": [
       "['P y th o n']"
      ]
     },
     "execution_count": 60,
     "metadata": {},
     "output_type": "execute_result"
    }
   ],
   "source": [
    "x.splitlines()"
   ]
  },
  {
   "cell_type": "code",
   "execution_count": 61,
   "id": "6f278a79",
   "metadata": {},
   "outputs": [
    {
     "data": {
      "text/plain": [
       "' Hello , World  '"
      ]
     },
     "execution_count": 61,
     "metadata": {},
     "output_type": "execute_result"
    }
   ],
   "source": [
    "a"
   ]
  },
  {
   "cell_type": "code",
   "execution_count": 62,
   "id": "f003ddf8",
   "metadata": {},
   "outputs": [
    {
     "data": {
      "text/plain": [
       "[' Hello , World  ']"
      ]
     },
     "execution_count": 62,
     "metadata": {},
     "output_type": "execute_result"
    }
   ],
   "source": [
    "a.splitlines()"
   ]
  },
  {
   "cell_type": "code",
   "execution_count": 63,
   "id": "55f1ca4f",
   "metadata": {},
   "outputs": [
    {
     "data": {
      "text/plain": [
       "'P y th o n'"
      ]
     },
     "execution_count": 63,
     "metadata": {},
     "output_type": "execute_result"
    }
   ],
   "source": [
    "x"
   ]
  },
  {
   "cell_type": "code",
   "execution_count": 64,
   "id": "216f52ef",
   "metadata": {},
   "outputs": [
    {
     "name": "stdout",
     "output_type": "stream",
     "text": [
      "['Pyt', 'ho', 'n,ML', '']\n"
     ]
    }
   ],
   "source": [
    "x= \"Pyt!ho!n,ML!\"\n",
    "print(x.split(\"!\"))"
   ]
  },
  {
   "cell_type": "code",
   "execution_count": null,
   "id": "a6a69b4b",
   "metadata": {},
   "outputs": [],
   "source": [
    "# Python - String Concatenation\n"
   ]
  },
  {
   "cell_type": "code",
   "execution_count": 65,
   "id": "764e0579",
   "metadata": {},
   "outputs": [
    {
     "name": "stdout",
     "output_type": "stream",
     "text": [
      "Hello World\n"
     ]
    }
   ],
   "source": [
    "a = \"Hello \"\n",
    "b = \"World\"\n",
    "x = a+b\n",
    "print(x)"
   ]
  },
  {
   "cell_type": "code",
   "execution_count": 66,
   "id": "988cec8a",
   "metadata": {},
   "outputs": [
    {
     "name": "stdout",
     "output_type": "stream",
     "text": [
      "Hello  World\n"
     ]
    }
   ],
   "source": [
    "a = \"Hello\"\n",
    "b = \"World\"\n",
    "\n",
    "c = a + \"  \" +b\n",
    "print(c)"
   ]
  },
  {
   "cell_type": "code",
   "execution_count": null,
   "id": "8e60edaa",
   "metadata": {},
   "outputs": [],
   "source": [
    "# F-Strings"
   ]
  },
  {
   "cell_type": "code",
   "execution_count": 67,
   "id": "2f2830d8",
   "metadata": {},
   "outputs": [
    {
     "name": "stdout",
     "output_type": "stream",
     "text": [
      "My name is Jay, I am 27 year old!\n"
     ]
    }
   ],
   "source": [
    "name = \"Jay\"\n",
    "age = 27\n",
    "txt = f\"My name is {name}, I am {age} year old!\"\n",
    "print(txt)"
   ]
  },
  {
   "cell_type": "code",
   "execution_count": 68,
   "id": "a6915ebc",
   "metadata": {},
   "outputs": [
    {
     "name": "stdout",
     "output_type": "stream",
     "text": [
      "The price is 60 dollers($)\n"
     ]
    }
   ],
   "source": [
    "price = 60\n",
    "\n",
    "txt = f\"The price is {price} dollers($)\"\n",
    "print(txt)"
   ]
  },
  {
   "cell_type": "code",
   "execution_count": 69,
   "id": "985775a2",
   "metadata": {},
   "outputs": [
    {
     "name": "stdout",
     "output_type": "stream",
     "text": [
      "The price is 60.00 dollers($)\n"
     ]
    }
   ],
   "source": [
    "price = 60\n",
    "txt = f\"The price is {price:.2f} dollers($)\"\n",
    "print(txt)"
   ]
  },
  {
   "cell_type": "code",
   "execution_count": 70,
   "id": "07f22795",
   "metadata": {},
   "outputs": [
    {
     "name": "stdout",
     "output_type": "stream",
     "text": [
      "The price is 200 dollers\n"
     ]
    }
   ],
   "source": [
    "txt = f\"The price is {20*10} dollers\"\n",
    "print(txt)"
   ]
  },
  {
   "cell_type": "code",
   "execution_count": null,
   "id": "d0218fde",
   "metadata": {},
   "outputs": [],
   "source": [
    "# Python - Escape Characters"
   ]
  },
  {
   "cell_type": "code",
   "execution_count": 71,
   "id": "4f4cc69e",
   "metadata": {},
   "outputs": [
    {
     "name": "stdout",
     "output_type": "stream",
     "text": [
      "We are the so-called \"Vikings\" from the north.\n"
     ]
    }
   ],
   "source": [
    "txt = \"We are the so-called \\\"Vikings\\\" from the north.\"\n",
    "print(txt)"
   ]
  },
  {
   "cell_type": "code",
   "execution_count": 72,
   "id": "e89a428b",
   "metadata": {},
   "outputs": [
    {
     "name": "stdout",
     "output_type": "stream",
     "text": [
      "Hello Everyone , How \"are\" you .\n"
     ]
    }
   ],
   "source": [
    "txt = \"Hello Everyone , How \\\"are\\\" you .\" #using backslash \\\n",
    "print(txt)"
   ]
  },
  {
   "cell_type": "code",
   "execution_count": 73,
   "id": "d52b4a37",
   "metadata": {},
   "outputs": [
    {
     "name": "stdout",
     "output_type": "stream",
     "text": [
      "It's alright.\n"
     ]
    }
   ],
   "source": [
    "# single quote\n",
    "\n",
    "txt = 'It\\'s alright.'\n",
    "print(txt) \n"
   ]
  },
  {
   "cell_type": "code",
   "execution_count": 74,
   "id": "162b223c",
   "metadata": {},
   "outputs": [
    {
     "name": "stdout",
     "output_type": "stream",
     "text": [
      "This will insert one \\ (backslash).\n"
     ]
    }
   ],
   "source": [
    "# Backslash\n",
    "\n",
    "txt = \"This will insert one \\\\ (backslash).\"\n",
    "print(txt) \n"
   ]
  },
  {
   "cell_type": "code",
   "execution_count": 75,
   "id": "391db68c",
   "metadata": {},
   "outputs": [
    {
     "name": "stdout",
     "output_type": "stream",
     "text": [
      "Hello\n",
      "World!\n"
     ]
    }
   ],
   "source": [
    "# new line\n",
    "\n",
    "txt = \"Hello\\nWorld!\"\n",
    "print(txt) "
   ]
  },
  {
   "cell_type": "code",
   "execution_count": 76,
   "id": "03948d9a",
   "metadata": {},
   "outputs": [
    {
     "name": "stdout",
     "output_type": "stream",
     "text": [
      "Hello\n",
      "Everyone!\n"
     ]
    }
   ],
   "source": [
    "txt = \"Hello\\nEveryone!\"\n",
    "print(txt)"
   ]
  },
  {
   "cell_type": "code",
   "execution_count": 77,
   "id": "3ffce050",
   "metadata": {},
   "outputs": [
    {
     "name": "stdout",
     "output_type": "stream",
     "text": [
      "Hello\r",
      "World!\n"
     ]
    }
   ],
   "source": [
    "# Carriage Return\n",
    "\n",
    "txt = \"Hello\\rWorld!\"\n",
    "print(txt) \n"
   ]
  },
  {
   "cell_type": "code",
   "execution_count": 78,
   "id": "95b47e95",
   "metadata": {},
   "outputs": [
    {
     "name": "stdout",
     "output_type": "stream",
     "text": [
      "welcome to\n",
      " \r",
      "our office!\n"
     ]
    }
   ],
   "source": [
    "x = \"welcome to\\n \\rour office!\"\n",
    "print(x)"
   ]
  },
  {
   "cell_type": "code",
   "execution_count": 79,
   "id": "6bd3f574",
   "metadata": {},
   "outputs": [
    {
     "name": "stdout",
     "output_type": "stream",
     "text": [
      "Hello\tWorld\n"
     ]
    }
   ],
   "source": [
    "# Tab\n",
    "\n",
    "x = \"Hello\\tWorld\"\n",
    "print(x)"
   ]
  },
  {
   "cell_type": "code",
   "execution_count": 80,
   "id": "f8e60d7d",
   "metadata": {},
   "outputs": [
    {
     "name": "stdout",
     "output_type": "stream",
     "text": [
      "Hello  \bWorld!\n"
     ]
    }
   ],
   "source": [
    "# Backspace\n",
    "\n",
    "txt = \"Hello  \\bWorld!\"\n",
    "print(txt) \n"
   ]
  },
  {
   "cell_type": "code",
   "execution_count": 81,
   "id": "c69610cc",
   "metadata": {},
   "outputs": [
    {
     "name": "stdout",
     "output_type": "stream",
     "text": [
      "Hello\f",
      " world\n"
     ]
    }
   ],
   "source": [
    "# Form Feed\n",
    "txt = \"Hello\\f world\"\n",
    "print(txt)\n"
   ]
  },
  {
   "cell_type": "code",
   "execution_count": 82,
   "id": "7a28a53c",
   "metadata": {},
   "outputs": [
    {
     "name": "stdout",
     "output_type": "stream",
     "text": [
      "Hello\n"
     ]
    }
   ],
   "source": [
    "# octal value\n",
    "\n",
    "txt = \"\\110\\145\\154\\154\\157\"\n",
    "print(txt) \n"
   ]
  },
  {
   "cell_type": "code",
   "execution_count": null,
   "id": "032485ac",
   "metadata": {},
   "outputs": [],
   "source": [
    "# Python - String Methods"
   ]
  },
  {
   "cell_type": "code",
   "execution_count": 83,
   "id": "3f52d936",
   "metadata": {},
   "outputs": [],
   "source": [
    "txt = \"Hello , World!\"\n",
    "# print(txt.capitalize())\n",
    "# print(txt.casefold())\n",
    "# print(txt.center(1))\n",
    "# print(txt.count('o'))\n",
    "# print(txt.encode())\n",
    "# print(txt.endswith('d!'))\n",
    "# print(txt.expandtabs())\n",
    "# print(txt.find('r'))\n",
    "# print(txt.format())\n",
    "# print(txt.format_map(','))\n",
    "# print(txt.index('o'))\n",
    "# print(txt.isalnum())\n",
    "# print(txt.isalpha())\n",
    "# print(txt.isascii())\n",
    "# print(txt.isdecimal())\n",
    "# print(txt.isdigit())\n",
    "# print(txt.isidentifier())\n",
    "# print(txt.islower())\n",
    "# print(txt.isnumeric())\n",
    "# print(txt.isprintable())\n",
    "# print(id(txt))\n",
    "# print(txt.isspace())\n",
    "# print(txt.istitle())\n",
    "# print(txt.isupper())"
   ]
  },
  {
   "cell_type": "code",
   "execution_count": 84,
   "id": "7d937c2c",
   "metadata": {},
   "outputs": [
    {
     "data": {
      "text/plain": [
       "'Hello , World!'"
      ]
     },
     "execution_count": 84,
     "metadata": {},
     "output_type": "execute_result"
    }
   ],
   "source": [
    "txt"
   ]
  },
  {
   "cell_type": "code",
   "execution_count": 85,
   "id": "3f717795",
   "metadata": {},
   "outputs": [
    {
     "data": {
      "text/plain": [
       "True"
      ]
     },
     "execution_count": 85,
     "metadata": {},
     "output_type": "execute_result"
    }
   ],
   "source": [
    "txt.startswith(\"H\")"
   ]
  },
  {
   "cell_type": "code",
   "execution_count": 86,
   "id": "dff4f5e3",
   "metadata": {},
   "outputs": [
    {
     "data": {
      "text/plain": [
       "['He', '', 'o , Wor', 'd!']"
      ]
     },
     "execution_count": 86,
     "metadata": {},
     "output_type": "execute_result"
    }
   ],
   "source": [
    "txt.split('l')"
   ]
  },
  {
   "cell_type": "code",
   "execution_count": 87,
   "id": "e275dccc",
   "metadata": {},
   "outputs": [
    {
     "data": {
      "text/plain": [
       "['Hello , World!']"
      ]
     },
     "execution_count": 87,
     "metadata": {},
     "output_type": "execute_result"
    }
   ],
   "source": [
    "txt.splitlines()"
   ]
  },
  {
   "cell_type": "code",
   "execution_count": 88,
   "id": "10bfaa14",
   "metadata": {},
   "outputs": [
    {
     "data": {
      "text/plain": [
       "'Hello , World!'"
      ]
     },
     "execution_count": 88,
     "metadata": {},
     "output_type": "execute_result"
    }
   ],
   "source": [
    "txt"
   ]
  },
  {
   "cell_type": "code",
   "execution_count": 89,
   "id": "e47fe2f2",
   "metadata": {},
   "outputs": [
    {
     "data": {
      "text/plain": [
       "'hELLO , wORLD!'"
      ]
     },
     "execution_count": 89,
     "metadata": {},
     "output_type": "execute_result"
    }
   ],
   "source": [
    "txt.swapcase()"
   ]
  },
  {
   "cell_type": "code",
   "execution_count": 90,
   "id": "bfec79a1",
   "metadata": {},
   "outputs": [
    {
     "data": {
      "text/plain": [
       "'Hello , World!'"
      ]
     },
     "execution_count": 90,
     "metadata": {},
     "output_type": "execute_result"
    }
   ],
   "source": [
    "txt.translate('H')"
   ]
  },
  {
   "cell_type": "code",
   "execution_count": 91,
   "id": "92dfd4ea",
   "metadata": {},
   "outputs": [
    {
     "data": {
      "text/plain": [
       "'Python'"
      ]
     },
     "execution_count": 91,
     "metadata": {},
     "output_type": "execute_result"
    }
   ],
   "source": [
    "a = \"Python\"\n",
    "a.translate('y')"
   ]
  },
  {
   "cell_type": "code",
   "execution_count": null,
   "id": "751a96d3",
   "metadata": {},
   "outputs": [],
   "source": [
    "# Python Booleans"
   ]
  },
  {
   "cell_type": "code",
   "execution_count": 92,
   "id": "401509ef",
   "metadata": {},
   "outputs": [
    {
     "name": "stdout",
     "output_type": "stream",
     "text": [
      "True\n",
      "False\n",
      "False\n"
     ]
    }
   ],
   "source": [
    "print(10>0)\n",
    "print(1<-8)\n",
    "print(0==1)"
   ]
  },
  {
   "cell_type": "code",
   "execution_count": 93,
   "id": "755fd474",
   "metadata": {},
   "outputs": [
    {
     "name": "stdout",
     "output_type": "stream",
     "text": [
      "b  is greter of a\n"
     ]
    }
   ],
   "source": [
    "a = 200\n",
    "b= 33\n",
    "\n",
    "if b<a:\n",
    "    print(\"b  is greter of a\")\n",
    "    \n",
    "else:\n",
    "    print(\"b is not grater than a\")"
   ]
  },
  {
   "cell_type": "code",
   "execution_count": 94,
   "id": "8198fa4d",
   "metadata": {},
   "outputs": [
    {
     "name": "stdout",
     "output_type": "stream",
     "text": [
      "True\n"
     ]
    }
   ],
   "source": [
    "print(bool(\"Hello\"))"
   ]
  },
  {
   "cell_type": "code",
   "execution_count": 95,
   "id": "323a520c",
   "metadata": {},
   "outputs": [
    {
     "name": "stdout",
     "output_type": "stream",
     "text": [
      "False\n"
     ]
    }
   ],
   "source": [
    "print(bool(0))"
   ]
  },
  {
   "cell_type": "code",
   "execution_count": 96,
   "id": "57be946e",
   "metadata": {},
   "outputs": [
    {
     "name": "stdout",
     "output_type": "stream",
     "text": [
      "True\n"
     ]
    }
   ],
   "source": [
    "print(bool(17))"
   ]
  },
  {
   "cell_type": "code",
   "execution_count": 97,
   "id": "e078f891",
   "metadata": {},
   "outputs": [
    {
     "name": "stdout",
     "output_type": "stream",
     "text": [
      "True\n"
     ]
    }
   ],
   "source": [
    "print(bool(1))"
   ]
  },
  {
   "cell_type": "code",
   "execution_count": 98,
   "id": "b6e742f8",
   "metadata": {},
   "outputs": [
    {
     "name": "stdout",
     "output_type": "stream",
     "text": [
      "False\n"
     ]
    }
   ],
   "source": [
    "print(bool(''))"
   ]
  },
  {
   "cell_type": "code",
   "execution_count": 99,
   "id": "23fd814b",
   "metadata": {},
   "outputs": [
    {
     "name": "stdout",
     "output_type": "stream",
     "text": [
      "True\n",
      "True\n"
     ]
    }
   ],
   "source": [
    "x=\"Hello\"\n",
    "y = 18\n",
    "\n",
    "print(bool(x))\n",
    "print(bool(y))"
   ]
  },
  {
   "cell_type": "code",
   "execution_count": 100,
   "id": "2323bca5",
   "metadata": {},
   "outputs": [
    {
     "data": {
      "text/plain": [
       "True"
      ]
     },
     "execution_count": 100,
     "metadata": {},
     "output_type": "execute_result"
    }
   ],
   "source": [
    "bool(\"abc\")"
   ]
  },
  {
   "cell_type": "code",
   "execution_count": 101,
   "id": "57b2ede3",
   "metadata": {},
   "outputs": [
    {
     "data": {
      "text/plain": [
       "True"
      ]
     },
     "execution_count": 101,
     "metadata": {},
     "output_type": "execute_result"
    }
   ],
   "source": [
    "bool(123)"
   ]
  },
  {
   "cell_type": "code",
   "execution_count": 102,
   "id": "df6b4ba1",
   "metadata": {},
   "outputs": [
    {
     "data": {
      "text/plain": [
       "True"
      ]
     },
     "execution_count": 102,
     "metadata": {},
     "output_type": "execute_result"
    }
   ],
   "source": [
    "bool([\"apple\",\"banana\",\"cgerry\"])"
   ]
  },
  {
   "cell_type": "code",
   "execution_count": 103,
   "id": "113e9e4b",
   "metadata": {},
   "outputs": [
    {
     "data": {
      "text/plain": [
       "True"
      ]
     },
     "execution_count": 103,
     "metadata": {},
     "output_type": "execute_result"
    }
   ],
   "source": [
    "bool({1:\"one\",2:\"two\"})"
   ]
  },
  {
   "cell_type": "code",
   "execution_count": 104,
   "id": "1cd4051e",
   "metadata": {},
   "outputs": [
    {
     "data": {
      "text/plain": [
       "True"
      ]
     },
     "execution_count": 104,
     "metadata": {},
     "output_type": "execute_result"
    }
   ],
   "source": [
    "bool(1,)"
   ]
  },
  {
   "cell_type": "code",
   "execution_count": 105,
   "id": "d17be1f3",
   "metadata": {},
   "outputs": [
    {
     "name": "stdout",
     "output_type": "stream",
     "text": [
      "False\n"
     ]
    }
   ],
   "source": [
    "class MyClass():\n",
    "    def __len__(self):\n",
    "        return 0\n",
    "    \n",
    "obj = MyClass()\n",
    "print(bool(obj))"
   ]
  },
  {
   "cell_type": "code",
   "execution_count": 106,
   "id": "c73f1595",
   "metadata": {},
   "outputs": [
    {
     "name": "stdout",
     "output_type": "stream",
     "text": [
      "True\n"
     ]
    }
   ],
   "source": [
    "def MyFunction():\n",
    "    return True\n",
    "print(MyFunction())"
   ]
  },
  {
   "cell_type": "code",
   "execution_count": 107,
   "id": "b15254d4",
   "metadata": {},
   "outputs": [
    {
     "name": "stdout",
     "output_type": "stream",
     "text": [
      "Yes!\n"
     ]
    }
   ],
   "source": [
    "def MyFunction():\n",
    "    return 1\n",
    "if MyFunction():\n",
    "    print(\"Yes!\")\n",
    "    \n",
    "else:\n",
    "    print(\"NOO!\")"
   ]
  },
  {
   "cell_type": "code",
   "execution_count": 108,
   "id": "95932072",
   "metadata": {},
   "outputs": [
    {
     "name": "stdout",
     "output_type": "stream",
     "text": [
      "True\n"
     ]
    }
   ],
   "source": [
    "a = 200\n",
    "\n",
    "print(isinstance(a,int))"
   ]
  },
  {
   "cell_type": "code",
   "execution_count": 109,
   "id": "763cead2",
   "metadata": {},
   "outputs": [
    {
     "name": "stdout",
     "output_type": "stream",
     "text": [
      "True\n"
     ]
    }
   ],
   "source": [
    "x = 'Python'\n",
    "\n",
    "print(isinstance(x,str))"
   ]
  },
  {
   "cell_type": "code",
   "execution_count": null,
   "id": "a34600c2",
   "metadata": {},
   "outputs": [],
   "source": [
    "# Python Operators"
   ]
  },
  {
   "cell_type": "code",
   "execution_count": null,
   "id": "a5ae9de8",
   "metadata": {},
   "outputs": [],
   "source": [
    "Operators are used to perform operations on variables and values.\n",
    "\n"
   ]
  },
  {
   "cell_type": "code",
   "execution_count": null,
   "id": "80ae8c53",
   "metadata": {},
   "outputs": [],
   "source": [
    "#### Python divides the operators in the following groups:\n",
    "\n",
    "### Arithmetic operators\n",
    "### Assignment operators\n",
    "### Comparison operators\n",
    "### Logical operators\n",
    "### Identity operators\n",
    "### Membership operators\n",
    "### Bitwise operators\n"
   ]
  },
  {
   "cell_type": "code",
   "execution_count": 110,
   "id": "400d089d",
   "metadata": {},
   "outputs": [
    {
     "name": "stdout",
     "output_type": "stream",
     "text": [
      "60\n",
      "40\n",
      "500\n",
      "5.0\n",
      "0\n",
      "5\n",
      "97656250000000000\n"
     ]
    }
   ],
   "source": [
    "# Python Arithmetic Operators\n",
    "\n",
    "a = 50\n",
    "b = 10\n",
    "\n",
    "print(a+b)\n",
    "print(a-b)\n",
    "print(a*b)\n",
    "print(a/b)\n",
    "print(a%b)\n",
    "print(a//b)\n",
    "print(a**b)"
   ]
  },
  {
   "cell_type": "code",
   "execution_count": 111,
   "id": "5a5e9c45",
   "metadata": {},
   "outputs": [
    {
     "name": "stdout",
     "output_type": "stream",
     "text": [
      "100\n"
     ]
    }
   ],
   "source": [
    "# Python Assignment Operators\n",
    "# Assignment operators are used to assign values to variables:\n",
    "\n",
    "a = 10\n",
    "# a +=50\n",
    "# a = a + 50\n",
    "# a *=2\n",
    "# a /=2\n",
    "# a //= 2\n",
    "a **=2\n",
    "print(a)\n"
   ]
  },
  {
   "cell_type": "code",
   "execution_count": 112,
   "id": "74c8d41b",
   "metadata": {},
   "outputs": [
    {
     "name": "stdout",
     "output_type": "stream",
     "text": [
      "2\n"
     ]
    }
   ],
   "source": [
    "x = 10\n",
    "\n",
    "# x &= 9\n",
    "# x |=2\n",
    "# x >>= 3\n",
    "\n",
    "print(x:=2)"
   ]
  },
  {
   "cell_type": "code",
   "execution_count": 113,
   "id": "fd350e66",
   "metadata": {},
   "outputs": [
    {
     "name": "stdout",
     "output_type": "stream",
     "text": [
      "False\n",
      "True\n",
      "False\n",
      "True\n",
      "False\n",
      "True\n"
     ]
    }
   ],
   "source": [
    "# Python Comparison Operators\n",
    "\n",
    "x = 10\n",
    "y = 20\n",
    "\n",
    "print(x==y)\n",
    "print(x<=y)\n",
    "print(x>=y)\n",
    "print(x<y)\n",
    "print(x>y)\n",
    "print(x != y)"
   ]
  },
  {
   "cell_type": "code",
   "execution_count": 114,
   "id": "b832d9f5",
   "metadata": {},
   "outputs": [
    {
     "name": "stdout",
     "output_type": "stream",
     "text": [
      "False\n",
      "True\n"
     ]
    }
   ],
   "source": [
    "# Python Logical Operators\n",
    "\n",
    "\n",
    "x = 10\n",
    "\n",
    "print(x>5 and x<5)\n",
    "print(x<15 and x>2)"
   ]
  },
  {
   "cell_type": "code",
   "execution_count": 115,
   "id": "9adcda50",
   "metadata": {},
   "outputs": [
    {
     "name": "stdout",
     "output_type": "stream",
     "text": [
      "True\n",
      "True\n",
      "False\n"
     ]
    }
   ],
   "source": [
    "x = 10\n",
    "\n",
    "print(x>5 or x<5)\n",
    "print(x>2 or x<20)\n",
    "print(x<0 or x>20)"
   ]
  },
  {
   "cell_type": "code",
   "execution_count": 116,
   "id": "a3393a67",
   "metadata": {},
   "outputs": [
    {
     "name": "stdout",
     "output_type": "stream",
     "text": [
      "False\n",
      "False\n"
     ]
    }
   ],
   "source": [
    "x = 10\n",
    "\n",
    "print(not(x<15 and x>5))\n",
    "print(not(x<15 or x>20))"
   ]
  },
  {
   "cell_type": "code",
   "execution_count": 117,
   "id": "8c086596",
   "metadata": {},
   "outputs": [
    {
     "name": "stdout",
     "output_type": "stream",
     "text": [
      "False\n",
      "True\n"
     ]
    }
   ],
   "source": [
    "# Python Identity Operators\n",
    "\n",
    "x = 10\n",
    "y = 1\n",
    "\n",
    "print(x is y)\n",
    "print(x is not y)"
   ]
  },
  {
   "cell_type": "code",
   "execution_count": 118,
   "id": "a492d173",
   "metadata": {},
   "outputs": [
    {
     "name": "stdout",
     "output_type": "stream",
     "text": [
      "True\n",
      "False\n"
     ]
    }
   ],
   "source": [
    "# Python Membership Operators\n",
    "\n",
    "x = [\"apple\",\"cherry\",\"Banana\"]\n",
    "print(\"cherry\" in x)\n",
    "\n",
    "print(\"apple\" not in x)\n",
    "\n"
   ]
  },
  {
   "cell_type": "code",
   "execution_count": 119,
   "id": "48f50007",
   "metadata": {},
   "outputs": [
    {
     "name": "stdout",
     "output_type": "stream",
     "text": [
      "0\n"
     ]
    }
   ],
   "source": [
    "print((6 + 3) - (6 + 3))"
   ]
  },
  {
   "cell_type": "code",
   "execution_count": 120,
   "id": "9436fbcb",
   "metadata": {},
   "outputs": [
    {
     "name": "stdout",
     "output_type": "stream",
     "text": [
      "115\n"
     ]
    }
   ],
   "source": [
    "print(100 + 5 * 3)"
   ]
  },
  {
   "cell_type": "code",
   "execution_count": 121,
   "id": "88bbac45",
   "metadata": {},
   "outputs": [
    {
     "name": "stdout",
     "output_type": "stream",
     "text": [
      "5\n"
     ]
    }
   ],
   "source": [
    "print(5 + 4 - 7 + 3)\n"
   ]
  },
  {
   "cell_type": "code",
   "execution_count": null,
   "id": "2613f692",
   "metadata": {},
   "outputs": [],
   "source": [
    "# Python Lists"
   ]
  },
  {
   "cell_type": "code",
   "execution_count": null,
   "id": "1bf04eef",
   "metadata": {},
   "outputs": [],
   "source": [
    "Lists are used to store multiple items in a single variable.\n",
    "\n",
    "Lists are one of 4 built-in data types in Python used to store collections of data, the other 3 are Tuple, Set, and Dictionary, all with different qualities and usage.\n",
    "\n",
    "Lists are created using square brackets:"
   ]
  },
  {
   "cell_type": "code",
   "execution_count": 122,
   "id": "ee1a9886",
   "metadata": {},
   "outputs": [
    {
     "name": "stdout",
     "output_type": "stream",
     "text": [
      "['Apple', 'Banana', 'Cherry']\n"
     ]
    }
   ],
   "source": [
    "list1 = [\"Apple\",\"Banana\",\"Cherry\"]\n",
    "print(list1)"
   ]
  },
  {
   "cell_type": "code",
   "execution_count": 123,
   "id": "8ff62cc0",
   "metadata": {},
   "outputs": [
    {
     "name": "stdout",
     "output_type": "stream",
     "text": [
      "<class 'list'>\n"
     ]
    }
   ],
   "source": [
    "print(type(list1))"
   ]
  },
  {
   "cell_type": "code",
   "execution_count": 124,
   "id": "ed3ccbf3",
   "metadata": {},
   "outputs": [
    {
     "name": "stdout",
     "output_type": "stream",
     "text": [
      "['apple', 'banana', 'apple', 'Cherry', 'Banana']\n"
     ]
    }
   ],
   "source": [
    "l1 = [\"apple\",\"banana\",\"apple\",\"Cherry\",\"Banana\"]\n",
    "print(l1)"
   ]
  },
  {
   "cell_type": "code",
   "execution_count": 125,
   "id": "288d29f7",
   "metadata": {},
   "outputs": [
    {
     "name": "stdout",
     "output_type": "stream",
     "text": [
      "5\n"
     ]
    }
   ],
   "source": [
    "print(len(l1))"
   ]
  },
  {
   "cell_type": "code",
   "execution_count": 126,
   "id": "144a7043",
   "metadata": {},
   "outputs": [
    {
     "name": "stdout",
     "output_type": "stream",
     "text": [
      "<class 'list'>\n",
      "<class 'list'>\n",
      "<class 'list'>\n"
     ]
    }
   ],
   "source": [
    "l1 = [\"apple\",\"Banana\",\"Cherry\"]\n",
    "l2 = [1,2,3,4,5]\n",
    "l3 = [True,True,False]\n",
    "print(type(l1))\n",
    "print(type(l2))\n",
    "print(type(l3))"
   ]
  },
  {
   "cell_type": "code",
   "execution_count": 127,
   "id": "3449b7df",
   "metadata": {},
   "outputs": [
    {
     "data": {
      "text/plain": [
       "['apple', 'Banana', 'Cherry']"
      ]
     },
     "execution_count": 127,
     "metadata": {},
     "output_type": "execute_result"
    }
   ],
   "source": [
    "l1"
   ]
  },
  {
   "cell_type": "code",
   "execution_count": 128,
   "id": "80d9ea6a",
   "metadata": {},
   "outputs": [],
   "source": [
    "del l1"
   ]
  },
  {
   "cell_type": "code",
   "execution_count": 129,
   "id": "0c624ee9",
   "metadata": {},
   "outputs": [
    {
     "name": "stdout",
     "output_type": "stream",
     "text": [
      "[1, True, 'Python', 27]\n"
     ]
    }
   ],
   "source": [
    "l1 = [1,True,\"Python\",27]\n",
    "print(l1)"
   ]
  },
  {
   "cell_type": "code",
   "execution_count": 130,
   "id": "db052cc4",
   "metadata": {},
   "outputs": [
    {
     "name": "stdout",
     "output_type": "stream",
     "text": [
      "<class 'list'>\n",
      "['apple', 10, True]\n"
     ]
    }
   ],
   "source": [
    "l2 = list((\"apple\",10,True))\n",
    "print(type(l2))\n",
    "print(l2)"
   ]
  },
  {
   "cell_type": "code",
   "execution_count": 131,
   "id": "77c9e757",
   "metadata": {},
   "outputs": [
    {
     "data": {
      "text/plain": [
       "[1, True, 'Python', 27]"
      ]
     },
     "execution_count": 131,
     "metadata": {},
     "output_type": "execute_result"
    }
   ],
   "source": [
    "# Python - Access List Items\n",
    "\n",
    "l1"
   ]
  },
  {
   "cell_type": "code",
   "execution_count": 132,
   "id": "d4389fbf",
   "metadata": {},
   "outputs": [
    {
     "name": "stdout",
     "output_type": "stream",
     "text": [
      "Python\n"
     ]
    }
   ],
   "source": [
    "print(l1[2])"
   ]
  },
  {
   "cell_type": "code",
   "execution_count": 133,
   "id": "02b05998",
   "metadata": {},
   "outputs": [
    {
     "name": "stdout",
     "output_type": "stream",
     "text": [
      "27\n"
     ]
    }
   ],
   "source": [
    "print(l1[-1])"
   ]
  },
  {
   "cell_type": "code",
   "execution_count": 134,
   "id": "8dd9599d",
   "metadata": {},
   "outputs": [
    {
     "name": "stdout",
     "output_type": "stream",
     "text": [
      "[27, 'Python', True, 1]\n"
     ]
    }
   ],
   "source": [
    "print(l1[::-1])"
   ]
  },
  {
   "cell_type": "code",
   "execution_count": 135,
   "id": "6f6bbeae",
   "metadata": {},
   "outputs": [
    {
     "name": "stdout",
     "output_type": "stream",
     "text": [
      "['Python', 27]\n"
     ]
    }
   ],
   "source": [
    "print(l1[2:4])"
   ]
  },
  {
   "cell_type": "code",
   "execution_count": 136,
   "id": "77e0aa64",
   "metadata": {},
   "outputs": [
    {
     "name": "stdout",
     "output_type": "stream",
     "text": [
      "['Python']\n"
     ]
    }
   ],
   "source": [
    "print(l1[-2:-1])"
   ]
  },
  {
   "cell_type": "code",
   "execution_count": 137,
   "id": "b605093d",
   "metadata": {},
   "outputs": [
    {
     "data": {
      "text/plain": [
       "[1, True, 'Python', 27]"
      ]
     },
     "execution_count": 137,
     "metadata": {},
     "output_type": "execute_result"
    }
   ],
   "source": [
    "l1"
   ]
  },
  {
   "cell_type": "code",
   "execution_count": 138,
   "id": "403ab65a",
   "metadata": {},
   "outputs": [
    {
     "name": "stdout",
     "output_type": "stream",
     "text": [
      "[1, True, 'Python', 27]\n"
     ]
    }
   ],
   "source": [
    "print(l1[-4:])"
   ]
  },
  {
   "cell_type": "code",
   "execution_count": 139,
   "id": "7720599d",
   "metadata": {},
   "outputs": [
    {
     "name": "stdout",
     "output_type": "stream",
     "text": [
      "nohtyP\n"
     ]
    }
   ],
   "source": [
    "s = \"Python\"\n",
    "print(s[::-1])"
   ]
  },
  {
   "cell_type": "code",
   "execution_count": 140,
   "id": "c1f873a5",
   "metadata": {},
   "outputs": [
    {
     "data": {
      "text/plain": [
       "'thon'"
      ]
     },
     "execution_count": 140,
     "metadata": {},
     "output_type": "execute_result"
    }
   ],
   "source": [
    "s[-4:]"
   ]
  },
  {
   "cell_type": "code",
   "execution_count": 141,
   "id": "ab9ce281",
   "metadata": {},
   "outputs": [
    {
     "name": "stdout",
     "output_type": "stream",
     "text": [
      "['apple', 'banana', 'cherry', 'orange', 'kiwi', 'melon', 'mango']\n"
     ]
    }
   ],
   "source": [
    "thislist = [\"apple\", \"banana\", \"cherry\", \"orange\", \"kiwi\", \"melon\", \"mango\"]\n",
    "print(thislist)"
   ]
  },
  {
   "cell_type": "code",
   "execution_count": 142,
   "id": "f4003a4f",
   "metadata": {},
   "outputs": [
    {
     "name": "stdout",
     "output_type": "stream",
     "text": [
      "['banana', 'cherry', 'orange']\n"
     ]
    }
   ],
   "source": [
    "print(thislist[-6:-3])"
   ]
  },
  {
   "cell_type": "code",
   "execution_count": 143,
   "id": "9898ad27",
   "metadata": {},
   "outputs": [
    {
     "name": "stdout",
     "output_type": "stream",
     "text": [
      "['apple', 'banana', 'cherry', 'orange', 'kiwi']\n"
     ]
    }
   ],
   "source": [
    "print(thislist[:-2])"
   ]
  },
  {
   "cell_type": "code",
   "execution_count": 144,
   "id": "07d88eae",
   "metadata": {},
   "outputs": [
    {
     "data": {
      "text/plain": [
       "['apple', 'banana', 'cherry', 'orange', 'kiwi', 'melon', 'mango']"
      ]
     },
     "execution_count": 144,
     "metadata": {},
     "output_type": "execute_result"
    }
   ],
   "source": [
    "# Python change list items\n",
    "thislist\n"
   ]
  },
  {
   "cell_type": "code",
   "execution_count": 145,
   "id": "fa33b25c",
   "metadata": {},
   "outputs": [
    {
     "name": "stdout",
     "output_type": "stream",
     "text": [
      "['apple', 'Banana', 'cherry', 'orange', 'kiwi', 'melon', 'mango']\n"
     ]
    }
   ],
   "source": [
    "thislist[1]= \"Banana\"\n",
    "print(thislist)"
   ]
  },
  {
   "cell_type": "code",
   "execution_count": 146,
   "id": "4851d55e",
   "metadata": {},
   "outputs": [
    {
     "data": {
      "text/plain": [
       "['apple', 'Banana', 'cherry', 'orange', 'kiwi', 'melon', 'mango']"
      ]
     },
     "execution_count": 146,
     "metadata": {},
     "output_type": "execute_result"
    }
   ],
   "source": [
    "thislist"
   ]
  },
  {
   "cell_type": "code",
   "execution_count": 147,
   "id": "7a813463",
   "metadata": {},
   "outputs": [
    {
     "name": "stdout",
     "output_type": "stream",
     "text": [
      "['apple', 'blackcurrant', 'watermelon', 'orange', 'kiwi', 'melon', 'mango']\n"
     ]
    }
   ],
   "source": [
    "thislist[1:3] = [\"blackcurrant\", \"watermelon\"]\n",
    "print(thislist)"
   ]
  },
  {
   "cell_type": "code",
   "execution_count": 148,
   "id": "61e4e32c",
   "metadata": {},
   "outputs": [
    {
     "data": {
      "text/plain": [
       "['apple', 'blackcurrant', 'watermelon', 'orange', 'kiwi', 'melon', 'mango']"
      ]
     },
     "execution_count": 148,
     "metadata": {},
     "output_type": "execute_result"
    }
   ],
   "source": [
    "thislist"
   ]
  },
  {
   "cell_type": "code",
   "execution_count": 149,
   "id": "7302ece0",
   "metadata": {},
   "outputs": [
    {
     "name": "stdout",
     "output_type": "stream",
     "text": [
      "['apple', 'blackcurrant', 'watermelon', 'cherry']\n"
     ]
    }
   ],
   "source": [
    "thislist1 = [\"apple\", \"banana\", \"cherry\"]\n",
    "thislist1[1:2] = [\"blackcurrant\", \"watermelon\"]\n",
    "print(thislist1)"
   ]
  },
  {
   "cell_type": "code",
   "execution_count": 150,
   "id": "b1a062e9",
   "metadata": {},
   "outputs": [
    {
     "name": "stdout",
     "output_type": "stream",
     "text": [
      "['apple', 'cherry']\n"
     ]
    }
   ],
   "source": [
    "l1 = [\"apple\",\"Banana\",\"watermelon\"]\n",
    "l1[1:3] = [\"cherry\"]\n",
    "print(l1)"
   ]
  },
  {
   "cell_type": "code",
   "execution_count": 151,
   "id": "b2f459ae",
   "metadata": {},
   "outputs": [
    {
     "data": {
      "text/plain": [
       "['apple', 'cherry']"
      ]
     },
     "execution_count": 151,
     "metadata": {},
     "output_type": "execute_result"
    }
   ],
   "source": [
    "l1"
   ]
  },
  {
   "cell_type": "code",
   "execution_count": 152,
   "id": "4afefab2",
   "metadata": {},
   "outputs": [
    {
     "data": {
      "text/plain": [
       "['apple', 'blackcurrant', 'watermelon', 'orange', 'kiwi', 'melon', 'mango']"
      ]
     },
     "execution_count": 152,
     "metadata": {},
     "output_type": "execute_result"
    }
   ],
   "source": [
    "thislist"
   ]
  },
  {
   "cell_type": "code",
   "execution_count": 153,
   "id": "0c3ff9d0",
   "metadata": {},
   "outputs": [
    {
     "data": {
      "text/plain": [
       "['apple', 'cherry']"
      ]
     },
     "execution_count": 153,
     "metadata": {},
     "output_type": "execute_result"
    }
   ],
   "source": [
    "l1"
   ]
  },
  {
   "cell_type": "code",
   "execution_count": 154,
   "id": "d6c09b6f",
   "metadata": {},
   "outputs": [
    {
     "data": {
      "text/plain": [
       "['apple', 'watermelon', 'cherry']"
      ]
     },
     "execution_count": 154,
     "metadata": {},
     "output_type": "execute_result"
    }
   ],
   "source": [
    "l1.insert(1,\"watermelon\")\n",
    "l1"
   ]
  },
  {
   "cell_type": "code",
   "execution_count": 155,
   "id": "013e5d67",
   "metadata": {},
   "outputs": [
    {
     "data": {
      "text/plain": [
       "'cherry'"
      ]
     },
     "execution_count": 155,
     "metadata": {},
     "output_type": "execute_result"
    }
   ],
   "source": [
    "l1.pop()"
   ]
  },
  {
   "cell_type": "code",
   "execution_count": 156,
   "id": "2771fff7",
   "metadata": {},
   "outputs": [
    {
     "data": {
      "text/plain": [
       "['apple', 'watermelon']"
      ]
     },
     "execution_count": 156,
     "metadata": {},
     "output_type": "execute_result"
    }
   ],
   "source": [
    "l1"
   ]
  },
  {
   "cell_type": "code",
   "execution_count": 157,
   "id": "d08e9918",
   "metadata": {},
   "outputs": [
    {
     "name": "stdout",
     "output_type": "stream",
     "text": [
      "mango\n"
     ]
    }
   ],
   "source": [
    "# example\n",
    "\n",
    "mylist = [\"apple\",\"banana\",\"cherry\"]\n",
    "mylist[1:2] = [\"kiwi\",\"mango\"]\n",
    "print(mylist[2])\n",
    "\n",
    "# apple kiwi mango banana cherry"
   ]
  },
  {
   "cell_type": "code",
   "execution_count": 158,
   "id": "680d4584",
   "metadata": {},
   "outputs": [
    {
     "data": {
      "text/plain": [
       "['apple', 'kiwi', 'mango', 'cherry']"
      ]
     },
     "execution_count": 158,
     "metadata": {},
     "output_type": "execute_result"
    }
   ],
   "source": [
    "# Python - Add List Items\n",
    "mylist\n"
   ]
  },
  {
   "cell_type": "code",
   "execution_count": 159,
   "id": "3d78a1b5",
   "metadata": {},
   "outputs": [
    {
     "name": "stdout",
     "output_type": "stream",
     "text": [
      "['apple', 'kiwi', 'mango', 'cherry', 'MANGO']\n"
     ]
    }
   ],
   "source": [
    "mylist.append(\"MANGO\")\n",
    "print(mylist)"
   ]
  },
  {
   "cell_type": "code",
   "execution_count": 160,
   "id": "7699dbf9",
   "metadata": {},
   "outputs": [],
   "source": [
    "del mylist"
   ]
  },
  {
   "cell_type": "code",
   "execution_count": 161,
   "id": "47565541",
   "metadata": {},
   "outputs": [
    {
     "data": {
      "text/plain": [
       "['apple', 'Banana']"
      ]
     },
     "execution_count": 161,
     "metadata": {},
     "output_type": "execute_result"
    }
   ],
   "source": [
    "mylist = [\"apple\",\"Banana\"]\n",
    "mylist"
   ]
  },
  {
   "cell_type": "code",
   "execution_count": 162,
   "id": "4a541068",
   "metadata": {},
   "outputs": [
    {
     "name": "stdout",
     "output_type": "stream",
     "text": [
      "['apple', 'Banana', 'watermelon']\n"
     ]
    }
   ],
   "source": [
    "mylist.append(\"watermelon\")\n",
    "print(mylist)"
   ]
  },
  {
   "cell_type": "code",
   "execution_count": 163,
   "id": "72590403",
   "metadata": {},
   "outputs": [
    {
     "data": {
      "text/plain": [
       "['apple', 'Banana', 'watermelon']"
      ]
     },
     "execution_count": 163,
     "metadata": {},
     "output_type": "execute_result"
    }
   ],
   "source": [
    "# insert method\n",
    "\n",
    "mylist"
   ]
  },
  {
   "cell_type": "code",
   "execution_count": 164,
   "id": "74b860c9",
   "metadata": {},
   "outputs": [
    {
     "name": "stdout",
     "output_type": "stream",
     "text": [
      "None\n"
     ]
    }
   ],
   "source": [
    "print(mylist.insert(1,\"APPLE\"))"
   ]
  },
  {
   "cell_type": "code",
   "execution_count": 165,
   "id": "1c50509e",
   "metadata": {},
   "outputs": [
    {
     "data": {
      "text/plain": [
       "['apple', 'APPLE', 'Banana', 'watermelon']"
      ]
     },
     "execution_count": 165,
     "metadata": {},
     "output_type": "execute_result"
    }
   ],
   "source": [
    "mylist"
   ]
  },
  {
   "cell_type": "code",
   "execution_count": 166,
   "id": "3b072cb1",
   "metadata": {},
   "outputs": [
    {
     "name": "stdout",
     "output_type": "stream",
     "text": [
      "['apple', 'banana', 'cherry', 'APPLE', 'BANANA', 'CHERRY']\n"
     ]
    }
   ],
   "source": [
    "# Extend List\n",
    "\n",
    "l1 = ['apple','banana','cherry']\n",
    "l2 = ['APPLE','BANANA','CHERRY']\n",
    "l1.extend(l2)\n",
    "print(l1)"
   ]
  },
  {
   "cell_type": "code",
   "execution_count": 167,
   "id": "82ad221f",
   "metadata": {},
   "outputs": [
    {
     "name": "stdout",
     "output_type": "stream",
     "text": [
      "['apple', 'banana', 'cherry', 'APPLE', 'BANANA', 'CHERRY', 'APPLE', 'BANANA', 'CHERRY']\n"
     ]
    }
   ],
   "source": [
    "l3 = l1 + l2\n",
    "print(l3)"
   ]
  },
  {
   "cell_type": "code",
   "execution_count": 168,
   "id": "d53c03cb",
   "metadata": {},
   "outputs": [],
   "source": [
    "del l3"
   ]
  },
  {
   "cell_type": "code",
   "execution_count": 169,
   "id": "c6718544",
   "metadata": {},
   "outputs": [
    {
     "data": {
      "text/plain": [
       "['apple', 'banana', 'cherry', 'APPLE', 'BANANA', 'CHERRY']"
      ]
     },
     "execution_count": 169,
     "metadata": {},
     "output_type": "execute_result"
    }
   ],
   "source": [
    "l1"
   ]
  },
  {
   "cell_type": "code",
   "execution_count": 170,
   "id": "e5defed5",
   "metadata": {},
   "outputs": [
    {
     "data": {
      "text/plain": [
       "['APPLE', 'BANANA', 'CHERRY']"
      ]
     },
     "execution_count": 170,
     "metadata": {},
     "output_type": "execute_result"
    }
   ],
   "source": [
    "l2"
   ]
  },
  {
   "cell_type": "code",
   "execution_count": 171,
   "id": "cbeac3ab",
   "metadata": {},
   "outputs": [
    {
     "name": "stdout",
     "output_type": "stream",
     "text": [
      "['APPLE', 'BANANA', 'CHERRY', 'orange', 'kiwi']\n"
     ]
    }
   ],
   "source": [
    "tup1 = (\"orange\",\"kiwi\")\n",
    "\n",
    "l2.extend(tup1)\n",
    "print(l2)"
   ]
  },
  {
   "cell_type": "code",
   "execution_count": 172,
   "id": "0d1d8515",
   "metadata": {},
   "outputs": [
    {
     "data": {
      "text/plain": [
       "['APPLE', 'BANANA', 'CHERRY', 'orange', 'kiwi']"
      ]
     },
     "execution_count": 172,
     "metadata": {},
     "output_type": "execute_result"
    }
   ],
   "source": [
    "l2"
   ]
  },
  {
   "cell_type": "code",
   "execution_count": 173,
   "id": "566c67ca",
   "metadata": {},
   "outputs": [
    {
     "data": {
      "text/plain": [
       "['APPLE', 'BANANA', 'CHERRY', 'orange', 'kiwi']"
      ]
     },
     "execution_count": 173,
     "metadata": {},
     "output_type": "execute_result"
    }
   ],
   "source": [
    "# Python - Remove List Items\n",
    "l2\n"
   ]
  },
  {
   "cell_type": "code",
   "execution_count": 174,
   "id": "1b545850",
   "metadata": {},
   "outputs": [
    {
     "name": "stdout",
     "output_type": "stream",
     "text": [
      "['APPLE', 'BANANA', 'orange', 'kiwi']\n"
     ]
    }
   ],
   "source": [
    "l2.remove(\"CHERRY\")\n",
    "print(l2)"
   ]
  },
  {
   "cell_type": "code",
   "execution_count": 175,
   "id": "b695049c",
   "metadata": {},
   "outputs": [
    {
     "data": {
      "text/plain": [
       "['APPLE', 'BANANA', 'orange', 'kiwi']"
      ]
     },
     "execution_count": 175,
     "metadata": {},
     "output_type": "execute_result"
    }
   ],
   "source": [
    "l2"
   ]
  },
  {
   "cell_type": "code",
   "execution_count": 176,
   "id": "ba5d7522",
   "metadata": {},
   "outputs": [
    {
     "name": "stdout",
     "output_type": "stream",
     "text": [
      "['apple', 'cherry', 'kiwi']\n"
     ]
    }
   ],
   "source": [
    "thislist = [\"apple\", \"banana\", \"cherry\", \"banana\", \"kiwi\"]\n",
    "thislist.remove(\"banana\")\n",
    "thislist.remove(\"banana\")\n",
    "print(thislist)"
   ]
  },
  {
   "cell_type": "code",
   "execution_count": 177,
   "id": "361e2b95",
   "metadata": {},
   "outputs": [
    {
     "name": "stdout",
     "output_type": "stream",
     "text": [
      "['kiwi', 'orange', 'BANANA', 'APPLE']\n"
     ]
    }
   ],
   "source": [
    "l2.reverse()\n",
    "print(l2)"
   ]
  },
  {
   "cell_type": "code",
   "execution_count": 178,
   "id": "7418dc65",
   "metadata": {},
   "outputs": [
    {
     "name": "stdout",
     "output_type": "stream",
     "text": [
      "[1, 2, 3, 4]\n"
     ]
    }
   ],
   "source": [
    "a = [1,2,3,4]\n",
    "print(a)"
   ]
  },
  {
   "cell_type": "code",
   "execution_count": 179,
   "id": "2a8c0e35",
   "metadata": {},
   "outputs": [],
   "source": [
    "# Python reverse() method\n",
    "\n",
    "car = [\"nano\",\"tata\",\"BMW\"]\n",
    "rev_car = list(reversed(car))"
   ]
  },
  {
   "cell_type": "code",
   "execution_count": 180,
   "id": "54cdbb49",
   "metadata": {},
   "outputs": [
    {
     "name": "stdout",
     "output_type": "stream",
     "text": [
      "['BMW', 'tata', 'nano']\n"
     ]
    }
   ],
   "source": [
    "print(rev_car)"
   ]
  },
  {
   "cell_type": "code",
   "execution_count": null,
   "id": "86924cdc",
   "metadata": {},
   "outputs": [],
   "source": []
  },
  {
   "cell_type": "code",
   "execution_count": 181,
   "id": "e1570e78",
   "metadata": {},
   "outputs": [],
   "source": [
    "a.reverse()"
   ]
  },
  {
   "cell_type": "code",
   "execution_count": 182,
   "id": "3b27ecc8",
   "metadata": {},
   "outputs": [
    {
     "name": "stdout",
     "output_type": "stream",
     "text": [
      "[4, 3, 2, 1]\n"
     ]
    }
   ],
   "source": [
    "print(a)"
   ]
  },
  {
   "cell_type": "code",
   "execution_count": 183,
   "id": "d6b4483f",
   "metadata": {},
   "outputs": [
    {
     "data": {
      "text/plain": [
       "[4, 3, 2, 1]"
      ]
     },
     "execution_count": 183,
     "metadata": {},
     "output_type": "execute_result"
    }
   ],
   "source": [
    "a"
   ]
  },
  {
   "cell_type": "code",
   "execution_count": 184,
   "id": "a50aea29",
   "metadata": {},
   "outputs": [
    {
     "name": "stdout",
     "output_type": "stream",
     "text": [
      "<class 'list'>\n"
     ]
    }
   ],
   "source": [
    "a\n",
    "print(type(a))"
   ]
  },
  {
   "cell_type": "code",
   "execution_count": 185,
   "id": "b85fac9b",
   "metadata": {},
   "outputs": [
    {
     "name": "stdout",
     "output_type": "stream",
     "text": [
      "[1, 2, 3, 4]\n"
     ]
    }
   ],
   "source": [
    "a.reverse()\n",
    "print(a)"
   ]
  },
  {
   "cell_type": "code",
   "execution_count": 186,
   "id": "12cac0b1",
   "metadata": {},
   "outputs": [
    {
     "data": {
      "text/plain": [
       "[1, 2, 3, 4]"
      ]
     },
     "execution_count": 186,
     "metadata": {},
     "output_type": "execute_result"
    }
   ],
   "source": [
    "a"
   ]
  },
  {
   "cell_type": "code",
   "execution_count": 187,
   "id": "91f4a83b",
   "metadata": {},
   "outputs": [
    {
     "name": "stdout",
     "output_type": "stream",
     "text": [
      "[4, 3, 2, 1]\n"
     ]
    }
   ],
   "source": [
    "# reversing a for loop using\n",
    "\n",
    "list1 = [1,2,3,4]\n",
    "\n",
    "rev = []\n",
    "\n",
    "for i in list1:\n",
    "    rev.insert(0,i)\n",
    "print(rev)"
   ]
  },
  {
   "cell_type": "code",
   "execution_count": 188,
   "id": "3d76527d",
   "metadata": {},
   "outputs": [
    {
     "name": "stdout",
     "output_type": "stream",
     "text": [
      "[5, 4, 3, 2, 1]\n"
     ]
    }
   ],
   "source": [
    "# Using List Comprehension\n",
    "\n",
    "a = [1, 2, 3, 4, 5]\n",
    "\n",
    "# Use list comprehension to create\n",
    "# a reversed version of the list\n",
    "rev = [a[i] for i in range(len(a) - 1, -1, -1)]\n",
    "print(rev)"
   ]
  },
  {
   "cell_type": "code",
   "execution_count": 189,
   "id": "1524092b",
   "metadata": {},
   "outputs": [
    {
     "data": {
      "text/plain": [
       "['apple', 'banana', 'cherry', 'APPLE', 'BANANA', 'CHERRY']"
      ]
     },
     "execution_count": 189,
     "metadata": {},
     "output_type": "execute_result"
    }
   ],
   "source": [
    "# pop() method\n",
    "\n",
    "l1"
   ]
  },
  {
   "cell_type": "code",
   "execution_count": 190,
   "id": "6adec08d",
   "metadata": {},
   "outputs": [
    {
     "data": {
      "text/plain": [
       "'CHERRY'"
      ]
     },
     "execution_count": 190,
     "metadata": {},
     "output_type": "execute_result"
    }
   ],
   "source": [
    "l1.pop()"
   ]
  },
  {
   "cell_type": "code",
   "execution_count": 191,
   "id": "e365dcb1",
   "metadata": {},
   "outputs": [
    {
     "data": {
      "text/plain": [
       "['apple', 'banana', 'cherry', 'APPLE', 'BANANA']"
      ]
     },
     "execution_count": 191,
     "metadata": {},
     "output_type": "execute_result"
    }
   ],
   "source": [
    "l1"
   ]
  },
  {
   "cell_type": "code",
   "execution_count": 192,
   "id": "4540af41",
   "metadata": {},
   "outputs": [
    {
     "data": {
      "text/plain": [
       "'APPLE'"
      ]
     },
     "execution_count": 192,
     "metadata": {},
     "output_type": "execute_result"
    }
   ],
   "source": [
    "l1.pop(3)"
   ]
  },
  {
   "cell_type": "code",
   "execution_count": 193,
   "id": "e5affd03",
   "metadata": {},
   "outputs": [
    {
     "data": {
      "text/plain": [
       "['apple', 'banana', 'cherry', 'BANANA']"
      ]
     },
     "execution_count": 193,
     "metadata": {},
     "output_type": "execute_result"
    }
   ],
   "source": [
    "l1"
   ]
  },
  {
   "cell_type": "code",
   "execution_count": 194,
   "id": "bdab9fd3",
   "metadata": {},
   "outputs": [
    {
     "data": {
      "text/plain": [
       "['apple', 'banana', 'cherry', 'BANANA']"
      ]
     },
     "execution_count": 194,
     "metadata": {},
     "output_type": "execute_result"
    }
   ],
   "source": [
    "# clear the list\n",
    "\n",
    "l1"
   ]
  },
  {
   "cell_type": "code",
   "execution_count": 195,
   "id": "b58f2cc9",
   "metadata": {},
   "outputs": [
    {
     "name": "stdout",
     "output_type": "stream",
     "text": [
      "[]\n"
     ]
    }
   ],
   "source": [
    "l1.clear()\n",
    "print(l1)"
   ]
  },
  {
   "cell_type": "code",
   "execution_count": 196,
   "id": "8ffecdf4",
   "metadata": {},
   "outputs": [
    {
     "data": {
      "text/plain": [
       "[]"
      ]
     },
     "execution_count": 196,
     "metadata": {},
     "output_type": "execute_result"
    }
   ],
   "source": [
    "l1"
   ]
  },
  {
   "cell_type": "code",
   "execution_count": 197,
   "id": "047177ff",
   "metadata": {},
   "outputs": [
    {
     "name": "stdout",
     "output_type": "stream",
     "text": [
      "[['apple', 'banana', 'watermelon']]\n"
     ]
    }
   ],
   "source": [
    "# Python loop list\n",
    "\n",
    "l1.insert(0,[\"apple\",\"banana\",\"watermelon\"])\n",
    "print(l1)"
   ]
  },
  {
   "cell_type": "code",
   "execution_count": 198,
   "id": "108793e1",
   "metadata": {},
   "outputs": [
    {
     "data": {
      "text/plain": [
       "[['apple', 'banana', 'watermelon']]"
      ]
     },
     "execution_count": 198,
     "metadata": {},
     "output_type": "execute_result"
    }
   ],
   "source": [
    "l1"
   ]
  },
  {
   "cell_type": "code",
   "execution_count": 199,
   "id": "74ce06a4",
   "metadata": {},
   "outputs": [],
   "source": [
    "del l1\n"
   ]
  },
  {
   "cell_type": "code",
   "execution_count": 200,
   "id": "229f8a70",
   "metadata": {},
   "outputs": [
    {
     "data": {
      "text/plain": [
       "['apple', 'banana', 'watermelon']"
      ]
     },
     "execution_count": 200,
     "metadata": {},
     "output_type": "execute_result"
    }
   ],
   "source": [
    "l1 = [\"apple\",\"banana\",\"watermelon\"]\n",
    "l1"
   ]
  },
  {
   "cell_type": "code",
   "execution_count": 201,
   "id": "25f195b8",
   "metadata": {},
   "outputs": [
    {
     "name": "stdout",
     "output_type": "stream",
     "text": [
      "apple\n",
      "banana\n",
      "watermelon\n"
     ]
    }
   ],
   "source": [
    "for i in l1:\n",
    "    print(i)"
   ]
  },
  {
   "cell_type": "code",
   "execution_count": 202,
   "id": "f4687e2e",
   "metadata": {},
   "outputs": [
    {
     "name": "stdout",
     "output_type": "stream",
     "text": [
      "apple\n",
      "banana\n",
      "watermelon\n"
     ]
    }
   ],
   "source": [
    "for i in range(len(l1)):\n",
    "    print(l1[i])"
   ]
  },
  {
   "cell_type": "code",
   "execution_count": 203,
   "id": "22a4638d",
   "metadata": {},
   "outputs": [
    {
     "name": "stdout",
     "output_type": "stream",
     "text": [
      "apple\n",
      "Banana\n",
      "Cherry\n"
     ]
    }
   ],
   "source": [
    "mylist = [\"apple\", \"Banana\",\"Cherry\"]\n",
    "\n",
    "for i in range(len(mylist)):\n",
    "    print(mylist[i])"
   ]
  },
  {
   "cell_type": "code",
   "execution_count": 204,
   "id": "f12c155f",
   "metadata": {},
   "outputs": [
    {
     "data": {
      "text/plain": [
       "['apple', 'Banana', 'Cherry']"
      ]
     },
     "execution_count": 204,
     "metadata": {},
     "output_type": "execute_result"
    }
   ],
   "source": [
    "mylist"
   ]
  },
  {
   "cell_type": "code",
   "execution_count": 208,
   "id": "ad4ec0ba",
   "metadata": {},
   "outputs": [
    {
     "name": "stdout",
     "output_type": "stream",
     "text": [
      "apple\n",
      "Banana\n",
      "Cherry\n"
     ]
    }
   ],
   "source": [
    "# Looping Using List Comprehension\n",
    "\n",
    "mylist = [\"apple\",\"Banana\",\"Cherry\"]\n",
    "\n",
    "a = [print(i) for i in mylist]"
   ]
  },
  {
   "cell_type": "code",
   "execution_count": null,
   "id": "2f8f5ed5",
   "metadata": {},
   "outputs": [],
   "source": [
    "# Python - List Comprehension"
   ]
  },
  {
   "cell_type": "code",
   "execution_count": 209,
   "id": "52cb73ee",
   "metadata": {},
   "outputs": [
    {
     "name": "stdout",
     "output_type": "stream",
     "text": [
      "['apple', 'banana', 'mango']\n"
     ]
    }
   ],
   "source": [
    "fruits = [\"apple\",\"banana\",\"cherry\",\"kiwi\",\"mango\"]\n",
    "newlist = []\n",
    "\n",
    "for i in fruits:\n",
    "    if \"a\" in i:\n",
    "        newlist.append(i)\n",
    "print(newlist)"
   ]
  },
  {
   "cell_type": "code",
   "execution_count": 210,
   "id": "67747420",
   "metadata": {},
   "outputs": [
    {
     "name": "stdout",
     "output_type": "stream",
     "text": [
      "['apple', 'banana', 'mango']\n"
     ]
    }
   ],
   "source": [
    "# using list comprehension\n",
    "\n",
    "newlist1 = [ x for x in fruits if \"a\" in x]\n",
    "print(newlist1)"
   ]
  },
  {
   "cell_type": "code",
   "execution_count": 213,
   "id": "074bec41",
   "metadata": {},
   "outputs": [
    {
     "name": "stdout",
     "output_type": "stream",
     "text": [
      "['banana', 'cherry', 'kiwi', 'mango']\n"
     ]
    }
   ],
   "source": [
    "# Only accept items that are not \"apple\":\n",
    "\n",
    "newlist1 = [x for x in fruits if x != \"apple\"]\n",
    "print(newlist1)"
   ]
  },
  {
   "cell_type": "code",
   "execution_count": 214,
   "id": "0b91a2c9",
   "metadata": {},
   "outputs": [
    {
     "data": {
      "text/plain": [
       "['apple', 'banana', 'watermelon']"
      ]
     },
     "execution_count": 214,
     "metadata": {},
     "output_type": "execute_result"
    }
   ],
   "source": [
    "l1"
   ]
  },
  {
   "cell_type": "code",
   "execution_count": 215,
   "id": "7c31834a",
   "metadata": {},
   "outputs": [
    {
     "data": {
      "text/plain": [
       "[1, 2, 3, 4]"
      ]
     },
     "execution_count": 215,
     "metadata": {},
     "output_type": "execute_result"
    }
   ],
   "source": [
    "list1"
   ]
  },
  {
   "cell_type": "code",
   "execution_count": 216,
   "id": "4c55fe98",
   "metadata": {},
   "outputs": [],
   "source": [
    "list1 = [1,\"apple\",True]"
   ]
  },
  {
   "cell_type": "code",
   "execution_count": 220,
   "id": "fab4c3db",
   "metadata": {},
   "outputs": [
    {
     "name": "stdout",
     "output_type": "stream",
     "text": [
      "[1, 2, 3, 4, 5, 6, 7, 8, 9, 10]\n"
     ]
    }
   ],
   "source": [
    "newlist = [x for x in range(1,11)]\n",
    "print(newlist)"
   ]
  },
  {
   "cell_type": "code",
   "execution_count": 223,
   "id": "077cc03c",
   "metadata": {},
   "outputs": [
    {
     "name": "stdout",
     "output_type": "stream",
     "text": [
      "[0, 1, 2, 3, 4]\n"
     ]
    }
   ],
   "source": [
    "# Accept only numbers lower than 5:\n",
    "\n",
    "newlist = [a for a in range(10) if a<5]\n",
    "print(newlist)"
   ]
  },
  {
   "cell_type": "code",
   "execution_count": 230,
   "id": "8de17744",
   "metadata": {},
   "outputs": [
    {
     "name": "stdout",
     "output_type": "stream",
     "text": [
      "[1, 2, 3, 4, 5, 6, 7, 8, 9, 10]\n"
     ]
    }
   ],
   "source": [
    "l = [i for i in range(1,11) ]\n",
    "print(l)"
   ]
  },
  {
   "cell_type": "code",
   "execution_count": 231,
   "id": "c38cf9da",
   "metadata": {},
   "outputs": [
    {
     "data": {
      "text/plain": [
       "[0, 1, 2, 3, 4]"
      ]
     },
     "execution_count": 231,
     "metadata": {},
     "output_type": "execute_result"
    }
   ],
   "source": [
    "newlist"
   ]
  },
  {
   "cell_type": "code",
   "execution_count": 232,
   "id": "72ca8cee",
   "metadata": {},
   "outputs": [
    {
     "data": {
      "text/plain": [
       "['apple', 'Banana', 'Cherry']"
      ]
     },
     "execution_count": 232,
     "metadata": {},
     "output_type": "execute_result"
    }
   ],
   "source": [
    "mylist"
   ]
  },
  {
   "cell_type": "code",
   "execution_count": 234,
   "id": "3ec12c9e",
   "metadata": {},
   "outputs": [
    {
     "name": "stdout",
     "output_type": "stream",
     "text": [
      "['Apple', 'Banana', 'Cherry']\n"
     ]
    }
   ],
   "source": [
    "mylist = [x.title() for x in mylist]\n",
    "print(mylist)"
   ]
  },
  {
   "cell_type": "code",
   "execution_count": null,
   "id": "61438a13",
   "metadata": {},
   "outputs": [],
   "source": [
    "# Python - Sort Lists\n"
   ]
  },
  {
   "cell_type": "code",
   "execution_count": 237,
   "id": "56a55d52",
   "metadata": {},
   "outputs": [
    {
     "name": "stdout",
     "output_type": "stream",
     "text": [
      "['banana', 'kiwi', 'mango', 'orange', 'pineapple']\n"
     ]
    }
   ],
   "source": [
    "list1 = [\"orange\", \"mango\", \"kiwi\", \"pineapple\", \"banana\"]\n",
    "list1.sort()\n",
    "print(list1)"
   ]
  },
  {
   "cell_type": "code",
   "execution_count": 240,
   "id": "b08180a5",
   "metadata": {},
   "outputs": [
    {
     "name": "stdout",
     "output_type": "stream",
     "text": [
      "[1, 3, 4, 4, 4, 5, 5, 5, 5, 6, 6, 6, 7, 7, 17, 20, 45]\n"
     ]
    }
   ],
   "source": [
    "l = [1,4,5,6,4,3,4,5,6,7,7,6,5,5,17,45,20]\n",
    "l.sort()\n",
    "print(l)"
   ]
  },
  {
   "cell_type": "code",
   "execution_count": 245,
   "id": "73d551de",
   "metadata": {},
   "outputs": [],
   "source": [
    "del l"
   ]
  },
  {
   "cell_type": "code",
   "execution_count": 248,
   "id": "596a0469",
   "metadata": {},
   "outputs": [
    {
     "name": "stdout",
     "output_type": "stream",
     "text": [
      "[55, 9, 8, 7, 6, 6, 5, 4, 3, 2, 1, 0]\n"
     ]
    }
   ],
   "source": [
    "l = [1,2,4,5,6,3,6,8,7,9,0,55]\n",
    "l.sort(reverse=True)\n",
    "print(l)"
   ]
  },
  {
   "cell_type": "code",
   "execution_count": 249,
   "id": "b7ed4e1b",
   "metadata": {},
   "outputs": [
    {
     "name": "stdout",
     "output_type": "stream",
     "text": [
      "[0, 1, 2, 3, 4, 5, 6, 6, 7, 8, 9, 55]\n"
     ]
    }
   ],
   "source": [
    "l.sort(reverse=False)\n",
    "print(l)"
   ]
  },
  {
   "cell_type": "code",
   "execution_count": 250,
   "id": "c1789fc4",
   "metadata": {},
   "outputs": [
    {
     "name": "stdout",
     "output_type": "stream",
     "text": [
      "[50, 65, 23, 82, 100]\n"
     ]
    }
   ],
   "source": [
    "def func(n):\n",
    "    return abs(n-50)\n",
    "\n",
    "list1=[100,50,65,82,23]\n",
    "list1.sort(key=func)\n",
    "print(list1)"
   ]
  },
  {
   "cell_type": "code",
   "execution_count": 253,
   "id": "d7100f7e",
   "metadata": {},
   "outputs": [
    {
     "name": "stdout",
     "output_type": "stream",
     "text": [
      "['Kiwi', 'Orange', 'banana', 'cherry']\n"
     ]
    }
   ],
   "source": [
    "thislist = [\"banana\", \"Orange\", \"Kiwi\", \"cherry\"]\n",
    "thislist.sort(reverse=False)\n",
    "print(thislist)"
   ]
  },
  {
   "cell_type": "code",
   "execution_count": null,
   "id": "645258a9",
   "metadata": {},
   "outputs": [],
   "source": [
    "# Python - Copy Lists"
   ]
  },
  {
   "cell_type": "code",
   "execution_count": 254,
   "id": "ec9dffdb",
   "metadata": {},
   "outputs": [
    {
     "name": "stdout",
     "output_type": "stream",
     "text": [
      "['Python', 'ML', 'AI', 'c++']\n"
     ]
    }
   ],
   "source": [
    "# Use the copy() method\n",
    "\n",
    "l1 = [\"Python\",\"ML\",\"AI\",\"c++\"]\n",
    "l2 = l1.copy()\n",
    "print(l2)"
   ]
  },
  {
   "cell_type": "code",
   "execution_count": 255,
   "id": "3c22e35d",
   "metadata": {},
   "outputs": [
    {
     "data": {
      "text/plain": [
       "['Python', 'ML', 'AI', 'c++']"
      ]
     },
     "execution_count": 255,
     "metadata": {},
     "output_type": "execute_result"
    }
   ],
   "source": [
    "l1"
   ]
  },
  {
   "cell_type": "code",
   "execution_count": 256,
   "id": "59ecf8f3",
   "metadata": {},
   "outputs": [
    {
     "data": {
      "text/plain": [
       "['Python', 'ML', 'AI', 'c++']"
      ]
     },
     "execution_count": 256,
     "metadata": {},
     "output_type": "execute_result"
    }
   ],
   "source": [
    "l2"
   ]
  },
  {
   "cell_type": "code",
   "execution_count": 257,
   "id": "af4be87d",
   "metadata": {},
   "outputs": [
    {
     "name": "stdout",
     "output_type": "stream",
     "text": [
      "['apple', 'banana']\n"
     ]
    }
   ],
   "source": [
    "# Use the list() method\n",
    "\n",
    "thislist = [\"apple\",\"banana\"]\n",
    "mylist = list(thislist)\n",
    "print(mylist)"
   ]
  },
  {
   "cell_type": "code",
   "execution_count": 258,
   "id": "e6805705",
   "metadata": {},
   "outputs": [
    {
     "data": {
      "text/plain": [
       "['apple', 'banana']"
      ]
     },
     "execution_count": 258,
     "metadata": {},
     "output_type": "execute_result"
    }
   ],
   "source": [
    "thislist"
   ]
  },
  {
   "cell_type": "code",
   "execution_count": 259,
   "id": "077913cd",
   "metadata": {},
   "outputs": [
    {
     "data": {
      "text/plain": [
       "['apple', 'banana']"
      ]
     },
     "execution_count": 259,
     "metadata": {},
     "output_type": "execute_result"
    }
   ],
   "source": [
    "mylist"
   ]
  },
  {
   "cell_type": "code",
   "execution_count": 260,
   "id": "7ead7314",
   "metadata": {},
   "outputs": [
    {
     "name": "stdout",
     "output_type": "stream",
     "text": [
      "['a', 'b', 'c']\n"
     ]
    }
   ],
   "source": [
    "# Use the slice Operator\n",
    "\n",
    "thislist = ['a','b','c']\n",
    "mylist = thislist[:]\n",
    "print(mylist)"
   ]
  },
  {
   "cell_type": "code",
   "execution_count": null,
   "id": "1d4b1117",
   "metadata": {},
   "outputs": [],
   "source": [
    "# Python - Join Lists\n",
    "\n"
   ]
  },
  {
   "cell_type": "code",
   "execution_count": 261,
   "id": "ce24d7b8",
   "metadata": {},
   "outputs": [
    {
     "name": "stdout",
     "output_type": "stream",
     "text": [
      "['a', 'b', 'c', 1, 2, 3]\n"
     ]
    }
   ],
   "source": [
    "list1 = ['a','b','c']\n",
    "list2 = [1,2,3]\n",
    "list3 = list1 + list2\n",
    "print(list3)"
   ]
  },
  {
   "cell_type": "code",
   "execution_count": 262,
   "id": "9bdaafa4",
   "metadata": {},
   "outputs": [
    {
     "name": "stdout",
     "output_type": "stream",
     "text": [
      "['a', 'b', 'c', 1, 2, 3]\n"
     ]
    }
   ],
   "source": [
    "# append() method using\n",
    "\n",
    "for i in list2:\n",
    "    list1.append(i)\n",
    "    \n",
    "print(list1)"
   ]
  },
  {
   "cell_type": "code",
   "execution_count": null,
   "id": "e406ad22",
   "metadata": {},
   "outputs": [],
   "source": [
    "# Python - List Methods"
   ]
  },
  {
   "cell_type": "code",
   "execution_count": 263,
   "id": "90104d68",
   "metadata": {},
   "outputs": [
    {
     "name": "stdout",
     "output_type": "stream",
     "text": [
      "['python', 'Ml', 'AI', 'c++']\n"
     ]
    }
   ],
   "source": [
    "# append() method\n",
    "\n",
    "l1 = [\"python\",\"Ml\",\"AI\"]\n",
    "l1.append(\"c++\")\n",
    "print(l1)"
   ]
  },
  {
   "cell_type": "code",
   "execution_count": 264,
   "id": "3a527fd1",
   "metadata": {},
   "outputs": [
    {
     "data": {
      "text/plain": [
       "['python', 'Ml', 'AI', 'c++']"
      ]
     },
     "execution_count": 264,
     "metadata": {},
     "output_type": "execute_result"
    }
   ],
   "source": [
    "l1"
   ]
  },
  {
   "cell_type": "code",
   "execution_count": 265,
   "id": "d904d920",
   "metadata": {},
   "outputs": [
    {
     "name": "stdout",
     "output_type": "stream",
     "text": [
      "['a', 'b', 'c', ['one', 'two', 'three']]\n"
     ]
    }
   ],
   "source": [
    "l1 = [\"a\",\"b\",\"c\"]\n",
    "l2 = [\"one\",\"two\",\"three\"]\n",
    "l1.append(l2)\n",
    "print(l1)"
   ]
  },
  {
   "cell_type": "code",
   "execution_count": 266,
   "id": "0edfe167",
   "metadata": {},
   "outputs": [
    {
     "data": {
      "text/plain": [
       "['a', 'b', 'c', ['one', 'two', 'three']]"
      ]
     },
     "execution_count": 266,
     "metadata": {},
     "output_type": "execute_result"
    }
   ],
   "source": [
    "# clear() method\n",
    "\n",
    "l1"
   ]
  },
  {
   "cell_type": "code",
   "execution_count": 267,
   "id": "ac14d8ea",
   "metadata": {},
   "outputs": [],
   "source": [
    "l1.clear()"
   ]
  },
  {
   "cell_type": "code",
   "execution_count": 268,
   "id": "f9a0dd42",
   "metadata": {},
   "outputs": [
    {
     "data": {
      "text/plain": [
       "[]"
      ]
     },
     "execution_count": 268,
     "metadata": {},
     "output_type": "execute_result"
    }
   ],
   "source": [
    "l1"
   ]
  },
  {
   "cell_type": "code",
   "execution_count": 269,
   "id": "93a6e7ea",
   "metadata": {},
   "outputs": [
    {
     "name": "stdout",
     "output_type": "stream",
     "text": [
      "['apple', 'banana', 'cherry']\n"
     ]
    }
   ],
   "source": [
    "# copy() method\n",
    "\n",
    "fruits = ['apple','banana','cherry']\n",
    "\n",
    "newlist = fruits.copy()\n",
    "print(newlist)"
   ]
  },
  {
   "cell_type": "code",
   "execution_count": 271,
   "id": "d92b0970",
   "metadata": {},
   "outputs": [
    {
     "data": {
      "text/plain": [
       "['apple', 'banana', 'cherry']"
      ]
     },
     "execution_count": 271,
     "metadata": {},
     "output_type": "execute_result"
    }
   ],
   "source": [
    "# count() method\n",
    "\n",
    "newlist"
   ]
  },
  {
   "cell_type": "code",
   "execution_count": 273,
   "id": "aa1490cc",
   "metadata": {},
   "outputs": [
    {
     "name": "stdout",
     "output_type": "stream",
     "text": [
      "1\n"
     ]
    }
   ],
   "source": [
    "x = newlist.count(\"apple\")\n",
    "print(x)"
   ]
  },
  {
   "cell_type": "code",
   "execution_count": 277,
   "id": "a903ae61",
   "metadata": {},
   "outputs": [
    {
     "name": "stdout",
     "output_type": "stream",
     "text": [
      "3\n"
     ]
    }
   ],
   "source": [
    "l1 = ['apple','apple','pinepale','orange','apple']\n",
    "x = l1.count('apple')\n",
    "print(x)"
   ]
  },
  {
   "cell_type": "code",
   "execution_count": 280,
   "id": "107c7c89",
   "metadata": {},
   "outputs": [
    {
     "name": "stdout",
     "output_type": "stream",
     "text": [
      "[1, 2, 3, 4, 5, 6]\n"
     ]
    }
   ],
   "source": [
    "# extend() method\n",
    "\n",
    "l1 = [1,2,3]\n",
    "l2 = [4,5,6]\n",
    "\n",
    "l1.extend(l2)\n",
    "print(l1)"
   ]
  },
  {
   "cell_type": "code",
   "execution_count": 281,
   "id": "21a5cefd",
   "metadata": {},
   "outputs": [
    {
     "data": {
      "text/plain": [
       "[1, 2, 3, 4, 5, 6]"
      ]
     },
     "execution_count": 281,
     "metadata": {},
     "output_type": "execute_result"
    }
   ],
   "source": [
    "l1"
   ]
  },
  {
   "cell_type": "code",
   "execution_count": 282,
   "id": "b4a60041",
   "metadata": {},
   "outputs": [
    {
     "name": "stdout",
     "output_type": "stream",
     "text": [
      "['apple', 'banana', 'orange', 1, 2, 3, 5, 6]\n"
     ]
    }
   ],
   "source": [
    "fruits = ['apple','banana','orange']\n",
    "points = [1,2,3,5,6]\n",
    "\n",
    "fruits.extend(points)\n",
    "print(fruits)"
   ]
  },
  {
   "cell_type": "code",
   "execution_count": 283,
   "id": "62e36f9c",
   "metadata": {},
   "outputs": [
    {
     "data": {
      "text/plain": [
       "[1, 2, 3, 4, 5, 6]"
      ]
     },
     "execution_count": 283,
     "metadata": {},
     "output_type": "execute_result"
    }
   ],
   "source": [
    "# index() method \n",
    "l1"
   ]
  },
  {
   "cell_type": "code",
   "execution_count": 286,
   "id": "4802a67f",
   "metadata": {},
   "outputs": [
    {
     "name": "stdout",
     "output_type": "stream",
     "text": [
      "1\n"
     ]
    }
   ],
   "source": [
    "x = l1.index(2)\n",
    "print(x)"
   ]
  },
  {
   "cell_type": "code",
   "execution_count": 287,
   "id": "2f518c5b",
   "metadata": {},
   "outputs": [
    {
     "data": {
      "text/plain": [
       "['apple', 'banana', 'orange', 1, 2, 3, 5, 6]"
      ]
     },
     "execution_count": 287,
     "metadata": {},
     "output_type": "execute_result"
    }
   ],
   "source": [
    "fruits"
   ]
  },
  {
   "cell_type": "code",
   "execution_count": 288,
   "id": "14a2b55c",
   "metadata": {},
   "outputs": [],
   "source": [
    "a = fruits.index('orange')"
   ]
  },
  {
   "cell_type": "code",
   "execution_count": 289,
   "id": "a00e5c1e",
   "metadata": {},
   "outputs": [
    {
     "data": {
      "text/plain": [
       "2"
      ]
     },
     "execution_count": 289,
     "metadata": {},
     "output_type": "execute_result"
    }
   ],
   "source": [
    "a"
   ]
  },
  {
   "cell_type": "code",
   "execution_count": 294,
   "id": "cb19f091",
   "metadata": {},
   "outputs": [
    {
     "name": "stdout",
     "output_type": "stream",
     "text": [
      "['c++', 'python', 'ml']\n"
     ]
    }
   ],
   "source": [
    "# insert() method\n",
    "\n",
    "l1 = ['python','ml']\n",
    "l1.insert(0,\"c++\")\n",
    "print(l1)"
   ]
  },
  {
   "cell_type": "code",
   "execution_count": 295,
   "id": "90b135bf",
   "metadata": {},
   "outputs": [
    {
     "data": {
      "text/plain": [
       "['c++', 'python', 'ml']"
      ]
     },
     "execution_count": 295,
     "metadata": {},
     "output_type": "execute_result"
    }
   ],
   "source": [
    "l1"
   ]
  },
  {
   "cell_type": "code",
   "execution_count": 296,
   "id": "1af4100e",
   "metadata": {},
   "outputs": [],
   "source": [
    "# pop()\n",
    "# remove()\n",
    "# reverse()\n",
    "# sort()"
   ]
  },
  {
   "cell_type": "code",
   "execution_count": 297,
   "id": "672cb672",
   "metadata": {},
   "outputs": [
    {
     "name": "stdout",
     "output_type": "stream",
     "text": [
      "['c', 'b', 'a']\n"
     ]
    }
   ],
   "source": [
    "l1=['a','b','c']\n",
    "l1.reverse()\n",
    "print(l1)"
   ]
  },
  {
   "cell_type": "code",
   "execution_count": 301,
   "id": "35236fb0",
   "metadata": {},
   "outputs": [
    {
     "name": "stdout",
     "output_type": "stream",
     "text": [
      "[3, 2, 1]\n"
     ]
    }
   ],
   "source": [
    "l1=[1,2,3]\n",
    "l1.reverse()\n",
    "print(l1)"
   ]
  },
  {
   "cell_type": "code",
   "execution_count": null,
   "id": "7765714a",
   "metadata": {},
   "outputs": [],
   "source": [
    "# Python Tuples"
   ]
  },
  {
   "cell_type": "code",
   "execution_count": null,
   "id": "479303b9",
   "metadata": {},
   "outputs": [],
   "source": [
    "Tuples are used to store multiple items in a single variable.\n",
    "\n",
    "Tuple is one of 4 built-in data types in Python used to store collections of data, the other 3 are List, Set, and Dictionary, all with different qualities and usage.\n",
    "\n",
    "A tuple is a collection which is ordered and unchangeable.\n",
    "\n",
    "Tuples are written with round brackets."
   ]
  },
  {
   "cell_type": "code",
   "execution_count": 302,
   "id": "aa4641c4",
   "metadata": {},
   "outputs": [
    {
     "name": "stdout",
     "output_type": "stream",
     "text": [
      "<class 'tuple'>\n"
     ]
    }
   ],
   "source": [
    "tup1 = (\"Apple\",\"Banana\",\"Cherry\")\n",
    "print(type(tup1))"
   ]
  },
  {
   "cell_type": "code",
   "execution_count": 303,
   "id": "f02aed20",
   "metadata": {},
   "outputs": [
    {
     "data": {
      "text/plain": [
       "('Apple', 'Banana', 'Cherry')"
      ]
     },
     "execution_count": 303,
     "metadata": {},
     "output_type": "execute_result"
    }
   ],
   "source": [
    "tup1"
   ]
  },
  {
   "cell_type": "code",
   "execution_count": 304,
   "id": "140c1276",
   "metadata": {},
   "outputs": [
    {
     "data": {
      "text/plain": [
       "('apple', 'banana', 'cherry', 'apple', 'cherry')"
      ]
     },
     "execution_count": 304,
     "metadata": {},
     "output_type": "execute_result"
    }
   ],
   "source": [
    "tup2 = ('apple','banana','cherry','apple','cherry')\n",
    "tup2"
   ]
  },
  {
   "cell_type": "code",
   "execution_count": 305,
   "id": "86543ff6",
   "metadata": {},
   "outputs": [
    {
     "name": "stdout",
     "output_type": "stream",
     "text": [
      "3\n",
      "5\n"
     ]
    }
   ],
   "source": [
    "print(len(tup1))\n",
    "print(len(tup2))"
   ]
  },
  {
   "cell_type": "code",
   "execution_count": 306,
   "id": "cf27e014",
   "metadata": {},
   "outputs": [
    {
     "name": "stdout",
     "output_type": "stream",
     "text": [
      "('python',)\n"
     ]
    }
   ],
   "source": [
    "# create tuple with one item\n",
    "\n",
    "t1 = ('python',)\n",
    "print(t1)"
   ]
  },
  {
   "cell_type": "code",
   "execution_count": 307,
   "id": "029ebf5e",
   "metadata": {},
   "outputs": [
    {
     "name": "stdout",
     "output_type": "stream",
     "text": [
      "<class 'str'>\n"
     ]
    }
   ],
   "source": [
    "# not allowed\n",
    "t2 = ('python')\n",
    "print(type(t2))"
   ]
  },
  {
   "cell_type": "code",
   "execution_count": 309,
   "id": "68ba2c1b",
   "metadata": {},
   "outputs": [],
   "source": [
    "tup1=('Apple',1,True,'banana')"
   ]
  },
  {
   "cell_type": "code",
   "execution_count": 310,
   "id": "ba7c6730",
   "metadata": {},
   "outputs": [
    {
     "data": {
      "text/plain": [
       "('Apple', 1, True, 'banana')"
      ]
     },
     "execution_count": 310,
     "metadata": {},
     "output_type": "execute_result"
    }
   ],
   "source": [
    "tup1"
   ]
  },
  {
   "cell_type": "code",
   "execution_count": 312,
   "id": "1b03b33f",
   "metadata": {},
   "outputs": [
    {
     "name": "stdout",
     "output_type": "stream",
     "text": [
      "<class 'tuple'>\n",
      "('apple', 'banana', 'papaya')\n"
     ]
    }
   ],
   "source": [
    "# The tuple() Constructor\n",
    "\n",
    "thistuple = tuple(('apple','banana','papaya'))\n",
    "print(type(thistuple))\n",
    "print(thistuple)"
   ]
  },
  {
   "cell_type": "code",
   "execution_count": 315,
   "id": "b214b2e1",
   "metadata": {},
   "outputs": [
    {
     "data": {
      "text/plain": [
       "('apple', 'banana', 'papaya')"
      ]
     },
     "execution_count": 315,
     "metadata": {},
     "output_type": "execute_result"
    }
   ],
   "source": [
    "# access  tuple items\n",
    "\n",
    "thistuple"
   ]
  },
  {
   "cell_type": "code",
   "execution_count": 316,
   "id": "5c5a79dc",
   "metadata": {},
   "outputs": [
    {
     "name": "stdout",
     "output_type": "stream",
     "text": [
      "banana\n"
     ]
    }
   ],
   "source": [
    "print(thistuple[1])"
   ]
  },
  {
   "cell_type": "code",
   "execution_count": 318,
   "id": "a932ae81",
   "metadata": {},
   "outputs": [
    {
     "name": "stdout",
     "output_type": "stream",
     "text": [
      "('apple', 'banana')\n"
     ]
    }
   ],
   "source": [
    "print(thistuple[0:2])"
   ]
  },
  {
   "cell_type": "code",
   "execution_count": 321,
   "id": "c779cdaf",
   "metadata": {},
   "outputs": [
    {
     "name": "stdout",
     "output_type": "stream",
     "text": [
      "('apple',)\n"
     ]
    }
   ],
   "source": [
    "print(thistuple[:-2])"
   ]
  },
  {
   "cell_type": "code",
   "execution_count": 322,
   "id": "70a00103",
   "metadata": {},
   "outputs": [
    {
     "data": {
      "text/plain": [
       "('apple', 'banana', 'papaya')"
      ]
     },
     "execution_count": 322,
     "metadata": {},
     "output_type": "execute_result"
    }
   ],
   "source": [
    "thistuple\n"
   ]
  },
  {
   "cell_type": "code",
   "execution_count": 326,
   "id": "3ce2a665",
   "metadata": {},
   "outputs": [
    {
     "name": "stdout",
     "output_type": "stream",
     "text": [
      "Yes , 'apple' is in the tuple \n"
     ]
    }
   ],
   "source": [
    "if \"banana\" in thistuple:\n",
    "    print(\"Yes , 'apple' is in the tuple \")"
   ]
  },
  {
   "cell_type": "code",
   "execution_count": 328,
   "id": "64975ade",
   "metadata": {},
   "outputs": [
    {
     "name": "stdout",
     "output_type": "stream",
     "text": [
      "('apple', 'kiwi', 'cherry')\n"
     ]
    }
   ],
   "source": [
    "# Convert the tuple into a list to be able to change it:\n",
    "\n",
    "x = (\"apple\",\"banana\",\"cherry\")\n",
    "y = list(x)\n",
    "y[1] = \"kiwi\"\n",
    "x = tuple(y)\n",
    "print(x)"
   ]
  },
  {
   "cell_type": "code",
   "execution_count": 329,
   "id": "76c54cf6",
   "metadata": {},
   "outputs": [
    {
     "data": {
      "text/plain": [
       "('apple', 'kiwi', 'cherry')"
      ]
     },
     "execution_count": 329,
     "metadata": {},
     "output_type": "execute_result"
    }
   ],
   "source": [
    "x"
   ]
  },
  {
   "cell_type": "code",
   "execution_count": 331,
   "id": "ea1ead46",
   "metadata": {},
   "outputs": [],
   "source": [
    "t = ('apple','banana','kiwi')"
   ]
  },
  {
   "cell_type": "code",
   "execution_count": 332,
   "id": "2f09a091",
   "metadata": {},
   "outputs": [
    {
     "name": "stdout",
     "output_type": "stream",
     "text": [
      "('apple', 'banana', 'kiwi', 'watermelon')\n"
     ]
    }
   ],
   "source": [
    "l1= list(t)\n",
    "l1.append('watermelon')\n",
    "t = tuple(l1)\n",
    "print(t)"
   ]
  },
  {
   "cell_type": "code",
   "execution_count": 333,
   "id": "c3c4af0f",
   "metadata": {},
   "outputs": [
    {
     "data": {
      "text/plain": [
       "('apple', 'banana', 'kiwi', 'watermelon')"
      ]
     },
     "execution_count": 333,
     "metadata": {},
     "output_type": "execute_result"
    }
   ],
   "source": [
    "t"
   ]
  },
  {
   "cell_type": "code",
   "execution_count": 334,
   "id": "a6874a80",
   "metadata": {},
   "outputs": [],
   "source": [
    "del t"
   ]
  },
  {
   "cell_type": "code",
   "execution_count": 337,
   "id": "a9bbdd12",
   "metadata": {},
   "outputs": [
    {
     "name": "stdout",
     "output_type": "stream",
     "text": [
      "('apple', 'banana', 'cherry')\n"
     ]
    }
   ],
   "source": [
    "# Packing  a Tuple\n",
    "\n",
    "fruits = (\"apple\",\"banana\",\"cherry\")\n",
    "print(fruits)\n"
   ]
  },
  {
   "cell_type": "code",
   "execution_count": 338,
   "id": "d7a3b8c2",
   "metadata": {},
   "outputs": [
    {
     "name": "stdout",
     "output_type": "stream",
     "text": [
      "apple\n",
      "banana\n",
      "cherry\n"
     ]
    }
   ],
   "source": [
    "# unpaking a tuple\n",
    "\n",
    "fruits = (\"apple\",\"banana\",\"cherry\")\n",
    "(green,yellow,red) = fruits\n",
    "\n",
    "print(green)\n",
    "print(yellow)\n",
    "print(red)"
   ]
  },
  {
   "cell_type": "code",
   "execution_count": 341,
   "id": "2b98eff5",
   "metadata": {},
   "outputs": [
    {
     "name": "stdout",
     "output_type": "stream",
     "text": [
      "apple\n",
      "['banana', 'cherry', 'strawberry']\n",
      "raspberry\n"
     ]
    }
   ],
   "source": [
    "fruits = (\"apple\", \"banana\", \"cherry\", \"strawberry\", \"raspberry\")\n",
    "\n",
    "(green, *yellow, red) = fruits\n",
    "\n",
    "print(green)\n",
    "print(yellow)\n",
    "print(red)"
   ]
  },
  {
   "cell_type": "code",
   "execution_count": 343,
   "id": "5db59737",
   "metadata": {},
   "outputs": [
    {
     "name": "stdout",
     "output_type": "stream",
     "text": [
      "apple,banana,cherry,strawberry,raspberry,"
     ]
    }
   ],
   "source": [
    "# Python - Loop Tuples\n",
    "\n",
    "for x in fruits:\n",
    "    print(x,end=\",\")"
   ]
  },
  {
   "cell_type": "code",
   "execution_count": 344,
   "id": "a8b2b724",
   "metadata": {},
   "outputs": [
    {
     "name": "stdout",
     "output_type": "stream",
     "text": [
      "apple\n",
      "banana\n",
      "cherry\n",
      "strawberry\n",
      "raspberry\n"
     ]
    }
   ],
   "source": [
    "for i in range(len(fruits)):\n",
    "    print(fruits[i])"
   ]
  },
  {
   "cell_type": "code",
   "execution_count": 346,
   "id": "decc9937",
   "metadata": {},
   "outputs": [
    {
     "name": "stdout",
     "output_type": "stream",
     "text": [
      "(1, 2, 3, 'a', 'b', 'c')\n"
     ]
    }
   ],
   "source": [
    "# Python - Join Tuples\n",
    "\n",
    "tup1 = (1,2,3)\n",
    "tup2 = ('a','b','c')\n",
    "\n",
    "t = tup1 + tup2\n",
    "print(t)"
   ]
  },
  {
   "cell_type": "code",
   "execution_count": 347,
   "id": "67af3a18",
   "metadata": {},
   "outputs": [
    {
     "name": "stdout",
     "output_type": "stream",
     "text": [
      "(1, 2, 3, 1, 2, 3, 1, 2, 3)\n"
     ]
    }
   ],
   "source": [
    "mytup = tup1 * 3\n",
    "print(mytup)"
   ]
  },
  {
   "cell_type": "code",
   "execution_count": null,
   "id": "039676ee",
   "metadata": {},
   "outputs": [],
   "source": [
    "# Python - Tuple Methods"
   ]
  },
  {
   "cell_type": "code",
   "execution_count": null,
   "id": "b71d1f99",
   "metadata": {},
   "outputs": [],
   "source": [
    "# Python has Two built-in method that you can used\n",
    "\n",
    "# (1)--> count()\n",
    "# (2)--> index()"
   ]
  },
  {
   "cell_type": "code",
   "execution_count": 348,
   "id": "4cfcaba3",
   "metadata": {},
   "outputs": [
    {
     "data": {
      "text/plain": [
       "(1, 2, 3, 'a', 'b', 'c')"
      ]
     },
     "execution_count": 348,
     "metadata": {},
     "output_type": "execute_result"
    }
   ],
   "source": [
    "t"
   ]
  },
  {
   "cell_type": "code",
   "execution_count": 350,
   "id": "24109891",
   "metadata": {},
   "outputs": [
    {
     "name": "stdout",
     "output_type": "stream",
     "text": [
      "1\n"
     ]
    }
   ],
   "source": [
    "x = t.count(3)\n",
    "print(x)"
   ]
  },
  {
   "cell_type": "code",
   "execution_count": 351,
   "id": "57871ddf",
   "metadata": {},
   "outputs": [
    {
     "data": {
      "text/plain": [
       "('apple', 'banana', 'cherry', 'strawberry', 'raspberry')"
      ]
     },
     "execution_count": 351,
     "metadata": {},
     "output_type": "execute_result"
    }
   ],
   "source": [
    "fruits"
   ]
  },
  {
   "cell_type": "code",
   "execution_count": 352,
   "id": "e872baf6",
   "metadata": {},
   "outputs": [],
   "source": [
    "x = fruits.index(\"cherry\")"
   ]
  },
  {
   "cell_type": "code",
   "execution_count": 353,
   "id": "0185822f",
   "metadata": {},
   "outputs": [
    {
     "data": {
      "text/plain": [
       "2"
      ]
     },
     "execution_count": 353,
     "metadata": {},
     "output_type": "execute_result"
    }
   ],
   "source": [
    "x"
   ]
  },
  {
   "cell_type": "code",
   "execution_count": 354,
   "id": "ce8e42a1",
   "metadata": {},
   "outputs": [
    {
     "name": "stdout",
     "output_type": "stream",
     "text": [
      "(1, 2, 3, 1, 2, 3)\n"
     ]
    }
   ],
   "source": [
    "t = (1,2,3)\n",
    "t = t*2\n",
    "print(t)"
   ]
  },
  {
   "cell_type": "code",
   "execution_count": null,
   "id": "9301a68e",
   "metadata": {},
   "outputs": [],
   "source": [
    "# Python Sets"
   ]
  },
  {
   "cell_type": "code",
   "execution_count": null,
   "id": "f3fc70e8",
   "metadata": {},
   "outputs": [],
   "source": [
    "Sets are used to store multiple items in a single variable.\n",
    "\n",
    "Set is one of 4 built-in data types in Python used to store collections of data, the other 3 are List, Tuple, and Dictionary, all with different qualities and usage.\n",
    "\n",
    "A set is a collection which is unordered, unchangeable*, and unindexed."
   ]
  },
  {
   "cell_type": "code",
   "execution_count": 358,
   "id": "e1fd5302",
   "metadata": {},
   "outputs": [
    {
     "name": "stdout",
     "output_type": "stream",
     "text": [
      "{1, 'apple', 2, 'banana'}\n",
      "<class 'set'>\n",
      "{1, 'apple', 2, 'banana'}\n"
     ]
    }
   ],
   "source": [
    "set1 = {\"apple\",1,\"banana\",2,1,\"apple\"}\n",
    "print(set1)\n",
    "print(type(set1))\n",
    "print(set1)"
   ]
  },
  {
   "cell_type": "code",
   "execution_count": 361,
   "id": "8753bb18",
   "metadata": {},
   "outputs": [
    {
     "data": {
      "text/plain": [
       "{'apple', 'banana', 'cherry'}"
      ]
     },
     "execution_count": 361,
     "metadata": {},
     "output_type": "execute_result"
    }
   ],
   "source": [
    "set1 = {\"apple\",\"banana\",\"cherry\"}\n",
    "set1"
   ]
  },
  {
   "cell_type": "code",
   "execution_count": 362,
   "id": "a8078ae5",
   "metadata": {},
   "outputs": [
    {
     "data": {
      "text/plain": [
       "{0, True, 'apple', 'banana', 'cherry'}"
      ]
     },
     "execution_count": 362,
     "metadata": {},
     "output_type": "execute_result"
    }
   ],
   "source": [
    "s1 = {\"apple\",\"banana\",\"cherry\",True,1,0,False}\n",
    "s1"
   ]
  },
  {
   "cell_type": "code",
   "execution_count": 363,
   "id": "a7ac504e",
   "metadata": {},
   "outputs": [
    {
     "name": "stdout",
     "output_type": "stream",
     "text": [
      "5\n"
     ]
    }
   ],
   "source": [
    "print(len(s1))"
   ]
  },
  {
   "cell_type": "code",
   "execution_count": 365,
   "id": "f45cecee",
   "metadata": {},
   "outputs": [
    {
     "name": "stdout",
     "output_type": "stream",
     "text": [
      "<class 'set'>\n"
     ]
    }
   ],
   "source": [
    "thisset = set((\"a\",2,\"b\",2)) # using set() constructor\n",
    "print(type(thisset))"
   ]
  },
  {
   "cell_type": "code",
   "execution_count": 366,
   "id": "5a156cd8",
   "metadata": {},
   "outputs": [
    {
     "name": "stdout",
     "output_type": "stream",
     "text": [
      "<class 'list'>\n"
     ]
    }
   ],
   "source": [
    "a = list((\"a\",\"b\")) # using list() constructor\n",
    "print(type(a))"
   ]
  },
  {
   "cell_type": "code",
   "execution_count": 367,
   "id": "e93f4de4",
   "metadata": {},
   "outputs": [
    {
     "name": "stdout",
     "output_type": "stream",
     "text": [
      "<class 'tuple'>\n"
     ]
    }
   ],
   "source": [
    "b = tuple((1,))  # using tuple() constructor\n",
    "print(type(b))"
   ]
  },
  {
   "cell_type": "code",
   "execution_count": 368,
   "id": "ffe5e6ef",
   "metadata": {},
   "outputs": [
    {
     "data": {
      "text/plain": [
       "(1, 2, 3, 1, 2, 3)"
      ]
     },
     "execution_count": 368,
     "metadata": {},
     "output_type": "execute_result"
    }
   ],
   "source": [
    "# Python - Access Set Items\n",
    "\n",
    "t"
   ]
  },
  {
   "cell_type": "code",
   "execution_count": 369,
   "id": "6e1d6873",
   "metadata": {},
   "outputs": [
    {
     "data": {
      "text/plain": [
       "{0, True, 'apple', 'banana', 'cherry'}"
      ]
     },
     "execution_count": 369,
     "metadata": {},
     "output_type": "execute_result"
    }
   ],
   "source": [
    "s1"
   ]
  },
  {
   "cell_type": "code",
   "execution_count": 371,
   "id": "4571d6bb",
   "metadata": {},
   "outputs": [
    {
     "name": "stdout",
     "output_type": "stream",
     "text": [
      "0\n",
      "True\n",
      "cherry\n",
      "apple\n",
      "banana\n"
     ]
    }
   ],
   "source": [
    "for i in s1:\n",
    "    print(i)"
   ]
  },
  {
   "cell_type": "code",
   "execution_count": 373,
   "id": "ca8ee0b2",
   "metadata": {},
   "outputs": [
    {
     "name": "stdout",
     "output_type": "stream",
     "text": [
      "False\n"
     ]
    }
   ],
   "source": [
    "print(\"banana\" in s1)"
   ]
  },
  {
   "cell_type": "code",
   "execution_count": 374,
   "id": "5420f201",
   "metadata": {},
   "outputs": [
    {
     "data": {
      "text/plain": [
       "'a'"
      ]
     },
     "execution_count": 374,
     "metadata": {},
     "output_type": "execute_result"
    }
   ],
   "source": [
    "s1"
   ]
  },
  {
   "cell_type": "code",
   "execution_count": 375,
   "id": "4f9d5d6e",
   "metadata": {},
   "outputs": [
    {
     "name": "stdout",
     "output_type": "stream",
     "text": [
      "True\n"
     ]
    }
   ],
   "source": [
    "set1 = {1,2,3,4,5,\"apple\",\"watermelon\"}\n",
    "print(\"apple\" in set1)"
   ]
  },
  {
   "cell_type": "code",
   "execution_count": 377,
   "id": "d1bffe8e",
   "metadata": {},
   "outputs": [
    {
     "name": "stdout",
     "output_type": "stream",
     "text": [
      "True\n"
     ]
    }
   ],
   "source": [
    "print(\"cherry\" not in set1)"
   ]
  },
  {
   "cell_type": "code",
   "execution_count": 378,
   "id": "48c9ad92",
   "metadata": {},
   "outputs": [
    {
     "name": "stdout",
     "output_type": "stream",
     "text": [
      "{'apple', 'watermelon', 'banana', 'cherry'}\n"
     ]
    }
   ],
   "source": [
    "thisset = {\"apple\",\"banana\",\"cherry\"}\n",
    "thisset.add(\"watermelon\")\n",
    "print(thisset)"
   ]
  },
  {
   "cell_type": "code",
   "execution_count": 379,
   "id": "6435a472",
   "metadata": {},
   "outputs": [
    {
     "data": {
      "text/plain": [
       "{'apple', 'banana', 'cherry', 'watermelon'}"
      ]
     },
     "execution_count": 379,
     "metadata": {},
     "output_type": "execute_result"
    }
   ],
   "source": [
    "thisset"
   ]
  },
  {
   "cell_type": "code",
   "execution_count": 380,
   "id": "aa6594c4",
   "metadata": {},
   "outputs": [
    {
     "data": {
      "text/plain": [
       "{1, 2, 3, 4, 5, 'apple', 'watermelon'}"
      ]
     },
     "execution_count": 380,
     "metadata": {},
     "output_type": "execute_result"
    }
   ],
   "source": [
    "set1"
   ]
  },
  {
   "cell_type": "code",
   "execution_count": 381,
   "id": "77cdacd6",
   "metadata": {},
   "outputs": [
    {
     "name": "stdout",
     "output_type": "stream",
     "text": [
      "{1, 2, 3, 4, 5, 'apple', 'watermelon', 'cherry', 'banana'}\n"
     ]
    }
   ],
   "source": [
    "thisset.update(set1)\n",
    "print(thisset)"
   ]
  },
  {
   "cell_type": "code",
   "execution_count": 382,
   "id": "17b797e0",
   "metadata": {},
   "outputs": [
    {
     "data": {
      "text/plain": [
       "{1, 2, 3, 4, 5, 'apple', 'banana', 'cherry', 'watermelon'}"
      ]
     },
     "execution_count": 382,
     "metadata": {},
     "output_type": "execute_result"
    }
   ],
   "source": [
    "thisset"
   ]
  },
  {
   "cell_type": "code",
   "execution_count": 383,
   "id": "1c363712",
   "metadata": {},
   "outputs": [
    {
     "name": "stdout",
     "output_type": "stream",
     "text": [
      "{1, 2, 3, 4, 5, 'a', 'b', 'apple', 'watermelon', 'cherry', 'banana'}\n"
     ]
    }
   ],
   "source": [
    "l1 = ['a','b']\n",
    "thisset.update(l1)\n",
    "print(thisset)"
   ]
  },
  {
   "cell_type": "code",
   "execution_count": 387,
   "id": "ef00d0e4",
   "metadata": {},
   "outputs": [
    {
     "name": "stdout",
     "output_type": "stream",
     "text": [
      "{1, 2, 3, 4, 5, 'a', 'b', 'apple', 'watermelon', 'cherry', 'Ture', 'banana', 'APPLE'}\n"
     ]
    }
   ],
   "source": [
    "thisset.add(\"APPLE\")\n",
    "print(thisset)"
   ]
  },
  {
   "cell_type": "code",
   "execution_count": 390,
   "id": "47ff001a",
   "metadata": {},
   "outputs": [
    {
     "ename": "KeyError",
     "evalue": "'cher'",
     "output_type": "error",
     "traceback": [
      "\u001b[1;31m---------------------------------------------------------------------------\u001b[0m",
      "\u001b[1;31mKeyError\u001b[0m                                  Traceback (most recent call last)",
      "Cell \u001b[1;32mIn[390], line 4\u001b[0m\n\u001b[0;32m      1\u001b[0m \u001b[38;5;66;03m# Python - Remove Set Items\u001b[39;00m\n\u001b[0;32m      3\u001b[0m thisset \u001b[38;5;241m=\u001b[39m {\u001b[38;5;124m\"\u001b[39m\u001b[38;5;124mapple\u001b[39m\u001b[38;5;124m\"\u001b[39m, \u001b[38;5;124m\"\u001b[39m\u001b[38;5;124mbanana\u001b[39m\u001b[38;5;124m\"\u001b[39m, \u001b[38;5;124m\"\u001b[39m\u001b[38;5;124mcherry\u001b[39m\u001b[38;5;124m\"\u001b[39m}\n\u001b[1;32m----> 4\u001b[0m \u001b[43mthisset\u001b[49m\u001b[38;5;241;43m.\u001b[39;49m\u001b[43mremove\u001b[49m\u001b[43m(\u001b[49m\u001b[38;5;124;43m\"\u001b[39;49m\u001b[38;5;124;43mcher\u001b[39;49m\u001b[38;5;124;43m\"\u001b[39;49m\u001b[43m)\u001b[49m\n\u001b[0;32m      5\u001b[0m \u001b[38;5;28mprint\u001b[39m(thisset)\n",
      "\u001b[1;31mKeyError\u001b[0m: 'cher'"
     ]
    }
   ],
   "source": [
    "# Python - Remove Set Items\n",
    "\n",
    "thisset = {\"apple\", \"banana\", \"cherry\"} # using remove()  set error through\n",
    "thisset.remove(\"cher\")\n",
    "print(thisset)\n"
   ]
  },
  {
   "cell_type": "code",
   "execution_count": 402,
   "id": "d052f25c",
   "metadata": {},
   "outputs": [
    {
     "name": "stdout",
     "output_type": "stream",
     "text": [
      "{'apple', 'banana', 'cherry'}\n"
     ]
    }
   ],
   "source": [
    "thisset = {\"apple\", \"banana\", \"cherry\"} #using discard() not error through\n",
    "thisset.discard(\"appl\")\n",
    "print(thisset)"
   ]
  },
  {
   "cell_type": "code",
   "execution_count": 393,
   "id": "07356cc8",
   "metadata": {},
   "outputs": [
    {
     "data": {
      "text/plain": [
       "{'banana', 'cherry'}"
      ]
     },
     "execution_count": 393,
     "metadata": {},
     "output_type": "execute_result"
    }
   ],
   "source": [
    "thisset"
   ]
  },
  {
   "cell_type": "code",
   "execution_count": 395,
   "id": "d07d4e17",
   "metadata": {},
   "outputs": [
    {
     "name": "stdout",
     "output_type": "stream",
     "text": [
      "cherry\n",
      "set()\n"
     ]
    }
   ],
   "source": [
    "x = thisset.pop()\n",
    "print(x)\n",
    "print(thisset)"
   ]
  },
  {
   "cell_type": "code",
   "execution_count": 396,
   "id": "c0ca6399",
   "metadata": {},
   "outputs": [
    {
     "data": {
      "text/plain": [
       "set()"
      ]
     },
     "execution_count": 396,
     "metadata": {},
     "output_type": "execute_result"
    }
   ],
   "source": [
    "thisset"
   ]
  },
  {
   "cell_type": "code",
   "execution_count": 397,
   "id": "95ef81d9",
   "metadata": {},
   "outputs": [
    {
     "data": {
      "text/plain": [
       "{1, 2, 3, 4, 5, 'apple', 'watermelon'}"
      ]
     },
     "execution_count": 397,
     "metadata": {},
     "output_type": "execute_result"
    }
   ],
   "source": [
    "set1"
   ]
  },
  {
   "cell_type": "code",
   "execution_count": 398,
   "id": "1ceb0af9",
   "metadata": {},
   "outputs": [
    {
     "name": "stdout",
     "output_type": "stream",
     "text": [
      "None\n"
     ]
    }
   ],
   "source": [
    "print(set1.clear())"
   ]
  },
  {
   "cell_type": "code",
   "execution_count": 399,
   "id": "56043d14",
   "metadata": {},
   "outputs": [
    {
     "data": {
      "text/plain": [
       "set()"
      ]
     },
     "execution_count": 399,
     "metadata": {},
     "output_type": "execute_result"
    }
   ],
   "source": [
    "set1"
   ]
  },
  {
   "cell_type": "code",
   "execution_count": 400,
   "id": "a58bb48c",
   "metadata": {},
   "outputs": [],
   "source": [
    "del thisset"
   ]
  },
  {
   "cell_type": "code",
   "execution_count": 417,
   "id": "0c98235d",
   "metadata": {},
   "outputs": [
    {
     "name": "stdout",
     "output_type": "stream",
     "text": [
      "[0, 'apple']\n",
      "[1, 'banana']\n",
      "[2, 'cherry']\n"
     ]
    }
   ],
   "source": [
    "# Python - Loop Sets\n",
    "\n",
    "thisset = {\"apple\", \"banana\", \"cherry\"}\n",
    "\n",
    "for x in enumerate(thisset):\n",
    "      print(list(x))"
   ]
  },
  {
   "cell_type": "markdown",
   "id": "d492d6e8",
   "metadata": {},
   "source": [
    "#  Join Sets\n",
    "    There are several ways to join two or more sets in Python.\n",
    "\n",
    "    The union() and update() methods joins all items from both sets.\n",
    "\n",
    "    The intersection() method keeps ONLY the duplicates.\n",
    "\n",
    "    The difference() method keeps the items from the first set that are not in the other set(s).\n",
    "    \n",
    "    The symmetric_difference() method keeps all items EXCEPT the duplicates.\n",
    "\n"
   ]
  },
  {
   "cell_type": "code",
   "execution_count": 418,
   "id": "a7bf5930",
   "metadata": {},
   "outputs": [
    {
     "name": "stdout",
     "output_type": "stream",
     "text": [
      "{1, 2, 'a', 3, 'b', 'c'}\n"
     ]
    }
   ],
   "source": [
    "# union()\n",
    "\n",
    "set1 = {\"a\", \"b\", \"c\"}\n",
    "set2 = {1, 2, 3}\n",
    "\n",
    "set3 = set1.union(set2)\n",
    "print(set3)"
   ]
  },
  {
   "cell_type": "code",
   "execution_count": 420,
   "id": "5328aa2a",
   "metadata": {},
   "outputs": [
    {
     "name": "stdout",
     "output_type": "stream",
     "text": [
      "{1, 2, 'a', 3, 'b', 'c'}\n"
     ]
    }
   ],
   "source": [
    "# using |operator same as union()\n",
    "\n",
    "set1 = {\"a\", \"b\", \"c\"}\n",
    "set2 = {1, 2, 3}\n",
    "\n",
    "set3 = set1 | set2\n",
    "print(set3)"
   ]
  },
  {
   "cell_type": "code",
   "execution_count": 422,
   "id": "2b3eb65f",
   "metadata": {},
   "outputs": [
    {
     "name": "stdout",
     "output_type": "stream",
     "text": [
      "{1, 2, 'a', 3, 'b', 'apple', 'bananas', 'c', 'Elena', 'cherry', 'John'}\n",
      "11\n"
     ]
    }
   ],
   "source": [
    "# multipale sets join\n",
    "\n",
    "set1 = {\"a\", \"b\", \"c\"}\n",
    "set2 = {1, 2, 3}\n",
    "set3 = {\"John\", \"Elena\"}\n",
    "set4 = {\"apple\", \"bananas\", \"cherry\"}\n",
    "\n",
    "myset = set1.union(set2, set3, set4)\n",
    "print(myset)\n",
    "print(len(myset))\n",
    "\n"
   ]
  },
  {
   "cell_type": "code",
   "execution_count": 423,
   "id": "16b89ec9",
   "metadata": {},
   "outputs": [
    {
     "name": "stdout",
     "output_type": "stream",
     "text": [
      "{1, 2, 3, 'a', 'b', 'c'}\n"
     ]
    }
   ],
   "source": [
    "x = {1,2,3}\n",
    "y = ('a','b','c')\n",
    "\n",
    "z = x.union(y)\n",
    "print(z)"
   ]
  },
  {
   "cell_type": "code",
   "execution_count": 425,
   "id": "f5f5b43e",
   "metadata": {},
   "outputs": [
    {
     "data": {
      "text/plain": [
       "{1, 2, 3, 'a', 'b', 'c'}"
      ]
     },
     "execution_count": 425,
     "metadata": {},
     "output_type": "execute_result"
    }
   ],
   "source": [
    "x ={1,2,3}\n",
    "y = {'a','b','c'}\n",
    "\n",
    "z = x | y\n",
    "z"
   ]
  },
  {
   "cell_type": "code",
   "execution_count": 426,
   "id": "64bd9d3e",
   "metadata": {},
   "outputs": [
    {
     "name": "stdout",
     "output_type": "stream",
     "text": [
      "{1, 2, 'a', 3, 'b', 'c'}\n"
     ]
    }
   ],
   "source": [
    "set1 = {\"a\", \"b\" , \"c\",\"a\"}\n",
    "set2 = {1, 2, 3,2}\n",
    "\n",
    "set1.update(set2)\n",
    "print(set1)"
   ]
  },
  {
   "cell_type": "markdown",
   "id": "d85fb5da",
   "metadata": {},
   "source": [
    "# sine of join set\n",
    "\n",
    "    union() = |\n",
    "    intersection() = &\n",
    "    difference() = -\n",
    "    symmetric_difference() = ^\n"
   ]
  },
  {
   "cell_type": "code",
   "execution_count": 432,
   "id": "dba012f9",
   "metadata": {},
   "outputs": [
    {
     "name": "stdout",
     "output_type": "stream",
     "text": [
      "{1, 2, 'a', 3, 'b', 'c'}\n"
     ]
    }
   ],
   "source": [
    "# union() = |\n",
    "\n",
    "set1 = {'a','b','c'}\n",
    "set2 = {1,2,3}\n",
    "\n",
    "# set3 = set1.union(set2) or\n",
    "set3 = set1 | set2\n",
    "print(set3)"
   ]
  },
  {
   "cell_type": "code",
   "execution_count": 434,
   "id": "6393e608",
   "metadata": {},
   "outputs": [
    {
     "name": "stdout",
     "output_type": "stream",
     "text": [
      "{'apple'}\n"
     ]
    }
   ],
   "source": [
    "# intersection() = &\n",
    "\n",
    "set1 = {\"apple\", \"banana\", \"cherry\"}\n",
    "set2 = {\"google\", \"microsoft\", \"apple\"}\n",
    "\n",
    "# set3 = set1.intersection(set2) or\n",
    "set3 = set1 & set2\n",
    "print(set3)"
   ]
  },
  {
   "cell_type": "code",
   "execution_count": 435,
   "id": "3e79afb8",
   "metadata": {},
   "outputs": [
    {
     "name": "stdout",
     "output_type": "stream",
     "text": [
      "{'apple'}\n"
     ]
    }
   ],
   "source": [
    "# intersection_update() \n",
    "\n",
    "set1 = {\"apple\", \"banana\", \"cherry\"}\n",
    "set2 = {\"google\", \"microsoft\", \"apple\"}\n",
    "\n",
    "set1.intersection_update(set2)\n",
    "\n",
    "print(set1)"
   ]
  },
  {
   "cell_type": "code",
   "execution_count": 438,
   "id": "121a4930",
   "metadata": {},
   "outputs": [
    {
     "name": "stdout",
     "output_type": "stream",
     "text": [
      "{'banana', 'cherry'}\n"
     ]
    }
   ],
   "source": [
    "# difference() = -\n",
    "\n",
    "set1 = {\"apple\", \"banana\", \"cherry\"}\n",
    "set2 = {\"google\", \"microsoft\", \"apple\"}\n",
    "\n",
    "# set3 = set1.difference(set2) or\n",
    "set3 = set1 - set2\n",
    "\n",
    "print(set3)"
   ]
  },
  {
   "cell_type": "code",
   "execution_count": 439,
   "id": "d101ff2d",
   "metadata": {},
   "outputs": [
    {
     "name": "stdout",
     "output_type": "stream",
     "text": [
      "{'banana', 'cherry'}\n"
     ]
    }
   ],
   "source": [
    "# difference_update()\n",
    "\n",
    "set1 = {\"apple\", \"banana\", \"cherry\"}\n",
    "set2 = {\"google\", \"microsoft\", \"apple\"}\n",
    "\n",
    "set1.difference_update(set2)\n",
    "\n",
    "print(set1)"
   ]
  },
  {
   "cell_type": "code",
   "execution_count": 443,
   "id": "d608b138",
   "metadata": {},
   "outputs": [
    {
     "name": "stdout",
     "output_type": "stream",
     "text": [
      "{'google', 'cherry', 'microsoft', 'banana'}\n"
     ]
    }
   ],
   "source": [
    "# symmetric_difference() = ^\n",
    "\n",
    "\n",
    "set1 = {\"apple\", \"banana\", \"cherry\"}\n",
    "set2 = {\"google\", \"microsoft\", \"apple\"}\n",
    "\n",
    "# set3 = set1.symmetric_difference(set2) or\n",
    "set3 = set1 ^ set2\n",
    "\n",
    "print(set3)"
   ]
  },
  {
   "cell_type": "code",
   "execution_count": 444,
   "id": "98f5118d",
   "metadata": {},
   "outputs": [
    {
     "name": "stdout",
     "output_type": "stream",
     "text": [
      "{'google', 'cherry', 'microsoft', 'banana'}\n"
     ]
    }
   ],
   "source": [
    "# symmetric_difference_update()\n",
    "\n",
    "set1 = {\"apple\", \"banana\", \"cherry\"}\n",
    "set2 = {\"google\", \"microsoft\", \"apple\"}\n",
    "\n",
    "set1.symmetric_difference_update(set2)\n",
    "\n",
    "print(set1)"
   ]
  },
  {
   "cell_type": "markdown",
   "id": "44327af6",
   "metadata": {},
   "source": [
    "# Python - Set Methods"
   ]
  },
  {
   "cell_type": "markdown",
   "id": "1ff1e11e",
   "metadata": {},
   "source": [
    "# add()\t \tAdds an element to the set\n",
    "# clear()\t \tRemoves all the elements from the set\n",
    "# copy()\t \tReturns a copy of the set\n",
    "# difference()\t-\tReturns a set containing the difference between two or more sets\n",
    "# difference_update()\t-=\tRemoves the items in this set that are also included in another, specified set\n",
    "# discard()\t \tRemove the specified item\n",
    "# intersection()\t&\tReturns a set, that is the intersection of two other sets\n",
    "# intersection_update()\t&=\tRemoves the items in this set that are not present in other, specified set(s)\n",
    "# isdisjoint()\t \tReturns whether two sets have a intersection or not\n",
    "# issubset()\t<=\tReturns whether another set contains this set or not\n",
    "#  \t<\tReturns whether all items in this set is present in other, specified set(s)\n",
    "# issuperset()\t>=\tReturns whether this set contains another set or not\n",
    "#  \t>\tReturns whether all items in other, specified set(s) is present in this set\n",
    "# pop()\t \tRemoves an element from the set\n",
    "# remove()\t \tRemoves the specified element\n",
    "# symmetric_difference()\t^\tReturns a set with the symmetric differences of two sets\n",
    "# symmetric_difference_update()\t^=\tInserts the symmetric differences from this set and another\n",
    "# union()\t|\tReturn a set containing the union of sets\n",
    "# update()\t|=\tUpdate the set with the union of this set and others"
   ]
  },
  {
   "cell_type": "code",
   "execution_count": null,
   "id": "dbce482c",
   "metadata": {},
   "outputs": [],
   "source": []
  },
  {
   "cell_type": "markdown",
   "id": "02c4bf7f",
   "metadata": {},
   "source": [
    "\n",
    "# Python Dictionaries"
   ]
  },
  {
   "cell_type": "code",
   "execution_count": 446,
   "id": "df4ed926",
   "metadata": {},
   "outputs": [
    {
     "name": "stdout",
     "output_type": "stream",
     "text": [
      "{'brand': 'Ford', 'model': 'Mustang', 'year': '1964'}\n"
     ]
    }
   ],
   "source": [
    "mydict = {\n",
    "    \"brand\":\"Ford\",\n",
    "    \"model\":\"Mustang\",\n",
    "    \"year\":\"1964\"\n",
    "}\n",
    "\n",
    "print(mydict)"
   ]
  },
  {
   "cell_type": "code",
   "execution_count": 447,
   "id": "64896920",
   "metadata": {},
   "outputs": [
    {
     "name": "stdout",
     "output_type": "stream",
     "text": [
      "Mustang\n"
     ]
    }
   ],
   "source": [
    "print(mydict['model'])"
   ]
  },
  {
   "cell_type": "code",
   "execution_count": 450,
   "id": "1d39cf4e",
   "metadata": {},
   "outputs": [
    {
     "name": "stdout",
     "output_type": "stream",
     "text": [
      "1964\n"
     ]
    }
   ],
   "source": [
    "print(mydict[\"year\"])"
   ]
  },
  {
   "cell_type": "code",
   "execution_count": 453,
   "id": "f1188ab5",
   "metadata": {},
   "outputs": [
    {
     "name": "stdout",
     "output_type": "stream",
     "text": [
      "{'brand': 'ford', 'model': 'Mustang', 'year': 1998}\n"
     ]
    }
   ],
   "source": [
    "d = {\n",
    "    \"brand\": \"ford\",\n",
    "    \"model\":\"BMW\",\n",
    "    \"model\": \"Mustang\",\n",
    "    \"year\": 1964,\n",
    "    \"year\": 1998\n",
    "}\n",
    "print(d)  # Duplicate not allowed"
   ]
  },
  {
   "cell_type": "code",
   "execution_count": 454,
   "id": "983597ab",
   "metadata": {},
   "outputs": [
    {
     "name": "stdout",
     "output_type": "stream",
     "text": [
      "3\n"
     ]
    }
   ],
   "source": [
    "print(len(d))"
   ]
  },
  {
   "cell_type": "code",
   "execution_count": 455,
   "id": "0895e311",
   "metadata": {},
   "outputs": [
    {
     "name": "stdout",
     "output_type": "stream",
     "text": [
      "{'brand': 'Ford', 'electric': False, 'year': 1998, 'colors': ['red', 'green', 'yellow']}\n"
     ]
    }
   ],
   "source": [
    "d1 = {\n",
    "    \"brand\":\"Ford\",\n",
    "    \"electric\":False,\n",
    "    \"year\":1998,\n",
    "    \"colors\":[\"red\",\"green\",\"yellow\"]\n",
    "    \n",
    "}\n",
    "print(d1)"
   ]
  },
  {
   "cell_type": "code",
   "execution_count": 456,
   "id": "5e159930",
   "metadata": {},
   "outputs": [
    {
     "name": "stdout",
     "output_type": "stream",
     "text": [
      "{'name': 'ram', 'age': 27, 'country': 'IND'}\n",
      "<class 'dict'>\n",
      "4\n"
     ]
    }
   ],
   "source": [
    "# using dict() constructor\n",
    "\n",
    "d3 = dict(name='ram',age=27,country=\"IND\")\n",
    "print(d3)\n",
    "print(type(d3))\n",
    "print(len(d1))"
   ]
  },
  {
   "cell_type": "code",
   "execution_count": 457,
   "id": "d118b4e7",
   "metadata": {},
   "outputs": [
    {
     "data": {
      "text/plain": [
       "{'brand': 'Ford',\n",
       " 'electric': False,\n",
       " 'year': 1998,\n",
       " 'colors': ['red', 'green', 'yellow']}"
      ]
     },
     "execution_count": 457,
     "metadata": {},
     "output_type": "execute_result"
    }
   ],
   "source": [
    "# Python - Access Dictionary Items\n",
    "\n",
    "d1"
   ]
  },
  {
   "cell_type": "code",
   "execution_count": 458,
   "id": "410bb75c",
   "metadata": {},
   "outputs": [
    {
     "data": {
      "text/plain": [
       "['red', 'green', 'yellow']"
      ]
     },
     "execution_count": 458,
     "metadata": {},
     "output_type": "execute_result"
    }
   ],
   "source": [
    "x = d1[\"colors\"]\n",
    "x"
   ]
  },
  {
   "cell_type": "code",
   "execution_count": 463,
   "id": "8cb04cb4",
   "metadata": {},
   "outputs": [
    {
     "data": {
      "text/plain": [
       "False"
      ]
     },
     "execution_count": 463,
     "metadata": {},
     "output_type": "execute_result"
    }
   ],
   "source": [
    "x = d1.get(\"electric\")\n",
    "x\n"
   ]
  },
  {
   "cell_type": "code",
   "execution_count": 465,
   "id": "f88268b3",
   "metadata": {},
   "outputs": [
    {
     "name": "stdout",
     "output_type": "stream",
     "text": [
      "dict_keys(['brand', 'electric', 'year', 'colors'])\n"
     ]
    }
   ],
   "source": [
    "a = d1.keys()\n",
    "print(a)"
   ]
  },
  {
   "cell_type": "code",
   "execution_count": 468,
   "id": "60e4744d",
   "metadata": {},
   "outputs": [
    {
     "name": "stdout",
     "output_type": "stream",
     "text": [
      "dict_values(['Ford', False, 1998, ['red', 'green', 'yellow']])\n"
     ]
    }
   ],
   "source": [
    "a =d1.values()\n",
    "print(a)"
   ]
  },
  {
   "cell_type": "code",
   "execution_count": 476,
   "id": "fa4f2710",
   "metadata": {},
   "outputs": [
    {
     "name": "stdout",
     "output_type": "stream",
     "text": [
      "dict_keys(['brand', 'model', 'year', 'color'])\n",
      "dict_keys(['brand', 'model', 'year', 'color', 'electric'])\n",
      "{'brand': 'Mustang', 'model': 'Ford', 'year': 1964, 'color': ['red', 'blue'], 'electric': False}\n"
     ]
    }
   ],
   "source": [
    "# Add a new item to the original dictionary, and see that the keys list gets updated as well:\n",
    "\n",
    "\n",
    "car =dict(brand=\"Mustang\",model=\"Ford\",year=1964,color=['red','blue'])\n",
    "\n",
    "x = car.keys()\n",
    "print(x)\n",
    "\n",
    "car[\"electric\"]=False\n",
    "print(car.keys())\n",
    "print(car)\n"
   ]
  },
  {
   "cell_type": "code",
   "execution_count": 477,
   "id": "e7d5f41d",
   "metadata": {},
   "outputs": [
    {
     "data": {
      "text/plain": [
       "{'brand': 'Mustang',\n",
       " 'model': 'Ford',\n",
       " 'year': 1964,\n",
       " 'color': ['red', 'blue'],\n",
       " 'electric': False}"
      ]
     },
     "execution_count": 477,
     "metadata": {},
     "output_type": "execute_result"
    }
   ],
   "source": [
    "car"
   ]
  },
  {
   "cell_type": "code",
   "execution_count": 478,
   "id": "4cf18ae3",
   "metadata": {},
   "outputs": [
    {
     "name": "stdout",
     "output_type": "stream",
     "text": [
      "dict_values(['Mustang', 'Ford', 1964, ['red', 'blue'], False])\n"
     ]
    }
   ],
   "source": [
    "x = car.values()\n",
    "print(x)"
   ]
  },
  {
   "cell_type": "code",
   "execution_count": 479,
   "id": "43b795fa",
   "metadata": {},
   "outputs": [
    {
     "data": {
      "text/plain": [
       "{'brand': 'Mustang',\n",
       " 'model': 'Ford',\n",
       " 'year': 1964,\n",
       " 'color': ['red', 'blue'],\n",
       " 'electric': False}"
      ]
     },
     "execution_count": 479,
     "metadata": {},
     "output_type": "execute_result"
    }
   ],
   "source": [
    "car"
   ]
  },
  {
   "cell_type": "code",
   "execution_count": 480,
   "id": "7993f94c",
   "metadata": {},
   "outputs": [
    {
     "data": {
      "text/plain": [
       "{'brand': 'Mustang',\n",
       " 'model': 'Ford',\n",
       " 'year': 2020,\n",
       " 'color': ['red', 'blue'],\n",
       " 'electric': False}"
      ]
     },
     "execution_count": 480,
     "metadata": {},
     "output_type": "execute_result"
    }
   ],
   "source": [
    "car[\"year\"] = 2020\n",
    "car"
   ]
  },
  {
   "cell_type": "code",
   "execution_count": 481,
   "id": "d3d4d8aa",
   "metadata": {},
   "outputs": [
    {
     "data": {
      "text/plain": [
       "dict_items([('brand', 'Mustang'), ('model', 'Ford'), ('year', 2020), ('color', ['red', 'blue']), ('electric', False)])"
      ]
     },
     "execution_count": 481,
     "metadata": {},
     "output_type": "execute_result"
    }
   ],
   "source": [
    "# items()  method\n",
    "\n",
    "\n",
    "x = car.items()\n",
    "x"
   ]
  },
  {
   "cell_type": "code",
   "execution_count": 482,
   "id": "3b552868",
   "metadata": {},
   "outputs": [
    {
     "data": {
      "text/plain": [
       "{'brand': 'Mustang',\n",
       " 'model': 'Ford',\n",
       " 'year': 2020,\n",
       " 'color': ['red', 'blue'],\n",
       " 'electric': False}"
      ]
     },
     "execution_count": 482,
     "metadata": {},
     "output_type": "execute_result"
    }
   ],
   "source": [
    "car"
   ]
  },
  {
   "cell_type": "code",
   "execution_count": 483,
   "id": "a5297de9",
   "metadata": {},
   "outputs": [
    {
     "data": {
      "text/plain": [
       "dict"
      ]
     },
     "execution_count": 483,
     "metadata": {},
     "output_type": "execute_result"
    }
   ],
   "source": [
    "type(car)"
   ]
  },
  {
   "cell_type": "code",
   "execution_count": 484,
   "id": "deafd051",
   "metadata": {},
   "outputs": [
    {
     "data": {
      "text/plain": [
       "{'brand': 'Mustang',\n",
       " 'model': 'Ford',\n",
       " 'year': 2020,\n",
       " 'color': ['red', 'blue'],\n",
       " 'electric': False}"
      ]
     },
     "execution_count": 484,
     "metadata": {},
     "output_type": "execute_result"
    }
   ],
   "source": [
    "car"
   ]
  },
  {
   "cell_type": "code",
   "execution_count": 485,
   "id": "64a29e7a",
   "metadata": {},
   "outputs": [
    {
     "data": {
      "text/plain": [
       "{'brand': 'Mustang',\n",
       " 'model': 'Ford',\n",
       " 'year': 2020,\n",
       " 'color': ['red', 'blue'],\n",
       " 'electric': False,\n",
       " 'day': 'monday'}"
      ]
     },
     "execution_count": 485,
     "metadata": {},
     "output_type": "execute_result"
    }
   ],
   "source": [
    "car[\"day\"] = \"monday\"\n",
    "car"
   ]
  },
  {
   "cell_type": "code",
   "execution_count": 486,
   "id": "c28f8848",
   "metadata": {},
   "outputs": [
    {
     "data": {
      "text/plain": [
       "{'brand': 'Mustang',\n",
       " 'model': 'Ford',\n",
       " 'year': 2020,\n",
       " 'color': ['red', 'blue'],\n",
       " 'electric': False,\n",
       " 'day': 'sunday'}"
      ]
     },
     "execution_count": 486,
     "metadata": {},
     "output_type": "execute_result"
    }
   ],
   "source": [
    "car[\"day\"] = \"sunday\"\n",
    "car"
   ]
  },
  {
   "cell_type": "code",
   "execution_count": 487,
   "id": "b616a30d",
   "metadata": {},
   "outputs": [
    {
     "data": {
      "text/plain": [
       "dict_items([('brand', 'Mustang'), ('model', 'Ford'), ('year', 2020), ('color', ['red', 'blue']), ('electric', False), ('day', 'sunday')])"
      ]
     },
     "execution_count": 487,
     "metadata": {},
     "output_type": "execute_result"
    }
   ],
   "source": [
    "car.items()"
   ]
  },
  {
   "cell_type": "code",
   "execution_count": 489,
   "id": "f343c459",
   "metadata": {},
   "outputs": [
    {
     "data": {
      "text/plain": [
       "dict_keys(['brand', 'model', 'year', 'color', 'electric', 'day'])"
      ]
     },
     "execution_count": 489,
     "metadata": {},
     "output_type": "execute_result"
    }
   ],
   "source": [
    "car.keys()"
   ]
  },
  {
   "cell_type": "code",
   "execution_count": 490,
   "id": "e077949b",
   "metadata": {},
   "outputs": [
    {
     "data": {
      "text/plain": [
       "dict_values(['Mustang', 'Ford', 2020, ['red', 'blue'], False, 'sunday'])"
      ]
     },
     "execution_count": 490,
     "metadata": {},
     "output_type": "execute_result"
    }
   ],
   "source": [
    "car.values()"
   ]
  },
  {
   "cell_type": "code",
   "execution_count": 492,
   "id": "55e5e7a3",
   "metadata": {},
   "outputs": [
    {
     "data": {
      "text/plain": [
       "['red', 'blue']"
      ]
     },
     "execution_count": 492,
     "metadata": {},
     "output_type": "execute_result"
    }
   ],
   "source": [
    "x=car.get('color')\n",
    "x"
   ]
  },
  {
   "cell_type": "code",
   "execution_count": 493,
   "id": "bc2abb6d",
   "metadata": {},
   "outputs": [
    {
     "name": "stdout",
     "output_type": "stream",
     "text": [
      "fruits\n"
     ]
    }
   ],
   "source": [
    "# example\n",
    "\n",
    "x = {\n",
    "    \"type\":\"fruits\",\n",
    "    \"name\":\"banana\",\n",
    "    \n",
    "}\n",
    "print(x['type'])"
   ]
  },
  {
   "cell_type": "code",
   "execution_count": 495,
   "id": "598cb9e2",
   "metadata": {},
   "outputs": [
    {
     "name": "stdout",
     "output_type": "stream",
     "text": [
      "{'brand': 'Ford', 'model': 'Mustang', 'year': 2018}\n"
     ]
    }
   ],
   "source": [
    "# Python - Change Dictionary Items\n",
    "\n",
    "thisdict = {\n",
    "  \"brand\": \"Ford\",\n",
    "  \"model\": \"Mustang\",\n",
    "  \"year\": 1964\n",
    "}\n",
    "thisdict[\"year\"] = 2018\n",
    "print(thisdict)"
   ]
  },
  {
   "cell_type": "code",
   "execution_count": 500,
   "id": "56dbe8b6",
   "metadata": {},
   "outputs": [],
   "source": [
    "# update()\n",
    "\n",
    "d = {\n",
    "    \"one\":1,\n",
    "    \"two\":2,\n",
    "    \"three\":3,\n",
    "}\n",
    "d.update({\"two\":20})"
   ]
  },
  {
   "cell_type": "code",
   "execution_count": 501,
   "id": "6f5c3d5a",
   "metadata": {},
   "outputs": [
    {
     "data": {
      "text/plain": [
       "{'one': 1, 'two': 20, 'three': 3}"
      ]
     },
     "execution_count": 501,
     "metadata": {},
     "output_type": "execute_result"
    }
   ],
   "source": [
    "d"
   ]
  },
  {
   "cell_type": "code",
   "execution_count": 502,
   "id": "744fee69",
   "metadata": {},
   "outputs": [
    {
     "data": {
      "text/plain": [
       "{'one': 1, 'two': 20, 'three': 3, 'five': 5}"
      ]
     },
     "execution_count": 502,
     "metadata": {},
     "output_type": "execute_result"
    }
   ],
   "source": [
    "d.update({\"five\":5})\n",
    "d"
   ]
  },
  {
   "cell_type": "code",
   "execution_count": 504,
   "id": "b493388b",
   "metadata": {},
   "outputs": [
    {
     "data": {
      "text/plain": [
       "{'one': 1, 'two': 2, 'three': 3, 'five': 5}"
      ]
     },
     "execution_count": 504,
     "metadata": {},
     "output_type": "execute_result"
    }
   ],
   "source": [
    "d.update({\"two\":2})\n",
    "d"
   ]
  },
  {
   "cell_type": "code",
   "execution_count": 505,
   "id": "402a1000",
   "metadata": {},
   "outputs": [
    {
     "data": {
      "text/plain": [
       "{'one': 1, 'two': 2, 'three': 3, 'five': 5}"
      ]
     },
     "execution_count": 505,
     "metadata": {},
     "output_type": "execute_result"
    }
   ],
   "source": [
    "d"
   ]
  },
  {
   "cell_type": "code",
   "execution_count": 506,
   "id": "cfbbe30a",
   "metadata": {},
   "outputs": [
    {
     "name": "stdout",
     "output_type": "stream",
     "text": [
      "{'brand': 'Ford', 'model': 'Mustang', 'year': 1964, 'electric': True, 'day': 'monday'}\n"
     ]
    }
   ],
   "source": [
    "thisdict = {\n",
    "  \"brand\": \"Ford\",\n",
    "  \"model\": \"Mustang\",\n",
    "  \"year\": 1964\n",
    "}\n",
    "\n",
    "thisdict.update({\"electric\":True,\"day\":\"monday\"})\n",
    "print(thisdict)"
   ]
  },
  {
   "cell_type": "code",
   "execution_count": 507,
   "id": "d51cf043",
   "metadata": {},
   "outputs": [
    {
     "data": {
      "text/plain": [
       "{'brand': 'Ford',\n",
       " 'model': 'Mustang',\n",
       " 'year': 1964,\n",
       " 'electric': True,\n",
       " 'day': 'monday'}"
      ]
     },
     "execution_count": 507,
     "metadata": {},
     "output_type": "execute_result"
    }
   ],
   "source": [
    "# Removing Items in dict()\n",
    "# pop() method\n",
    "thisdict\n"
   ]
  },
  {
   "cell_type": "code",
   "execution_count": 508,
   "id": "fd5e95b4",
   "metadata": {},
   "outputs": [
    {
     "name": "stdout",
     "output_type": "stream",
     "text": [
      "{'brand': 'Ford', 'model': 'Mustang', 'year': 1964, 'electric': True}\n"
     ]
    }
   ],
   "source": [
    "thisdict.pop(\"day\")\n",
    "print(thisdict)"
   ]
  },
  {
   "cell_type": "code",
   "execution_count": 510,
   "id": "f5bb59a6",
   "metadata": {},
   "outputs": [
    {
     "name": "stdout",
     "output_type": "stream",
     "text": [
      "{'brand': 'Ford', 'model': 'Mustang', 'year': 1964}\n"
     ]
    }
   ],
   "source": [
    "# popitem() method\n",
    "\n",
    "\n",
    "thisdict = {\n",
    "  \"brand\": \"Ford\",\n",
    "  \"model\": \"Mustang\",\n",
    "  \"year\": 1964,\n",
    "    \"day\":\"sunday\"\n",
    "}\n",
    "thisdict.popitem()\n",
    "print(thisdict)"
   ]
  },
  {
   "cell_type": "code",
   "execution_count": 511,
   "id": "3cf3f48f",
   "metadata": {},
   "outputs": [
    {
     "data": {
      "text/plain": [
       "{'brand': 'Ford', 'year': 1964}"
      ]
     },
     "execution_count": 511,
     "metadata": {},
     "output_type": "execute_result"
    }
   ],
   "source": [
    "del thisdict[\"model\"]\n",
    "thisdict"
   ]
  },
  {
   "cell_type": "code",
   "execution_count": 513,
   "id": "615f4ee1",
   "metadata": {},
   "outputs": [
    {
     "data": {
      "text/plain": [
       "dict_items([('brand', 'Ford'), ('year', 1964)])"
      ]
     },
     "execution_count": 513,
     "metadata": {},
     "output_type": "execute_result"
    }
   ],
   "source": [
    "thisdict.items()"
   ]
  },
  {
   "cell_type": "code",
   "execution_count": 515,
   "id": "6bb680a1",
   "metadata": {},
   "outputs": [],
   "source": [
    "d = {\n",
    "    \"one\":1,\n",
    "    \"two\":2,\n",
    "}\n",
    "del d\n",
    "# print(d)"
   ]
  },
  {
   "cell_type": "code",
   "execution_count": null,
   "id": "1e5bcf69",
   "metadata": {},
   "outputs": [],
   "source": []
  },
  {
   "cell_type": "code",
   "execution_count": 517,
   "id": "aea169e3",
   "metadata": {},
   "outputs": [
    {
     "name": "stdout",
     "output_type": "stream",
     "text": [
      "{}\n"
     ]
    }
   ],
   "source": [
    "thisdict = {\n",
    "  \"brand\": \"Ford\",\n",
    "  \"model\": \"Mustang\",\n",
    "  \"year\": 1964\n",
    "}\n",
    "thisdict.clear()\n",
    "print(thisdict)\n"
   ]
  },
  {
   "cell_type": "code",
   "execution_count": 518,
   "id": "e7781a2f",
   "metadata": {},
   "outputs": [
    {
     "data": {
      "text/plain": [
       "{}"
      ]
     },
     "execution_count": 518,
     "metadata": {},
     "output_type": "execute_result"
    }
   ],
   "source": [
    "thisdict"
   ]
  },
  {
   "cell_type": "code",
   "execution_count": 519,
   "id": "49f10669",
   "metadata": {},
   "outputs": [
    {
     "name": "stdout",
     "output_type": "stream",
     "text": [
      "{'one': 1, 'two': 2}\n"
     ]
    }
   ],
   "source": [
    "thisdict.update({\"one\":1,\"two\":2})\n",
    "print(thisdict)"
   ]
  },
  {
   "cell_type": "code",
   "execution_count": 520,
   "id": "03af71f2",
   "metadata": {},
   "outputs": [
    {
     "data": {
      "text/plain": [
       "{'one': 1, 'two': 2}"
      ]
     },
     "execution_count": 520,
     "metadata": {},
     "output_type": "execute_result"
    }
   ],
   "source": [
    "thisdict"
   ]
  },
  {
   "cell_type": "code",
   "execution_count": 521,
   "id": "fae04560",
   "metadata": {},
   "outputs": [],
   "source": [
    "del thisdict"
   ]
  },
  {
   "cell_type": "code",
   "execution_count": null,
   "id": "d78bb35a",
   "metadata": {},
   "outputs": [],
   "source": []
  },
  {
   "cell_type": "code",
   "execution_count": 526,
   "id": "7dc7bced",
   "metadata": {},
   "outputs": [
    {
     "data": {
      "text/plain": [
       "{'one': 1, 'two': 2}"
      ]
     },
     "execution_count": 526,
     "metadata": {},
     "output_type": "execute_result"
    }
   ],
   "source": [
    "# Python - Loop Dictionaries\n",
    "\n",
    "d = dict(one=1,two=2)\n",
    "d"
   ]
  },
  {
   "cell_type": "code",
   "execution_count": 530,
   "id": "6c48cafa",
   "metadata": {},
   "outputs": [
    {
     "name": "stdout",
     "output_type": "stream",
     "text": [
      "one 1\n",
      "two 2\n"
     ]
    }
   ],
   "source": [
    "for x , y in d.items():\n",
    "    print(x,y)"
   ]
  },
  {
   "cell_type": "code",
   "execution_count": 531,
   "id": "c1257e5a",
   "metadata": {},
   "outputs": [
    {
     "data": {
      "text/plain": [
       "dict_items([('one', 1), ('two', 2)])"
      ]
     },
     "execution_count": 531,
     "metadata": {},
     "output_type": "execute_result"
    }
   ],
   "source": [
    "d.items()"
   ]
  },
  {
   "cell_type": "code",
   "execution_count": 1,
   "id": "937abe42",
   "metadata": {},
   "outputs": [
    {
     "name": "stdout",
     "output_type": "stream",
     "text": [
      "{'brand': 'Ford', 'model': 'Mustang', 'year': 1964}\n"
     ]
    }
   ],
   "source": [
    "# Python - Copy Dictionaries\n",
    "\n",
    "thisdict = {\n",
    "        \"brand\":\"Ford\",\n",
    "        \"model\":\"Mustang\",\n",
    "        \"year\":1964\n",
    "}\n",
    "\n",
    "print(thisdict)"
   ]
  },
  {
   "cell_type": "code",
   "execution_count": 2,
   "id": "a5e1446e",
   "metadata": {},
   "outputs": [
    {
     "name": "stdout",
     "output_type": "stream",
     "text": [
      "{'brand': 'Ford', 'model': 'Mustang', 'year': 1964}\n"
     ]
    }
   ],
   "source": [
    "mydict = thisdict.copy()\n",
    "print(mydict)"
   ]
  },
  {
   "cell_type": "code",
   "execution_count": 3,
   "id": "e7297b47",
   "metadata": {},
   "outputs": [
    {
     "data": {
      "text/plain": [
       "{'brand': 'Ford', 'model': 'Mustang', 'year': 1964}"
      ]
     },
     "execution_count": 3,
     "metadata": {},
     "output_type": "execute_result"
    }
   ],
   "source": [
    "mydict"
   ]
  },
  {
   "cell_type": "code",
   "execution_count": 8,
   "id": "ca47171c",
   "metadata": {},
   "outputs": [
    {
     "name": "stdout",
     "output_type": "stream",
     "text": [
      "{'brand': 'ford', 'model': 'BMW', 'electric': False}\n"
     ]
    }
   ],
   "source": [
    "d = dict(brand='ford',model='BMW',electric=False)\n",
    "print(d)"
   ]
  },
  {
   "cell_type": "code",
   "execution_count": 9,
   "id": "af93f215",
   "metadata": {},
   "outputs": [
    {
     "data": {
      "text/plain": [
       "{'brand': 'ford', 'model': 'BMW', 'electric': False}"
      ]
     },
     "execution_count": 9,
     "metadata": {},
     "output_type": "execute_result"
    }
   ],
   "source": [
    "d1 = dict(d)\n",
    "d1"
   ]
  },
  {
   "cell_type": "code",
   "execution_count": 10,
   "id": "5e81fcd1",
   "metadata": {},
   "outputs": [
    {
     "data": {
      "text/plain": [
       "{'brand': 'ford', 'model': 'BMW', 'electric': False}"
      ]
     },
     "execution_count": 10,
     "metadata": {},
     "output_type": "execute_result"
    }
   ],
   "source": [
    "d"
   ]
  },
  {
   "cell_type": "code",
   "execution_count": 11,
   "id": "868b2ada",
   "metadata": {},
   "outputs": [
    {
     "data": {
      "text/plain": [
       "{'brand': 'ford', 'model': 'BMW', 'electric': False}"
      ]
     },
     "execution_count": 11,
     "metadata": {},
     "output_type": "execute_result"
    }
   ],
   "source": [
    "d1"
   ]
  },
  {
   "cell_type": "code",
   "execution_count": 14,
   "id": "48c5a757",
   "metadata": {},
   "outputs": [
    {
     "name": "stdout",
     "output_type": "stream",
     "text": [
      "{'child1': {'name': 'ram', 'year': 2003}, 'child2': {'mame': 'raj', 'year': 2004}, 'child3': {'name': 'jay', 'year': 2005}}\n"
     ]
    }
   ],
   "source": [
    "# Python - Nested Dictionaries\n",
    "\n",
    "myfamily = {\n",
    "    \"child1\":{\n",
    "        \"name\":\"ram\",\n",
    "        \"year\":2003\n",
    "    },\n",
    "    \"child2\":{\n",
    "        \"mame\":\"raj\",\n",
    "        \"year\":2004\n",
    "    },\n",
    "    \"child3\":{\n",
    "        \"name\":\"jay\",\n",
    "        \"year\":2005\n",
    "    }\n",
    "}\n",
    "print(myfamily)"
   ]
  },
  {
   "cell_type": "code",
   "execution_count": 15,
   "id": "7949b413",
   "metadata": {},
   "outputs": [
    {
     "name": "stdout",
     "output_type": "stream",
     "text": [
      "{'child1': {'name': 'Emil', 'year': 2004}, 'child2': {'name': 'Tobias', 'year': 2007}, 'child3': {'name': 'Linus', 'year': 2011}}\n"
     ]
    }
   ],
   "source": [
    "# Create three dictionaries, then create one dictionary,\n",
    "#     that will contain the other three dictionaries:\n",
    "\n",
    "child1 = {\n",
    "  \"name\" : \"Emil\",\n",
    "  \"year\" : 2004\n",
    "}\n",
    "child2 = {\n",
    "  \"name\" : \"Tobias\",\n",
    "  \"year\" : 2007\n",
    "}\n",
    "child3 = {\n",
    "  \"name\" : \"Linus\",\n",
    "  \"year\" : 2011\n",
    "}\n",
    "\n",
    "MyFamily = {\n",
    "    \"child1\":child1,\n",
    "    \"child2\":child2,\n",
    "    \"child3\":child3\n",
    "}\n",
    "\n",
    "print(MyFamily)"
   ]
  },
  {
   "cell_type": "code",
   "execution_count": 16,
   "id": "717265eb",
   "metadata": {},
   "outputs": [
    {
     "name": "stdout",
     "output_type": "stream",
     "text": [
      "2007\n"
     ]
    }
   ],
   "source": [
    "# Access Items in Nested Dictionaries\n",
    "\n",
    "print(MyFamily['child2']['year'])\n"
   ]
  },
  {
   "cell_type": "code",
   "execution_count": 17,
   "id": "29e8e427",
   "metadata": {},
   "outputs": [
    {
     "name": "stdout",
     "output_type": "stream",
     "text": [
      "jay\n"
     ]
    }
   ],
   "source": [
    "print(myfamily['child3']['name'])"
   ]
  },
  {
   "cell_type": "code",
   "execution_count": 22,
   "id": "0671de06",
   "metadata": {},
   "outputs": [
    {
     "name": "stdout",
     "output_type": "stream",
     "text": [
      "child1 {'name': 'Emil', 'year': 2004}\n",
      "child2 {'name': 'Tobias', 'year': 2007}\n",
      "child3 {'name': 'Linus', 'year': 2011}\n"
     ]
    }
   ],
   "source": [
    "# loop through nested dictionaries using items() method\n",
    "\n",
    "for a,b in MyFamily.items():\n",
    "    print(a,b)\n",
    "    \n",
    "#     for y in b:\n",
    "#         print(y + ':',b[y])"
   ]
  },
  {
   "cell_type": "markdown",
   "id": "f657a50b",
   "metadata": {},
   "source": [
    "# Python Dictionary Methods"
   ]
  },
  {
   "cell_type": "code",
   "execution_count": 24,
   "id": "ad023b95",
   "metadata": {},
   "outputs": [
    {
     "name": "stdout",
     "output_type": "stream",
     "text": [
      "{'one': 1, 'two': 2, 'three': 3}\n",
      "{}\n"
     ]
    }
   ],
   "source": [
    "# clear() method\n",
    "\n",
    "d4 = {\n",
    "    'one':1,\n",
    "    'two':2,\n",
    "    'three':3\n",
    "}\n",
    "\n",
    "print(d4) # after dict\n",
    "\n",
    "d4.clear() \n",
    "print(d4) # before dict"
   ]
  },
  {
   "cell_type": "code",
   "execution_count": 27,
   "id": "97fde70f",
   "metadata": {},
   "outputs": [
    {
     "name": "stdout",
     "output_type": "stream",
     "text": [
      "{'name': 'ram', 'year': 1998}\n"
     ]
    }
   ],
   "source": [
    "# copy() method\n",
    "\n",
    "di1 = dict(name='ram',year=1998)\n",
    "# print(di1)\n",
    "\n",
    "di2= di1.copy()\n",
    "print(di2)"
   ]
  },
  {
   "cell_type": "code",
   "execution_count": 30,
   "id": "18f4f74e",
   "metadata": {},
   "outputs": [
    {
     "name": "stdout",
     "output_type": "stream",
     "text": [
      "{'key1': 5, 'key2': 5, 'key3': 5}\n"
     ]
    }
   ],
   "source": [
    "# fromkeyes() method\n",
    "\n",
    "x = ('key1','key2','key3')\n",
    "y = 5\n",
    "\n",
    "thisdict = dict.fromkeys(x,y)\n",
    "print(thisdict)"
   ]
  },
  {
   "cell_type": "code",
   "execution_count": 29,
   "id": "8da90fd2",
   "metadata": {},
   "outputs": [
    {
     "name": "stdout",
     "output_type": "stream",
     "text": [
      "{'k1': None, 'k2': None, 'k3': None}\n"
     ]
    }
   ],
   "source": [
    "a = ('k1','k2','k3')\n",
    "\n",
    "dd = dict.fromkeys(a)\n",
    "print(dd)"
   ]
  },
  {
   "cell_type": "code",
   "execution_count": 33,
   "id": "332a234b",
   "metadata": {},
   "outputs": [
    {
     "data": {
      "text/plain": [
       "'Mustang'"
      ]
     },
     "execution_count": 33,
     "metadata": {},
     "output_type": "execute_result"
    }
   ],
   "source": [
    "# get() method\n",
    "\n",
    "car = {\n",
    "  \"brand\": \"Ford\",\n",
    "  \"model\": \"Mustang\",\n",
    "  \"year\": 1964\n",
    "}\n",
    "\n",
    "x = car.get(\"model\")\n",
    "# x\n",
    "#  or\n",
    "# x = car['model']\n",
    "x"
   ]
  },
  {
   "cell_type": "code",
   "execution_count": 34,
   "id": "9d6b2a30",
   "metadata": {},
   "outputs": [
    {
     "data": {
      "text/plain": [
       "dict_items([('brand', 'Ford'), ('model', 'Mustang'), ('year', 1964)])"
      ]
     },
     "execution_count": 34,
     "metadata": {},
     "output_type": "execute_result"
    }
   ],
   "source": [
    "# items() method\n",
    "\n",
    "a = car.items()\n",
    "a"
   ]
  },
  {
   "cell_type": "code",
   "execution_count": 35,
   "id": "72f76e68",
   "metadata": {},
   "outputs": [
    {
     "data": {
      "text/plain": [
       "dict_keys(['brand', 'model', 'year'])"
      ]
     },
     "execution_count": 35,
     "metadata": {},
     "output_type": "execute_result"
    }
   ],
   "source": [
    "# keys() method\n",
    "\n",
    "p = car.keys()\n",
    "p"
   ]
  },
  {
   "cell_type": "code",
   "execution_count": null,
   "id": "1ce8e665",
   "metadata": {},
   "outputs": [],
   "source": [
    "# pop() method\n",
    "\n"
   ]
  }
 ],
 "metadata": {
  "kernelspec": {
   "display_name": "Python 3 (ipykernel)",
   "language": "python",
   "name": "python3"
  },
  "language_info": {
   "codemirror_mode": {
    "name": "ipython",
    "version": 3
   },
   "file_extension": ".py",
   "mimetype": "text/x-python",
   "name": "python",
   "nbconvert_exporter": "python",
   "pygments_lexer": "ipython3",
   "version": "3.10.9"
  }
 },
 "nbformat": 4,
 "nbformat_minor": 5
}
