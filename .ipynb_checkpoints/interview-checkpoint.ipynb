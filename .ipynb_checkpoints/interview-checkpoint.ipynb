{
 "cells": [
  {
   "cell_type": "code",
   "execution_count": 1,
   "id": "f3de5e67",
   "metadata": {},
   "outputs": [
    {
     "name": "stdout",
     "output_type": "stream",
     "text": [
      "['a', 'b', 'c']\n"
     ]
    }
   ],
   "source": [
    "# How to Remove Duplicates From a Python List\n",
    "\n",
    "\n",
    "# Remove any duplicates from a List:\n",
    "\n",
    "\n",
    "mylist = [\"a\",\"b\",\"a\",\"c\",\"c\"]\n",
    "\n",
    "mylist = list(dict.fromkeys(mylist))\n",
    "print(mylist)"
   ]
  },
  {
   "cell_type": "code",
   "execution_count": 2,
   "id": "d8acda28",
   "metadata": {},
   "outputs": [
    {
     "name": "stdout",
     "output_type": "stream",
     "text": [
      "['apple', 'Banana', 'cherry']\n"
     ]
    }
   ],
   "source": [
    "l1 = [\"apple\",\"Banana\",\"apple\",\"cherry\",\"Banana\",\"cherry\"]\n",
    "l1 = list(dict.fromkeys(l1))\n",
    "print(l1)"
   ]
  },
  {
   "cell_type": "code",
   "execution_count": 3,
   "id": "7a82e69f",
   "metadata": {},
   "outputs": [
    {
     "name": "stdout",
     "output_type": "stream",
     "text": [
      "['apple', 'Banana', 'cherry']\n"
     ]
    }
   ],
   "source": [
    "# create a function\n",
    "\n",
    "def my_function(x):\n",
    "    return list(dict.fromkeys(x))\n",
    "\n",
    "l1 = my_function([\"apple\",\"Banana\",\"apple\",\"cherry\",\"Banana\",\"cherry\"])\n",
    "print(l1)"
   ]
  },
  {
   "cell_type": "code",
   "execution_count": 2,
   "id": "61d1fae5",
   "metadata": {},
   "outputs": [
    {
     "name": "stdout",
     "output_type": "stream",
     "text": [
      "[1, 'apple', 'banana']\n"
     ]
    }
   ],
   "source": [
    "l2 = [1,\"apple\",True,1,\"banana\",\"apple\"]\n",
    "\n",
    "def my_func(x):\n",
    "    return list(dict.fromkeys(x))\n",
    "\n",
    "l1=my_func(l2)\n",
    "print(l1)"
   ]
  },
  {
   "cell_type": "code",
   "execution_count": null,
   "id": "61eb926d",
   "metadata": {},
   "outputs": [],
   "source": []
  },
  {
   "cell_type": "markdown",
   "id": "3c29d778",
   "metadata": {},
   "source": [
    "# How to Reverse a String in Python"
   ]
  },
  {
   "cell_type": "code",
   "execution_count": 4,
   "id": "9c8a5488",
   "metadata": {},
   "outputs": [
    {
     "name": "stdout",
     "output_type": "stream",
     "text": [
      "!dlroW olleH\n"
     ]
    }
   ],
   "source": [
    "# using  string slicing \n",
    "\n",
    "txt = \"Hello World!\"\n",
    "print(txt[::-1])"
   ]
  },
  {
   "cell_type": "code",
   "execution_count": 5,
   "id": "70233784",
   "metadata": {},
   "outputs": [
    {
     "name": "stdout",
     "output_type": "stream",
     "text": [
      "uoy era woH , olleh\n"
     ]
    }
   ],
   "source": [
    "# creating a function \n",
    "\n",
    "def reverse_string(x):\n",
    "    \n",
    "    return x[::-1]\n",
    "\n",
    "mytxt = reverse_string(\"hello , How are you\")\n",
    "print(mytxt)"
   ]
  },
  {
   "cell_type": "markdown",
   "id": "b499de30",
   "metadata": {},
   "source": [
    "# Using reversed() and join()\n",
    "\n"
   ]
  },
  {
   "cell_type": "code",
   "execution_count": 34,
   "id": "d5e17a30",
   "metadata": {},
   "outputs": [
    {
     "name": "stdout",
     "output_type": "stream",
     "text": [
      "dlroW olleH\n"
     ]
    }
   ],
   "source": [
    "s = \"Hello World\"\n",
    "rev = \"\".join(reversed(s))\n",
    "print(rev)"
   ]
  },
  {
   "cell_type": "code",
   "execution_count": 8,
   "id": "bdfdd1dc",
   "metadata": {
    "scrolled": true
   },
   "outputs": [
    {
     "name": "stdout",
     "output_type": "stream",
     "text": [
      "python\n"
     ]
    }
   ],
   "source": [
    "str1 = \"nohtyp\"\n",
    "rev = \"\".join(reversed(str1))\n",
    "print(rev)"
   ]
  },
  {
   "cell_type": "code",
   "execution_count": 4,
   "id": "f2270e4f",
   "metadata": {},
   "outputs": [
    {
     "name": "stdout",
     "output_type": "stream",
     "text": [
      "nohtyP ot emoclew\n"
     ]
    }
   ],
   "source": [
    "s = \"welcome to Python\"\n",
    "rev = \"\".join(reversed(s))\n",
    "print(rev)"
   ]
  },
  {
   "cell_type": "markdown",
   "id": "33c7e1be",
   "metadata": {},
   "source": [
    "# Using a Loop"
   ]
  },
  {
   "cell_type": "code",
   "execution_count": 36,
   "id": "5f4d08c3",
   "metadata": {},
   "outputs": [
    {
     "name": "stdout",
     "output_type": "stream",
     "text": [
      "NOHTYP\n"
     ]
    }
   ],
   "source": [
    "s = \"PYTHON\"\n",
    "\n",
    "rev = \"\"\n",
    "\n",
    "for i in s:\n",
    "    \n",
    "    rev = i + rev\n",
    "print(rev)"
   ]
  },
  {
   "cell_type": "code",
   "execution_count": 9,
   "id": "53af6aba",
   "metadata": {},
   "outputs": [
    {
     "name": "stdout",
     "output_type": "stream",
     "text": [
      "nohtyP ot emoc leW\n"
     ]
    }
   ],
   "source": [
    "str1 = \"Wel come to Python\"\n",
    "\n",
    "rev = \"\"\n",
    "for i in str1:\n",
    "    \n",
    "    rev = i+rev\n",
    "    \n",
    "print(rev)"
   ]
  },
  {
   "cell_type": "code",
   "execution_count": 26,
   "id": "82523564",
   "metadata": {},
   "outputs": [
    {
     "name": "stdout",
     "output_type": "stream",
     "text": [
      "yes"
     ]
    }
   ],
   "source": [
    "str1 = \"sey\"\n",
    "\n",
    "for i in range(len(str1)-1,-1,-1):\n",
    "    print(str1[i],end=\"\")"
   ]
  },
  {
   "cell_type": "code",
   "execution_count": 1,
   "id": "0ac03106",
   "metadata": {},
   "outputs": [
    {
     "name": "stdout",
     "output_type": "stream",
     "text": [
      "the orignal string python\n",
      "reverse string is nohtyp\n"
     ]
    }
   ],
   "source": [
    "# using for loop\n",
    "\n",
    "def reverse_string(str):\n",
    "    \n",
    "    str1 = \"\"\n",
    "    \n",
    "    for i in str:\n",
    "        str1 = i + str1\n",
    "    return str1\n",
    "\n",
    "str= \"python\"\n",
    "print(\"the orignal string\",str)\n",
    "print(\"reverse string is\",reverse_string(str))"
   ]
  },
  {
   "cell_type": "code",
   "execution_count": 10,
   "id": "ff7902da",
   "metadata": {},
   "outputs": [
    {
     "name": "stdout",
     "output_type": "stream",
     "text": [
      "edoC nohtyP ot ,emocleW\n"
     ]
    }
   ],
   "source": [
    "str1 = \"Welcome, to Python Code\"\n",
    "\n",
    "rev = \"\"   # Initialize an empty string to hold reversed result\n",
    "\n",
    "for i in str1: # Loop through each character in original string\n",
    "    \n",
    "    rev = i + rev # Add current character to front of reversed string\n",
    "    \n",
    "print(rev)"
   ]
  },
  {
   "cell_type": "code",
   "execution_count": 30,
   "id": "750162f2",
   "metadata": {},
   "outputs": [
    {
     "name": "stdout",
     "output_type": "stream",
     "text": [
      "reversed string  is : LM htiw nohtyP\n"
     ]
    }
   ],
   "source": [
    "# using for loop\n",
    "\n",
    "my_string = \"Python with ML\"\n",
    "\n",
    "s = \"\"\n",
    "\n",
    "for i in my_string:\n",
    "    s = i + s\n",
    "    \n",
    "print(\"reversed string  is :\",s)\n",
    "\n"
   ]
  },
  {
   "cell_type": "markdown",
   "id": "661cef7d",
   "metadata": {},
   "source": [
    "# using while loop"
   ]
  },
  {
   "cell_type": "code",
   "execution_count": 3,
   "id": "f6ee6b18",
   "metadata": {},
   "outputs": [
    {
     "name": "stdout",
     "output_type": "stream",
     "text": [
      "The reverse string using while loop is : emoclew\n"
     ]
    }
   ],
   "source": [
    "str1 = \"welcome\"\n",
    "\n",
    "reverse_String = \"\"\n",
    "count = len(str1)\n",
    "\n",
    "while count > 0 :\n",
    "    \n",
    "    reverse_String += str1[count-1]\n",
    "    count = count - 1\n",
    "    \n",
    "print(\"The reverse string using while loop is :\",reverse_String)"
   ]
  },
  {
   "cell_type": "code",
   "execution_count": null,
   "id": "4d48bd56",
   "metadata": {},
   "outputs": [],
   "source": []
  },
  {
   "cell_type": "code",
   "execution_count": null,
   "id": "2bfe2faf",
   "metadata": {},
   "outputs": [],
   "source": []
  },
  {
   "cell_type": "code",
   "execution_count": null,
   "id": "562a00b0",
   "metadata": {},
   "outputs": [],
   "source": []
  },
  {
   "cell_type": "code",
   "execution_count": 32,
   "id": "56b025ef",
   "metadata": {},
   "outputs": [
    {
     "name": "stdout",
     "output_type": "stream",
     "text": [
      "Enter the string: 123456\n",
      "The reverse string is  654321\n"
     ]
    }
   ],
   "source": [
    "# function \n",
    "\n",
    "def FindReverse(string):\n",
    "    \n",
    "    reverse = \"\"\n",
    "    \n",
    "    for i in range(len(string)-1,-1,-1):\n",
    "        reverse += string[i]\n",
    "    return reverse\n",
    "\n",
    "string = input(\"Enter the string: \")\n",
    "reverse = FindReverse(string)\n",
    "print(\"The reverse string is \",reverse)\n"
   ]
  },
  {
   "cell_type": "code",
   "execution_count": null,
   "id": "466f3fed",
   "metadata": {},
   "outputs": [],
   "source": []
  },
  {
   "cell_type": "code",
   "execution_count": 39,
   "id": "12f9e3c1",
   "metadata": {},
   "outputs": [
    {
     "name": "stdout",
     "output_type": "stream",
     "text": [
      "Enter the string :weivretni\n",
      "The reverse string is : Interview\n"
     ]
    }
   ],
   "source": [
    "def FindRev(string):\n",
    "    reverse = \"\"\n",
    "    \n",
    "    for i in range(len(string)-1,-1,-1):\n",
    "        reverse += string[i]\n",
    "        \n",
    "    return reverse\n",
    "\n",
    "string = input(\"Enter the string :\")\n",
    "reverse = FindReverse(string)\n",
    "print(\"The reverse string is :\",reverse.title()) # any using string method"
   ]
  },
  {
   "cell_type": "code",
   "execution_count": null,
   "id": "3834c758",
   "metadata": {},
   "outputs": [],
   "source": []
  },
  {
   "cell_type": "markdown",
   "id": "f83ea630",
   "metadata": {},
   "source": [
    "# Using list comprehension and join()"
   ]
  },
  {
   "cell_type": "code",
   "execution_count": 15,
   "id": "a6222834",
   "metadata": {},
   "outputs": [
    {
     "name": "stdout",
     "output_type": "stream",
     "text": [
      "emoC leW\n"
     ]
    }
   ],
   "source": [
    "s = \"Wel Come\"\n",
    "\n",
    "rev = \"\".join([s[i] for i in range(len(s)-1,-1,-1)])\n",
    "print(rev)\n",
    "               "
   ]
  },
  {
   "cell_type": "code",
   "execution_count": 17,
   "id": "4b8b8c74",
   "metadata": {},
   "outputs": [
    {
     "name": "stdout",
     "output_type": "stream",
     "text": [
      "!dlroW olleH\n"
     ]
    }
   ],
   "source": [
    "s1 = \"Hello World!\"\n",
    "\n",
    "rev = ''.join([s1[i] for i in range(len(s1)-1,-1,-1)])\n",
    "print(rev)"
   ]
  },
  {
   "cell_type": "code",
   "execution_count": null,
   "id": "68e6c548",
   "metadata": {},
   "outputs": [],
   "source": []
  },
  {
   "cell_type": "markdown",
   "id": "6d5342a2",
   "metadata": {},
   "source": [
    "# Using stack"
   ]
  },
  {
   "cell_type": "code",
   "execution_count": 40,
   "id": "e0acbfbd",
   "metadata": {},
   "outputs": [
    {
     "name": "stdout",
     "output_type": "stream",
     "text": [
      "Interview\n"
     ]
    }
   ],
   "source": [
    "s = \"weivretnI\"\n",
    "\n",
    "# Convert the string into a list to use it as a stack\n",
    "\n",
    "stack = list(s)\n",
    "\n",
    "# Initialize an empty string to hold the reversed\n",
    "\n",
    "rev = \"\"\n",
    "\n",
    "# Continue looping until the stack is empty\n",
    "\n",
    "while stack:\n",
    "    \n",
    "    \n",
    "    # Remove the top element from the stack \n",
    "    # and add it to the reversed string\n",
    "    \n",
    "    rev += stack.pop()\n",
    "    \n",
    "print(rev)\n"
   ]
  },
  {
   "cell_type": "code",
   "execution_count": 21,
   "id": "f01b37b1",
   "metadata": {},
   "outputs": [
    {
     "name": "stdout",
     "output_type": "stream",
     "text": [
      "patarp\n"
     ]
    }
   ],
   "source": [
    "str1 = \"pratap\"\n",
    "\n",
    "stack = list(str1)\n",
    "\n",
    "rev = \"\"\n",
    "\n",
    "while stack:\n",
    "    \n",
    "    rev += stack.pop()\n",
    "    \n",
    "print(rev)"
   ]
  },
  {
   "cell_type": "markdown",
   "id": "f8e6ab67",
   "metadata": {},
   "source": [
    "# palindrom in Python"
   ]
  },
  {
   "cell_type": "code",
   "execution_count": 48,
   "id": "4322835a",
   "metadata": {},
   "outputs": [
    {
     "name": "stdout",
     "output_type": "stream",
     "text": [
      "Enter the string: malayalam\n",
      "malayalam is a Palindrome\n"
     ]
    }
   ],
   "source": [
    "# Python program to check if string is Palindrome\n",
    "\n",
    "# take inputs\n",
    "string = input('Enter the string: ')\n",
    "\n",
    "# find reverse of string\n",
    "\n",
    "i = string\n",
    "reverse = \"\"\n",
    "while(len(i) > 0):\n",
    "    if(len(i) > 0):\n",
    "        a = i[-1]\n",
    "        i = i[:-1]\n",
    "        reverse += a\n",
    "\n",
    "# compare reverse to original string\n",
    "\n",
    "if(reverse == string):\n",
    "    print(string,'is a Palindrome')\n",
    "else:\n",
    "    print(string,'is not a Palindrome')"
   ]
  },
  {
   "cell_type": "markdown",
   "id": "9a2e28f1",
   "metadata": {},
   "source": [
    "# Python Program to Reverse a Number"
   ]
  },
  {
   "cell_type": "code",
   "execution_count": 47,
   "id": "815181fa",
   "metadata": {},
   "outputs": [
    {
     "ename": "TypeError",
     "evalue": "'str' object is not callable",
     "output_type": "error",
     "traceback": [
      "\u001b[1;31m---------------------------------------------------------------------------\u001b[0m",
      "\u001b[1;31mTypeError\u001b[0m                                 Traceback (most recent call last)",
      "Cell \u001b[1;32mIn[47], line 13\u001b[0m\n\u001b[0;32m     10\u001b[0m     reversed_num \u001b[38;5;241m=\u001b[39m reversed_num \u001b[38;5;241m*\u001b[39m\u001b[38;5;241m10\u001b[39m \u001b[38;5;241m+\u001b[39m digit\n\u001b[0;32m     11\u001b[0m     num \u001b[38;5;241m/\u001b[39m\u001b[38;5;241m/\u001b[39m\u001b[38;5;241m=\u001b[39m \u001b[38;5;241m10\u001b[39m\n\u001b[1;32m---> 13\u001b[0m \u001b[38;5;28mprint\u001b[39m(\u001b[38;5;124m\"\u001b[39m\u001b[38;5;124mReversed NUmber: \u001b[39m\u001b[38;5;124m\"\u001b[39m \u001b[38;5;241m+\u001b[39m \u001b[38;5;28;43mstr\u001b[39;49m\u001b[43m(\u001b[49m\u001b[43mreversed_num\u001b[49m\u001b[43m)\u001b[49m)\n",
      "\u001b[1;31mTypeError\u001b[0m: 'str' object is not callable"
     ]
    }
   ],
   "source": [
    "# Reverse a Number using a while loop\n",
    "\n",
    "\n",
    "num = 12345\n",
    "\n",
    "reversed_num = 0 \n",
    "\n",
    "while num != 0:\n",
    "    digit = num % 10\n",
    "    reversed_num = reversed_num *10 + digit\n",
    "    num //= 10\n",
    "    \n",
    "print(\"Reversed NUmber: \" + str(reversed_num))"
   ]
  },
  {
   "cell_type": "code",
   "execution_count": 27,
   "id": "cda429b1",
   "metadata": {},
   "outputs": [
    {
     "name": "stdout",
     "output_type": "stream",
     "text": [
      "123456789\n",
      "987654321\n"
     ]
    }
   ],
   "source": [
    "# Using String slicing\n",
    "\n",
    "num = 123456789\n",
    "a = str(num)\n",
    "print(a)\n",
    "\n",
    "print(a[::-1])"
   ]
  },
  {
   "cell_type": "code",
   "execution_count": 17,
   "id": "35b1436c",
   "metadata": {},
   "outputs": [
    {
     "name": "stdout",
     "output_type": "stream",
     "text": [
      "4321\n"
     ]
    }
   ],
   "source": [
    "n = 1234\n",
    "\n",
    "rev = str(n)\n",
    "print(rev[::-1])"
   ]
  },
  {
   "cell_type": "code",
   "execution_count": 21,
   "id": "e0ea092a",
   "metadata": {},
   "outputs": [
    {
     "data": {
      "text/plain": [
       "1234"
      ]
     },
     "execution_count": 21,
     "metadata": {},
     "output_type": "execute_result"
    }
   ],
   "source": [
    "# using function\n",
    "\n",
    "def reverse_number(n):\n",
    "    n_str = str(n)\n",
    "    reversed_number = int(n_str[::-1])\n",
    "    return reversed_number\n",
    "\n",
    "reverse_number(4321)"
   ]
  },
  {
   "cell_type": "code",
   "execution_count": null,
   "id": "57e3b745",
   "metadata": {},
   "outputs": [],
   "source": []
  }
 ],
 "metadata": {
  "kernelspec": {
   "display_name": "Python 3 (ipykernel)",
   "language": "python",
   "name": "python3"
  },
  "language_info": {
   "codemirror_mode": {
    "name": "ipython",
    "version": 3
   },
   "file_extension": ".py",
   "mimetype": "text/x-python",
   "name": "python",
   "nbconvert_exporter": "python",
   "pygments_lexer": "ipython3",
   "version": "3.10.9"
  }
 },
 "nbformat": 4,
 "nbformat_minor": 5
}
