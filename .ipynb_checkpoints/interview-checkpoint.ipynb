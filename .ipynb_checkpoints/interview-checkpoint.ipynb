{
 "cells": [
  {
   "cell_type": "code",
   "execution_count": 1,
   "id": "b958842e",
   "metadata": {},
   "outputs": [
    {
     "name": "stdout",
     "output_type": "stream",
     "text": [
      "['a', 'b', 'c']\n"
     ]
    }
   ],
   "source": [
    "# How to Remove Duplicates From a Python List\n",
    "\n",
    "\n",
    "# Remove any duplicates from a List:\n",
    "\n",
    "\n",
    "mylist = [\"a\",\"b\",\"a\",\"c\",\"c\"]\n",
    "\n",
    "mylist = list(dict.fromkeys(mylist))\n",
    "print(mylist)"
   ]
  },
  {
   "cell_type": "code",
   "execution_count": 2,
   "id": "0d7c4933",
   "metadata": {},
   "outputs": [
    {
     "name": "stdout",
     "output_type": "stream",
     "text": [
      "['apple', 'Banana', 'cherry']\n"
     ]
    }
   ],
   "source": [
    "l1 = [\"apple\",\"Banana\",\"apple\",\"cherry\",\"Banana\",\"cherry\"]\n",
    "l1 = list(dict.fromkeys(l1))\n",
    "print(l1)"
   ]
  },
  {
   "cell_type": "code",
   "execution_count": 3,
   "id": "ad803c8d",
   "metadata": {},
   "outputs": [
    {
     "name": "stdout",
     "output_type": "stream",
     "text": [
      "['apple', 'Banana', 'cherry']\n"
     ]
    }
   ],
   "source": [
    "# create a function\n",
    "\n",
    "def my_function(x):\n",
    "    return list(dict.fromkeys(x))\n",
    "\n",
    "l1 = my_function([\"apple\",\"Banana\",\"apple\",\"cherry\",\"Banana\",\"cherry\"])\n",
    "print(l1)"
   ]
  },
  {
   "cell_type": "code",
   "execution_count": null,
   "id": "e7fd39c2",
   "metadata": {},
   "outputs": [],
   "source": []
  },
  {
   "cell_type": "code",
   "execution_count": null,
   "id": "611ae759",
   "metadata": {},
   "outputs": [],
   "source": []
  },
  {
   "cell_type": "markdown",
   "id": "ab9d054b",
   "metadata": {},
   "source": [
    "# How to Reverse a String in Python"
   ]
  },
  {
   "cell_type": "code",
   "execution_count": 4,
   "id": "4f64c852",
   "metadata": {},
   "outputs": [
    {
     "name": "stdout",
     "output_type": "stream",
     "text": [
      "!dlroW olleH\n"
     ]
    }
   ],
   "source": [
    "# using  string slicing \n",
    "\n",
    "txt = \"Hello World!\"\n",
    "print(txt[::-1])"
   ]
  },
  {
   "cell_type": "code",
   "execution_count": 5,
   "id": "9e0a4a70",
   "metadata": {},
   "outputs": [
    {
     "name": "stdout",
     "output_type": "stream",
     "text": [
      "uoy era woH , olleh\n"
     ]
    }
   ],
   "source": [
    "# creating a function \n",
    "\n",
    "def reverse_string(x):\n",
    "    \n",
    "    return x[::-1]\n",
    "\n",
    "mytxt = reverse_string(\"hello , How are you\")\n",
    "print(mytxt)"
   ]
  },
  {
   "cell_type": "markdown",
   "id": "a8d55aee",
   "metadata": {},
   "source": [
    "# Using reversed() and join()\n",
    "\n"
   ]
  },
  {
   "cell_type": "code",
   "execution_count": 7,
   "id": "2650cd80",
   "metadata": {},
   "outputs": [
    {
     "name": "stdout",
     "output_type": "stream",
     "text": [
      "dlroW olleH\n"
     ]
    }
   ],
   "source": [
    "s = \"Hello World\"\n",
    "rev = \"\".join(reversed(s))\n",
    "print(rev)"
   ]
  },
  {
   "cell_type": "code",
   "execution_count": 8,
   "id": "af3f1668",
   "metadata": {},
   "outputs": [
    {
     "name": "stdout",
     "output_type": "stream",
     "text": [
      "python\n"
     ]
    }
   ],
   "source": [
    "str1 = \"nohtyp\"\n",
    "rev = \"\".join(reversed(str1))\n",
    "print(rev)"
   ]
  },
  {
   "cell_type": "markdown",
   "id": "f0e31c87",
   "metadata": {},
   "source": [
    "# Using a Loop"
   ]
  },
  {
   "cell_type": "code",
   "execution_count": 9,
   "id": "7af9f376",
   "metadata": {},
   "outputs": [
    {
     "name": "stdout",
     "output_type": "stream",
     "text": [
      "NOHTYP\n"
     ]
    }
   ],
   "source": [
    "s = \"PYTHON\"\n",
    "\n",
    "rev = \"\"\n",
    "\n",
    "for i in s:\n",
    "    \n",
    "    rev = i + rev\n",
    "print(rev)"
   ]
  },
  {
   "cell_type": "code",
   "execution_count": 10,
   "id": "87b09e6c",
   "metadata": {},
   "outputs": [
    {
     "name": "stdout",
     "output_type": "stream",
     "text": [
      "edoC nohtyP ot ,emocleW\n"
     ]
    }
   ],
   "source": [
    "str1 = \"Welcome, to Python Code\"\n",
    "\n",
    "rev = \"\"   # Initialize an empty string to hold reversed result\n",
    "\n",
    "for i in str1: # Loop through each character in original string\n",
    "    \n",
    "    rev = i + rev # Add current character to front of reversed string\n",
    "    \n",
    "print(rev)"
   ]
  },
  {
   "cell_type": "markdown",
   "id": "e810b616",
   "metadata": {},
   "source": [
    "# Using list comprehension and join()"
   ]
  },
  {
   "cell_type": "code",
   "execution_count": 15,
   "id": "16afbd26",
   "metadata": {},
   "outputs": [
    {
     "name": "stdout",
     "output_type": "stream",
     "text": [
      "emoC leW\n"
     ]
    }
   ],
   "source": [
    "s = \"Wel Come\"\n",
    "\n",
    "rev = \"\".join([s[i] for i in range(len(s)-1,-1,-1)])\n",
    "print(rev)\n",
    "               "
   ]
  },
  {
   "cell_type": "code",
   "execution_count": 17,
   "id": "282b2468",
   "metadata": {},
   "outputs": [
    {
     "name": "stdout",
     "output_type": "stream",
     "text": [
      "!dlroW olleH\n"
     ]
    }
   ],
   "source": [
    "s1 = \"Hello World!\"\n",
    "\n",
    "rev = ''.join([s1[i] for i in range(len(s1)-1,-1,-1)])\n",
    "print(rev)"
   ]
  },
  {
   "cell_type": "code",
   "execution_count": null,
   "id": "d9b43b16",
   "metadata": {},
   "outputs": [],
   "source": []
  },
  {
   "cell_type": "markdown",
   "id": "6a13cc4c",
   "metadata": {},
   "source": [
    "# Using stack"
   ]
  },
  {
   "cell_type": "code",
   "execution_count": null,
   "id": "fea6a6ee",
   "metadata": {},
   "outputs": [],
   "source": []
  }
 ],
 "metadata": {
  "kernelspec": {
   "display_name": "Python 3 (ipykernel)",
   "language": "python",
   "name": "python3"
  },
  "language_info": {
   "codemirror_mode": {
    "name": "ipython",
    "version": 3
   },
   "file_extension": ".py",
   "mimetype": "text/x-python",
   "name": "python",
   "nbconvert_exporter": "python",
   "pygments_lexer": "ipython3",
   "version": "3.10.9"
  }
 },
 "nbformat": 4,
 "nbformat_minor": 5
}
