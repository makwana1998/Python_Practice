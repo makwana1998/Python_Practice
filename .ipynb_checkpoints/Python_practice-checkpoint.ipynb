{
 "cells": [
  {
   "cell_type": "code",
   "execution_count": 1,
   "id": "e2310cd8",
   "metadata": {},
   "outputs": [
    {
     "name": "stdout",
     "output_type": "stream",
     "text": [
      "3.10.9 | packaged by Anaconda, Inc. | (main, Mar  1 2023, 18:18:15) [MSC v.1916 64 bit (AMD64)]\n"
     ]
    }
   ],
   "source": [
    "import sys\n",
    "print(sys.version)"
   ]
  },
  {
   "cell_type": "code",
   "execution_count": 2,
   "id": "072cd476",
   "metadata": {},
   "outputs": [],
   "source": [
    "# Python comments"
   ]
  },
  {
   "cell_type": "code",
   "execution_count": 3,
   "id": "822eb0a9",
   "metadata": {},
   "outputs": [
    {
     "name": "stdout",
     "output_type": "stream",
     "text": [
      "27\n",
      "hello\n"
     ]
    }
   ],
   "source": [
    "# add tha two number\n",
    "print(5+22)\n",
    "# this is comments\n",
    "print('hello')"
   ]
  },
  {
   "cell_type": "code",
   "execution_count": 4,
   "id": "e9b20599",
   "metadata": {},
   "outputs": [
    {
     "name": "stdout",
     "output_type": "stream",
     "text": [
      "hii .. Python!\n"
     ]
    }
   ],
   "source": [
    "# print(\"hello Python\")\n",
    "print(\"hii .. Python!\")"
   ]
  },
  {
   "cell_type": "code",
   "execution_count": 5,
   "id": "1a009673",
   "metadata": {},
   "outputs": [
    {
     "name": "stdout",
     "output_type": "stream",
     "text": [
      "Python\n"
     ]
    }
   ],
   "source": [
    "# Multiline comments in Python\n",
    "\n",
    "# this is comments\n",
    "# hello \n",
    "# more line\n",
    "print('Python')"
   ]
  },
  {
   "cell_type": "code",
   "execution_count": 6,
   "id": "f2494dbd",
   "metadata": {},
   "outputs": [
    {
     "name": "stdout",
     "output_type": "stream",
     "text": [
      "hii..\n"
     ]
    }
   ],
   "source": [
    "''' hello \n",
    "How are you\n",
    "    welcome\n",
    "'''      #this is comments \n",
    "print('hii..')"
   ]
  },
  {
   "cell_type": "markdown",
   "id": "29aa5982",
   "metadata": {},
   "source": [
    "# Python Variables"
   ]
  },
  {
   "cell_type": "markdown",
   "id": "e0dcb688",
   "metadata": {},
   "source": [
    "#  Variables are containers for storing data values."
   ]
  },
  {
   "cell_type": "code",
   "execution_count": 9,
   "id": "eac287d7",
   "metadata": {},
   "outputs": [
    {
     "name": "stdout",
     "output_type": "stream",
     "text": [
      "5\n",
      "Python\n"
     ]
    }
   ],
   "source": [
    "x = 5  #int\n",
    "y = 'Python' #str\n",
    "\n",
    "print(x)\n",
    "print(y)"
   ]
  },
  {
   "cell_type": "code",
   "execution_count": 10,
   "id": "de8598fd",
   "metadata": {},
   "outputs": [],
   "source": [
    "# Python Casting"
   ]
  },
  {
   "cell_type": "code",
   "execution_count": 11,
   "id": "f9b5c8ce",
   "metadata": {},
   "outputs": [
    {
     "name": "stdout",
     "output_type": "stream",
     "text": [
      "5\n",
      "5\n",
      "5.0\n"
     ]
    }
   ],
   "source": [
    "x = str(5)\n",
    "print(x)\n",
    "y = int(5)\n",
    "print(y)\n",
    "z = float(5)\n",
    "print(z)"
   ]
  },
  {
   "cell_type": "code",
   "execution_count": 12,
   "id": "2ec25463",
   "metadata": {},
   "outputs": [
    {
     "name": "stdout",
     "output_type": "stream",
     "text": [
      "<class 'int'>\n",
      "<class 'str'>\n",
      "<class 'bool'>\n",
      "<class 'float'>\n"
     ]
    }
   ],
   "source": [
    "# Using type() function\n",
    "\n",
    "x = 10\n",
    "print(type(x))\n",
    "\n",
    "y = \"Python\"\n",
    "print(type(y))\n",
    "\n",
    "a = True\n",
    "print(type(a))\n",
    "\n",
    "b = 3.14\n",
    "print(type(b))"
   ]
  },
  {
   "cell_type": "code",
   "execution_count": 13,
   "id": "b58464f7",
   "metadata": {},
   "outputs": [
    {
     "name": "stdout",
     "output_type": "stream",
     "text": [
      "Python\n"
     ]
    }
   ],
   "source": [
    "# x = \"Python\"\n",
    "x = 'Python'\n",
    "print(x)"
   ]
  },
  {
   "cell_type": "code",
   "execution_count": 14,
   "id": "e64fcdc7",
   "metadata": {},
   "outputs": [],
   "source": [
    "#  Python is Case Sensitive "
   ]
  },
  {
   "cell_type": "code",
   "execution_count": 15,
   "id": "c50c2113",
   "metadata": {},
   "outputs": [
    {
     "name": "stdout",
     "output_type": "stream",
     "text": [
      "2303675269488\n",
      "2303680530224\n"
     ]
    }
   ],
   "source": [
    "a = 5\n",
    "A = \"Python\"\n",
    "print(id(a))\n",
    "print(id(A))"
   ]
  },
  {
   "cell_type": "code",
   "execution_count": 16,
   "id": "39fd811c",
   "metadata": {},
   "outputs": [
    {
     "name": "stdout",
     "output_type": "stream",
     "text": [
      "Python\n"
     ]
    }
   ],
   "source": [
    "# var = 'Python'\n",
    "# my_var='Python'\n",
    "_='Python' \n",
    "print(_)\n"
   ]
  },
  {
   "cell_type": "code",
   "execution_count": 17,
   "id": "19e4a661",
   "metadata": {},
   "outputs": [
    {
     "name": "stdout",
     "output_type": "stream",
     "text": [
      "Python\n",
      "50\n",
      "AI\n"
     ]
    }
   ],
   "source": [
    "# Python multiple  variables  \n",
    "\n",
    "a,b,c = \"Python\",50,\"AI\"\n",
    "print(a)\n",
    "print(b)\n",
    "print(c)\n"
   ]
  },
  {
   "cell_type": "code",
   "execution_count": 18,
   "id": "8608370e",
   "metadata": {},
   "outputs": [
    {
     "name": "stdout",
     "output_type": "stream",
     "text": [
      "2303680530224\n",
      "2303680530224\n",
      "2303680530224\n",
      "Python\n"
     ]
    }
   ],
   "source": [
    "x = y = z = \"Python\"\n",
    "print(id(x))\n",
    "print(id(y))\n",
    "print(id(z))\n",
    "print(z)"
   ]
  },
  {
   "cell_type": "code",
   "execution_count": 19,
   "id": "78188161",
   "metadata": {},
   "outputs": [],
   "source": [
    "# Python in Unpack a Collection"
   ]
  },
  {
   "cell_type": "code",
   "execution_count": 20,
   "id": "7c6ce9e2",
   "metadata": {},
   "outputs": [
    {
     "name": "stdout",
     "output_type": "stream",
     "text": [
      "Python\n",
      "ML\n",
      "AI\n"
     ]
    }
   ],
   "source": [
    "l1 = [\"Python\",\"ML\",\"AI\"]\n",
    "x,y,z=l1\n",
    "print(x)\n",
    "print(y)\n",
    "print(z)"
   ]
  },
  {
   "cell_type": "code",
   "execution_count": 21,
   "id": "1cdda089",
   "metadata": {},
   "outputs": [],
   "source": [
    "# Python - Global Variables"
   ]
  },
  {
   "cell_type": "markdown",
   "id": "e1af7857",
   "metadata": {},
   "source": [
    "Variables that are created outside of a function (as in all of the examples in the previous pages) are known as global variables.\n",
    "\n",
    "Global variables can be used by everyone, both inside of functions and outside."
   ]
  },
  {
   "cell_type": "code",
   "execution_count": 40,
   "id": "bed8e144",
   "metadata": {},
   "outputs": [
    {
     "name": "stdout",
     "output_type": "stream",
     "text": [
      "Best language is Python\n",
      "Python\n"
     ]
    }
   ],
   "source": [
    "x = \"Python\"\n",
    "\n",
    "def myfunc():\n",
    "    print(\"Best language is \" + x)\n",
    "    \n",
    "myfunc()\n",
    "print(x)"
   ]
  },
  {
   "cell_type": "code",
   "execution_count": 41,
   "id": "4ecfdc61",
   "metadata": {},
   "outputs": [
    {
     "name": "stdout",
     "output_type": "stream",
     "text": [
      "Python is Fantastic\n",
      "Python is awesome\n"
     ]
    }
   ],
   "source": [
    "x = \"awesome\"\n",
    "\n",
    "def myfunc():\n",
    "    x = \"Fantastic\"\n",
    "    \n",
    "    print(\"Python is \" + x)\n",
    "    \n",
    "myfunc()\n",
    "\n",
    "print(\"Python is \" + x)"
   ]
  },
  {
   "cell_type": "code",
   "execution_count": 42,
   "id": "440345a5",
   "metadata": {},
   "outputs": [],
   "source": [
    "# The global Keyword in Python"
   ]
  },
  {
   "cell_type": "code",
   "execution_count": 43,
   "id": "25535b8c",
   "metadata": {},
   "outputs": [
    {
     "name": "stdout",
     "output_type": "stream",
     "text": [
      "Python is Fantastic\n"
     ]
    }
   ],
   "source": [
    "def myfunc():\n",
    "    global x\n",
    "    x = \"Fantastic\"\n",
    "    \n",
    "myfunc()\n",
    "\n",
    "print(\"Python is \" + x)"
   ]
  },
  {
   "cell_type": "code",
   "execution_count": 44,
   "id": "13efd11b",
   "metadata": {},
   "outputs": [
    {
     "name": "stdout",
     "output_type": "stream",
     "text": [
      "25\n"
     ]
    }
   ],
   "source": [
    "# Accessing global Variable From Inside a Function\n",
    "\n",
    "# global variable\n",
    "\n",
    "a = 10\n",
    "b = 15\n",
    "\n",
    "# function to perform add\n",
    "\n",
    "def add():\n",
    "    c = a+b\n",
    "    print(c)\n",
    "    \n",
    "add()"
   ]
  },
  {
   "cell_type": "code",
   "execution_count": 45,
   "id": "59276689",
   "metadata": {},
   "outputs": [
    {
     "ename": "UnboundLocalError",
     "evalue": "local variable 'a' referenced before assignment",
     "output_type": "error",
     "traceback": [
      "\u001b[1;31m---------------------------------------------------------------------------\u001b[0m",
      "\u001b[1;31mUnboundLocalError\u001b[0m                         Traceback (most recent call last)",
      "Cell \u001b[1;32mIn[45], line 12\u001b[0m\n\u001b[0;32m      9\u001b[0m     a\u001b[38;5;241m=\u001b[39mb\n\u001b[0;32m     10\u001b[0m     \u001b[38;5;28mprint\u001b[39m(b)\n\u001b[1;32m---> 12\u001b[0m \u001b[43mchange\u001b[49m\u001b[43m(\u001b[49m\u001b[43m)\u001b[49m\n",
      "Cell \u001b[1;32mIn[45], line 8\u001b[0m, in \u001b[0;36mchange\u001b[1;34m()\u001b[0m\n\u001b[0;32m      7\u001b[0m \u001b[38;5;28;01mdef\u001b[39;00m \u001b[38;5;21mchange\u001b[39m():\n\u001b[1;32m----> 8\u001b[0m     b \u001b[38;5;241m=\u001b[39m \u001b[43ma\u001b[49m \u001b[38;5;241m+\u001b[39m \u001b[38;5;241m5\u001b[39m\n\u001b[0;32m      9\u001b[0m     a\u001b[38;5;241m=\u001b[39mb\n\u001b[0;32m     10\u001b[0m     \u001b[38;5;28mprint\u001b[39m(b)\n",
      "\u001b[1;31mUnboundLocalError\u001b[0m: local variable 'a' referenced before assignment"
     ]
    }
   ],
   "source": [
    "# Modifying Global Variable From Inside the Function\n",
    "\n",
    "a = 15\n",
    "\n",
    "# funtion to change a global value\n",
    "\n",
    "def change():\n",
    "    b = a + 5\n",
    "    a=b\n",
    "    print(b)\n",
    "    \n",
    "change()"
   ]
  },
  {
   "cell_type": "code",
   "execution_count": 46,
   "id": "3dd1e83c",
   "metadata": {},
   "outputs": [
    {
     "name": "stdout",
     "output_type": "stream",
     "text": [
      "Value of x inside a function : 20\n",
      "Value of x outside a function : 20\n"
     ]
    }
   ],
   "source": [
    "#  Changing Global Variable From Inside a Function using global\n",
    "\n",
    "x = 15\n",
    "\n",
    "\n",
    "def change():\n",
    "# using a global keyword\n",
    "    global x\n",
    "\n",
    "    # increment value of a by 5\n",
    "    x = x + 5\n",
    "    print(\"Value of x inside a function :\", x)\n",
    "\n",
    "\n",
    "change()\n",
    "print(\"Value of x outside a function :\", x)\n"
   ]
  },
  {
   "cell_type": "code",
   "execution_count": 47,
   "id": "00f4a87d",
   "metadata": {},
   "outputs": [
    {
     "name": "stdout",
     "output_type": "stream",
     "text": [
      "Python is awesome\n"
     ]
    }
   ],
   "source": [
    "# exercise global keyword\n",
    "\n",
    "x = \"awesome\"\n",
    "\n",
    "def myfunc():\n",
    "    x = \"fantastic\"\n",
    "myfunc()\n",
    "print(\"Python is \" + x)"
   ]
  },
  {
   "cell_type": "code",
   "execution_count": 48,
   "id": "21046410",
   "metadata": {},
   "outputs": [
    {
     "name": "stdout",
     "output_type": "stream",
     "text": [
      "Python is  Fantastic\n"
     ]
    }
   ],
   "source": [
    "# exercise\n",
    "\n",
    "x = \"awesome\"\n",
    "\n",
    "def myfunc():\n",
    "    global x \n",
    "    \n",
    "    x = \"Fantastic\"\n",
    "myfunc()\n",
    "print(\"Python is  \" + x)"
   ]
  },
  {
   "cell_type": "code",
   "execution_count": 49,
   "id": "7f1401d5",
   "metadata": {},
   "outputs": [],
   "source": [
    "# Python Data-Types"
   ]
  },
  {
   "cell_type": "code",
   "execution_count": 50,
   "id": "5812a8c4",
   "metadata": {},
   "outputs": [],
   "source": [
    "# Text Type:\tstr\n",
    "# Numeric Types:\tint, float, complex\n",
    "# Sequence Types:\tlist, tuple, range\n",
    "# Mapping Type:\tdict\n",
    "# Set Types:\tset, frozenset\n",
    "# Boolean Type:\tbool\n",
    "# Binary Types:\tbytes, bytearray, memoryview\n",
    "# None Type:\tNoneType"
   ]
  },
  {
   "cell_type": "code",
   "execution_count": 1,
   "id": "9baaa187",
   "metadata": {},
   "outputs": [
    {
     "name": "stdout",
     "output_type": "stream",
     "text": [
      "<class 'str'>\n",
      "<class 'int'>\n",
      "<class 'float'>\n",
      "<class 'bool'>\n",
      "<class 'complex'>\n",
      "<class 'list'>\n",
      "<class 'tuple'>\n",
      "<class 'dict'>\n",
      "<class 'NoneType'>\n"
     ]
    }
   ],
   "source": [
    "x = \"Hello world\"\n",
    "print(type(x))\n",
    "\n",
    "x = 20\n",
    "print(type(x))\n",
    "\n",
    "x = 3.14\n",
    "print(type(x))\n",
    "\n",
    "x = True\n",
    "print(type(x))\n",
    "\n",
    "x = (1+2j)\n",
    "print(type(x))\n",
    "\n",
    "x = [1,'Python',False]\n",
    "print(type(x))\n",
    "\n",
    "x= (1,'Python')\n",
    "print(type(x))\n",
    "\n",
    "x = {1:'one',\n",
    "    2:'two'}\n",
    "print(type(x))\n",
    "\n",
    "x = None\n",
    "print(type(x))\n",
    "\n"
   ]
  },
  {
   "cell_type": "code",
   "execution_count": 2,
   "id": "4f437f21",
   "metadata": {},
   "outputs": [
    {
     "name": "stdout",
     "output_type": "stream",
     "text": [
      "<class 'frozenset'>\n"
     ]
    },
    {
     "data": {
      "text/plain": [
       "frozenset({'Banana', 'apple'})"
      ]
     },
     "execution_count": 2,
     "metadata": {},
     "output_type": "execute_result"
    }
   ],
   "source": [
    "x = frozenset({\"apple\",\"Banana\"})\n",
    "print(type(x))\n",
    "x"
   ]
  },
  {
   "cell_type": "code",
   "execution_count": 53,
   "id": "995f1204",
   "metadata": {},
   "outputs": [
    {
     "name": "stdout",
     "output_type": "stream",
     "text": [
      "<class 'bytes'>\n",
      "<class 'bytes'>\n"
     ]
    }
   ],
   "source": [
    "x = b\"Hello\"\n",
    "print(type(x))\n",
    "x = b'1'\n",
    "print(type(x))"
   ]
  },
  {
   "cell_type": "code",
   "execution_count": 54,
   "id": "d3997379",
   "metadata": {},
   "outputs": [
    {
     "name": "stdout",
     "output_type": "stream",
     "text": [
      "<class 'bytearray'>\n"
     ]
    }
   ],
   "source": [
    "x = bytearray(50)\n",
    "print(type(x))"
   ]
  },
  {
   "cell_type": "code",
   "execution_count": 55,
   "id": "0c42c7ef",
   "metadata": {},
   "outputs": [
    {
     "name": "stdout",
     "output_type": "stream",
     "text": [
      "<class 'memoryview'>\n",
      "<memory at 0x0000021864878880>\n"
     ]
    }
   ],
   "source": [
    "x = memoryview(bytes(5))\n",
    "print(type(x))\n",
    "print(x)"
   ]
  },
  {
   "cell_type": "code",
   "execution_count": 56,
   "id": "568320fa",
   "metadata": {},
   "outputs": [
    {
     "name": "stdout",
     "output_type": "stream",
     "text": [
      "<class 'str'>\n"
     ]
    }
   ],
   "source": [
    "a = str(\"Python\")\n",
    "print(type(a))"
   ]
  },
  {
   "cell_type": "code",
   "execution_count": 57,
   "id": "1ee3a903",
   "metadata": {},
   "outputs": [
    {
     "name": "stdout",
     "output_type": "stream",
     "text": [
      "<class 'complex'>\n",
      "1j\n"
     ]
    }
   ],
   "source": [
    "a = complex(1j)\n",
    "print(type(a))\n",
    "print(a)"
   ]
  },
  {
   "cell_type": "code",
   "execution_count": 58,
   "id": "27fcefc7",
   "metadata": {},
   "outputs": [],
   "source": [
    "#  Python Type Conversion"
   ]
  },
  {
   "cell_type": "code",
   "execution_count": 59,
   "id": "a93a17db",
   "metadata": {},
   "outputs": [
    {
     "name": "stdout",
     "output_type": "stream",
     "text": [
      "1.0\n",
      "3\n",
      "(1+0j)\n",
      "<class 'float'>\n",
      "<class 'int'>\n",
      "<class 'complex'>\n"
     ]
    }
   ],
   "source": [
    "# You cannot convert complex numbers into another number type.\n",
    "\n",
    "x = 1     #int\n",
    "y = 3.14  #float\n",
    "z = 1j    #complex\n",
    "\n",
    "a = float(x)\n",
    "b = int(y)\n",
    "c = complex(x)\n",
    "\n",
    "print(a)\n",
    "print(b)\n",
    "print(c)\n",
    "\n",
    "print(type(a))\n",
    "print(type(b))\n",
    "print(type(c))"
   ]
  },
  {
   "cell_type": "code",
   "execution_count": 60,
   "id": "1fcaa6be",
   "metadata": {},
   "outputs": [
    {
     "name": "stdout",
     "output_type": "stream",
     "text": [
      "5\n",
      "10\n"
     ]
    }
   ],
   "source": [
    "# Python Random Module\n",
    "\n",
    "import random\n",
    "print(random.randrange(1,11))\n",
    "print(random.randint(1,10))"
   ]
  },
  {
   "cell_type": "code",
   "execution_count": 61,
   "id": "84acd539",
   "metadata": {},
   "outputs": [],
   "source": [
    "# Python Random Module"
   ]
  },
  {
   "cell_type": "code",
   "execution_count": 62,
   "id": "1a3e7fce",
   "metadata": {},
   "outputs": [],
   "source": [
    "import random"
   ]
  },
  {
   "cell_type": "code",
   "execution_count": 63,
   "id": "28e51557",
   "metadata": {},
   "outputs": [
    {
     "name": "stdout",
     "output_type": "stream",
     "text": [
      "0.5714025946899135\n"
     ]
    }
   ],
   "source": [
    "random.seed(10)\n",
    "print(random.random())"
   ]
  },
  {
   "cell_type": "code",
   "execution_count": 64,
   "id": "f42824b1",
   "metadata": {},
   "outputs": [
    {
     "name": "stdout",
     "output_type": "stream",
     "text": [
      "0.5714025946899135\n",
      "0.5714025946899135\n"
     ]
    }
   ],
   "source": [
    "import random\n",
    "\n",
    "random.seed(10)\n",
    "print(random.random())\n",
    "\n",
    "random.seed(10)\n",
    "print(random.random())"
   ]
  },
  {
   "cell_type": "code",
   "execution_count": 65,
   "id": "ef87f466",
   "metadata": {},
   "outputs": [
    {
     "name": "stdout",
     "output_type": "stream",
     "text": [
      "0.4288890546751146\n"
     ]
    }
   ],
   "source": [
    "import random\n",
    "\n",
    "print(random.random())"
   ]
  },
  {
   "cell_type": "code",
   "execution_count": null,
   "id": "bc9abbc6",
   "metadata": {},
   "outputs": [],
   "source": []
  },
  {
   "cell_type": "code",
   "execution_count": 66,
   "id": "1c7c837c",
   "metadata": {},
   "outputs": [],
   "source": [
    "# Python Strings"
   ]
  },
  {
   "cell_type": "code",
   "execution_count": 67,
   "id": "0d6ed343",
   "metadata": {},
   "outputs": [
    {
     "name": "stdout",
     "output_type": "stream",
     "text": [
      "Python\n",
      "Python\n"
     ]
    }
   ],
   "source": [
    "print(\"Python\")\n",
    "print('Python')"
   ]
  },
  {
   "cell_type": "code",
   "execution_count": 68,
   "id": "954eb227",
   "metadata": {},
   "outputs": [
    {
     "name": "stdout",
     "output_type": "stream",
     "text": [
      "it's alright\n",
      "he is called 'Jonny'\n",
      "He is called \"P\"\n"
     ]
    }
   ],
   "source": [
    "# Quotes Inside Quotes\n",
    "\n",
    "print(\"it's alright\")\n",
    "print(\"he is called 'Jonny'\")\n",
    "print('He is called \"P\"')"
   ]
  },
  {
   "cell_type": "code",
   "execution_count": 69,
   "id": "d2aa5266",
   "metadata": {},
   "outputs": [
    {
     "name": "stdout",
     "output_type": "stream",
     "text": [
      "l\n",
      "!\n"
     ]
    }
   ],
   "source": [
    "a = \"Hello World!\"\n",
    "print(a[2])\n",
    "print(a[-1])\n",
    "# print(a[5])"
   ]
  },
  {
   "cell_type": "code",
   "execution_count": 532,
   "id": "a5284fb8",
   "metadata": {},
   "outputs": [
    {
     "name": "stdout",
     "output_type": "stream",
     "text": [
      "A\n",
      "p\n",
      "p\n",
      "l\n",
      "e\n"
     ]
    }
   ],
   "source": [
    "for x in \"Apple\":\n",
    "    print(x)"
   ]
  },
  {
   "cell_type": "code",
   "execution_count": 71,
   "id": "4150ffa4",
   "metadata": {},
   "outputs": [
    {
     "name": "stdout",
     "output_type": "stream",
     "text": [
      "14\n"
     ]
    }
   ],
   "source": [
    "# how to find string Length\n",
    "\n",
    "a = \"Hello Everyone\"\n",
    "print(len(a))"
   ]
  },
  {
   "cell_type": "code",
   "execution_count": 72,
   "id": "79f1de56",
   "metadata": {},
   "outputs": [
    {
     "name": "stdout",
     "output_type": "stream",
     "text": [
      "True\n"
     ]
    }
   ],
   "source": [
    "txt = \"The best things in life are free\"\n",
    "print(\"life\" in txt)"
   ]
  },
  {
   "cell_type": "code",
   "execution_count": 73,
   "id": "e0363829",
   "metadata": {},
   "outputs": [
    {
     "data": {
      "text/plain": [
       "True"
      ]
     },
     "execution_count": 73,
     "metadata": {},
     "output_type": "execute_result"
    }
   ],
   "source": [
    "\"are\" in txt"
   ]
  },
  {
   "cell_type": "code",
   "execution_count": 74,
   "id": "79bb486c",
   "metadata": {},
   "outputs": [
    {
     "name": "stdout",
     "output_type": "stream",
     "text": [
      "not presents in txt\n"
     ]
    }
   ],
   "source": [
    "txt = \"The best things in life are free\"\n",
    "\n",
    "if \"bet\" in txt:\n",
    "    print(\"yes, 'best' in presents\")\n",
    "else:\n",
    "    print(\"not presents in txt\")"
   ]
  },
  {
   "cell_type": "code",
   "execution_count": 75,
   "id": "9e077129",
   "metadata": {},
   "outputs": [
    {
     "name": "stdout",
     "output_type": "stream",
     "text": [
      "True\n"
     ]
    }
   ],
   "source": [
    "txt = \"The best things in life are free\"  # NOT IN \n",
    "\n",
    "print(\"all\" not in txt)"
   ]
  },
  {
   "cell_type": "code",
   "execution_count": 76,
   "id": "60814e6e",
   "metadata": {},
   "outputs": [
    {
     "name": "stdout",
     "output_type": "stream",
     "text": [
      "c\n"
     ]
    }
   ],
   "source": [
    "# Exercise\n",
    "x = \"Welcome\"\n",
    "\n",
    "print(x[3])"
   ]
  },
  {
   "cell_type": "code",
   "execution_count": 77,
   "id": "81d1e078",
   "metadata": {},
   "outputs": [],
   "source": [
    "# Python - Slicing Strings"
   ]
  },
  {
   "cell_type": "code",
   "execution_count": 78,
   "id": "88f72baf",
   "metadata": {},
   "outputs": [
    {
     "name": "stdout",
     "output_type": "stream",
     "text": [
      "Hello\n"
     ]
    }
   ],
   "source": [
    "a = \"Hello, World!\"\n",
    "# print(a[2:5])   \n",
    "print(a[:5])  # slice from the start"
   ]
  },
  {
   "cell_type": "code",
   "execution_count": 79,
   "id": "770707bd",
   "metadata": {},
   "outputs": [
    {
     "name": "stdout",
     "output_type": "stream",
     "text": [
      " World!\n"
     ]
    }
   ],
   "source": [
    "b = \"Hello, World!\"\n",
    "print(b[6:])      # slice th the END"
   ]
  },
  {
   "cell_type": "code",
   "execution_count": 80,
   "id": "c9d51430",
   "metadata": {},
   "outputs": [
    {
     "data": {
      "text/plain": [
       "'Hello, World!'"
      ]
     },
     "execution_count": 80,
     "metadata": {},
     "output_type": "execute_result"
    }
   ],
   "source": [
    "# nagative indexing\n",
    "b"
   ]
  },
  {
   "cell_type": "code",
   "execution_count": 81,
   "id": "562799bf",
   "metadata": {},
   "outputs": [
    {
     "name": "stdout",
     "output_type": "stream",
     "text": [
      "!\n"
     ]
    }
   ],
   "source": [
    "print(b[-1])"
   ]
  },
  {
   "cell_type": "code",
   "execution_count": 82,
   "id": "426ddb0a",
   "metadata": {},
   "outputs": [
    {
     "name": "stdout",
     "output_type": "stream",
     "text": [
      "orl\n"
     ]
    }
   ],
   "source": [
    "print(b[-5:-2])"
   ]
  },
  {
   "cell_type": "code",
   "execution_count": 83,
   "id": "00c27dca",
   "metadata": {},
   "outputs": [
    {
     "name": "stdout",
     "output_type": "stream",
     "text": [
      "llo, Wor\n"
     ]
    }
   ],
   "source": [
    "print(b[-11:-3])"
   ]
  },
  {
   "cell_type": "code",
   "execution_count": 84,
   "id": "57ac557d",
   "metadata": {},
   "outputs": [
    {
     "data": {
      "text/plain": [
       "'hello, world!'"
      ]
     },
     "execution_count": 84,
     "metadata": {},
     "output_type": "execute_result"
    }
   ],
   "source": [
    "# Python - Modify Strings\n",
    "\n",
    "a = \"Hello, World!\"\n",
    "# a.upper()\n",
    "a.lower()"
   ]
  },
  {
   "cell_type": "code",
   "execution_count": 85,
   "id": "aef70d96",
   "metadata": {
    "scrolled": true
   },
   "outputs": [
    {
     "name": "stdout",
     "output_type": "stream",
     "text": [
      "Hello , World\n",
      " Hello , World\n",
      "Hello , World  \n"
     ]
    }
   ],
   "source": [
    "a = \" Hello , World  \"\n",
    "\n",
    "print(a.strip())\n",
    "print(a.rstrip())\n",
    "print(a.lstrip())"
   ]
  },
  {
   "cell_type": "code",
   "execution_count": 86,
   "id": "a15126e6",
   "metadata": {},
   "outputs": [
    {
     "name": "stdout",
     "output_type": "stream",
     "text": [
      " Hello , World  \n"
     ]
    }
   ],
   "source": [
    "# Replace String\n",
    "print(a)"
   ]
  },
  {
   "cell_type": "code",
   "execution_count": 87,
   "id": "b5036368",
   "metadata": {},
   "outputs": [
    {
     "name": "stdout",
     "output_type": "stream",
     "text": [
      "Pr@t@p , M@kw@n@\n"
     ]
    }
   ],
   "source": [
    "x = \"Pratap , Makwana\"\n",
    "\n",
    "print(x.replace(\"a\",\"@\"))"
   ]
  },
  {
   "cell_type": "code",
   "execution_count": 88,
   "id": "bcbfe7c4",
   "metadata": {},
   "outputs": [
    {
     "name": "stdout",
     "output_type": "stream",
     "text": [
      "PraTap , Makwana\n"
     ]
    }
   ],
   "source": [
    "print(x.replace(\"t\",\"T\"))"
   ]
  },
  {
   "cell_type": "code",
   "execution_count": 89,
   "id": "9547b481",
   "metadata": {},
   "outputs": [
    {
     "name": "stdout",
     "output_type": "stream",
     "text": [
      "Pratap bhai Makwana\n"
     ]
    }
   ],
   "source": [
    "print(x.replace(\",\",\"bhai\"))"
   ]
  },
  {
   "cell_type": "code",
   "execution_count": 90,
   "id": "cc98590c",
   "metadata": {},
   "outputs": [
    {
     "name": "stdout",
     "output_type": "stream",
     "text": [
      "['Python', ',@', 'and', 'AI!']\n"
     ]
    }
   ],
   "source": [
    "x = \"Python ,@  and AI!\"\n",
    "print(x.split())"
   ]
  },
  {
   "cell_type": "code",
   "execution_count": 91,
   "id": "55feeabe",
   "metadata": {},
   "outputs": [
    {
     "data": {
      "text/plain": [
       "['P', 'y', 'th', 'o', 'n']"
      ]
     },
     "execution_count": 91,
     "metadata": {},
     "output_type": "execute_result"
    }
   ],
   "source": [
    "x = \"P y th o n\"\n",
    "x.split()"
   ]
  },
  {
   "cell_type": "code",
   "execution_count": 92,
   "id": "9c3f384e",
   "metadata": {},
   "outputs": [
    {
     "data": {
      "text/plain": [
       "['P y th o n']"
      ]
     },
     "execution_count": 92,
     "metadata": {},
     "output_type": "execute_result"
    }
   ],
   "source": [
    "x.splitlines()"
   ]
  },
  {
   "cell_type": "code",
   "execution_count": 93,
   "id": "6f278a79",
   "metadata": {},
   "outputs": [
    {
     "data": {
      "text/plain": [
       "' Hello , World  '"
      ]
     },
     "execution_count": 93,
     "metadata": {},
     "output_type": "execute_result"
    }
   ],
   "source": [
    "a"
   ]
  },
  {
   "cell_type": "code",
   "execution_count": 94,
   "id": "f003ddf8",
   "metadata": {},
   "outputs": [
    {
     "data": {
      "text/plain": [
       "[' Hello , World  ']"
      ]
     },
     "execution_count": 94,
     "metadata": {},
     "output_type": "execute_result"
    }
   ],
   "source": [
    "a.splitlines()"
   ]
  },
  {
   "cell_type": "code",
   "execution_count": 95,
   "id": "55f1ca4f",
   "metadata": {},
   "outputs": [
    {
     "data": {
      "text/plain": [
       "'P y th o n'"
      ]
     },
     "execution_count": 95,
     "metadata": {},
     "output_type": "execute_result"
    }
   ],
   "source": [
    "x"
   ]
  },
  {
   "cell_type": "code",
   "execution_count": 96,
   "id": "216f52ef",
   "metadata": {},
   "outputs": [
    {
     "name": "stdout",
     "output_type": "stream",
     "text": [
      "['Pyt', 'ho', 'n,ML', '']\n"
     ]
    }
   ],
   "source": [
    "x= \"Pyt!ho!n,ML!\"\n",
    "print(x.split(\"!\"))"
   ]
  },
  {
   "cell_type": "code",
   "execution_count": 97,
   "id": "a6a69b4b",
   "metadata": {},
   "outputs": [],
   "source": [
    "# Python - String Concatenation\n"
   ]
  },
  {
   "cell_type": "code",
   "execution_count": 98,
   "id": "764e0579",
   "metadata": {},
   "outputs": [
    {
     "name": "stdout",
     "output_type": "stream",
     "text": [
      "Hello World\n"
     ]
    }
   ],
   "source": [
    "a = \"Hello \"\n",
    "b = \"World\"\n",
    "x = a+b\n",
    "print(x)"
   ]
  },
  {
   "cell_type": "code",
   "execution_count": 99,
   "id": "988cec8a",
   "metadata": {},
   "outputs": [
    {
     "name": "stdout",
     "output_type": "stream",
     "text": [
      "Hello  World\n"
     ]
    }
   ],
   "source": [
    "a = \"Hello\"\n",
    "b = \"World\"\n",
    "\n",
    "c = a + \"  \" +b\n",
    "print(c)"
   ]
  },
  {
   "cell_type": "code",
   "execution_count": 100,
   "id": "8e60edaa",
   "metadata": {},
   "outputs": [],
   "source": [
    "# F-Strings"
   ]
  },
  {
   "cell_type": "code",
   "execution_count": 101,
   "id": "2f2830d8",
   "metadata": {},
   "outputs": [
    {
     "name": "stdout",
     "output_type": "stream",
     "text": [
      "My name is Jay, I am 27 year old!\n"
     ]
    }
   ],
   "source": [
    "name = \"Jay\"\n",
    "age = 27\n",
    "txt = f\"My name is {name}, I am {age} year old!\"\n",
    "print(txt)"
   ]
  },
  {
   "cell_type": "code",
   "execution_count": 102,
   "id": "a6915ebc",
   "metadata": {},
   "outputs": [
    {
     "name": "stdout",
     "output_type": "stream",
     "text": [
      "The price is 60 dollers($)\n"
     ]
    }
   ],
   "source": [
    "price = 60\n",
    "\n",
    "txt = f\"The price is {price} dollers($)\"\n",
    "print(txt)"
   ]
  },
  {
   "cell_type": "code",
   "execution_count": 103,
   "id": "985775a2",
   "metadata": {},
   "outputs": [
    {
     "name": "stdout",
     "output_type": "stream",
     "text": [
      "The price is 60.00 dollers($)\n"
     ]
    }
   ],
   "source": [
    "price = 60\n",
    "txt = f\"The price is {price:.2f} dollers($)\"\n",
    "print(txt)"
   ]
  },
  {
   "cell_type": "code",
   "execution_count": 104,
   "id": "07f22795",
   "metadata": {},
   "outputs": [
    {
     "name": "stdout",
     "output_type": "stream",
     "text": [
      "The price is 200 dollers\n"
     ]
    }
   ],
   "source": [
    "txt = f\"The price is {20*10} dollers\"\n",
    "print(txt)"
   ]
  },
  {
   "cell_type": "code",
   "execution_count": 105,
   "id": "d0218fde",
   "metadata": {},
   "outputs": [],
   "source": [
    "# Python - Escape Characters"
   ]
  },
  {
   "cell_type": "code",
   "execution_count": 106,
   "id": "4f4cc69e",
   "metadata": {},
   "outputs": [
    {
     "name": "stdout",
     "output_type": "stream",
     "text": [
      "We are the so-called \"Vikings\" from the north.\n"
     ]
    }
   ],
   "source": [
    "txt = \"We are the so-called \\\"Vikings\\\" from the north.\"\n",
    "print(txt)"
   ]
  },
  {
   "cell_type": "code",
   "execution_count": 107,
   "id": "e89a428b",
   "metadata": {},
   "outputs": [
    {
     "name": "stdout",
     "output_type": "stream",
     "text": [
      "Hello Everyone , How \"are\" you .\n"
     ]
    }
   ],
   "source": [
    "txt = \"Hello Everyone , How \\\"are\\\" you .\" #using backslash \\\n",
    "print(txt)"
   ]
  },
  {
   "cell_type": "code",
   "execution_count": 108,
   "id": "d52b4a37",
   "metadata": {},
   "outputs": [
    {
     "name": "stdout",
     "output_type": "stream",
     "text": [
      "It's alright.\n"
     ]
    }
   ],
   "source": [
    "# single quote\n",
    "\n",
    "txt = 'It\\'s alright.'\n",
    "print(txt) \n"
   ]
  },
  {
   "cell_type": "code",
   "execution_count": 109,
   "id": "162b223c",
   "metadata": {},
   "outputs": [
    {
     "name": "stdout",
     "output_type": "stream",
     "text": [
      "This will insert one \\ (backslash).\n"
     ]
    }
   ],
   "source": [
    "# Backslash\n",
    "\n",
    "txt = \"This will insert one \\\\ (backslash).\"\n",
    "print(txt) \n"
   ]
  },
  {
   "cell_type": "code",
   "execution_count": 110,
   "id": "391db68c",
   "metadata": {},
   "outputs": [
    {
     "name": "stdout",
     "output_type": "stream",
     "text": [
      "Hello\n",
      "World!\n"
     ]
    }
   ],
   "source": [
    "# new line\n",
    "\n",
    "txt = \"Hello\\nWorld!\"\n",
    "print(txt) "
   ]
  },
  {
   "cell_type": "code",
   "execution_count": 111,
   "id": "03948d9a",
   "metadata": {},
   "outputs": [
    {
     "name": "stdout",
     "output_type": "stream",
     "text": [
      "Hello\n",
      "Everyone!\n"
     ]
    }
   ],
   "source": [
    "txt = \"Hello\\nEveryone!\"\n",
    "print(txt)"
   ]
  },
  {
   "cell_type": "code",
   "execution_count": 112,
   "id": "3ffce050",
   "metadata": {},
   "outputs": [
    {
     "name": "stdout",
     "output_type": "stream",
     "text": [
      "Hello\r\n",
      "World!\n"
     ]
    }
   ],
   "source": [
    "# Carriage Return\n",
    "\n",
    "txt = \"Hello\\rWorld!\"\n",
    "print(txt) \n"
   ]
  },
  {
   "cell_type": "code",
   "execution_count": 113,
   "id": "95b47e95",
   "metadata": {},
   "outputs": [
    {
     "name": "stdout",
     "output_type": "stream",
     "text": [
      "welcome to\n",
      " \r\n",
      "our office!\n"
     ]
    }
   ],
   "source": [
    "x = \"welcome to\\n \\rour office!\"\n",
    "print(x)"
   ]
  },
  {
   "cell_type": "code",
   "execution_count": 114,
   "id": "6bd3f574",
   "metadata": {},
   "outputs": [
    {
     "name": "stdout",
     "output_type": "stream",
     "text": [
      "Hello\tWorld\n"
     ]
    }
   ],
   "source": [
    "# Tab\n",
    "\n",
    "x = \"Hello\\tWorld\"\n",
    "print(x)"
   ]
  },
  {
   "cell_type": "code",
   "execution_count": 115,
   "id": "f8e60d7d",
   "metadata": {},
   "outputs": [
    {
     "name": "stdout",
     "output_type": "stream",
     "text": [
      "Hello  \bWorld!\n"
     ]
    }
   ],
   "source": [
    "# Backspace\n",
    "\n",
    "txt = \"Hello  \\bWorld!\"\n",
    "print(txt) \n"
   ]
  },
  {
   "cell_type": "code",
   "execution_count": 116,
   "id": "c69610cc",
   "metadata": {},
   "outputs": [
    {
     "name": "stdout",
     "output_type": "stream",
     "text": [
      "Hello\f",
      "\n",
      " world\n"
     ]
    }
   ],
   "source": [
    "# Form Feed\n",
    "txt = \"Hello\\f world\"\n",
    "print(txt)\n"
   ]
  },
  {
   "cell_type": "code",
   "execution_count": 117,
   "id": "7a28a53c",
   "metadata": {},
   "outputs": [
    {
     "name": "stdout",
     "output_type": "stream",
     "text": [
      "Hello\n"
     ]
    }
   ],
   "source": [
    "# octal value\n",
    "\n",
    "txt = \"\\110\\145\\154\\154\\157\"\n",
    "print(txt) \n"
   ]
  },
  {
   "cell_type": "code",
   "execution_count": 118,
   "id": "032485ac",
   "metadata": {},
   "outputs": [],
   "source": [
    "# Python - String Methods"
   ]
  },
  {
   "cell_type": "code",
   "execution_count": 119,
   "id": "3f52d936",
   "metadata": {},
   "outputs": [],
   "source": [
    "txt = \"Hello , World!\"\n",
    "# print(txt.capitalize())\n",
    "# print(txt.casefold())\n",
    "# print(txt.center(1))\n",
    "# print(txt.count('o'))\n",
    "# print(txt.encode())\n",
    "# print(txt.endswith('d!'))\n",
    "# print(txt.expandtabs())\n",
    "# print(txt.find('r'))\n",
    "# print(txt.format())\n",
    "# print(txt.format_map(','))\n",
    "# print(txt.index('o'))\n",
    "# print(txt.isalnum())\n",
    "# print(txt.isalpha())\n",
    "# print(txt.isascii())\n",
    "# print(txt.isdecimal())\n",
    "# print(txt.isdigit())\n",
    "# print(txt.isidentifier())\n",
    "# print(txt.islower())\n",
    "# print(txt.isnumeric())\n",
    "# print(txt.isprintable())\n",
    "# print(id(txt))\n",
    "# print(txt.isspace())\n",
    "# print(txt.istitle())\n",
    "# print(txt.isupper())"
   ]
  },
  {
   "cell_type": "code",
   "execution_count": 120,
   "id": "7d937c2c",
   "metadata": {},
   "outputs": [
    {
     "data": {
      "text/plain": [
       "'Hello , World!'"
      ]
     },
     "execution_count": 120,
     "metadata": {},
     "output_type": "execute_result"
    }
   ],
   "source": [
    "txt"
   ]
  },
  {
   "cell_type": "code",
   "execution_count": 121,
   "id": "3f717795",
   "metadata": {},
   "outputs": [
    {
     "data": {
      "text/plain": [
       "True"
      ]
     },
     "execution_count": 121,
     "metadata": {},
     "output_type": "execute_result"
    }
   ],
   "source": [
    "txt.startswith(\"H\")"
   ]
  },
  {
   "cell_type": "code",
   "execution_count": 122,
   "id": "dff4f5e3",
   "metadata": {},
   "outputs": [
    {
     "data": {
      "text/plain": [
       "['He', '', 'o , Wor', 'd!']"
      ]
     },
     "execution_count": 122,
     "metadata": {},
     "output_type": "execute_result"
    }
   ],
   "source": [
    "txt.split('l')"
   ]
  },
  {
   "cell_type": "code",
   "execution_count": 123,
   "id": "e275dccc",
   "metadata": {},
   "outputs": [
    {
     "data": {
      "text/plain": [
       "['Hello , World!']"
      ]
     },
     "execution_count": 123,
     "metadata": {},
     "output_type": "execute_result"
    }
   ],
   "source": [
    "txt.splitlines()"
   ]
  },
  {
   "cell_type": "code",
   "execution_count": 124,
   "id": "10bfaa14",
   "metadata": {},
   "outputs": [
    {
     "data": {
      "text/plain": [
       "'Hello , World!'"
      ]
     },
     "execution_count": 124,
     "metadata": {},
     "output_type": "execute_result"
    }
   ],
   "source": [
    "txt"
   ]
  },
  {
   "cell_type": "code",
   "execution_count": 125,
   "id": "e47fe2f2",
   "metadata": {},
   "outputs": [
    {
     "data": {
      "text/plain": [
       "'hELLO , wORLD!'"
      ]
     },
     "execution_count": 125,
     "metadata": {},
     "output_type": "execute_result"
    }
   ],
   "source": [
    "txt.swapcase()"
   ]
  },
  {
   "cell_type": "code",
   "execution_count": 126,
   "id": "bfec79a1",
   "metadata": {},
   "outputs": [
    {
     "data": {
      "text/plain": [
       "'Hello , World!'"
      ]
     },
     "execution_count": 126,
     "metadata": {},
     "output_type": "execute_result"
    }
   ],
   "source": [
    "txt.translate('H')"
   ]
  },
  {
   "cell_type": "code",
   "execution_count": 127,
   "id": "92dfd4ea",
   "metadata": {},
   "outputs": [
    {
     "data": {
      "text/plain": [
       "'Python'"
      ]
     },
     "execution_count": 127,
     "metadata": {},
     "output_type": "execute_result"
    }
   ],
   "source": [
    "a = \"Python\"\n",
    "a.translate('y')"
   ]
  },
  {
   "cell_type": "code",
   "execution_count": 128,
   "id": "751a96d3",
   "metadata": {},
   "outputs": [],
   "source": [
    "# Python Booleans"
   ]
  },
  {
   "cell_type": "code",
   "execution_count": 129,
   "id": "401509ef",
   "metadata": {},
   "outputs": [
    {
     "name": "stdout",
     "output_type": "stream",
     "text": [
      "True\n",
      "False\n",
      "False\n"
     ]
    }
   ],
   "source": [
    "print(10>0)\n",
    "print(1<-8)\n",
    "print(0==1)"
   ]
  },
  {
   "cell_type": "code",
   "execution_count": 130,
   "id": "755fd474",
   "metadata": {},
   "outputs": [
    {
     "name": "stdout",
     "output_type": "stream",
     "text": [
      "b  is greter of a\n"
     ]
    }
   ],
   "source": [
    "a = 200\n",
    "b= 33\n",
    "\n",
    "if b<a:\n",
    "    print(\"b  is greter of a\")\n",
    "    \n",
    "else:\n",
    "    print(\"b is not grater than a\")"
   ]
  },
  {
   "cell_type": "code",
   "execution_count": 131,
   "id": "8198fa4d",
   "metadata": {},
   "outputs": [
    {
     "name": "stdout",
     "output_type": "stream",
     "text": [
      "True\n"
     ]
    }
   ],
   "source": [
    "print(bool(\"Hello\"))"
   ]
  },
  {
   "cell_type": "code",
   "execution_count": 132,
   "id": "323a520c",
   "metadata": {},
   "outputs": [
    {
     "name": "stdout",
     "output_type": "stream",
     "text": [
      "False\n"
     ]
    }
   ],
   "source": [
    "print(bool(0))"
   ]
  },
  {
   "cell_type": "code",
   "execution_count": 133,
   "id": "57be946e",
   "metadata": {},
   "outputs": [
    {
     "name": "stdout",
     "output_type": "stream",
     "text": [
      "True\n"
     ]
    }
   ],
   "source": [
    "print(bool(17))"
   ]
  },
  {
   "cell_type": "code",
   "execution_count": 134,
   "id": "e078f891",
   "metadata": {},
   "outputs": [
    {
     "name": "stdout",
     "output_type": "stream",
     "text": [
      "True\n"
     ]
    }
   ],
   "source": [
    "print(bool(1))"
   ]
  },
  {
   "cell_type": "code",
   "execution_count": 135,
   "id": "b6e742f8",
   "metadata": {},
   "outputs": [
    {
     "name": "stdout",
     "output_type": "stream",
     "text": [
      "False\n"
     ]
    }
   ],
   "source": [
    "print(bool(''))"
   ]
  },
  {
   "cell_type": "code",
   "execution_count": 136,
   "id": "23fd814b",
   "metadata": {},
   "outputs": [
    {
     "name": "stdout",
     "output_type": "stream",
     "text": [
      "True\n",
      "True\n"
     ]
    }
   ],
   "source": [
    "x=\"Hello\"\n",
    "y = 18\n",
    "\n",
    "print(bool(x))\n",
    "print(bool(y))"
   ]
  },
  {
   "cell_type": "code",
   "execution_count": 137,
   "id": "2323bca5",
   "metadata": {},
   "outputs": [
    {
     "data": {
      "text/plain": [
       "True"
      ]
     },
     "execution_count": 137,
     "metadata": {},
     "output_type": "execute_result"
    }
   ],
   "source": [
    "bool(\"abc\")"
   ]
  },
  {
   "cell_type": "code",
   "execution_count": 138,
   "id": "57b2ede3",
   "metadata": {},
   "outputs": [
    {
     "data": {
      "text/plain": [
       "True"
      ]
     },
     "execution_count": 138,
     "metadata": {},
     "output_type": "execute_result"
    }
   ],
   "source": [
    "bool(123)"
   ]
  },
  {
   "cell_type": "code",
   "execution_count": 139,
   "id": "df6b4ba1",
   "metadata": {},
   "outputs": [
    {
     "data": {
      "text/plain": [
       "True"
      ]
     },
     "execution_count": 139,
     "metadata": {},
     "output_type": "execute_result"
    }
   ],
   "source": [
    "bool([\"apple\",\"banana\",\"cgerry\"])"
   ]
  },
  {
   "cell_type": "code",
   "execution_count": 140,
   "id": "113e9e4b",
   "metadata": {},
   "outputs": [
    {
     "data": {
      "text/plain": [
       "True"
      ]
     },
     "execution_count": 140,
     "metadata": {},
     "output_type": "execute_result"
    }
   ],
   "source": [
    "bool({1:\"one\",2:\"two\"})"
   ]
  },
  {
   "cell_type": "code",
   "execution_count": 141,
   "id": "1cd4051e",
   "metadata": {},
   "outputs": [
    {
     "data": {
      "text/plain": [
       "True"
      ]
     },
     "execution_count": 141,
     "metadata": {},
     "output_type": "execute_result"
    }
   ],
   "source": [
    "bool(1,)"
   ]
  },
  {
   "cell_type": "code",
   "execution_count": 142,
   "id": "d17be1f3",
   "metadata": {},
   "outputs": [
    {
     "name": "stdout",
     "output_type": "stream",
     "text": [
      "False\n"
     ]
    }
   ],
   "source": [
    "class MyClass():\n",
    "    def __len__(self):\n",
    "        return 0\n",
    "    \n",
    "obj = MyClass()\n",
    "print(bool(obj))"
   ]
  },
  {
   "cell_type": "code",
   "execution_count": 143,
   "id": "c73f1595",
   "metadata": {},
   "outputs": [
    {
     "name": "stdout",
     "output_type": "stream",
     "text": [
      "True\n"
     ]
    }
   ],
   "source": [
    "def MyFunction():\n",
    "    return True\n",
    "print(MyFunction())"
   ]
  },
  {
   "cell_type": "code",
   "execution_count": 144,
   "id": "b15254d4",
   "metadata": {},
   "outputs": [
    {
     "name": "stdout",
     "output_type": "stream",
     "text": [
      "Yes!\n"
     ]
    }
   ],
   "source": [
    "def MyFunction():\n",
    "    return 1\n",
    "if MyFunction():\n",
    "    print(\"Yes!\")\n",
    "    \n",
    "else:\n",
    "    print(\"NOO!\")"
   ]
  },
  {
   "cell_type": "code",
   "execution_count": 145,
   "id": "95932072",
   "metadata": {},
   "outputs": [
    {
     "name": "stdout",
     "output_type": "stream",
     "text": [
      "True\n"
     ]
    }
   ],
   "source": [
    "a = 200\n",
    "\n",
    "print(isinstance(a,int))"
   ]
  },
  {
   "cell_type": "code",
   "execution_count": 146,
   "id": "763cead2",
   "metadata": {},
   "outputs": [
    {
     "name": "stdout",
     "output_type": "stream",
     "text": [
      "True\n"
     ]
    }
   ],
   "source": [
    "x = 'Python'\n",
    "\n",
    "print(isinstance(x,str))"
   ]
  },
  {
   "cell_type": "code",
   "execution_count": 147,
   "id": "a34600c2",
   "metadata": {},
   "outputs": [],
   "source": [
    "# Python Operators"
   ]
  },
  {
   "cell_type": "code",
   "execution_count": 148,
   "id": "a5ae9de8",
   "metadata": {},
   "outputs": [
    {
     "ename": "SyntaxError",
     "evalue": "invalid syntax (497636064.py, line 1)",
     "output_type": "error",
     "traceback": [
      "\u001b[1;36m  Cell \u001b[1;32mIn[148], line 1\u001b[1;36m\u001b[0m\n\u001b[1;33m    Operators are used to perform operations on variables and values.\u001b[0m\n\u001b[1;37m              ^\u001b[0m\n\u001b[1;31mSyntaxError\u001b[0m\u001b[1;31m:\u001b[0m invalid syntax\n"
     ]
    }
   ],
   "source": [
    "Operators are used to perform operations on variables and values.\n",
    "\n"
   ]
  },
  {
   "cell_type": "code",
   "execution_count": 149,
   "id": "80ae8c53",
   "metadata": {},
   "outputs": [],
   "source": [
    "#### Python divides the operators in the following groups:\n",
    "\n",
    "### Arithmetic operators\n",
    "### Assignment operators\n",
    "### Comparison operators\n",
    "### Logical operators\n",
    "### Identity operators\n",
    "### Membership operators\n",
    "### Bitwise operators\n"
   ]
  },
  {
   "cell_type": "code",
   "execution_count": 150,
   "id": "400d089d",
   "metadata": {},
   "outputs": [
    {
     "name": "stdout",
     "output_type": "stream",
     "text": [
      "60\n",
      "40\n",
      "500\n",
      "5.0\n",
      "0\n",
      "5\n",
      "97656250000000000\n"
     ]
    }
   ],
   "source": [
    "# Python Arithmetic Operators\n",
    "\n",
    "a = 50\n",
    "b = 10\n",
    "\n",
    "print(a+b)\n",
    "print(a-b)\n",
    "print(a*b)\n",
    "print(a/b)\n",
    "print(a%b)\n",
    "print(a//b)\n",
    "print(a**b)"
   ]
  },
  {
   "cell_type": "code",
   "execution_count": 151,
   "id": "5a5e9c45",
   "metadata": {},
   "outputs": [
    {
     "name": "stdout",
     "output_type": "stream",
     "text": [
      "100\n"
     ]
    }
   ],
   "source": [
    "# Python Assignment Operators\n",
    "# Assignment operators are used to assign values to variables:\n",
    "\n",
    "a = 10\n",
    "# a +=50\n",
    "# a = a + 50\n",
    "# a *=2\n",
    "# a /=2\n",
    "# a //= 2\n",
    "a **=2\n",
    "print(a)\n"
   ]
  },
  {
   "cell_type": "code",
   "execution_count": 152,
   "id": "74c8d41b",
   "metadata": {},
   "outputs": [
    {
     "name": "stdout",
     "output_type": "stream",
     "text": [
      "2\n"
     ]
    }
   ],
   "source": [
    "x = 10\n",
    "\n",
    "# x &= 9\n",
    "# x |=2\n",
    "# x >>= 3\n",
    "\n",
    "print(x:=2)"
   ]
  },
  {
   "cell_type": "code",
   "execution_count": 153,
   "id": "fd350e66",
   "metadata": {},
   "outputs": [
    {
     "name": "stdout",
     "output_type": "stream",
     "text": [
      "False\n",
      "True\n",
      "False\n",
      "True\n",
      "False\n",
      "True\n"
     ]
    }
   ],
   "source": [
    "# Python Comparison Operators\n",
    "\n",
    "x = 10\n",
    "y = 20\n",
    "\n",
    "print(x==y)\n",
    "print(x<=y)\n",
    "print(x>=y)\n",
    "print(x<y)\n",
    "print(x>y)\n",
    "print(x != y)"
   ]
  },
  {
   "cell_type": "code",
   "execution_count": 154,
   "id": "b832d9f5",
   "metadata": {},
   "outputs": [
    {
     "name": "stdout",
     "output_type": "stream",
     "text": [
      "False\n",
      "True\n"
     ]
    }
   ],
   "source": [
    "# Python Logical Operators\n",
    "\n",
    "\n",
    "x = 10\n",
    "\n",
    "print(x>5 and x<5)\n",
    "print(x<15 and x>2)"
   ]
  },
  {
   "cell_type": "code",
   "execution_count": 155,
   "id": "9adcda50",
   "metadata": {},
   "outputs": [
    {
     "name": "stdout",
     "output_type": "stream",
     "text": [
      "True\n",
      "True\n",
      "False\n"
     ]
    }
   ],
   "source": [
    "x = 10\n",
    "\n",
    "print(x>5 or x<5)\n",
    "print(x>2 or x<20)\n",
    "print(x<0 or x>20)"
   ]
  },
  {
   "cell_type": "code",
   "execution_count": 156,
   "id": "a3393a67",
   "metadata": {},
   "outputs": [
    {
     "name": "stdout",
     "output_type": "stream",
     "text": [
      "False\n",
      "False\n"
     ]
    }
   ],
   "source": [
    "x = 10\n",
    "\n",
    "print(not(x<15 and x>5))\n",
    "print(not(x<15 or x>20))"
   ]
  },
  {
   "cell_type": "code",
   "execution_count": 157,
   "id": "8c086596",
   "metadata": {},
   "outputs": [
    {
     "name": "stdout",
     "output_type": "stream",
     "text": [
      "False\n",
      "True\n"
     ]
    }
   ],
   "source": [
    "# Python Identity Operators\n",
    "\n",
    "x = 10\n",
    "y = 1\n",
    "\n",
    "print(x is y)\n",
    "print(x is not y)"
   ]
  },
  {
   "cell_type": "code",
   "execution_count": 158,
   "id": "a492d173",
   "metadata": {},
   "outputs": [
    {
     "name": "stdout",
     "output_type": "stream",
     "text": [
      "True\n",
      "False\n"
     ]
    }
   ],
   "source": [
    "# Python Membership Operators\n",
    "\n",
    "x = [\"apple\",\"cherry\",\"Banana\"]\n",
    "print(\"cherry\" in x)\n",
    "\n",
    "print(\"apple\" not in x)\n",
    "\n"
   ]
  },
  {
   "cell_type": "code",
   "execution_count": 159,
   "id": "48f50007",
   "metadata": {},
   "outputs": [
    {
     "name": "stdout",
     "output_type": "stream",
     "text": [
      "0\n"
     ]
    }
   ],
   "source": [
    "print((6 + 3) - (6 + 3))"
   ]
  },
  {
   "cell_type": "code",
   "execution_count": 160,
   "id": "9436fbcb",
   "metadata": {},
   "outputs": [
    {
     "name": "stdout",
     "output_type": "stream",
     "text": [
      "115\n"
     ]
    }
   ],
   "source": [
    "print(100 + 5 * 3)"
   ]
  },
  {
   "cell_type": "code",
   "execution_count": 161,
   "id": "88bbac45",
   "metadata": {},
   "outputs": [
    {
     "name": "stdout",
     "output_type": "stream",
     "text": [
      "5\n"
     ]
    }
   ],
   "source": [
    "print(5 + 4 - 7 + 3)\n"
   ]
  },
  {
   "cell_type": "markdown",
   "id": "21a8d1ab",
   "metadata": {},
   "source": [
    "# Python Lists"
   ]
  },
  {
   "cell_type": "markdown",
   "id": "250b0ac7",
   "metadata": {},
   "source": [
    "Lists are used to store multiple items in a single variable.\n",
    "\n",
    "Lists are one of 4 built-in data types in Python used to store collections of data, the other 3 are Tuple, Set, and Dictionary, all with different qualities and usage.\n",
    "\n",
    "Lists are created using square brackets:"
   ]
  },
  {
   "cell_type": "code",
   "execution_count": 164,
   "id": "ee1a9886",
   "metadata": {},
   "outputs": [
    {
     "name": "stdout",
     "output_type": "stream",
     "text": [
      "['Apple', 'Banana', 'Cherry']\n"
     ]
    }
   ],
   "source": [
    "list1 = [\"Apple\",\"Banana\",\"Cherry\"]\n",
    "print(list1)"
   ]
  },
  {
   "cell_type": "code",
   "execution_count": 165,
   "id": "8ff62cc0",
   "metadata": {},
   "outputs": [
    {
     "name": "stdout",
     "output_type": "stream",
     "text": [
      "<class 'list'>\n"
     ]
    }
   ],
   "source": [
    "print(type(list1))"
   ]
  },
  {
   "cell_type": "code",
   "execution_count": 166,
   "id": "ed3ccbf3",
   "metadata": {},
   "outputs": [
    {
     "name": "stdout",
     "output_type": "stream",
     "text": [
      "['apple', 'banana', 'apple', 'Cherry', 'Banana']\n"
     ]
    }
   ],
   "source": [
    "l1 = [\"apple\",\"banana\",\"apple\",\"Cherry\",\"Banana\"]\n",
    "print(l1)"
   ]
  },
  {
   "cell_type": "code",
   "execution_count": 167,
   "id": "288d29f7",
   "metadata": {},
   "outputs": [
    {
     "name": "stdout",
     "output_type": "stream",
     "text": [
      "5\n"
     ]
    }
   ],
   "source": [
    "print(len(l1))"
   ]
  },
  {
   "cell_type": "code",
   "execution_count": 168,
   "id": "144a7043",
   "metadata": {},
   "outputs": [
    {
     "name": "stdout",
     "output_type": "stream",
     "text": [
      "<class 'list'>\n",
      "<class 'list'>\n",
      "<class 'list'>\n"
     ]
    }
   ],
   "source": [
    "l1 = [\"apple\",\"Banana\",\"Cherry\"]\n",
    "l2 = [1,2,3,4,5]\n",
    "l3 = [True,True,False]\n",
    "print(type(l1))\n",
    "print(type(l2))\n",
    "print(type(l3))"
   ]
  },
  {
   "cell_type": "code",
   "execution_count": 169,
   "id": "3449b7df",
   "metadata": {},
   "outputs": [
    {
     "data": {
      "text/plain": [
       "['apple', 'Banana', 'Cherry']"
      ]
     },
     "execution_count": 169,
     "metadata": {},
     "output_type": "execute_result"
    }
   ],
   "source": [
    "l1"
   ]
  },
  {
   "cell_type": "code",
   "execution_count": 170,
   "id": "80d9ea6a",
   "metadata": {},
   "outputs": [],
   "source": [
    "del l1"
   ]
  },
  {
   "cell_type": "code",
   "execution_count": 171,
   "id": "0c624ee9",
   "metadata": {},
   "outputs": [
    {
     "name": "stdout",
     "output_type": "stream",
     "text": [
      "[1, True, 'Python', 27]\n"
     ]
    }
   ],
   "source": [
    "l1 = [1,True,\"Python\",27]\n",
    "print(l1)"
   ]
  },
  {
   "cell_type": "code",
   "execution_count": 172,
   "id": "db052cc4",
   "metadata": {},
   "outputs": [
    {
     "name": "stdout",
     "output_type": "stream",
     "text": [
      "<class 'list'>\n",
      "['apple', 10, True]\n"
     ]
    }
   ],
   "source": [
    "l2 = list((\"apple\",10,True))\n",
    "print(type(l2))\n",
    "print(l2)"
   ]
  },
  {
   "cell_type": "code",
   "execution_count": 173,
   "id": "77c9e757",
   "metadata": {},
   "outputs": [
    {
     "data": {
      "text/plain": [
       "[1, True, 'Python', 27]"
      ]
     },
     "execution_count": 173,
     "metadata": {},
     "output_type": "execute_result"
    }
   ],
   "source": [
    "# Python - Access List Items\n",
    "\n",
    "l1"
   ]
  },
  {
   "cell_type": "code",
   "execution_count": 174,
   "id": "d4389fbf",
   "metadata": {},
   "outputs": [
    {
     "name": "stdout",
     "output_type": "stream",
     "text": [
      "Python\n"
     ]
    }
   ],
   "source": [
    "print(l1[2])"
   ]
  },
  {
   "cell_type": "code",
   "execution_count": 175,
   "id": "02b05998",
   "metadata": {},
   "outputs": [
    {
     "name": "stdout",
     "output_type": "stream",
     "text": [
      "27\n"
     ]
    }
   ],
   "source": [
    "print(l1[-1])"
   ]
  },
  {
   "cell_type": "code",
   "execution_count": 176,
   "id": "8dd9599d",
   "metadata": {},
   "outputs": [
    {
     "name": "stdout",
     "output_type": "stream",
     "text": [
      "[27, 'Python', True, 1]\n"
     ]
    }
   ],
   "source": [
    "print(l1[::-1])"
   ]
  },
  {
   "cell_type": "code",
   "execution_count": 177,
   "id": "6f6bbeae",
   "metadata": {},
   "outputs": [
    {
     "name": "stdout",
     "output_type": "stream",
     "text": [
      "['Python', 27]\n"
     ]
    }
   ],
   "source": [
    "print(l1[2:4])"
   ]
  },
  {
   "cell_type": "code",
   "execution_count": 178,
   "id": "77e0aa64",
   "metadata": {},
   "outputs": [
    {
     "name": "stdout",
     "output_type": "stream",
     "text": [
      "['Python']\n"
     ]
    }
   ],
   "source": [
    "print(l1[-2:-1])"
   ]
  },
  {
   "cell_type": "code",
   "execution_count": 179,
   "id": "b605093d",
   "metadata": {},
   "outputs": [
    {
     "data": {
      "text/plain": [
       "[1, True, 'Python', 27]"
      ]
     },
     "execution_count": 179,
     "metadata": {},
     "output_type": "execute_result"
    }
   ],
   "source": [
    "l1"
   ]
  },
  {
   "cell_type": "code",
   "execution_count": 180,
   "id": "403ab65a",
   "metadata": {},
   "outputs": [
    {
     "name": "stdout",
     "output_type": "stream",
     "text": [
      "[1, True, 'Python', 27]\n"
     ]
    }
   ],
   "source": [
    "print(l1[-4:])"
   ]
  },
  {
   "cell_type": "code",
   "execution_count": 181,
   "id": "7720599d",
   "metadata": {},
   "outputs": [
    {
     "name": "stdout",
     "output_type": "stream",
     "text": [
      "nohtyP\n"
     ]
    }
   ],
   "source": [
    "s = \"Python\"\n",
    "print(s[::-1])"
   ]
  },
  {
   "cell_type": "code",
   "execution_count": 182,
   "id": "c1f873a5",
   "metadata": {},
   "outputs": [
    {
     "data": {
      "text/plain": [
       "'thon'"
      ]
     },
     "execution_count": 182,
     "metadata": {},
     "output_type": "execute_result"
    }
   ],
   "source": [
    "s[-4:]"
   ]
  },
  {
   "cell_type": "code",
   "execution_count": 183,
   "id": "ab9ce281",
   "metadata": {},
   "outputs": [
    {
     "name": "stdout",
     "output_type": "stream",
     "text": [
      "['apple', 'banana', 'cherry', 'orange', 'kiwi', 'melon', 'mango']\n"
     ]
    }
   ],
   "source": [
    "thislist = [\"apple\", \"banana\", \"cherry\", \"orange\", \"kiwi\", \"melon\", \"mango\"]\n",
    "print(thislist)"
   ]
  },
  {
   "cell_type": "code",
   "execution_count": 184,
   "id": "f4003a4f",
   "metadata": {},
   "outputs": [
    {
     "name": "stdout",
     "output_type": "stream",
     "text": [
      "['banana', 'cherry', 'orange']\n"
     ]
    }
   ],
   "source": [
    "print(thislist[-6:-3])"
   ]
  },
  {
   "cell_type": "code",
   "execution_count": 185,
   "id": "9898ad27",
   "metadata": {},
   "outputs": [
    {
     "name": "stdout",
     "output_type": "stream",
     "text": [
      "['apple', 'banana', 'cherry', 'orange', 'kiwi']\n"
     ]
    }
   ],
   "source": [
    "print(thislist[:-2])"
   ]
  },
  {
   "cell_type": "code",
   "execution_count": 186,
   "id": "07d88eae",
   "metadata": {},
   "outputs": [
    {
     "data": {
      "text/plain": [
       "['apple', 'banana', 'cherry', 'orange', 'kiwi', 'melon', 'mango']"
      ]
     },
     "execution_count": 186,
     "metadata": {},
     "output_type": "execute_result"
    }
   ],
   "source": [
    "# Python change list items\n",
    "thislist\n"
   ]
  },
  {
   "cell_type": "code",
   "execution_count": 187,
   "id": "fa33b25c",
   "metadata": {},
   "outputs": [
    {
     "name": "stdout",
     "output_type": "stream",
     "text": [
      "['apple', 'Banana', 'cherry', 'orange', 'kiwi', 'melon', 'mango']\n"
     ]
    }
   ],
   "source": [
    "thislist[1]= \"Banana\"\n",
    "print(thislist)"
   ]
  },
  {
   "cell_type": "code",
   "execution_count": 188,
   "id": "4851d55e",
   "metadata": {},
   "outputs": [
    {
     "data": {
      "text/plain": [
       "['apple', 'Banana', 'cherry', 'orange', 'kiwi', 'melon', 'mango']"
      ]
     },
     "execution_count": 188,
     "metadata": {},
     "output_type": "execute_result"
    }
   ],
   "source": [
    "thislist"
   ]
  },
  {
   "cell_type": "code",
   "execution_count": 189,
   "id": "7a813463",
   "metadata": {},
   "outputs": [
    {
     "name": "stdout",
     "output_type": "stream",
     "text": [
      "['apple', 'blackcurrant', 'watermelon', 'orange', 'kiwi', 'melon', 'mango']\n"
     ]
    }
   ],
   "source": [
    "thislist[1:3] = [\"blackcurrant\", \"watermelon\"]\n",
    "print(thislist)"
   ]
  },
  {
   "cell_type": "code",
   "execution_count": 190,
   "id": "61e4e32c",
   "metadata": {},
   "outputs": [
    {
     "data": {
      "text/plain": [
       "['apple', 'blackcurrant', 'watermelon', 'orange', 'kiwi', 'melon', 'mango']"
      ]
     },
     "execution_count": 190,
     "metadata": {},
     "output_type": "execute_result"
    }
   ],
   "source": [
    "thislist"
   ]
  },
  {
   "cell_type": "code",
   "execution_count": 191,
   "id": "7302ece0",
   "metadata": {},
   "outputs": [
    {
     "name": "stdout",
     "output_type": "stream",
     "text": [
      "['apple', 'blackcurrant', 'watermelon', 'cherry']\n"
     ]
    }
   ],
   "source": [
    "thislist1 = [\"apple\", \"banana\", \"cherry\"]\n",
    "thislist1[1:2] = [\"blackcurrant\", \"watermelon\"]\n",
    "print(thislist1)"
   ]
  },
  {
   "cell_type": "code",
   "execution_count": 192,
   "id": "b1a062e9",
   "metadata": {},
   "outputs": [
    {
     "name": "stdout",
     "output_type": "stream",
     "text": [
      "['apple', 'cherry']\n"
     ]
    }
   ],
   "source": [
    "l1 = [\"apple\",\"Banana\",\"watermelon\"]\n",
    "l1[1:3] = [\"cherry\"]\n",
    "print(l1)"
   ]
  },
  {
   "cell_type": "code",
   "execution_count": 193,
   "id": "b2f459ae",
   "metadata": {},
   "outputs": [
    {
     "data": {
      "text/plain": [
       "['apple', 'cherry']"
      ]
     },
     "execution_count": 193,
     "metadata": {},
     "output_type": "execute_result"
    }
   ],
   "source": [
    "l1"
   ]
  },
  {
   "cell_type": "code",
   "execution_count": 194,
   "id": "4afefab2",
   "metadata": {},
   "outputs": [
    {
     "data": {
      "text/plain": [
       "['apple', 'blackcurrant', 'watermelon', 'orange', 'kiwi', 'melon', 'mango']"
      ]
     },
     "execution_count": 194,
     "metadata": {},
     "output_type": "execute_result"
    }
   ],
   "source": [
    "thislist"
   ]
  },
  {
   "cell_type": "code",
   "execution_count": 195,
   "id": "0c3ff9d0",
   "metadata": {},
   "outputs": [
    {
     "data": {
      "text/plain": [
       "['apple', 'cherry']"
      ]
     },
     "execution_count": 195,
     "metadata": {},
     "output_type": "execute_result"
    }
   ],
   "source": [
    "l1"
   ]
  },
  {
   "cell_type": "code",
   "execution_count": 196,
   "id": "d6c09b6f",
   "metadata": {},
   "outputs": [
    {
     "data": {
      "text/plain": [
       "['apple', 'watermelon', 'cherry']"
      ]
     },
     "execution_count": 196,
     "metadata": {},
     "output_type": "execute_result"
    }
   ],
   "source": [
    "l1.insert(1,\"watermelon\")\n",
    "l1"
   ]
  },
  {
   "cell_type": "code",
   "execution_count": 197,
   "id": "013e5d67",
   "metadata": {},
   "outputs": [
    {
     "data": {
      "text/plain": [
       "'cherry'"
      ]
     },
     "execution_count": 197,
     "metadata": {},
     "output_type": "execute_result"
    }
   ],
   "source": [
    "l1.pop()"
   ]
  },
  {
   "cell_type": "code",
   "execution_count": 198,
   "id": "2771fff7",
   "metadata": {},
   "outputs": [
    {
     "data": {
      "text/plain": [
       "['apple', 'watermelon']"
      ]
     },
     "execution_count": 198,
     "metadata": {},
     "output_type": "execute_result"
    }
   ],
   "source": [
    "l1"
   ]
  },
  {
   "cell_type": "code",
   "execution_count": 199,
   "id": "d08e9918",
   "metadata": {},
   "outputs": [
    {
     "name": "stdout",
     "output_type": "stream",
     "text": [
      "mango\n"
     ]
    }
   ],
   "source": [
    "# example\n",
    "\n",
    "mylist = [\"apple\",\"banana\",\"cherry\"]\n",
    "mylist[1:2] = [\"kiwi\",\"mango\"]\n",
    "print(mylist[2])\n",
    "\n",
    "# apple kiwi mango banana cherry"
   ]
  },
  {
   "cell_type": "code",
   "execution_count": 200,
   "id": "680d4584",
   "metadata": {},
   "outputs": [
    {
     "data": {
      "text/plain": [
       "['apple', 'kiwi', 'mango', 'cherry']"
      ]
     },
     "execution_count": 200,
     "metadata": {},
     "output_type": "execute_result"
    }
   ],
   "source": [
    "# Python - Add List Items\n",
    "mylist\n"
   ]
  },
  {
   "cell_type": "code",
   "execution_count": 201,
   "id": "3d78a1b5",
   "metadata": {},
   "outputs": [
    {
     "name": "stdout",
     "output_type": "stream",
     "text": [
      "['apple', 'kiwi', 'mango', 'cherry', 'MANGO']\n"
     ]
    }
   ],
   "source": [
    "mylist.append(\"MANGO\")\n",
    "print(mylist)"
   ]
  },
  {
   "cell_type": "code",
   "execution_count": 202,
   "id": "7699dbf9",
   "metadata": {},
   "outputs": [],
   "source": [
    "del mylist"
   ]
  },
  {
   "cell_type": "code",
   "execution_count": 203,
   "id": "47565541",
   "metadata": {},
   "outputs": [
    {
     "data": {
      "text/plain": [
       "['apple', 'Banana']"
      ]
     },
     "execution_count": 203,
     "metadata": {},
     "output_type": "execute_result"
    }
   ],
   "source": [
    "mylist = [\"apple\",\"Banana\"]\n",
    "mylist"
   ]
  },
  {
   "cell_type": "code",
   "execution_count": 204,
   "id": "4a541068",
   "metadata": {},
   "outputs": [
    {
     "name": "stdout",
     "output_type": "stream",
     "text": [
      "['apple', 'Banana', 'watermelon']\n"
     ]
    }
   ],
   "source": [
    "mylist.append(\"watermelon\")\n",
    "print(mylist)"
   ]
  },
  {
   "cell_type": "code",
   "execution_count": 205,
   "id": "72590403",
   "metadata": {},
   "outputs": [
    {
     "data": {
      "text/plain": [
       "['apple', 'Banana', 'watermelon']"
      ]
     },
     "execution_count": 205,
     "metadata": {},
     "output_type": "execute_result"
    }
   ],
   "source": [
    "# insert method\n",
    "\n",
    "mylist"
   ]
  },
  {
   "cell_type": "code",
   "execution_count": 206,
   "id": "74b860c9",
   "metadata": {},
   "outputs": [
    {
     "name": "stdout",
     "output_type": "stream",
     "text": [
      "None\n"
     ]
    }
   ],
   "source": [
    "print(mylist.insert(1,\"APPLE\"))"
   ]
  },
  {
   "cell_type": "code",
   "execution_count": 207,
   "id": "1c50509e",
   "metadata": {},
   "outputs": [
    {
     "data": {
      "text/plain": [
       "['apple', 'APPLE', 'Banana', 'watermelon']"
      ]
     },
     "execution_count": 207,
     "metadata": {},
     "output_type": "execute_result"
    }
   ],
   "source": [
    "mylist"
   ]
  },
  {
   "cell_type": "code",
   "execution_count": 208,
   "id": "3b072cb1",
   "metadata": {},
   "outputs": [
    {
     "name": "stdout",
     "output_type": "stream",
     "text": [
      "['apple', 'banana', 'cherry', 'APPLE', 'BANANA', 'CHERRY']\n"
     ]
    }
   ],
   "source": [
    "# Extend List\n",
    "\n",
    "l1 = ['apple','banana','cherry']\n",
    "l2 = ['APPLE','BANANA','CHERRY']\n",
    "l1.extend(l2)\n",
    "print(l1)"
   ]
  },
  {
   "cell_type": "code",
   "execution_count": 209,
   "id": "82ad221f",
   "metadata": {},
   "outputs": [
    {
     "name": "stdout",
     "output_type": "stream",
     "text": [
      "['apple', 'banana', 'cherry', 'APPLE', 'BANANA', 'CHERRY', 'APPLE', 'BANANA', 'CHERRY']\n"
     ]
    }
   ],
   "source": [
    "l3 = l1 + l2\n",
    "print(l3)"
   ]
  },
  {
   "cell_type": "code",
   "execution_count": 210,
   "id": "d53c03cb",
   "metadata": {},
   "outputs": [],
   "source": [
    "del l3"
   ]
  },
  {
   "cell_type": "code",
   "execution_count": 211,
   "id": "c6718544",
   "metadata": {},
   "outputs": [
    {
     "data": {
      "text/plain": [
       "['apple', 'banana', 'cherry', 'APPLE', 'BANANA', 'CHERRY']"
      ]
     },
     "execution_count": 211,
     "metadata": {},
     "output_type": "execute_result"
    }
   ],
   "source": [
    "l1"
   ]
  },
  {
   "cell_type": "code",
   "execution_count": 212,
   "id": "e5defed5",
   "metadata": {},
   "outputs": [
    {
     "data": {
      "text/plain": [
       "['APPLE', 'BANANA', 'CHERRY']"
      ]
     },
     "execution_count": 212,
     "metadata": {},
     "output_type": "execute_result"
    }
   ],
   "source": [
    "l2"
   ]
  },
  {
   "cell_type": "code",
   "execution_count": 213,
   "id": "cbeac3ab",
   "metadata": {},
   "outputs": [
    {
     "name": "stdout",
     "output_type": "stream",
     "text": [
      "['APPLE', 'BANANA', 'CHERRY', 'orange', 'kiwi']\n"
     ]
    }
   ],
   "source": [
    "tup1 = (\"orange\",\"kiwi\")\n",
    "\n",
    "l2.extend(tup1)\n",
    "print(l2)"
   ]
  },
  {
   "cell_type": "code",
   "execution_count": 214,
   "id": "0d1d8515",
   "metadata": {},
   "outputs": [
    {
     "data": {
      "text/plain": [
       "['APPLE', 'BANANA', 'CHERRY', 'orange', 'kiwi']"
      ]
     },
     "execution_count": 214,
     "metadata": {},
     "output_type": "execute_result"
    }
   ],
   "source": [
    "l2"
   ]
  },
  {
   "cell_type": "code",
   "execution_count": 215,
   "id": "566c67ca",
   "metadata": {},
   "outputs": [
    {
     "data": {
      "text/plain": [
       "['APPLE', 'BANANA', 'CHERRY', 'orange', 'kiwi']"
      ]
     },
     "execution_count": 215,
     "metadata": {},
     "output_type": "execute_result"
    }
   ],
   "source": [
    "# Python - Remove List Items\n",
    "l2\n"
   ]
  },
  {
   "cell_type": "code",
   "execution_count": 216,
   "id": "1b545850",
   "metadata": {},
   "outputs": [
    {
     "name": "stdout",
     "output_type": "stream",
     "text": [
      "['APPLE', 'BANANA', 'orange', 'kiwi']\n"
     ]
    }
   ],
   "source": [
    "l2.remove(\"CHERRY\")\n",
    "print(l2)"
   ]
  },
  {
   "cell_type": "code",
   "execution_count": 217,
   "id": "b695049c",
   "metadata": {},
   "outputs": [
    {
     "data": {
      "text/plain": [
       "['APPLE', 'BANANA', 'orange', 'kiwi']"
      ]
     },
     "execution_count": 217,
     "metadata": {},
     "output_type": "execute_result"
    }
   ],
   "source": [
    "l2"
   ]
  },
  {
   "cell_type": "code",
   "execution_count": 218,
   "id": "ba5d7522",
   "metadata": {},
   "outputs": [
    {
     "name": "stdout",
     "output_type": "stream",
     "text": [
      "['apple', 'cherry', 'kiwi']\n"
     ]
    }
   ],
   "source": [
    "thislist = [\"apple\", \"banana\", \"cherry\", \"banana\", \"kiwi\"]\n",
    "thislist.remove(\"banana\")\n",
    "thislist.remove(\"banana\")\n",
    "print(thislist)"
   ]
  },
  {
   "cell_type": "code",
   "execution_count": 219,
   "id": "361e2b95",
   "metadata": {},
   "outputs": [
    {
     "name": "stdout",
     "output_type": "stream",
     "text": [
      "['kiwi', 'orange', 'BANANA', 'APPLE']\n"
     ]
    }
   ],
   "source": [
    "l2.reverse()\n",
    "print(l2)"
   ]
  },
  {
   "cell_type": "code",
   "execution_count": 220,
   "id": "7418dc65",
   "metadata": {},
   "outputs": [
    {
     "name": "stdout",
     "output_type": "stream",
     "text": [
      "[1, 2, 3, 4]\n"
     ]
    }
   ],
   "source": [
    "a = [1,2,3,4]\n",
    "print(a)"
   ]
  },
  {
   "cell_type": "code",
   "execution_count": 221,
   "id": "2a8c0e35",
   "metadata": {},
   "outputs": [],
   "source": [
    "# Python reverse() method\n",
    "\n",
    "car = [\"nano\",\"tata\",\"BMW\"]\n",
    "rev_car = list(reversed(car))"
   ]
  },
  {
   "cell_type": "code",
   "execution_count": 222,
   "id": "54cdbb49",
   "metadata": {},
   "outputs": [
    {
     "name": "stdout",
     "output_type": "stream",
     "text": [
      "['BMW', 'tata', 'nano']\n"
     ]
    }
   ],
   "source": [
    "print(rev_car)"
   ]
  },
  {
   "cell_type": "code",
   "execution_count": null,
   "id": "86924cdc",
   "metadata": {},
   "outputs": [],
   "source": []
  },
  {
   "cell_type": "code",
   "execution_count": 223,
   "id": "e1570e78",
   "metadata": {},
   "outputs": [],
   "source": [
    "a.reverse()"
   ]
  },
  {
   "cell_type": "code",
   "execution_count": 224,
   "id": "3b27ecc8",
   "metadata": {},
   "outputs": [
    {
     "name": "stdout",
     "output_type": "stream",
     "text": [
      "[4, 3, 2, 1]\n"
     ]
    }
   ],
   "source": [
    "print(a)"
   ]
  },
  {
   "cell_type": "code",
   "execution_count": 225,
   "id": "d6b4483f",
   "metadata": {},
   "outputs": [
    {
     "data": {
      "text/plain": [
       "[4, 3, 2, 1]"
      ]
     },
     "execution_count": 225,
     "metadata": {},
     "output_type": "execute_result"
    }
   ],
   "source": [
    "a"
   ]
  },
  {
   "cell_type": "code",
   "execution_count": 226,
   "id": "a50aea29",
   "metadata": {},
   "outputs": [
    {
     "name": "stdout",
     "output_type": "stream",
     "text": [
      "<class 'list'>\n"
     ]
    }
   ],
   "source": [
    "a\n",
    "print(type(a))"
   ]
  },
  {
   "cell_type": "code",
   "execution_count": 227,
   "id": "b85fac9b",
   "metadata": {},
   "outputs": [
    {
     "name": "stdout",
     "output_type": "stream",
     "text": [
      "[1, 2, 3, 4]\n"
     ]
    }
   ],
   "source": [
    "a.reverse()\n",
    "print(a)"
   ]
  },
  {
   "cell_type": "code",
   "execution_count": 228,
   "id": "12cac0b1",
   "metadata": {},
   "outputs": [
    {
     "data": {
      "text/plain": [
       "[1, 2, 3, 4]"
      ]
     },
     "execution_count": 228,
     "metadata": {},
     "output_type": "execute_result"
    }
   ],
   "source": [
    "a"
   ]
  },
  {
   "cell_type": "code",
   "execution_count": 229,
   "id": "91f4a83b",
   "metadata": {},
   "outputs": [
    {
     "name": "stdout",
     "output_type": "stream",
     "text": [
      "[4, 3, 2, 1]\n"
     ]
    }
   ],
   "source": [
    "# reversing a for loop using\n",
    "\n",
    "list1 = [1,2,3,4]\n",
    "\n",
    "rev = []\n",
    "\n",
    "for i in list1:\n",
    "    rev.insert(0,i)\n",
    "print(rev)"
   ]
  },
  {
   "cell_type": "code",
   "execution_count": 230,
   "id": "3d76527d",
   "metadata": {},
   "outputs": [
    {
     "name": "stdout",
     "output_type": "stream",
     "text": [
      "[5, 4, 3, 2, 1]\n"
     ]
    }
   ],
   "source": [
    "# Using List Comprehension\n",
    "\n",
    "a = [1, 2, 3, 4, 5]\n",
    "\n",
    "# Use list comprehension to create\n",
    "# a reversed version of the list\n",
    "rev = [a[i] for i in range(len(a) - 1, -1, -1)]\n",
    "print(rev)"
   ]
  },
  {
   "cell_type": "code",
   "execution_count": 231,
   "id": "1524092b",
   "metadata": {},
   "outputs": [
    {
     "data": {
      "text/plain": [
       "['apple', 'banana', 'cherry', 'APPLE', 'BANANA', 'CHERRY']"
      ]
     },
     "execution_count": 231,
     "metadata": {},
     "output_type": "execute_result"
    }
   ],
   "source": [
    "# pop() method\n",
    "\n",
    "l1"
   ]
  },
  {
   "cell_type": "code",
   "execution_count": 232,
   "id": "6adec08d",
   "metadata": {},
   "outputs": [
    {
     "data": {
      "text/plain": [
       "'CHERRY'"
      ]
     },
     "execution_count": 232,
     "metadata": {},
     "output_type": "execute_result"
    }
   ],
   "source": [
    "l1.pop()"
   ]
  },
  {
   "cell_type": "code",
   "execution_count": 233,
   "id": "e365dcb1",
   "metadata": {},
   "outputs": [
    {
     "data": {
      "text/plain": [
       "['apple', 'banana', 'cherry', 'APPLE', 'BANANA']"
      ]
     },
     "execution_count": 233,
     "metadata": {},
     "output_type": "execute_result"
    }
   ],
   "source": [
    "l1"
   ]
  },
  {
   "cell_type": "code",
   "execution_count": 234,
   "id": "4540af41",
   "metadata": {},
   "outputs": [
    {
     "data": {
      "text/plain": [
       "'APPLE'"
      ]
     },
     "execution_count": 234,
     "metadata": {},
     "output_type": "execute_result"
    }
   ],
   "source": [
    "l1.pop(3)"
   ]
  },
  {
   "cell_type": "code",
   "execution_count": 235,
   "id": "e5affd03",
   "metadata": {},
   "outputs": [
    {
     "data": {
      "text/plain": [
       "['apple', 'banana', 'cherry', 'BANANA']"
      ]
     },
     "execution_count": 235,
     "metadata": {},
     "output_type": "execute_result"
    }
   ],
   "source": [
    "l1"
   ]
  },
  {
   "cell_type": "code",
   "execution_count": 236,
   "id": "bdab9fd3",
   "metadata": {},
   "outputs": [
    {
     "data": {
      "text/plain": [
       "['apple', 'banana', 'cherry', 'BANANA']"
      ]
     },
     "execution_count": 236,
     "metadata": {},
     "output_type": "execute_result"
    }
   ],
   "source": [
    "# clear the list\n",
    "\n",
    "l1"
   ]
  },
  {
   "cell_type": "code",
   "execution_count": 237,
   "id": "b58f2cc9",
   "metadata": {},
   "outputs": [
    {
     "name": "stdout",
     "output_type": "stream",
     "text": [
      "[]\n"
     ]
    }
   ],
   "source": [
    "l1.clear()\n",
    "print(l1)"
   ]
  },
  {
   "cell_type": "code",
   "execution_count": 238,
   "id": "8ffecdf4",
   "metadata": {},
   "outputs": [
    {
     "data": {
      "text/plain": [
       "[]"
      ]
     },
     "execution_count": 238,
     "metadata": {},
     "output_type": "execute_result"
    }
   ],
   "source": [
    "l1"
   ]
  },
  {
   "cell_type": "code",
   "execution_count": 239,
   "id": "047177ff",
   "metadata": {},
   "outputs": [
    {
     "name": "stdout",
     "output_type": "stream",
     "text": [
      "[['apple', 'banana', 'watermelon']]\n"
     ]
    }
   ],
   "source": [
    "# Python loop list\n",
    "\n",
    "l1.insert(0,[\"apple\",\"banana\",\"watermelon\"])\n",
    "print(l1)"
   ]
  },
  {
   "cell_type": "code",
   "execution_count": 240,
   "id": "108793e1",
   "metadata": {},
   "outputs": [
    {
     "data": {
      "text/plain": [
       "[['apple', 'banana', 'watermelon']]"
      ]
     },
     "execution_count": 240,
     "metadata": {},
     "output_type": "execute_result"
    }
   ],
   "source": [
    "l1"
   ]
  },
  {
   "cell_type": "code",
   "execution_count": 241,
   "id": "74ce06a4",
   "metadata": {},
   "outputs": [],
   "source": [
    "del l1\n"
   ]
  },
  {
   "cell_type": "code",
   "execution_count": 242,
   "id": "229f8a70",
   "metadata": {},
   "outputs": [
    {
     "data": {
      "text/plain": [
       "['apple', 'banana', 'watermelon']"
      ]
     },
     "execution_count": 242,
     "metadata": {},
     "output_type": "execute_result"
    }
   ],
   "source": [
    "l1 = [\"apple\",\"banana\",\"watermelon\"]\n",
    "l1"
   ]
  },
  {
   "cell_type": "code",
   "execution_count": 243,
   "id": "25f195b8",
   "metadata": {},
   "outputs": [
    {
     "name": "stdout",
     "output_type": "stream",
     "text": [
      "apple\n",
      "banana\n",
      "watermelon\n"
     ]
    }
   ],
   "source": [
    "for i in l1:\n",
    "    print(i)"
   ]
  },
  {
   "cell_type": "code",
   "execution_count": 244,
   "id": "f4687e2e",
   "metadata": {},
   "outputs": [
    {
     "name": "stdout",
     "output_type": "stream",
     "text": [
      "apple\n",
      "banana\n",
      "watermelon\n"
     ]
    }
   ],
   "source": [
    "for i in range(len(l1)):\n",
    "    print(l1[i])"
   ]
  },
  {
   "cell_type": "code",
   "execution_count": 245,
   "id": "22a4638d",
   "metadata": {},
   "outputs": [
    {
     "name": "stdout",
     "output_type": "stream",
     "text": [
      "apple\n",
      "Banana\n",
      "Cherry\n"
     ]
    }
   ],
   "source": [
    "mylist = [\"apple\", \"Banana\",\"Cherry\"]\n",
    "\n",
    "for i in range(len(mylist)):\n",
    "    print(mylist[i])"
   ]
  },
  {
   "cell_type": "code",
   "execution_count": 246,
   "id": "f12c155f",
   "metadata": {},
   "outputs": [
    {
     "data": {
      "text/plain": [
       "['apple', 'Banana', 'Cherry']"
      ]
     },
     "execution_count": 246,
     "metadata": {},
     "output_type": "execute_result"
    }
   ],
   "source": [
    "mylist"
   ]
  },
  {
   "cell_type": "code",
   "execution_count": 247,
   "id": "ad4ec0ba",
   "metadata": {},
   "outputs": [
    {
     "name": "stdout",
     "output_type": "stream",
     "text": [
      "apple\n",
      "Banana\n",
      "Cherry\n"
     ]
    }
   ],
   "source": [
    "# Looping Using List Comprehension\n",
    "\n",
    "mylist = [\"apple\",\"Banana\",\"Cherry\"]\n",
    "\n",
    "a = [print(i) for i in mylist]"
   ]
  },
  {
   "cell_type": "code",
   "execution_count": 248,
   "id": "2f8f5ed5",
   "metadata": {},
   "outputs": [],
   "source": [
    "# Python - List Comprehension"
   ]
  },
  {
   "cell_type": "code",
   "execution_count": 249,
   "id": "52cb73ee",
   "metadata": {},
   "outputs": [
    {
     "name": "stdout",
     "output_type": "stream",
     "text": [
      "['apple', 'banana', 'mango']\n"
     ]
    }
   ],
   "source": [
    "fruits = [\"apple\",\"banana\",\"cherry\",\"kiwi\",\"mango\"]\n",
    "newlist = []\n",
    "\n",
    "for i in fruits:\n",
    "    if \"a\" in i:\n",
    "        newlist.append(i)\n",
    "print(newlist)"
   ]
  },
  {
   "cell_type": "code",
   "execution_count": 250,
   "id": "67747420",
   "metadata": {},
   "outputs": [
    {
     "name": "stdout",
     "output_type": "stream",
     "text": [
      "['apple', 'banana', 'mango']\n"
     ]
    }
   ],
   "source": [
    "# using list comprehension\n",
    "\n",
    "newlist1 = [ x for x in fruits if \"a\" in x]\n",
    "print(newlist1)"
   ]
  },
  {
   "cell_type": "code",
   "execution_count": 251,
   "id": "074bec41",
   "metadata": {},
   "outputs": [
    {
     "name": "stdout",
     "output_type": "stream",
     "text": [
      "['banana', 'cherry', 'kiwi', 'mango']\n"
     ]
    }
   ],
   "source": [
    "# Only accept items that are not \"apple\":\n",
    "\n",
    "newlist1 = [x for x in fruits if x != \"apple\"]\n",
    "print(newlist1)"
   ]
  },
  {
   "cell_type": "code",
   "execution_count": 252,
   "id": "0b91a2c9",
   "metadata": {},
   "outputs": [
    {
     "data": {
      "text/plain": [
       "['apple', 'banana', 'watermelon']"
      ]
     },
     "execution_count": 252,
     "metadata": {},
     "output_type": "execute_result"
    }
   ],
   "source": [
    "l1"
   ]
  },
  {
   "cell_type": "code",
   "execution_count": 253,
   "id": "7c31834a",
   "metadata": {},
   "outputs": [
    {
     "data": {
      "text/plain": [
       "[1, 2, 3, 4]"
      ]
     },
     "execution_count": 253,
     "metadata": {},
     "output_type": "execute_result"
    }
   ],
   "source": [
    "list1"
   ]
  },
  {
   "cell_type": "code",
   "execution_count": 254,
   "id": "4c55fe98",
   "metadata": {},
   "outputs": [],
   "source": [
    "list1 = [1,\"apple\",True]"
   ]
  },
  {
   "cell_type": "code",
   "execution_count": 255,
   "id": "fab4c3db",
   "metadata": {},
   "outputs": [
    {
     "name": "stdout",
     "output_type": "stream",
     "text": [
      "[1, 2, 3, 4, 5, 6, 7, 8, 9, 10]\n"
     ]
    }
   ],
   "source": [
    "newlist = [x for x in range(1,11)]\n",
    "print(newlist)"
   ]
  },
  {
   "cell_type": "code",
   "execution_count": 256,
   "id": "077cc03c",
   "metadata": {},
   "outputs": [
    {
     "name": "stdout",
     "output_type": "stream",
     "text": [
      "[0, 1, 2, 3, 4]\n"
     ]
    }
   ],
   "source": [
    "# Accept only numbers lower than 5:\n",
    "\n",
    "newlist = [a for a in range(10) if a<5]\n",
    "print(newlist)"
   ]
  },
  {
   "cell_type": "code",
   "execution_count": 257,
   "id": "8de17744",
   "metadata": {},
   "outputs": [
    {
     "name": "stdout",
     "output_type": "stream",
     "text": [
      "[1, 2, 3, 4, 5, 6, 7, 8, 9, 10]\n"
     ]
    }
   ],
   "source": [
    "l = [i for i in range(1,11) ]\n",
    "print(l)"
   ]
  },
  {
   "cell_type": "code",
   "execution_count": 258,
   "id": "c38cf9da",
   "metadata": {},
   "outputs": [
    {
     "data": {
      "text/plain": [
       "[0, 1, 2, 3, 4]"
      ]
     },
     "execution_count": 258,
     "metadata": {},
     "output_type": "execute_result"
    }
   ],
   "source": [
    "newlist"
   ]
  },
  {
   "cell_type": "code",
   "execution_count": 259,
   "id": "72ca8cee",
   "metadata": {},
   "outputs": [
    {
     "data": {
      "text/plain": [
       "['apple', 'Banana', 'Cherry']"
      ]
     },
     "execution_count": 259,
     "metadata": {},
     "output_type": "execute_result"
    }
   ],
   "source": [
    "mylist"
   ]
  },
  {
   "cell_type": "code",
   "execution_count": 260,
   "id": "3ec12c9e",
   "metadata": {},
   "outputs": [
    {
     "name": "stdout",
     "output_type": "stream",
     "text": [
      "['Apple', 'Banana', 'Cherry']\n"
     ]
    }
   ],
   "source": [
    "mylist = [x.title() for x in mylist]\n",
    "print(mylist)"
   ]
  },
  {
   "cell_type": "code",
   "execution_count": 261,
   "id": "61438a13",
   "metadata": {},
   "outputs": [],
   "source": [
    "# Python - Sort Lists\n"
   ]
  },
  {
   "cell_type": "code",
   "execution_count": 262,
   "id": "56a55d52",
   "metadata": {},
   "outputs": [
    {
     "name": "stdout",
     "output_type": "stream",
     "text": [
      "['banana', 'kiwi', 'mango', 'orange', 'pineapple']\n"
     ]
    }
   ],
   "source": [
    "list1 = [\"orange\", \"mango\", \"kiwi\", \"pineapple\", \"banana\"]\n",
    "list1.sort()\n",
    "print(list1)"
   ]
  },
  {
   "cell_type": "code",
   "execution_count": 263,
   "id": "b08180a5",
   "metadata": {},
   "outputs": [
    {
     "name": "stdout",
     "output_type": "stream",
     "text": [
      "[1, 3, 4, 4, 4, 5, 5, 5, 5, 6, 6, 6, 7, 7, 17, 20, 45]\n"
     ]
    }
   ],
   "source": [
    "l = [1,4,5,6,4,3,4,5,6,7,7,6,5,5,17,45,20]\n",
    "l.sort()\n",
    "print(l)"
   ]
  },
  {
   "cell_type": "code",
   "execution_count": 264,
   "id": "73d551de",
   "metadata": {},
   "outputs": [],
   "source": [
    "del l"
   ]
  },
  {
   "cell_type": "code",
   "execution_count": 265,
   "id": "596a0469",
   "metadata": {},
   "outputs": [
    {
     "name": "stdout",
     "output_type": "stream",
     "text": [
      "[55, 9, 8, 7, 6, 6, 5, 4, 3, 2, 1, 0]\n"
     ]
    }
   ],
   "source": [
    "l = [1,2,4,5,6,3,6,8,7,9,0,55]\n",
    "l.sort(reverse=True)\n",
    "print(l)"
   ]
  },
  {
   "cell_type": "code",
   "execution_count": 266,
   "id": "b7ed4e1b",
   "metadata": {},
   "outputs": [
    {
     "name": "stdout",
     "output_type": "stream",
     "text": [
      "[0, 1, 2, 3, 4, 5, 6, 6, 7, 8, 9, 55]\n"
     ]
    }
   ],
   "source": [
    "l.sort(reverse=False)\n",
    "print(l)"
   ]
  },
  {
   "cell_type": "code",
   "execution_count": 267,
   "id": "c1789fc4",
   "metadata": {},
   "outputs": [
    {
     "name": "stdout",
     "output_type": "stream",
     "text": [
      "[50, 65, 23, 82, 100]\n"
     ]
    }
   ],
   "source": [
    "def func(n):\n",
    "    return abs(n-50)\n",
    "\n",
    "list1=[100,50,65,82,23]\n",
    "list1.sort(key=func)\n",
    "print(list1)"
   ]
  },
  {
   "cell_type": "code",
   "execution_count": 268,
   "id": "d7100f7e",
   "metadata": {},
   "outputs": [
    {
     "name": "stdout",
     "output_type": "stream",
     "text": [
      "['Kiwi', 'Orange', 'banana', 'cherry']\n"
     ]
    }
   ],
   "source": [
    "thislist = [\"banana\", \"Orange\", \"Kiwi\", \"cherry\"]\n",
    "thislist.sort(reverse=False)\n",
    "print(thislist)"
   ]
  },
  {
   "cell_type": "code",
   "execution_count": 269,
   "id": "645258a9",
   "metadata": {},
   "outputs": [],
   "source": [
    "# Python - Copy Lists"
   ]
  },
  {
   "cell_type": "code",
   "execution_count": 270,
   "id": "ec9dffdb",
   "metadata": {},
   "outputs": [
    {
     "name": "stdout",
     "output_type": "stream",
     "text": [
      "['Python', 'ML', 'AI', 'c++']\n"
     ]
    }
   ],
   "source": [
    "# Use the copy() method\n",
    "\n",
    "l1 = [\"Python\",\"ML\",\"AI\",\"c++\"]\n",
    "l2 = l1.copy()\n",
    "print(l2)"
   ]
  },
  {
   "cell_type": "code",
   "execution_count": 271,
   "id": "3c22e35d",
   "metadata": {},
   "outputs": [
    {
     "data": {
      "text/plain": [
       "['Python', 'ML', 'AI', 'c++']"
      ]
     },
     "execution_count": 271,
     "metadata": {},
     "output_type": "execute_result"
    }
   ],
   "source": [
    "l1"
   ]
  },
  {
   "cell_type": "code",
   "execution_count": 272,
   "id": "59ecf8f3",
   "metadata": {},
   "outputs": [
    {
     "data": {
      "text/plain": [
       "['Python', 'ML', 'AI', 'c++']"
      ]
     },
     "execution_count": 272,
     "metadata": {},
     "output_type": "execute_result"
    }
   ],
   "source": [
    "l2"
   ]
  },
  {
   "cell_type": "code",
   "execution_count": 273,
   "id": "af4be87d",
   "metadata": {},
   "outputs": [
    {
     "name": "stdout",
     "output_type": "stream",
     "text": [
      "['apple', 'banana']\n"
     ]
    }
   ],
   "source": [
    "# Use the list() method\n",
    "\n",
    "thislist = [\"apple\",\"banana\"]\n",
    "mylist = list(thislist)\n",
    "print(mylist)"
   ]
  },
  {
   "cell_type": "code",
   "execution_count": 274,
   "id": "e6805705",
   "metadata": {},
   "outputs": [
    {
     "data": {
      "text/plain": [
       "['apple', 'banana']"
      ]
     },
     "execution_count": 274,
     "metadata": {},
     "output_type": "execute_result"
    }
   ],
   "source": [
    "thislist"
   ]
  },
  {
   "cell_type": "code",
   "execution_count": 275,
   "id": "077913cd",
   "metadata": {},
   "outputs": [
    {
     "data": {
      "text/plain": [
       "['apple', 'banana']"
      ]
     },
     "execution_count": 275,
     "metadata": {},
     "output_type": "execute_result"
    }
   ],
   "source": [
    "mylist"
   ]
  },
  {
   "cell_type": "code",
   "execution_count": 276,
   "id": "7ead7314",
   "metadata": {},
   "outputs": [
    {
     "name": "stdout",
     "output_type": "stream",
     "text": [
      "['a', 'b', 'c']\n"
     ]
    }
   ],
   "source": [
    "# Use the slice Operator\n",
    "\n",
    "thislist = ['a','b','c']\n",
    "mylist = thislist[:]\n",
    "print(mylist)"
   ]
  },
  {
   "cell_type": "code",
   "execution_count": 277,
   "id": "1d4b1117",
   "metadata": {},
   "outputs": [],
   "source": [
    "# Python - Join Lists\n",
    "\n"
   ]
  },
  {
   "cell_type": "code",
   "execution_count": 278,
   "id": "ce24d7b8",
   "metadata": {},
   "outputs": [
    {
     "name": "stdout",
     "output_type": "stream",
     "text": [
      "['a', 'b', 'c', 1, 2, 3]\n"
     ]
    }
   ],
   "source": [
    "list1 = ['a','b','c']\n",
    "list2 = [1,2,3]\n",
    "list3 = list1 + list2\n",
    "print(list3)"
   ]
  },
  {
   "cell_type": "code",
   "execution_count": 279,
   "id": "9bdaafa4",
   "metadata": {},
   "outputs": [
    {
     "name": "stdout",
     "output_type": "stream",
     "text": [
      "['a', 'b', 'c', 1, 2, 3]\n"
     ]
    }
   ],
   "source": [
    "# append() method using\n",
    "\n",
    "for i in list2:\n",
    "    list1.append(i)\n",
    "    \n",
    "print(list1)"
   ]
  },
  {
   "cell_type": "code",
   "execution_count": 280,
   "id": "e406ad22",
   "metadata": {},
   "outputs": [],
   "source": [
    "# Python - List Methods"
   ]
  },
  {
   "cell_type": "code",
   "execution_count": 281,
   "id": "90104d68",
   "metadata": {},
   "outputs": [
    {
     "name": "stdout",
     "output_type": "stream",
     "text": [
      "['python', 'Ml', 'AI', 'c++']\n"
     ]
    }
   ],
   "source": [
    "# append() method\n",
    "\n",
    "l1 = [\"python\",\"Ml\",\"AI\"]\n",
    "l1.append(\"c++\")\n",
    "print(l1)"
   ]
  },
  {
   "cell_type": "code",
   "execution_count": 282,
   "id": "3a527fd1",
   "metadata": {},
   "outputs": [
    {
     "data": {
      "text/plain": [
       "['python', 'Ml', 'AI', 'c++']"
      ]
     },
     "execution_count": 282,
     "metadata": {},
     "output_type": "execute_result"
    }
   ],
   "source": [
    "l1"
   ]
  },
  {
   "cell_type": "code",
   "execution_count": 283,
   "id": "d904d920",
   "metadata": {},
   "outputs": [
    {
     "name": "stdout",
     "output_type": "stream",
     "text": [
      "['a', 'b', 'c', ['one', 'two', 'three']]\n"
     ]
    }
   ],
   "source": [
    "l1 = [\"a\",\"b\",\"c\"]\n",
    "l2 = [\"one\",\"two\",\"three\"]\n",
    "l1.append(l2)\n",
    "print(l1)"
   ]
  },
  {
   "cell_type": "code",
   "execution_count": 284,
   "id": "0edfe167",
   "metadata": {},
   "outputs": [
    {
     "data": {
      "text/plain": [
       "['a', 'b', 'c', ['one', 'two', 'three']]"
      ]
     },
     "execution_count": 284,
     "metadata": {},
     "output_type": "execute_result"
    }
   ],
   "source": [
    "# clear() method\n",
    "\n",
    "l1"
   ]
  },
  {
   "cell_type": "code",
   "execution_count": 285,
   "id": "ac14d8ea",
   "metadata": {},
   "outputs": [],
   "source": [
    "l1.clear()"
   ]
  },
  {
   "cell_type": "code",
   "execution_count": 286,
   "id": "f9a0dd42",
   "metadata": {},
   "outputs": [
    {
     "data": {
      "text/plain": [
       "[]"
      ]
     },
     "execution_count": 286,
     "metadata": {},
     "output_type": "execute_result"
    }
   ],
   "source": [
    "l1"
   ]
  },
  {
   "cell_type": "code",
   "execution_count": 287,
   "id": "93a6e7ea",
   "metadata": {},
   "outputs": [
    {
     "name": "stdout",
     "output_type": "stream",
     "text": [
      "['apple', 'banana', 'cherry']\n"
     ]
    }
   ],
   "source": [
    "# copy() method\n",
    "\n",
    "fruits = ['apple','banana','cherry']\n",
    "\n",
    "newlist = fruits.copy()\n",
    "print(newlist)"
   ]
  },
  {
   "cell_type": "code",
   "execution_count": 288,
   "id": "d92b0970",
   "metadata": {},
   "outputs": [
    {
     "data": {
      "text/plain": [
       "['apple', 'banana', 'cherry']"
      ]
     },
     "execution_count": 288,
     "metadata": {},
     "output_type": "execute_result"
    }
   ],
   "source": [
    "# count() method\n",
    "\n",
    "newlist"
   ]
  },
  {
   "cell_type": "code",
   "execution_count": 289,
   "id": "aa1490cc",
   "metadata": {},
   "outputs": [
    {
     "name": "stdout",
     "output_type": "stream",
     "text": [
      "1\n"
     ]
    }
   ],
   "source": [
    "x = newlist.count(\"apple\")\n",
    "print(x)"
   ]
  },
  {
   "cell_type": "code",
   "execution_count": 290,
   "id": "a903ae61",
   "metadata": {},
   "outputs": [
    {
     "name": "stdout",
     "output_type": "stream",
     "text": [
      "3\n"
     ]
    }
   ],
   "source": [
    "l1 = ['apple','apple','pinepale','orange','apple']\n",
    "x = l1.count('apple')\n",
    "print(x)"
   ]
  },
  {
   "cell_type": "code",
   "execution_count": 291,
   "id": "107c7c89",
   "metadata": {},
   "outputs": [
    {
     "name": "stdout",
     "output_type": "stream",
     "text": [
      "[1, 2, 3, 4, 5, 6]\n"
     ]
    }
   ],
   "source": [
    "# extend() method\n",
    "\n",
    "l1 = [1,2,3]\n",
    "l2 = [4,5,6]\n",
    "\n",
    "l1.extend(l2)\n",
    "print(l1)"
   ]
  },
  {
   "cell_type": "code",
   "execution_count": 292,
   "id": "21a5cefd",
   "metadata": {},
   "outputs": [
    {
     "data": {
      "text/plain": [
       "[1, 2, 3, 4, 5, 6]"
      ]
     },
     "execution_count": 292,
     "metadata": {},
     "output_type": "execute_result"
    }
   ],
   "source": [
    "l1"
   ]
  },
  {
   "cell_type": "code",
   "execution_count": 293,
   "id": "b4a60041",
   "metadata": {},
   "outputs": [
    {
     "name": "stdout",
     "output_type": "stream",
     "text": [
      "['apple', 'banana', 'orange', 1, 2, 3, 5, 6]\n"
     ]
    }
   ],
   "source": [
    "fruits = ['apple','banana','orange']\n",
    "points = [1,2,3,5,6]\n",
    "\n",
    "fruits.extend(points)\n",
    "print(fruits)"
   ]
  },
  {
   "cell_type": "code",
   "execution_count": 294,
   "id": "62e36f9c",
   "metadata": {},
   "outputs": [
    {
     "data": {
      "text/plain": [
       "[1, 2, 3, 4, 5, 6]"
      ]
     },
     "execution_count": 294,
     "metadata": {},
     "output_type": "execute_result"
    }
   ],
   "source": [
    "# index() method \n",
    "l1"
   ]
  },
  {
   "cell_type": "code",
   "execution_count": 295,
   "id": "4802a67f",
   "metadata": {},
   "outputs": [
    {
     "name": "stdout",
     "output_type": "stream",
     "text": [
      "1\n"
     ]
    }
   ],
   "source": [
    "x = l1.index(2)\n",
    "print(x)"
   ]
  },
  {
   "cell_type": "code",
   "execution_count": 296,
   "id": "2f518c5b",
   "metadata": {},
   "outputs": [
    {
     "data": {
      "text/plain": [
       "['apple', 'banana', 'orange', 1, 2, 3, 5, 6]"
      ]
     },
     "execution_count": 296,
     "metadata": {},
     "output_type": "execute_result"
    }
   ],
   "source": [
    "fruits"
   ]
  },
  {
   "cell_type": "code",
   "execution_count": 297,
   "id": "14a2b55c",
   "metadata": {},
   "outputs": [],
   "source": [
    "a = fruits.index('orange')"
   ]
  },
  {
   "cell_type": "code",
   "execution_count": 298,
   "id": "a00e5c1e",
   "metadata": {},
   "outputs": [
    {
     "data": {
      "text/plain": [
       "2"
      ]
     },
     "execution_count": 298,
     "metadata": {},
     "output_type": "execute_result"
    }
   ],
   "source": [
    "a"
   ]
  },
  {
   "cell_type": "code",
   "execution_count": 299,
   "id": "cb19f091",
   "metadata": {},
   "outputs": [
    {
     "name": "stdout",
     "output_type": "stream",
     "text": [
      "['c++', 'python', 'ml']\n"
     ]
    }
   ],
   "source": [
    "# insert() method\n",
    "\n",
    "l1 = ['python','ml']\n",
    "l1.insert(0,\"c++\")\n",
    "print(l1)"
   ]
  },
  {
   "cell_type": "code",
   "execution_count": 300,
   "id": "90b135bf",
   "metadata": {},
   "outputs": [
    {
     "data": {
      "text/plain": [
       "['c++', 'python', 'ml']"
      ]
     },
     "execution_count": 300,
     "metadata": {},
     "output_type": "execute_result"
    }
   ],
   "source": [
    "l1"
   ]
  },
  {
   "cell_type": "code",
   "execution_count": 301,
   "id": "1af4100e",
   "metadata": {},
   "outputs": [],
   "source": [
    "# pop()\n",
    "# remove()\n",
    "# reverse()\n",
    "# sort()"
   ]
  },
  {
   "cell_type": "code",
   "execution_count": 302,
   "id": "672cb672",
   "metadata": {},
   "outputs": [
    {
     "name": "stdout",
     "output_type": "stream",
     "text": [
      "['c', 'b', 'a']\n"
     ]
    }
   ],
   "source": [
    "l1=['a','b','c']\n",
    "l1.reverse()\n",
    "print(l1)"
   ]
  },
  {
   "cell_type": "code",
   "execution_count": 303,
   "id": "35236fb0",
   "metadata": {},
   "outputs": [
    {
     "name": "stdout",
     "output_type": "stream",
     "text": [
      "[3, 2, 1]\n"
     ]
    }
   ],
   "source": [
    "l1=[1,2,3]\n",
    "l1.reverse()\n",
    "print(l1)"
   ]
  },
  {
   "cell_type": "code",
   "execution_count": 304,
   "id": "7765714a",
   "metadata": {},
   "outputs": [],
   "source": [
    "# Python Tuples"
   ]
  },
  {
   "cell_type": "markdown",
   "id": "97f8f08b",
   "metadata": {},
   "source": [
    "Tuples are used to store multiple items in a single variable.\n",
    "\n",
    "Tuple is one of 4 built-in data types in Python used to store collections of data, the other 3 are List, Set, and Dictionary, all with different qualities and usage.\n",
    "\n",
    "A tuple is a collection which is ordered and unchangeable.\n",
    "\n",
    "Tuples are written with round brackets."
   ]
  },
  {
   "cell_type": "code",
   "execution_count": 311,
   "id": "aa4641c4",
   "metadata": {},
   "outputs": [
    {
     "name": "stdout",
     "output_type": "stream",
     "text": [
      "<class 'tuple'>\n"
     ]
    }
   ],
   "source": [
    "tup1 = (\"Apple\",\"Banana\",\"Cherry\")\n",
    "print(type(tup1))"
   ]
  },
  {
   "cell_type": "code",
   "execution_count": 312,
   "id": "f02aed20",
   "metadata": {},
   "outputs": [
    {
     "data": {
      "text/plain": [
       "('Apple', 'Banana', 'Cherry')"
      ]
     },
     "execution_count": 312,
     "metadata": {},
     "output_type": "execute_result"
    }
   ],
   "source": [
    "tup1"
   ]
  },
  {
   "cell_type": "code",
   "execution_count": 313,
   "id": "140c1276",
   "metadata": {},
   "outputs": [
    {
     "data": {
      "text/plain": [
       "('apple', 'banana', 'cherry', 'apple', 'cherry')"
      ]
     },
     "execution_count": 313,
     "metadata": {},
     "output_type": "execute_result"
    }
   ],
   "source": [
    "tup2 = ('apple','banana','cherry','apple','cherry')\n",
    "tup2"
   ]
  },
  {
   "cell_type": "code",
   "execution_count": 314,
   "id": "86543ff6",
   "metadata": {},
   "outputs": [
    {
     "name": "stdout",
     "output_type": "stream",
     "text": [
      "3\n",
      "5\n"
     ]
    }
   ],
   "source": [
    "print(len(tup1))\n",
    "print(len(tup2))"
   ]
  },
  {
   "cell_type": "code",
   "execution_count": 315,
   "id": "cf27e014",
   "metadata": {},
   "outputs": [
    {
     "name": "stdout",
     "output_type": "stream",
     "text": [
      "('python',)\n"
     ]
    }
   ],
   "source": [
    "# create tuple with one item\n",
    "\n",
    "t1 = ('python',)\n",
    "print(t1)"
   ]
  },
  {
   "cell_type": "code",
   "execution_count": 316,
   "id": "029ebf5e",
   "metadata": {},
   "outputs": [
    {
     "name": "stdout",
     "output_type": "stream",
     "text": [
      "<class 'str'>\n"
     ]
    }
   ],
   "source": [
    "# not allowed\n",
    "t2 = ('python')\n",
    "print(type(t2))"
   ]
  },
  {
   "cell_type": "code",
   "execution_count": 317,
   "id": "68ba2c1b",
   "metadata": {},
   "outputs": [],
   "source": [
    "tup1=('Apple',1,True,'banana')"
   ]
  },
  {
   "cell_type": "code",
   "execution_count": 318,
   "id": "ba7c6730",
   "metadata": {},
   "outputs": [
    {
     "data": {
      "text/plain": [
       "('Apple', 1, True, 'banana')"
      ]
     },
     "execution_count": 318,
     "metadata": {},
     "output_type": "execute_result"
    }
   ],
   "source": [
    "tup1"
   ]
  },
  {
   "cell_type": "code",
   "execution_count": 319,
   "id": "1b03b33f",
   "metadata": {},
   "outputs": [
    {
     "name": "stdout",
     "output_type": "stream",
     "text": [
      "<class 'tuple'>\n",
      "('apple', 'banana', 'papaya')\n"
     ]
    }
   ],
   "source": [
    "# The tuple() Constructor\n",
    "\n",
    "thistuple = tuple(('apple','banana','papaya'))\n",
    "print(type(thistuple))\n",
    "print(thistuple)"
   ]
  },
  {
   "cell_type": "code",
   "execution_count": 320,
   "id": "b214b2e1",
   "metadata": {},
   "outputs": [
    {
     "data": {
      "text/plain": [
       "('apple', 'banana', 'papaya')"
      ]
     },
     "execution_count": 320,
     "metadata": {},
     "output_type": "execute_result"
    }
   ],
   "source": [
    "# access  tuple items\n",
    "\n",
    "thistuple"
   ]
  },
  {
   "cell_type": "code",
   "execution_count": 321,
   "id": "5c5a79dc",
   "metadata": {},
   "outputs": [
    {
     "name": "stdout",
     "output_type": "stream",
     "text": [
      "banana\n"
     ]
    }
   ],
   "source": [
    "print(thistuple[1])"
   ]
  },
  {
   "cell_type": "code",
   "execution_count": 322,
   "id": "a932ae81",
   "metadata": {},
   "outputs": [
    {
     "name": "stdout",
     "output_type": "stream",
     "text": [
      "('apple', 'banana')\n"
     ]
    }
   ],
   "source": [
    "print(thistuple[0:2])"
   ]
  },
  {
   "cell_type": "code",
   "execution_count": 323,
   "id": "c779cdaf",
   "metadata": {},
   "outputs": [
    {
     "name": "stdout",
     "output_type": "stream",
     "text": [
      "('apple',)\n"
     ]
    }
   ],
   "source": [
    "print(thistuple[:-2])"
   ]
  },
  {
   "cell_type": "code",
   "execution_count": 324,
   "id": "70a00103",
   "metadata": {},
   "outputs": [
    {
     "data": {
      "text/plain": [
       "('apple', 'banana', 'papaya')"
      ]
     },
     "execution_count": 324,
     "metadata": {},
     "output_type": "execute_result"
    }
   ],
   "source": [
    "thistuple\n"
   ]
  },
  {
   "cell_type": "code",
   "execution_count": 325,
   "id": "3ce2a665",
   "metadata": {},
   "outputs": [
    {
     "name": "stdout",
     "output_type": "stream",
     "text": [
      "Yes , 'apple' is in the tuple \n"
     ]
    }
   ],
   "source": [
    "if \"banana\" in thistuple:\n",
    "    print(\"Yes , 'apple' is in the tuple \")"
   ]
  },
  {
   "cell_type": "code",
   "execution_count": 326,
   "id": "64975ade",
   "metadata": {},
   "outputs": [
    {
     "name": "stdout",
     "output_type": "stream",
     "text": [
      "('apple', 'kiwi', 'cherry')\n"
     ]
    }
   ],
   "source": [
    "# Convert the tuple into a list to be able to change it:\n",
    "\n",
    "x = (\"apple\",\"banana\",\"cherry\")\n",
    "y = list(x)\n",
    "y[1] = \"kiwi\"\n",
    "x = tuple(y)\n",
    "print(x)"
   ]
  },
  {
   "cell_type": "code",
   "execution_count": 327,
   "id": "76c54cf6",
   "metadata": {},
   "outputs": [
    {
     "data": {
      "text/plain": [
       "('apple', 'kiwi', 'cherry')"
      ]
     },
     "execution_count": 327,
     "metadata": {},
     "output_type": "execute_result"
    }
   ],
   "source": [
    "x"
   ]
  },
  {
   "cell_type": "code",
   "execution_count": 328,
   "id": "ea1ead46",
   "metadata": {},
   "outputs": [],
   "source": [
    "t = ('apple','banana','kiwi')"
   ]
  },
  {
   "cell_type": "code",
   "execution_count": 329,
   "id": "2f09a091",
   "metadata": {},
   "outputs": [
    {
     "name": "stdout",
     "output_type": "stream",
     "text": [
      "('apple', 'banana', 'kiwi', 'watermelon')\n"
     ]
    }
   ],
   "source": [
    "l1= list(t)\n",
    "l1.append('watermelon')\n",
    "t = tuple(l1)\n",
    "print(t)"
   ]
  },
  {
   "cell_type": "code",
   "execution_count": 330,
   "id": "c3c4af0f",
   "metadata": {},
   "outputs": [
    {
     "data": {
      "text/plain": [
       "('apple', 'banana', 'kiwi', 'watermelon')"
      ]
     },
     "execution_count": 330,
     "metadata": {},
     "output_type": "execute_result"
    }
   ],
   "source": [
    "t"
   ]
  },
  {
   "cell_type": "code",
   "execution_count": 331,
   "id": "a6874a80",
   "metadata": {},
   "outputs": [],
   "source": [
    "del t"
   ]
  },
  {
   "cell_type": "code",
   "execution_count": 332,
   "id": "a9bbdd12",
   "metadata": {},
   "outputs": [
    {
     "name": "stdout",
     "output_type": "stream",
     "text": [
      "('apple', 'banana', 'cherry')\n"
     ]
    }
   ],
   "source": [
    "# Packing  a Tuple\n",
    "\n",
    "fruits = (\"apple\",\"banana\",\"cherry\")\n",
    "print(fruits)\n"
   ]
  },
  {
   "cell_type": "code",
   "execution_count": 333,
   "id": "d7a3b8c2",
   "metadata": {},
   "outputs": [
    {
     "name": "stdout",
     "output_type": "stream",
     "text": [
      "apple\n",
      "banana\n",
      "cherry\n"
     ]
    }
   ],
   "source": [
    "# unpaking a tuple\n",
    "\n",
    "fruits = (\"apple\",\"banana\",\"cherry\")\n",
    "(green,yellow,red) = fruits\n",
    "\n",
    "print(green)\n",
    "print(yellow)\n",
    "print(red)"
   ]
  },
  {
   "cell_type": "code",
   "execution_count": 334,
   "id": "2b98eff5",
   "metadata": {},
   "outputs": [
    {
     "name": "stdout",
     "output_type": "stream",
     "text": [
      "apple\n",
      "['banana', 'cherry', 'strawberry']\n",
      "raspberry\n"
     ]
    }
   ],
   "source": [
    "fruits = (\"apple\", \"banana\", \"cherry\", \"strawberry\", \"raspberry\")\n",
    "\n",
    "(green, *yellow, red) = fruits\n",
    "\n",
    "print(green)\n",
    "print(yellow)\n",
    "print(red)"
   ]
  },
  {
   "cell_type": "code",
   "execution_count": 335,
   "id": "5db59737",
   "metadata": {},
   "outputs": [
    {
     "name": "stdout",
     "output_type": "stream",
     "text": [
      "apple,banana,cherry,strawberry,raspberry,"
     ]
    }
   ],
   "source": [
    "# Python - Loop Tuples\n",
    "\n",
    "for x in fruits:\n",
    "    print(x,end=\",\")"
   ]
  },
  {
   "cell_type": "code",
   "execution_count": 336,
   "id": "a8b2b724",
   "metadata": {},
   "outputs": [
    {
     "name": "stdout",
     "output_type": "stream",
     "text": [
      "apple\n",
      "banana\n",
      "cherry\n",
      "strawberry\n",
      "raspberry\n"
     ]
    }
   ],
   "source": [
    "for i in range(len(fruits)):\n",
    "    print(fruits[i])"
   ]
  },
  {
   "cell_type": "code",
   "execution_count": 337,
   "id": "decc9937",
   "metadata": {},
   "outputs": [
    {
     "name": "stdout",
     "output_type": "stream",
     "text": [
      "(1, 2, 3, 'a', 'b', 'c')\n"
     ]
    }
   ],
   "source": [
    "# Python - Join Tuples\n",
    "\n",
    "tup1 = (1,2,3)\n",
    "tup2 = ('a','b','c')\n",
    "\n",
    "t = tup1 + tup2\n",
    "print(t)"
   ]
  },
  {
   "cell_type": "code",
   "execution_count": 338,
   "id": "67af3a18",
   "metadata": {},
   "outputs": [
    {
     "name": "stdout",
     "output_type": "stream",
     "text": [
      "(1, 2, 3, 1, 2, 3, 1, 2, 3)\n"
     ]
    }
   ],
   "source": [
    "mytup = tup1 * 3\n",
    "print(mytup)"
   ]
  },
  {
   "cell_type": "code",
   "execution_count": 339,
   "id": "039676ee",
   "metadata": {},
   "outputs": [],
   "source": [
    "# Python - Tuple Methods"
   ]
  },
  {
   "cell_type": "code",
   "execution_count": 340,
   "id": "b71d1f99",
   "metadata": {},
   "outputs": [],
   "source": [
    "# Python has Two built-in method that you can used\n",
    "\n",
    "# (1)--> count()\n",
    "# (2)--> index()"
   ]
  },
  {
   "cell_type": "code",
   "execution_count": 341,
   "id": "4cfcaba3",
   "metadata": {},
   "outputs": [
    {
     "data": {
      "text/plain": [
       "(1, 2, 3, 'a', 'b', 'c')"
      ]
     },
     "execution_count": 341,
     "metadata": {},
     "output_type": "execute_result"
    }
   ],
   "source": [
    "t"
   ]
  },
  {
   "cell_type": "code",
   "execution_count": 342,
   "id": "24109891",
   "metadata": {},
   "outputs": [
    {
     "name": "stdout",
     "output_type": "stream",
     "text": [
      "1\n"
     ]
    }
   ],
   "source": [
    "x = t.count(3)\n",
    "print(x)"
   ]
  },
  {
   "cell_type": "code",
   "execution_count": 343,
   "id": "57871ddf",
   "metadata": {},
   "outputs": [
    {
     "data": {
      "text/plain": [
       "('apple', 'banana', 'cherry', 'strawberry', 'raspberry')"
      ]
     },
     "execution_count": 343,
     "metadata": {},
     "output_type": "execute_result"
    }
   ],
   "source": [
    "fruits"
   ]
  },
  {
   "cell_type": "code",
   "execution_count": 344,
   "id": "e872baf6",
   "metadata": {},
   "outputs": [],
   "source": [
    "x = fruits.index(\"cherry\")"
   ]
  },
  {
   "cell_type": "code",
   "execution_count": 345,
   "id": "0185822f",
   "metadata": {},
   "outputs": [
    {
     "data": {
      "text/plain": [
       "2"
      ]
     },
     "execution_count": 345,
     "metadata": {},
     "output_type": "execute_result"
    }
   ],
   "source": [
    "x"
   ]
  },
  {
   "cell_type": "code",
   "execution_count": 346,
   "id": "ce8e42a1",
   "metadata": {},
   "outputs": [
    {
     "name": "stdout",
     "output_type": "stream",
     "text": [
      "(1, 2, 3, 1, 2, 3)\n"
     ]
    }
   ],
   "source": [
    "t = (1,2,3)\n",
    "t = t*2\n",
    "print(t)"
   ]
  },
  {
   "cell_type": "markdown",
   "id": "fab2fd7c",
   "metadata": {},
   "source": [
    "# Python Sets"
   ]
  },
  {
   "cell_type": "markdown",
   "id": "033b7d13",
   "metadata": {},
   "source": [
    "Sets are used to store multiple items in a single variable.\n",
    "\n",
    "Set is one of 4 built-in data types in Python used to store collections of data, the other 3 are List, Tuple, and Dictionary, all with different qualities and usage.\n",
    "\n",
    "A set is a collection which is unordered, unchangeable*, and unindexed."
   ]
  },
  {
   "cell_type": "code",
   "execution_count": 348,
   "id": "e1fd5302",
   "metadata": {},
   "outputs": [
    {
     "name": "stdout",
     "output_type": "stream",
     "text": [
      "{'banana', 2, 'apple', 1}\n",
      "<class 'set'>\n",
      "{'banana', 2, 'apple', 1}\n"
     ]
    }
   ],
   "source": [
    "set1 = {\"apple\",1,\"banana\",2,1,\"apple\"}\n",
    "print(set1)\n",
    "print(type(set1))\n",
    "print(set1)"
   ]
  },
  {
   "cell_type": "code",
   "execution_count": 349,
   "id": "8753bb18",
   "metadata": {},
   "outputs": [
    {
     "data": {
      "text/plain": [
       "{'apple', 'banana', 'cherry'}"
      ]
     },
     "execution_count": 349,
     "metadata": {},
     "output_type": "execute_result"
    }
   ],
   "source": [
    "set1 = {\"apple\",\"banana\",\"cherry\"}\n",
    "set1"
   ]
  },
  {
   "cell_type": "code",
   "execution_count": 350,
   "id": "a8078ae5",
   "metadata": {},
   "outputs": [
    {
     "data": {
      "text/plain": [
       "{0, True, 'apple', 'banana', 'cherry'}"
      ]
     },
     "execution_count": 350,
     "metadata": {},
     "output_type": "execute_result"
    }
   ],
   "source": [
    "s1 = {\"apple\",\"banana\",\"cherry\",True,1,0,False}\n",
    "s1"
   ]
  },
  {
   "cell_type": "code",
   "execution_count": 351,
   "id": "a7ac504e",
   "metadata": {},
   "outputs": [
    {
     "name": "stdout",
     "output_type": "stream",
     "text": [
      "5\n"
     ]
    }
   ],
   "source": [
    "print(len(s1))"
   ]
  },
  {
   "cell_type": "code",
   "execution_count": 352,
   "id": "f45cecee",
   "metadata": {},
   "outputs": [
    {
     "name": "stdout",
     "output_type": "stream",
     "text": [
      "<class 'set'>\n"
     ]
    }
   ],
   "source": [
    "thisset = set((\"a\",2,\"b\",2)) # using set() constructor\n",
    "print(type(thisset))"
   ]
  },
  {
   "cell_type": "code",
   "execution_count": 353,
   "id": "5a156cd8",
   "metadata": {},
   "outputs": [
    {
     "name": "stdout",
     "output_type": "stream",
     "text": [
      "<class 'list'>\n"
     ]
    }
   ],
   "source": [
    "a = list((\"a\",\"b\")) # using list() constructor\n",
    "print(type(a))"
   ]
  },
  {
   "cell_type": "code",
   "execution_count": 354,
   "id": "e93f4de4",
   "metadata": {},
   "outputs": [
    {
     "name": "stdout",
     "output_type": "stream",
     "text": [
      "<class 'tuple'>\n"
     ]
    }
   ],
   "source": [
    "b = tuple((1,))  # using tuple() constructor\n",
    "print(type(b))"
   ]
  },
  {
   "cell_type": "code",
   "execution_count": 355,
   "id": "ffe5e6ef",
   "metadata": {},
   "outputs": [
    {
     "data": {
      "text/plain": [
       "(1, 2, 3, 1, 2, 3)"
      ]
     },
     "execution_count": 355,
     "metadata": {},
     "output_type": "execute_result"
    }
   ],
   "source": [
    "# Python - Access Set Items\n",
    "\n",
    "t"
   ]
  },
  {
   "cell_type": "code",
   "execution_count": 356,
   "id": "6e1d6873",
   "metadata": {},
   "outputs": [
    {
     "data": {
      "text/plain": [
       "{0, True, 'apple', 'banana', 'cherry'}"
      ]
     },
     "execution_count": 356,
     "metadata": {},
     "output_type": "execute_result"
    }
   ],
   "source": [
    "s1"
   ]
  },
  {
   "cell_type": "code",
   "execution_count": 357,
   "id": "4571d6bb",
   "metadata": {},
   "outputs": [
    {
     "name": "stdout",
     "output_type": "stream",
     "text": [
      "0\n",
      "True\n",
      "banana\n",
      "apple\n",
      "cherry\n"
     ]
    }
   ],
   "source": [
    "for i in s1:\n",
    "    print(i)"
   ]
  },
  {
   "cell_type": "code",
   "execution_count": 358,
   "id": "ca8ee0b2",
   "metadata": {},
   "outputs": [
    {
     "name": "stdout",
     "output_type": "stream",
     "text": [
      "True\n"
     ]
    }
   ],
   "source": [
    "print(\"banana\" in s1)"
   ]
  },
  {
   "cell_type": "code",
   "execution_count": 359,
   "id": "5420f201",
   "metadata": {},
   "outputs": [
    {
     "data": {
      "text/plain": [
       "{0, True, 'apple', 'banana', 'cherry'}"
      ]
     },
     "execution_count": 359,
     "metadata": {},
     "output_type": "execute_result"
    }
   ],
   "source": [
    "s1"
   ]
  },
  {
   "cell_type": "code",
   "execution_count": 360,
   "id": "4f9d5d6e",
   "metadata": {},
   "outputs": [
    {
     "name": "stdout",
     "output_type": "stream",
     "text": [
      "True\n"
     ]
    }
   ],
   "source": [
    "set1 = {1,2,3,4,5,\"apple\",\"watermelon\"}\n",
    "print(\"apple\" in set1)"
   ]
  },
  {
   "cell_type": "code",
   "execution_count": 361,
   "id": "d1bffe8e",
   "metadata": {},
   "outputs": [
    {
     "name": "stdout",
     "output_type": "stream",
     "text": [
      "True\n"
     ]
    }
   ],
   "source": [
    "print(\"cherry\" not in set1)"
   ]
  },
  {
   "cell_type": "code",
   "execution_count": 362,
   "id": "48c9ad92",
   "metadata": {},
   "outputs": [
    {
     "name": "stdout",
     "output_type": "stream",
     "text": [
      "{'banana', 'watermelon', 'apple', 'cherry'}\n"
     ]
    }
   ],
   "source": [
    "thisset = {\"apple\",\"banana\",\"cherry\"}\n",
    "thisset.add(\"watermelon\")\n",
    "print(thisset)"
   ]
  },
  {
   "cell_type": "code",
   "execution_count": 363,
   "id": "6435a472",
   "metadata": {},
   "outputs": [
    {
     "data": {
      "text/plain": [
       "{'apple', 'banana', 'cherry', 'watermelon'}"
      ]
     },
     "execution_count": 363,
     "metadata": {},
     "output_type": "execute_result"
    }
   ],
   "source": [
    "thisset"
   ]
  },
  {
   "cell_type": "code",
   "execution_count": 364,
   "id": "aa6594c4",
   "metadata": {},
   "outputs": [
    {
     "data": {
      "text/plain": [
       "{1, 2, 3, 4, 5, 'apple', 'watermelon'}"
      ]
     },
     "execution_count": 364,
     "metadata": {},
     "output_type": "execute_result"
    }
   ],
   "source": [
    "set1"
   ]
  },
  {
   "cell_type": "code",
   "execution_count": 365,
   "id": "77cdacd6",
   "metadata": {},
   "outputs": [
    {
     "name": "stdout",
     "output_type": "stream",
     "text": [
      "{1, 2, 3, 4, 5, 'banana', 'apple', 'cherry', 'watermelon'}\n"
     ]
    }
   ],
   "source": [
    "thisset.update(set1)\n",
    "print(thisset)"
   ]
  },
  {
   "cell_type": "code",
   "execution_count": 366,
   "id": "17b797e0",
   "metadata": {},
   "outputs": [
    {
     "data": {
      "text/plain": [
       "{1, 2, 3, 4, 5, 'apple', 'banana', 'cherry', 'watermelon'}"
      ]
     },
     "execution_count": 366,
     "metadata": {},
     "output_type": "execute_result"
    }
   ],
   "source": [
    "thisset"
   ]
  },
  {
   "cell_type": "code",
   "execution_count": 367,
   "id": "1c363712",
   "metadata": {},
   "outputs": [
    {
     "name": "stdout",
     "output_type": "stream",
     "text": [
      "{1, 2, 3, 4, 5, 'banana', 'b', 'apple', 'cherry', 'watermelon', 'a'}\n"
     ]
    }
   ],
   "source": [
    "l1 = ['a','b']\n",
    "thisset.update(l1)\n",
    "print(thisset)"
   ]
  },
  {
   "cell_type": "code",
   "execution_count": 368,
   "id": "ef00d0e4",
   "metadata": {},
   "outputs": [
    {
     "name": "stdout",
     "output_type": "stream",
     "text": [
      "{1, 2, 3, 4, 5, 'banana', 'b', 'apple', 'cherry', 'watermelon', 'APPLE', 'a'}\n"
     ]
    }
   ],
   "source": [
    "thisset.add(\"APPLE\")\n",
    "print(thisset)"
   ]
  },
  {
   "cell_type": "code",
   "execution_count": 371,
   "id": "47ff001a",
   "metadata": {},
   "outputs": [
    {
     "ename": "KeyError",
     "evalue": "'cher'",
     "output_type": "error",
     "traceback": [
      "\u001b[1;31m---------------------------------------------------------------------------\u001b[0m",
      "\u001b[1;31mKeyError\u001b[0m                                  Traceback (most recent call last)",
      "Cell \u001b[1;32mIn[371], line 4\u001b[0m\n\u001b[0;32m      1\u001b[0m \u001b[38;5;66;03m# Python - Remove Set Items\u001b[39;00m\n\u001b[0;32m      3\u001b[0m thisset \u001b[38;5;241m=\u001b[39m {\u001b[38;5;124m\"\u001b[39m\u001b[38;5;124mapple\u001b[39m\u001b[38;5;124m\"\u001b[39m, \u001b[38;5;124m\"\u001b[39m\u001b[38;5;124mbanana\u001b[39m\u001b[38;5;124m\"\u001b[39m, \u001b[38;5;124m\"\u001b[39m\u001b[38;5;124mcherry\u001b[39m\u001b[38;5;124m\"\u001b[39m} \u001b[38;5;66;03m# using remove()  set error through\u001b[39;00m\n\u001b[1;32m----> 4\u001b[0m \u001b[43mthisset\u001b[49m\u001b[38;5;241;43m.\u001b[39;49m\u001b[43mremove\u001b[49m\u001b[43m(\u001b[49m\u001b[38;5;124;43m\"\u001b[39;49m\u001b[38;5;124;43mcher\u001b[39;49m\u001b[38;5;124;43m\"\u001b[39;49m\u001b[43m)\u001b[49m\n\u001b[0;32m      5\u001b[0m \u001b[38;5;28mprint\u001b[39m(thisset)\n",
      "\u001b[1;31mKeyError\u001b[0m: 'cher'"
     ]
    }
   ],
   "source": [
    "# Python - Remove Set Items\n",
    "\n",
    "thisset = {\"apple\", \"banana\", \"cherry\"} # using remove()  set error through\n",
    "thisset.remove(\"cher\")\n",
    "print(thisset)\n"
   ]
  },
  {
   "cell_type": "code",
   "execution_count": 372,
   "id": "d052f25c",
   "metadata": {},
   "outputs": [
    {
     "name": "stdout",
     "output_type": "stream",
     "text": [
      "{'banana', 'apple', 'cherry'}\n"
     ]
    }
   ],
   "source": [
    "thisset = {\"apple\", \"banana\", \"cherry\"} #using discard() not error through\n",
    "thisset.discard(\"appl\")\n",
    "print(thisset)"
   ]
  },
  {
   "cell_type": "code",
   "execution_count": 373,
   "id": "07356cc8",
   "metadata": {},
   "outputs": [
    {
     "data": {
      "text/plain": [
       "{'apple', 'banana', 'cherry'}"
      ]
     },
     "execution_count": 373,
     "metadata": {},
     "output_type": "execute_result"
    }
   ],
   "source": [
    "thisset"
   ]
  },
  {
   "cell_type": "code",
   "execution_count": 374,
   "id": "d07d4e17",
   "metadata": {},
   "outputs": [
    {
     "name": "stdout",
     "output_type": "stream",
     "text": [
      "banana\n",
      "{'apple', 'cherry'}\n"
     ]
    }
   ],
   "source": [
    "x = thisset.pop()\n",
    "print(x)\n",
    "print(thisset)"
   ]
  },
  {
   "cell_type": "code",
   "execution_count": 375,
   "id": "c0ca6399",
   "metadata": {},
   "outputs": [
    {
     "data": {
      "text/plain": [
       "{'apple', 'cherry'}"
      ]
     },
     "execution_count": 375,
     "metadata": {},
     "output_type": "execute_result"
    }
   ],
   "source": [
    "thisset"
   ]
  },
  {
   "cell_type": "code",
   "execution_count": 376,
   "id": "95ef81d9",
   "metadata": {},
   "outputs": [
    {
     "data": {
      "text/plain": [
       "{1, 2, 3, 4, 5, 'apple', 'watermelon'}"
      ]
     },
     "execution_count": 376,
     "metadata": {},
     "output_type": "execute_result"
    }
   ],
   "source": [
    "set1"
   ]
  },
  {
   "cell_type": "code",
   "execution_count": 377,
   "id": "1ceb0af9",
   "metadata": {},
   "outputs": [
    {
     "name": "stdout",
     "output_type": "stream",
     "text": [
      "None\n"
     ]
    }
   ],
   "source": [
    "print(set1.clear())"
   ]
  },
  {
   "cell_type": "code",
   "execution_count": 378,
   "id": "56043d14",
   "metadata": {},
   "outputs": [
    {
     "data": {
      "text/plain": [
       "set()"
      ]
     },
     "execution_count": 378,
     "metadata": {},
     "output_type": "execute_result"
    }
   ],
   "source": [
    "set1"
   ]
  },
  {
   "cell_type": "code",
   "execution_count": 379,
   "id": "a58bb48c",
   "metadata": {},
   "outputs": [],
   "source": [
    "del thisset"
   ]
  },
  {
   "cell_type": "code",
   "execution_count": 380,
   "id": "0c98235d",
   "metadata": {},
   "outputs": [
    {
     "name": "stdout",
     "output_type": "stream",
     "text": [
      "[0, 'banana']\n",
      "[1, 'apple']\n",
      "[2, 'cherry']\n"
     ]
    }
   ],
   "source": [
    "# Python - Loop Sets\n",
    "\n",
    "thisset = {\"apple\", \"banana\", \"cherry\"}\n",
    "\n",
    "for x in enumerate(thisset):\n",
    "      print(list(x))"
   ]
  },
  {
   "cell_type": "markdown",
   "id": "d492d6e8",
   "metadata": {},
   "source": [
    "#  Join Sets\n",
    "    There are several ways to join two or more sets in Python.\n",
    "\n",
    "    The union() and update() methods joins all items from both sets.\n",
    "\n",
    "    The intersection() method keeps ONLY the duplicates.\n",
    "\n",
    "    The difference() method keeps the items from the first set that are not in the other set(s).\n",
    "    \n",
    "    The symmetric_difference() method keeps all items EXCEPT the duplicates.\n",
    "\n"
   ]
  },
  {
   "cell_type": "code",
   "execution_count": 381,
   "id": "a7bf5930",
   "metadata": {},
   "outputs": [
    {
     "name": "stdout",
     "output_type": "stream",
     "text": [
      "{1, 2, 3, 'a', 'b', 'c'}\n"
     ]
    }
   ],
   "source": [
    "# union()\n",
    "\n",
    "set1 = {\"a\", \"b\", \"c\"}\n",
    "set2 = {1, 2, 3}\n",
    "\n",
    "set3 = set1.union(set2)\n",
    "print(set3)"
   ]
  },
  {
   "cell_type": "code",
   "execution_count": 382,
   "id": "5328aa2a",
   "metadata": {},
   "outputs": [
    {
     "name": "stdout",
     "output_type": "stream",
     "text": [
      "{1, 2, 3, 'a', 'b', 'c'}\n"
     ]
    }
   ],
   "source": [
    "# using |operator same as union()\n",
    "\n",
    "set1 = {\"a\", \"b\", \"c\"}\n",
    "set2 = {1, 2, 3}\n",
    "\n",
    "set3 = set1 | set2\n",
    "print(set3)"
   ]
  },
  {
   "cell_type": "code",
   "execution_count": 383,
   "id": "2b3eb65f",
   "metadata": {},
   "outputs": [
    {
     "name": "stdout",
     "output_type": "stream",
     "text": [
      "{1, 2, 3, 'bananas', 'b', 'apple', 'Elena', 'cherry', 'a', 'John', 'c'}\n",
      "11\n"
     ]
    }
   ],
   "source": [
    "# multipale sets join\n",
    "\n",
    "set1 = {\"a\", \"b\", \"c\"}\n",
    "set2 = {1, 2, 3}\n",
    "set3 = {\"John\", \"Elena\"}\n",
    "set4 = {\"apple\", \"bananas\", \"cherry\"}\n",
    "\n",
    "myset = set1.union(set2, set3, set4)\n",
    "print(myset)\n",
    "print(len(myset))\n",
    "\n"
   ]
  },
  {
   "cell_type": "code",
   "execution_count": 384,
   "id": "16b89ec9",
   "metadata": {},
   "outputs": [
    {
     "name": "stdout",
     "output_type": "stream",
     "text": [
      "{1, 2, 3, 'b', 'a', 'c'}\n"
     ]
    }
   ],
   "source": [
    "x = {1,2,3}\n",
    "y = ('a','b','c')\n",
    "\n",
    "z = x.union(y)\n",
    "print(z)"
   ]
  },
  {
   "cell_type": "code",
   "execution_count": 385,
   "id": "f5f5b43e",
   "metadata": {},
   "outputs": [
    {
     "data": {
      "text/plain": [
       "{1, 2, 3, 'a', 'b', 'c'}"
      ]
     },
     "execution_count": 385,
     "metadata": {},
     "output_type": "execute_result"
    }
   ],
   "source": [
    "x ={1,2,3}\n",
    "y = {'a','b','c'}\n",
    "\n",
    "z = x | y\n",
    "z"
   ]
  },
  {
   "cell_type": "code",
   "execution_count": 386,
   "id": "64bd9d3e",
   "metadata": {},
   "outputs": [
    {
     "name": "stdout",
     "output_type": "stream",
     "text": [
      "{1, 2, 3, 'a', 'b', 'c'}\n"
     ]
    }
   ],
   "source": [
    "set1 = {\"a\", \"b\" , \"c\",\"a\"}\n",
    "set2 = {1, 2, 3,2}\n",
    "\n",
    "set1.update(set2)\n",
    "print(set1)"
   ]
  },
  {
   "cell_type": "markdown",
   "id": "d85fb5da",
   "metadata": {},
   "source": [
    "# sine of join set\n",
    "\n",
    "    union() = |\n",
    "    intersection() = &\n",
    "    difference() = -\n",
    "    symmetric_difference() = ^\n"
   ]
  },
  {
   "cell_type": "code",
   "execution_count": 387,
   "id": "dba012f9",
   "metadata": {},
   "outputs": [
    {
     "name": "stdout",
     "output_type": "stream",
     "text": [
      "{1, 2, 3, 'a', 'b', 'c'}\n"
     ]
    }
   ],
   "source": [
    "# union() = |\n",
    "\n",
    "set1 = {'a','b','c'}\n",
    "set2 = {1,2,3}\n",
    "\n",
    "# set3 = set1.union(set2) or\n",
    "set3 = set1 | set2\n",
    "print(set3)"
   ]
  },
  {
   "cell_type": "code",
   "execution_count": 388,
   "id": "6393e608",
   "metadata": {},
   "outputs": [
    {
     "name": "stdout",
     "output_type": "stream",
     "text": [
      "{'apple'}\n"
     ]
    }
   ],
   "source": [
    "# intersection() = &\n",
    "\n",
    "set1 = {\"apple\", \"banana\", \"cherry\"}\n",
    "set2 = {\"google\", \"microsoft\", \"apple\"}\n",
    "\n",
    "# set3 = set1.intersection(set2) or\n",
    "set3 = set1 & set2\n",
    "print(set3)"
   ]
  },
  {
   "cell_type": "code",
   "execution_count": 88,
   "id": "2a992b7e",
   "metadata": {},
   "outputs": [
    {
     "name": "stdout",
     "output_type": "stream",
     "text": [
      "{'A'}\n"
     ]
    }
   ],
   "source": [
    "# intersection() \n",
    "\n",
    "s1 = {\"A\",\"B\",\"C\"}\n",
    "s2 = {\"D\",\"A\",\"F\"}\n",
    "\n",
    "s3 = s1 & s2\n",
    "print(s3)"
   ]
  },
  {
   "cell_type": "code",
   "execution_count": 389,
   "id": "3e79afb8",
   "metadata": {},
   "outputs": [
    {
     "name": "stdout",
     "output_type": "stream",
     "text": [
      "{'apple'}\n"
     ]
    }
   ],
   "source": [
    "# intersection_update() \n",
    "\n",
    "set1 = {\"apple\", \"banana\", \"cherry\"}\n",
    "set2 = {\"google\", \"microsoft\", \"apple\"}\n",
    "\n",
    "set1.intersection_update(set2)\n",
    "\n",
    "print(set1)"
   ]
  },
  {
   "cell_type": "code",
   "execution_count": 390,
   "id": "121a4930",
   "metadata": {},
   "outputs": [
    {
     "name": "stdout",
     "output_type": "stream",
     "text": [
      "{'banana', 'cherry'}\n"
     ]
    }
   ],
   "source": [
    "# difference() = -\n",
    "\n",
    "set1 = {\"apple\", \"banana\", \"cherry\"}\n",
    "set2 = {\"google\", \"microsoft\", \"apple\"}\n",
    "\n",
    "# set3 = set1.difference(set2) or\n",
    "set3 = set1 - set2\n",
    "\n",
    "print(set3)"
   ]
  },
  {
   "cell_type": "code",
   "execution_count": 391,
   "id": "d101ff2d",
   "metadata": {},
   "outputs": [
    {
     "name": "stdout",
     "output_type": "stream",
     "text": [
      "{'banana', 'cherry'}\n"
     ]
    }
   ],
   "source": [
    "# difference_update()\n",
    "\n",
    "set1 = {\"apple\", \"banana\", \"cherry\"}\n",
    "set2 = {\"google\", \"microsoft\", \"apple\"}\n",
    "\n",
    "set1.difference_update(set2)\n",
    "\n",
    "print(set1)"
   ]
  },
  {
   "cell_type": "code",
   "execution_count": 392,
   "id": "d608b138",
   "metadata": {},
   "outputs": [
    {
     "name": "stdout",
     "output_type": "stream",
     "text": [
      "{'microsoft', 'google', 'banana', 'cherry'}\n"
     ]
    }
   ],
   "source": [
    "# symmetric_difference() = ^\n",
    "\n",
    "\n",
    "set1 = {\"apple\", \"banana\", \"cherry\"}\n",
    "set2 = {\"google\", \"microsoft\", \"apple\"}\n",
    "\n",
    "# set3 = set1.symmetric_difference(set2) or\n",
    "set3 = set1 ^ set2\n",
    "\n",
    "print(set3)"
   ]
  },
  {
   "cell_type": "code",
   "execution_count": 393,
   "id": "98f5118d",
   "metadata": {},
   "outputs": [
    {
     "name": "stdout",
     "output_type": "stream",
     "text": [
      "{'microsoft', 'google', 'banana', 'cherry'}\n"
     ]
    }
   ],
   "source": [
    "# symmetric_difference_update()\n",
    "\n",
    "set1 = {\"apple\", \"banana\", \"cherry\"}\n",
    "set2 = {\"google\", \"microsoft\", \"apple\"}\n",
    "\n",
    "set1.symmetric_difference_update(set2)\n",
    "\n",
    "print(set1)"
   ]
  },
  {
   "cell_type": "markdown",
   "id": "44327af6",
   "metadata": {},
   "source": [
    "# Python - Set Methods"
   ]
  },
  {
   "cell_type": "markdown",
   "id": "1ff1e11e",
   "metadata": {},
   "source": [
    "# add()\t \tAdds an element to the set\n",
    "# clear()\t \tRemoves all the elements from the set\n",
    "# copy()\t \tReturns a copy of the set\n",
    "# difference()\t-\tReturns a set containing the difference between two or more sets\n",
    "# difference_update()\t-=\tRemoves the items in this set that are also included in another, specified set\n",
    "# discard()\t \tRemove the specified item\n",
    "# intersection()\t&\tReturns a set, that is the intersection of two other sets\n",
    "# intersection_update()\t&=\tRemoves the items in this set that are not present in other, specified set(s)\n",
    "# isdisjoint()\t \tReturns whether two sets have a intersection or not\n",
    "# issubset()\t<=\tReturns whether another set contains this set or not\n",
    "#  \t<\tReturns whether all items in this set is present in other, specified set(s)\n",
    "# issuperset()\t>=\tReturns whether this set contains another set or not\n",
    "#  \t>\tReturns whether all items in other, specified set(s) is present in this set\n",
    "# pop()\t \tRemoves an element from the set\n",
    "# remove()\t \tRemoves the specified element\n",
    "# symmetric_difference()\t^\tReturns a set with the symmetric differences of two sets\n",
    "# symmetric_difference_update()\t^=\tInserts the symmetric differences from this set and another\n",
    "# union()\t|\tReturn a set containing the union of sets\n",
    "# update()\t|=\tUpdate the set with the union of this set and others"
   ]
  },
  {
   "cell_type": "code",
   "execution_count": null,
   "id": "dbce482c",
   "metadata": {},
   "outputs": [],
   "source": []
  },
  {
   "cell_type": "markdown",
   "id": "02c4bf7f",
   "metadata": {},
   "source": [
    "\n",
    "# Python Dictionaries"
   ]
  },
  {
   "cell_type": "code",
   "execution_count": 394,
   "id": "df4ed926",
   "metadata": {},
   "outputs": [
    {
     "name": "stdout",
     "output_type": "stream",
     "text": [
      "{'brand': 'Ford', 'model': 'Mustang', 'year': '1964'}\n"
     ]
    }
   ],
   "source": [
    "mydict = {\n",
    "    \"brand\":\"Ford\",\n",
    "    \"model\":\"Mustang\",\n",
    "    \"year\":\"1964\"\n",
    "}\n",
    "\n",
    "print(mydict)"
   ]
  },
  {
   "cell_type": "code",
   "execution_count": 395,
   "id": "64896920",
   "metadata": {},
   "outputs": [
    {
     "name": "stdout",
     "output_type": "stream",
     "text": [
      "Mustang\n"
     ]
    }
   ],
   "source": [
    "print(mydict['model'])"
   ]
  },
  {
   "cell_type": "code",
   "execution_count": 396,
   "id": "1d39cf4e",
   "metadata": {},
   "outputs": [
    {
     "name": "stdout",
     "output_type": "stream",
     "text": [
      "1964\n"
     ]
    }
   ],
   "source": [
    "print(mydict[\"year\"])"
   ]
  },
  {
   "cell_type": "code",
   "execution_count": 397,
   "id": "f1188ab5",
   "metadata": {},
   "outputs": [
    {
     "name": "stdout",
     "output_type": "stream",
     "text": [
      "{'brand': 'ford', 'model': 'Mustang', 'year': 1998}\n"
     ]
    }
   ],
   "source": [
    "d = {\n",
    "    \"brand\": \"ford\",\n",
    "    \"model\":\"BMW\",\n",
    "    \"model\": \"Mustang\",\n",
    "    \"year\": 1964,\n",
    "    \"year\": 1998\n",
    "}\n",
    "print(d)  # Duplicate not allowed"
   ]
  },
  {
   "cell_type": "code",
   "execution_count": 398,
   "id": "983597ab",
   "metadata": {},
   "outputs": [
    {
     "name": "stdout",
     "output_type": "stream",
     "text": [
      "3\n"
     ]
    }
   ],
   "source": [
    "print(len(d))"
   ]
  },
  {
   "cell_type": "code",
   "execution_count": 399,
   "id": "0895e311",
   "metadata": {},
   "outputs": [
    {
     "name": "stdout",
     "output_type": "stream",
     "text": [
      "{'brand': 'Ford', 'electric': False, 'year': 1998, 'colors': ['red', 'green', 'yellow']}\n"
     ]
    }
   ],
   "source": [
    "d1 = {\n",
    "    \"brand\":\"Ford\",\n",
    "    \"electric\":False,\n",
    "    \"year\":1998,\n",
    "    \"colors\":[\"red\",\"green\",\"yellow\"]\n",
    "    \n",
    "}\n",
    "print(d1)"
   ]
  },
  {
   "cell_type": "code",
   "execution_count": 400,
   "id": "5e159930",
   "metadata": {},
   "outputs": [
    {
     "name": "stdout",
     "output_type": "stream",
     "text": [
      "{'name': 'ram', 'age': 27, 'country': 'IND'}\n",
      "<class 'dict'>\n",
      "4\n"
     ]
    }
   ],
   "source": [
    "# using dict() constructor\n",
    "\n",
    "d3 = dict(name='ram',age=27,country=\"IND\")\n",
    "print(d3)\n",
    "print(type(d3))\n",
    "print(len(d1))"
   ]
  },
  {
   "cell_type": "code",
   "execution_count": 401,
   "id": "d118b4e7",
   "metadata": {},
   "outputs": [
    {
     "data": {
      "text/plain": [
       "{'brand': 'Ford',\n",
       " 'electric': False,\n",
       " 'year': 1998,\n",
       " 'colors': ['red', 'green', 'yellow']}"
      ]
     },
     "execution_count": 401,
     "metadata": {},
     "output_type": "execute_result"
    }
   ],
   "source": [
    "# Python - Access Dictionary Items\n",
    "\n",
    "d1"
   ]
  },
  {
   "cell_type": "code",
   "execution_count": 402,
   "id": "410bb75c",
   "metadata": {},
   "outputs": [
    {
     "data": {
      "text/plain": [
       "['red', 'green', 'yellow']"
      ]
     },
     "execution_count": 402,
     "metadata": {},
     "output_type": "execute_result"
    }
   ],
   "source": [
    "x = d1[\"colors\"]\n",
    "x"
   ]
  },
  {
   "cell_type": "code",
   "execution_count": 403,
   "id": "8cb04cb4",
   "metadata": {},
   "outputs": [
    {
     "data": {
      "text/plain": [
       "False"
      ]
     },
     "execution_count": 403,
     "metadata": {},
     "output_type": "execute_result"
    }
   ],
   "source": [
    "x = d1.get(\"electric\")\n",
    "x\n"
   ]
  },
  {
   "cell_type": "code",
   "execution_count": 404,
   "id": "f88268b3",
   "metadata": {},
   "outputs": [
    {
     "name": "stdout",
     "output_type": "stream",
     "text": [
      "dict_keys(['brand', 'electric', 'year', 'colors'])\n"
     ]
    }
   ],
   "source": [
    "a = d1.keys()\n",
    "print(a)"
   ]
  },
  {
   "cell_type": "code",
   "execution_count": 405,
   "id": "60e4744d",
   "metadata": {},
   "outputs": [
    {
     "name": "stdout",
     "output_type": "stream",
     "text": [
      "dict_values(['Ford', False, 1998, ['red', 'green', 'yellow']])\n"
     ]
    }
   ],
   "source": [
    "a =d1.values()\n",
    "print(a)"
   ]
  },
  {
   "cell_type": "code",
   "execution_count": 406,
   "id": "fa4f2710",
   "metadata": {},
   "outputs": [
    {
     "name": "stdout",
     "output_type": "stream",
     "text": [
      "dict_keys(['brand', 'model', 'year', 'color'])\n",
      "dict_keys(['brand', 'model', 'year', 'color', 'electric'])\n",
      "{'brand': 'Mustang', 'model': 'Ford', 'year': 1964, 'color': ['red', 'blue'], 'electric': False}\n"
     ]
    }
   ],
   "source": [
    "# Add a new item to the original dictionary, and see that the keys list gets updated as well:\n",
    "\n",
    "\n",
    "car =dict(brand=\"Mustang\",model=\"Ford\",year=1964,color=['red','blue'])\n",
    "\n",
    "x = car.keys()\n",
    "print(x)\n",
    "\n",
    "car[\"electric\"]=False\n",
    "print(car.keys())\n",
    "print(car)\n"
   ]
  },
  {
   "cell_type": "code",
   "execution_count": 407,
   "id": "e7d5f41d",
   "metadata": {},
   "outputs": [
    {
     "data": {
      "text/plain": [
       "{'brand': 'Mustang',\n",
       " 'model': 'Ford',\n",
       " 'year': 1964,\n",
       " 'color': ['red', 'blue'],\n",
       " 'electric': False}"
      ]
     },
     "execution_count": 407,
     "metadata": {},
     "output_type": "execute_result"
    }
   ],
   "source": [
    "car"
   ]
  },
  {
   "cell_type": "code",
   "execution_count": 408,
   "id": "4cf18ae3",
   "metadata": {},
   "outputs": [
    {
     "name": "stdout",
     "output_type": "stream",
     "text": [
      "dict_values(['Mustang', 'Ford', 1964, ['red', 'blue'], False])\n"
     ]
    }
   ],
   "source": [
    "x = car.values()\n",
    "print(x)"
   ]
  },
  {
   "cell_type": "code",
   "execution_count": 409,
   "id": "43b795fa",
   "metadata": {},
   "outputs": [
    {
     "data": {
      "text/plain": [
       "{'brand': 'Mustang',\n",
       " 'model': 'Ford',\n",
       " 'year': 1964,\n",
       " 'color': ['red', 'blue'],\n",
       " 'electric': False}"
      ]
     },
     "execution_count": 409,
     "metadata": {},
     "output_type": "execute_result"
    }
   ],
   "source": [
    "car"
   ]
  },
  {
   "cell_type": "code",
   "execution_count": 410,
   "id": "7993f94c",
   "metadata": {},
   "outputs": [
    {
     "data": {
      "text/plain": [
       "{'brand': 'Mustang',\n",
       " 'model': 'Ford',\n",
       " 'year': 2020,\n",
       " 'color': ['red', 'blue'],\n",
       " 'electric': False}"
      ]
     },
     "execution_count": 410,
     "metadata": {},
     "output_type": "execute_result"
    }
   ],
   "source": [
    "car[\"year\"] = 2020\n",
    "car"
   ]
  },
  {
   "cell_type": "code",
   "execution_count": 411,
   "id": "d3d4d8aa",
   "metadata": {},
   "outputs": [
    {
     "data": {
      "text/plain": [
       "dict_items([('brand', 'Mustang'), ('model', 'Ford'), ('year', 2020), ('color', ['red', 'blue']), ('electric', False)])"
      ]
     },
     "execution_count": 411,
     "metadata": {},
     "output_type": "execute_result"
    }
   ],
   "source": [
    "# items()  method\n",
    "\n",
    "\n",
    "x = car.items()\n",
    "x"
   ]
  },
  {
   "cell_type": "code",
   "execution_count": 412,
   "id": "3b552868",
   "metadata": {},
   "outputs": [
    {
     "data": {
      "text/plain": [
       "{'brand': 'Mustang',\n",
       " 'model': 'Ford',\n",
       " 'year': 2020,\n",
       " 'color': ['red', 'blue'],\n",
       " 'electric': False}"
      ]
     },
     "execution_count": 412,
     "metadata": {},
     "output_type": "execute_result"
    }
   ],
   "source": [
    "car"
   ]
  },
  {
   "cell_type": "code",
   "execution_count": 413,
   "id": "a5297de9",
   "metadata": {},
   "outputs": [
    {
     "data": {
      "text/plain": [
       "dict"
      ]
     },
     "execution_count": 413,
     "metadata": {},
     "output_type": "execute_result"
    }
   ],
   "source": [
    "type(car)"
   ]
  },
  {
   "cell_type": "code",
   "execution_count": 414,
   "id": "deafd051",
   "metadata": {},
   "outputs": [
    {
     "data": {
      "text/plain": [
       "{'brand': 'Mustang',\n",
       " 'model': 'Ford',\n",
       " 'year': 2020,\n",
       " 'color': ['red', 'blue'],\n",
       " 'electric': False}"
      ]
     },
     "execution_count": 414,
     "metadata": {},
     "output_type": "execute_result"
    }
   ],
   "source": [
    "car"
   ]
  },
  {
   "cell_type": "code",
   "execution_count": 415,
   "id": "64a29e7a",
   "metadata": {},
   "outputs": [
    {
     "data": {
      "text/plain": [
       "{'brand': 'Mustang',\n",
       " 'model': 'Ford',\n",
       " 'year': 2020,\n",
       " 'color': ['red', 'blue'],\n",
       " 'electric': False,\n",
       " 'day': 'monday'}"
      ]
     },
     "execution_count": 415,
     "metadata": {},
     "output_type": "execute_result"
    }
   ],
   "source": [
    "car[\"day\"] = \"monday\"\n",
    "car"
   ]
  },
  {
   "cell_type": "code",
   "execution_count": 416,
   "id": "c28f8848",
   "metadata": {},
   "outputs": [
    {
     "data": {
      "text/plain": [
       "{'brand': 'Mustang',\n",
       " 'model': 'Ford',\n",
       " 'year': 2020,\n",
       " 'color': ['red', 'blue'],\n",
       " 'electric': False,\n",
       " 'day': 'sunday'}"
      ]
     },
     "execution_count": 416,
     "metadata": {},
     "output_type": "execute_result"
    }
   ],
   "source": [
    "car[\"day\"] = \"sunday\"\n",
    "car"
   ]
  },
  {
   "cell_type": "code",
   "execution_count": 417,
   "id": "b616a30d",
   "metadata": {},
   "outputs": [
    {
     "data": {
      "text/plain": [
       "dict_items([('brand', 'Mustang'), ('model', 'Ford'), ('year', 2020), ('color', ['red', 'blue']), ('electric', False), ('day', 'sunday')])"
      ]
     },
     "execution_count": 417,
     "metadata": {},
     "output_type": "execute_result"
    }
   ],
   "source": [
    "car.items()"
   ]
  },
  {
   "cell_type": "code",
   "execution_count": 418,
   "id": "f343c459",
   "metadata": {},
   "outputs": [
    {
     "data": {
      "text/plain": [
       "dict_keys(['brand', 'model', 'year', 'color', 'electric', 'day'])"
      ]
     },
     "execution_count": 418,
     "metadata": {},
     "output_type": "execute_result"
    }
   ],
   "source": [
    "car.keys()"
   ]
  },
  {
   "cell_type": "code",
   "execution_count": 419,
   "id": "e077949b",
   "metadata": {},
   "outputs": [
    {
     "data": {
      "text/plain": [
       "dict_values(['Mustang', 'Ford', 2020, ['red', 'blue'], False, 'sunday'])"
      ]
     },
     "execution_count": 419,
     "metadata": {},
     "output_type": "execute_result"
    }
   ],
   "source": [
    "car.values()"
   ]
  },
  {
   "cell_type": "code",
   "execution_count": 420,
   "id": "55e5e7a3",
   "metadata": {},
   "outputs": [
    {
     "data": {
      "text/plain": [
       "['red', 'blue']"
      ]
     },
     "execution_count": 420,
     "metadata": {},
     "output_type": "execute_result"
    }
   ],
   "source": [
    "x=car.get('color')\n",
    "x"
   ]
  },
  {
   "cell_type": "code",
   "execution_count": 421,
   "id": "bc2abb6d",
   "metadata": {},
   "outputs": [
    {
     "name": "stdout",
     "output_type": "stream",
     "text": [
      "fruits\n"
     ]
    }
   ],
   "source": [
    "# example\n",
    "\n",
    "x = {\n",
    "    \"type\":\"fruits\",\n",
    "    \"name\":\"banana\",\n",
    "    \n",
    "}\n",
    "print(x['type'])"
   ]
  },
  {
   "cell_type": "code",
   "execution_count": 422,
   "id": "598cb9e2",
   "metadata": {},
   "outputs": [
    {
     "name": "stdout",
     "output_type": "stream",
     "text": [
      "{'brand': 'Ford', 'model': 'Mustang', 'year': 2018}\n"
     ]
    }
   ],
   "source": [
    "# Python - Change Dictionary Items\n",
    "\n",
    "thisdict = {\n",
    "  \"brand\": \"Ford\",\n",
    "  \"model\": \"Mustang\",\n",
    "  \"year\": 1964\n",
    "}\n",
    "thisdict[\"year\"] = 2018\n",
    "print(thisdict)"
   ]
  },
  {
   "cell_type": "code",
   "execution_count": 423,
   "id": "56dbe8b6",
   "metadata": {},
   "outputs": [],
   "source": [
    "# update()\n",
    "\n",
    "d = {\n",
    "    \"one\":1,\n",
    "    \"two\":2,\n",
    "    \"three\":3,\n",
    "}\n",
    "d.update({\"two\":20})"
   ]
  },
  {
   "cell_type": "code",
   "execution_count": 424,
   "id": "6f5c3d5a",
   "metadata": {},
   "outputs": [
    {
     "data": {
      "text/plain": [
       "{'one': 1, 'two': 20, 'three': 3}"
      ]
     },
     "execution_count": 424,
     "metadata": {},
     "output_type": "execute_result"
    }
   ],
   "source": [
    "d"
   ]
  },
  {
   "cell_type": "code",
   "execution_count": 425,
   "id": "744fee69",
   "metadata": {},
   "outputs": [
    {
     "data": {
      "text/plain": [
       "{'one': 1, 'two': 20, 'three': 3, 'five': 5}"
      ]
     },
     "execution_count": 425,
     "metadata": {},
     "output_type": "execute_result"
    }
   ],
   "source": [
    "d.update({\"five\":5})\n",
    "d"
   ]
  },
  {
   "cell_type": "code",
   "execution_count": 426,
   "id": "b493388b",
   "metadata": {},
   "outputs": [
    {
     "data": {
      "text/plain": [
       "{'one': 1, 'two': 2, 'three': 3, 'five': 5}"
      ]
     },
     "execution_count": 426,
     "metadata": {},
     "output_type": "execute_result"
    }
   ],
   "source": [
    "d.update({\"two\":2})\n",
    "d"
   ]
  },
  {
   "cell_type": "code",
   "execution_count": 427,
   "id": "402a1000",
   "metadata": {},
   "outputs": [
    {
     "data": {
      "text/plain": [
       "{'one': 1, 'two': 2, 'three': 3, 'five': 5}"
      ]
     },
     "execution_count": 427,
     "metadata": {},
     "output_type": "execute_result"
    }
   ],
   "source": [
    "d"
   ]
  },
  {
   "cell_type": "code",
   "execution_count": 428,
   "id": "cfbbe30a",
   "metadata": {},
   "outputs": [
    {
     "name": "stdout",
     "output_type": "stream",
     "text": [
      "{'brand': 'Ford', 'model': 'Mustang', 'year': 1964, 'electric': True, 'day': 'monday'}\n"
     ]
    }
   ],
   "source": [
    "thisdict = {\n",
    "  \"brand\": \"Ford\",\n",
    "  \"model\": \"Mustang\",\n",
    "  \"year\": 1964\n",
    "}\n",
    "\n",
    "thisdict.update({\"electric\":True,\"day\":\"monday\"})\n",
    "print(thisdict)"
   ]
  },
  {
   "cell_type": "code",
   "execution_count": 429,
   "id": "d51cf043",
   "metadata": {},
   "outputs": [
    {
     "data": {
      "text/plain": [
       "{'brand': 'Ford',\n",
       " 'model': 'Mustang',\n",
       " 'year': 1964,\n",
       " 'electric': True,\n",
       " 'day': 'monday'}"
      ]
     },
     "execution_count": 429,
     "metadata": {},
     "output_type": "execute_result"
    }
   ],
   "source": [
    "# Removing Items in dict()\n",
    "# pop() method\n",
    "thisdict\n"
   ]
  },
  {
   "cell_type": "code",
   "execution_count": 430,
   "id": "fd5e95b4",
   "metadata": {},
   "outputs": [
    {
     "name": "stdout",
     "output_type": "stream",
     "text": [
      "{'brand': 'Ford', 'model': 'Mustang', 'year': 1964, 'electric': True}\n"
     ]
    }
   ],
   "source": [
    "thisdict.pop(\"day\")\n",
    "print(thisdict)"
   ]
  },
  {
   "cell_type": "code",
   "execution_count": 431,
   "id": "f5bb59a6",
   "metadata": {},
   "outputs": [
    {
     "name": "stdout",
     "output_type": "stream",
     "text": [
      "{'brand': 'Ford', 'model': 'Mustang', 'year': 1964}\n"
     ]
    }
   ],
   "source": [
    "# popitem() method\n",
    "\n",
    "\n",
    "thisdict = {\n",
    "  \"brand\": \"Ford\",\n",
    "  \"model\": \"Mustang\",\n",
    "  \"year\": 1964,\n",
    "    \"day\":\"sunday\"\n",
    "}\n",
    "thisdict.popitem()\n",
    "print(thisdict)"
   ]
  },
  {
   "cell_type": "code",
   "execution_count": 432,
   "id": "3cf3f48f",
   "metadata": {},
   "outputs": [
    {
     "data": {
      "text/plain": [
       "{'brand': 'Ford', 'year': 1964}"
      ]
     },
     "execution_count": 432,
     "metadata": {},
     "output_type": "execute_result"
    }
   ],
   "source": [
    "del thisdict[\"model\"]\n",
    "thisdict"
   ]
  },
  {
   "cell_type": "code",
   "execution_count": 433,
   "id": "615f4ee1",
   "metadata": {},
   "outputs": [
    {
     "data": {
      "text/plain": [
       "dict_items([('brand', 'Ford'), ('year', 1964)])"
      ]
     },
     "execution_count": 433,
     "metadata": {},
     "output_type": "execute_result"
    }
   ],
   "source": [
    "thisdict.items()"
   ]
  },
  {
   "cell_type": "code",
   "execution_count": 434,
   "id": "6bb680a1",
   "metadata": {},
   "outputs": [],
   "source": [
    "d = {\n",
    "    \"one\":1,\n",
    "    \"two\":2,\n",
    "}\n",
    "del d\n",
    "# print(d)"
   ]
  },
  {
   "cell_type": "code",
   "execution_count": null,
   "id": "1e5bcf69",
   "metadata": {},
   "outputs": [],
   "source": []
  },
  {
   "cell_type": "code",
   "execution_count": 435,
   "id": "aea169e3",
   "metadata": {},
   "outputs": [
    {
     "name": "stdout",
     "output_type": "stream",
     "text": [
      "{}\n"
     ]
    }
   ],
   "source": [
    "thisdict = {\n",
    "  \"brand\": \"Ford\",\n",
    "  \"model\": \"Mustang\",\n",
    "  \"year\": 1964\n",
    "}\n",
    "thisdict.clear()\n",
    "print(thisdict)\n"
   ]
  },
  {
   "cell_type": "code",
   "execution_count": 436,
   "id": "e7781a2f",
   "metadata": {},
   "outputs": [
    {
     "data": {
      "text/plain": [
       "{}"
      ]
     },
     "execution_count": 436,
     "metadata": {},
     "output_type": "execute_result"
    }
   ],
   "source": [
    "thisdict"
   ]
  },
  {
   "cell_type": "code",
   "execution_count": 437,
   "id": "49f10669",
   "metadata": {},
   "outputs": [
    {
     "name": "stdout",
     "output_type": "stream",
     "text": [
      "{'one': 1, 'two': 2}\n"
     ]
    }
   ],
   "source": [
    "thisdict.update({\"one\":1,\"two\":2})\n",
    "print(thisdict)"
   ]
  },
  {
   "cell_type": "code",
   "execution_count": 438,
   "id": "03af71f2",
   "metadata": {},
   "outputs": [
    {
     "data": {
      "text/plain": [
       "{'one': 1, 'two': 2}"
      ]
     },
     "execution_count": 438,
     "metadata": {},
     "output_type": "execute_result"
    }
   ],
   "source": [
    "thisdict"
   ]
  },
  {
   "cell_type": "code",
   "execution_count": 439,
   "id": "fae04560",
   "metadata": {},
   "outputs": [],
   "source": [
    "del thisdict"
   ]
  },
  {
   "cell_type": "code",
   "execution_count": null,
   "id": "d78bb35a",
   "metadata": {},
   "outputs": [],
   "source": []
  },
  {
   "cell_type": "code",
   "execution_count": 440,
   "id": "7dc7bced",
   "metadata": {},
   "outputs": [
    {
     "data": {
      "text/plain": [
       "{'one': 1, 'two': 2}"
      ]
     },
     "execution_count": 440,
     "metadata": {},
     "output_type": "execute_result"
    }
   ],
   "source": [
    "# Python - Loop Dictionaries\n",
    "\n",
    "d = dict(one=1,two=2)\n",
    "d"
   ]
  },
  {
   "cell_type": "code",
   "execution_count": 441,
   "id": "6c48cafa",
   "metadata": {},
   "outputs": [
    {
     "name": "stdout",
     "output_type": "stream",
     "text": [
      "one 1\n",
      "two 2\n"
     ]
    }
   ],
   "source": [
    "for x , y in d.items():\n",
    "    print(x,y)"
   ]
  },
  {
   "cell_type": "code",
   "execution_count": 442,
   "id": "c1257e5a",
   "metadata": {},
   "outputs": [
    {
     "data": {
      "text/plain": [
       "dict_items([('one', 1), ('two', 2)])"
      ]
     },
     "execution_count": 442,
     "metadata": {},
     "output_type": "execute_result"
    }
   ],
   "source": [
    "d.items()"
   ]
  },
  {
   "cell_type": "code",
   "execution_count": 443,
   "id": "937abe42",
   "metadata": {},
   "outputs": [
    {
     "name": "stdout",
     "output_type": "stream",
     "text": [
      "{'brand': 'Ford', 'model': 'Mustang', 'year': 1964}\n"
     ]
    }
   ],
   "source": [
    "# Python - Copy Dictionaries\n",
    "\n",
    "thisdict = {\n",
    "        \"brand\":\"Ford\",\n",
    "        \"model\":\"Mustang\",\n",
    "        \"year\":1964\n",
    "}\n",
    "\n",
    "print(thisdict)"
   ]
  },
  {
   "cell_type": "code",
   "execution_count": 444,
   "id": "a5e1446e",
   "metadata": {},
   "outputs": [
    {
     "name": "stdout",
     "output_type": "stream",
     "text": [
      "{'brand': 'Ford', 'model': 'Mustang', 'year': 1964}\n"
     ]
    }
   ],
   "source": [
    "mydict = thisdict.copy()\n",
    "print(mydict)"
   ]
  },
  {
   "cell_type": "code",
   "execution_count": 445,
   "id": "e7297b47",
   "metadata": {},
   "outputs": [
    {
     "data": {
      "text/plain": [
       "{'brand': 'Ford', 'model': 'Mustang', 'year': 1964}"
      ]
     },
     "execution_count": 445,
     "metadata": {},
     "output_type": "execute_result"
    }
   ],
   "source": [
    "mydict"
   ]
  },
  {
   "cell_type": "code",
   "execution_count": 446,
   "id": "ca47171c",
   "metadata": {},
   "outputs": [
    {
     "name": "stdout",
     "output_type": "stream",
     "text": [
      "{'brand': 'ford', 'model': 'BMW', 'electric': False}\n"
     ]
    }
   ],
   "source": [
    "d = dict(brand='ford',model='BMW',electric=False)\n",
    "print(d)"
   ]
  },
  {
   "cell_type": "code",
   "execution_count": 447,
   "id": "af93f215",
   "metadata": {},
   "outputs": [
    {
     "data": {
      "text/plain": [
       "{'brand': 'ford', 'model': 'BMW', 'electric': False}"
      ]
     },
     "execution_count": 447,
     "metadata": {},
     "output_type": "execute_result"
    }
   ],
   "source": [
    "d1 = dict(d)\n",
    "d1"
   ]
  },
  {
   "cell_type": "code",
   "execution_count": 448,
   "id": "5e81fcd1",
   "metadata": {},
   "outputs": [
    {
     "data": {
      "text/plain": [
       "{'brand': 'ford', 'model': 'BMW', 'electric': False}"
      ]
     },
     "execution_count": 448,
     "metadata": {},
     "output_type": "execute_result"
    }
   ],
   "source": [
    "d"
   ]
  },
  {
   "cell_type": "code",
   "execution_count": 449,
   "id": "868b2ada",
   "metadata": {},
   "outputs": [
    {
     "data": {
      "text/plain": [
       "{'brand': 'ford', 'model': 'BMW', 'electric': False}"
      ]
     },
     "execution_count": 449,
     "metadata": {},
     "output_type": "execute_result"
    }
   ],
   "source": [
    "d1"
   ]
  },
  {
   "cell_type": "code",
   "execution_count": 450,
   "id": "48c5a757",
   "metadata": {},
   "outputs": [
    {
     "name": "stdout",
     "output_type": "stream",
     "text": [
      "{'child1': {'name': 'ram', 'year': 2003}, 'child2': {'mame': 'raj', 'year': 2004}, 'child3': {'name': 'jay', 'year': 2005}}\n"
     ]
    }
   ],
   "source": [
    "# Python - Nested Dictionaries\n",
    "\n",
    "myfamily = {\n",
    "    \"child1\":{\n",
    "        \"name\":\"ram\",\n",
    "        \"year\":2003\n",
    "    },\n",
    "    \"child2\":{\n",
    "        \"mame\":\"raj\",\n",
    "        \"year\":2004\n",
    "    },\n",
    "    \"child3\":{\n",
    "        \"name\":\"jay\",\n",
    "        \"year\":2005\n",
    "    }\n",
    "}\n",
    "print(myfamily)"
   ]
  },
  {
   "cell_type": "code",
   "execution_count": 451,
   "id": "7949b413",
   "metadata": {},
   "outputs": [
    {
     "name": "stdout",
     "output_type": "stream",
     "text": [
      "{'child1': {'name': 'Emil', 'year': 2004}, 'child2': {'name': 'Tobias', 'year': 2007}, 'child3': {'name': 'Linus', 'year': 2011}}\n"
     ]
    }
   ],
   "source": [
    "# Create three dictionaries, then create one dictionary,\n",
    "#     that will contain the other three dictionaries:\n",
    "\n",
    "child1 = {\n",
    "  \"name\" : \"Emil\",\n",
    "  \"year\" : 2004\n",
    "}\n",
    "child2 = {\n",
    "  \"name\" : \"Tobias\",\n",
    "  \"year\" : 2007\n",
    "}\n",
    "child3 = {\n",
    "  \"name\" : \"Linus\",\n",
    "  \"year\" : 2011\n",
    "}\n",
    "\n",
    "MyFamily = {\n",
    "    \"child1\":child1,\n",
    "    \"child2\":child2,\n",
    "    \"child3\":child3\n",
    "}\n",
    "\n",
    "print(MyFamily)"
   ]
  },
  {
   "cell_type": "code",
   "execution_count": 452,
   "id": "717265eb",
   "metadata": {},
   "outputs": [
    {
     "name": "stdout",
     "output_type": "stream",
     "text": [
      "2007\n"
     ]
    }
   ],
   "source": [
    "# Access Items in Nested Dictionaries\n",
    "\n",
    "print(MyFamily['child2']['year'])\n"
   ]
  },
  {
   "cell_type": "code",
   "execution_count": 453,
   "id": "29e8e427",
   "metadata": {},
   "outputs": [
    {
     "name": "stdout",
     "output_type": "stream",
     "text": [
      "jay\n"
     ]
    }
   ],
   "source": [
    "print(myfamily['child3']['name'])"
   ]
  },
  {
   "cell_type": "code",
   "execution_count": 454,
   "id": "0671de06",
   "metadata": {},
   "outputs": [
    {
     "name": "stdout",
     "output_type": "stream",
     "text": [
      "child1 {'name': 'Emil', 'year': 2004}\n",
      "child2 {'name': 'Tobias', 'year': 2007}\n",
      "child3 {'name': 'Linus', 'year': 2011}\n"
     ]
    }
   ],
   "source": [
    "# loop through nested dictionaries using items() method\n",
    "\n",
    "for a,b in MyFamily.items():\n",
    "    print(a,b)\n",
    "    \n",
    "#     for y in b:\n",
    "#         print(y + ':',b[y])"
   ]
  },
  {
   "cell_type": "markdown",
   "id": "f657a50b",
   "metadata": {},
   "source": [
    "# Python Dictionary Methods"
   ]
  },
  {
   "cell_type": "code",
   "execution_count": 455,
   "id": "ad023b95",
   "metadata": {},
   "outputs": [
    {
     "name": "stdout",
     "output_type": "stream",
     "text": [
      "{'one': 1, 'two': 2, 'three': 3}\n",
      "{}\n"
     ]
    }
   ],
   "source": [
    "# clear() method\n",
    "\n",
    "d4 = {\n",
    "    'one':1,\n",
    "    'two':2,\n",
    "    'three':3\n",
    "}\n",
    "\n",
    "print(d4) # after dict\n",
    "\n",
    "d4.clear() \n",
    "print(d4) # before dict"
   ]
  },
  {
   "cell_type": "code",
   "execution_count": 456,
   "id": "97fde70f",
   "metadata": {},
   "outputs": [
    {
     "name": "stdout",
     "output_type": "stream",
     "text": [
      "{'name': 'ram', 'year': 1998}\n"
     ]
    }
   ],
   "source": [
    "# copy() method\n",
    "\n",
    "di1 = dict(name='ram',year=1998)\n",
    "# print(di1)\n",
    "\n",
    "di2= di1.copy()\n",
    "print(di2)"
   ]
  },
  {
   "cell_type": "code",
   "execution_count": 457,
   "id": "18f4f74e",
   "metadata": {},
   "outputs": [
    {
     "name": "stdout",
     "output_type": "stream",
     "text": [
      "{'key1': 5, 'key2': 5, 'key3': 5}\n"
     ]
    }
   ],
   "source": [
    "# fromkeyes() method\n",
    "\n",
    "x = ('key1','key2','key3')\n",
    "y = 5\n",
    "\n",
    "thisdict = dict.fromkeys(x,y)\n",
    "print(thisdict)"
   ]
  },
  {
   "cell_type": "code",
   "execution_count": 458,
   "id": "8da90fd2",
   "metadata": {},
   "outputs": [
    {
     "name": "stdout",
     "output_type": "stream",
     "text": [
      "{'k1': None, 'k2': None, 'k3': None}\n"
     ]
    }
   ],
   "source": [
    "a = ('k1','k2','k3')\n",
    "\n",
    "dd = dict.fromkeys(a)\n",
    "print(dd)"
   ]
  },
  {
   "cell_type": "code",
   "execution_count": 459,
   "id": "332a234b",
   "metadata": {},
   "outputs": [
    {
     "data": {
      "text/plain": [
       "'Mustang'"
      ]
     },
     "execution_count": 459,
     "metadata": {},
     "output_type": "execute_result"
    }
   ],
   "source": [
    "# get() method\n",
    "\n",
    "car = {\n",
    "  \"brand\": \"Ford\",\n",
    "  \"model\": \"Mustang\",\n",
    "  \"year\": 1964\n",
    "}\n",
    "\n",
    "x = car.get(\"model\")\n",
    "# x\n",
    "#  or\n",
    "# x = car['model']\n",
    "x"
   ]
  },
  {
   "cell_type": "code",
   "execution_count": 460,
   "id": "9d6b2a30",
   "metadata": {},
   "outputs": [
    {
     "data": {
      "text/plain": [
       "dict_items([('brand', 'Ford'), ('model', 'Mustang'), ('year', 1964)])"
      ]
     },
     "execution_count": 460,
     "metadata": {},
     "output_type": "execute_result"
    }
   ],
   "source": [
    "# items() method\n",
    "\n",
    "a = car.items()\n",
    "a"
   ]
  },
  {
   "cell_type": "code",
   "execution_count": 461,
   "id": "72f76e68",
   "metadata": {},
   "outputs": [
    {
     "data": {
      "text/plain": [
       "dict_keys(['brand', 'model', 'year'])"
      ]
     },
     "execution_count": 461,
     "metadata": {},
     "output_type": "execute_result"
    }
   ],
   "source": [
    "# keys() method\n",
    "\n",
    "p = car.keys()\n",
    "p"
   ]
  },
  {
   "cell_type": "code",
   "execution_count": 462,
   "id": "1ce8e665",
   "metadata": {},
   "outputs": [
    {
     "name": "stdout",
     "output_type": "stream",
     "text": [
      "{'brand': 'ford', 'year': 1964}\n"
     ]
    }
   ],
   "source": [
    "# pop() method\n",
    "\n",
    "car = {\n",
    "    \"brand\":\"ford\",\n",
    "    \"model\":\"BMW\",\n",
    "    \"year\":1964\n",
    "}\n",
    "\n",
    "car.pop(\"model\")\n",
    "print(car)"
   ]
  },
  {
   "cell_type": "code",
   "execution_count": 463,
   "id": "11dc4cc8",
   "metadata": {},
   "outputs": [
    {
     "data": {
      "text/plain": [
       "{'brand': 'ford', 'year': 1964}"
      ]
     },
     "execution_count": 463,
     "metadata": {},
     "output_type": "execute_result"
    }
   ],
   "source": [
    "car"
   ]
  },
  {
   "cell_type": "code",
   "execution_count": 464,
   "id": "6632e9e4",
   "metadata": {},
   "outputs": [
    {
     "data": {
      "text/plain": [
       "{'brand': 'ford', 'year': 1964}"
      ]
     },
     "execution_count": 464,
     "metadata": {},
     "output_type": "execute_result"
    }
   ],
   "source": [
    "# popitem() method\n",
    "\n",
    "car"
   ]
  },
  {
   "cell_type": "code",
   "execution_count": 465,
   "id": "56dbe14a",
   "metadata": {},
   "outputs": [
    {
     "data": {
      "text/plain": [
       "{'brand': 'ford'}"
      ]
     },
     "execution_count": 465,
     "metadata": {},
     "output_type": "execute_result"
    }
   ],
   "source": [
    "car.popitem()  # remove the last item\n",
    "car"
   ]
  },
  {
   "cell_type": "code",
   "execution_count": 466,
   "id": "062c4f55",
   "metadata": {},
   "outputs": [
    {
     "data": {
      "text/plain": [
       "{'brand': 'ford', 'model': 'BMW', 'year': 1964}"
      ]
     },
     "execution_count": 466,
     "metadata": {},
     "output_type": "execute_result"
    }
   ],
   "source": [
    "# setdefault() Method\n",
    "\n",
    "car = dict(brand='ford',model='BMW',year=1964)\n",
    "car"
   ]
  },
  {
   "cell_type": "code",
   "execution_count": 467,
   "id": "94d17e3b",
   "metadata": {},
   "outputs": [
    {
     "name": "stdout",
     "output_type": "stream",
     "text": [
      "BMW\n"
     ]
    }
   ],
   "source": [
    "x = car.setdefault(\"model\",\"Mustang\")\n",
    "print(x)"
   ]
  },
  {
   "cell_type": "code",
   "execution_count": 468,
   "id": "86ff3c67",
   "metadata": {},
   "outputs": [
    {
     "data": {
      "text/plain": [
       "{'brand': 'ford', 'model': 'BMW', 'year': 1964}"
      ]
     },
     "execution_count": 468,
     "metadata": {},
     "output_type": "execute_result"
    }
   ],
   "source": [
    "car"
   ]
  },
  {
   "cell_type": "code",
   "execution_count": 469,
   "id": "b9731089",
   "metadata": {},
   "outputs": [
    {
     "data": {
      "text/plain": [
       "{'brand': 'Ford',\n",
       " 'model': 'Mustang',\n",
       " 'year': 1964,\n",
       " 'color': 'black',\n",
       " 'electric': False}"
      ]
     },
     "execution_count": 469,
     "metadata": {},
     "output_type": "execute_result"
    }
   ],
   "source": [
    "# update() method\n",
    "\n",
    "car = {\n",
    "  \"brand\": \"Ford\",\n",
    "  \"model\": \"Mustang\",\n",
    "  \"year\": 1964\n",
    "}\n",
    "\n",
    "car.update({'color':'black','electric':False})\n",
    "car"
   ]
  },
  {
   "cell_type": "code",
   "execution_count": 470,
   "id": "fa320f04",
   "metadata": {},
   "outputs": [
    {
     "name": "stdout",
     "output_type": "stream",
     "text": [
      "dict_values(['Ford', 'Mustang', 1964, 'black', False])\n"
     ]
    }
   ],
   "source": [
    "# values() method\n",
    "\n",
    "x = car.values()\n",
    "print(x)"
   ]
  },
  {
   "cell_type": "code",
   "execution_count": 471,
   "id": "8e790c08",
   "metadata": {},
   "outputs": [
    {
     "data": {
      "text/plain": [
       "{'brand': 'Ford',\n",
       " 'model': 'Mustang',\n",
       " 'year': 1964,\n",
       " 'color': 'black',\n",
       " 'electric': False}"
      ]
     },
     "execution_count": 471,
     "metadata": {},
     "output_type": "execute_result"
    }
   ],
   "source": [
    "car"
   ]
  },
  {
   "cell_type": "code",
   "execution_count": 472,
   "id": "ca8817c7",
   "metadata": {},
   "outputs": [
    {
     "name": "stdout",
     "output_type": "stream",
     "text": [
      "dict_values(['Ford', 'Mustang', 1964, 'white', False])\n"
     ]
    }
   ],
   "source": [
    "car['color'] = 'white'\n",
    "x = car.values()\n",
    "print(x)"
   ]
  },
  {
   "cell_type": "code",
   "execution_count": 473,
   "id": "ee3cf3a8",
   "metadata": {},
   "outputs": [
    {
     "data": {
      "text/plain": [
       "{'brand': 'Ford',\n",
       " 'model': 'Mustang',\n",
       " 'year': 1964,\n",
       " 'color': 'white',\n",
       " 'electric': False}"
      ]
     },
     "execution_count": 473,
     "metadata": {},
     "output_type": "execute_result"
    }
   ],
   "source": [
    "car"
   ]
  },
  {
   "cell_type": "markdown",
   "id": "85b884ec",
   "metadata": {},
   "source": [
    "# Python If ... Else"
   ]
  },
  {
   "cell_type": "code",
   "execution_count": 474,
   "id": "69fd2e19",
   "metadata": {},
   "outputs": [
    {
     "name": "stdout",
     "output_type": "stream",
     "text": [
      "yes, this is greater of a\n"
     ]
    }
   ],
   "source": [
    "a = 30\n",
    "b = 200\n",
    "\n",
    "if b>a:\n",
    "    print('yes, this is greater of a')"
   ]
  },
  {
   "cell_type": "code",
   "execution_count": 475,
   "id": "f364cbe6",
   "metadata": {},
   "outputs": [
    {
     "name": "stdout",
     "output_type": "stream",
     "text": [
      "b is big\n"
     ]
    }
   ],
   "source": [
    "# The elif keyword is Python's way of saying \n",
    "#          \"if the previous conditions were not true, then try this condition\".\n",
    "\n",
    "a = 20\n",
    "b = 30\n",
    "\n",
    "if b<a:\n",
    "    print(\"b is greater than a\")\n",
    "    \n",
    "elif a <  b:\n",
    "    print(\"b is big\")"
   ]
  },
  {
   "cell_type": "code",
   "execution_count": 476,
   "id": "f36b5568",
   "metadata": {},
   "outputs": [
    {
     "name": "stdout",
     "output_type": "stream",
     "text": [
      "a and b are equal\n"
     ]
    }
   ],
   "source": [
    "# else\n",
    "\n",
    "a = 200\n",
    "b = 200\n",
    "\n",
    "if b>a:\n",
    "    print(\"b is greater than a\")\n",
    "    \n",
    "elif a==b:\n",
    "    print(\"a and b are equal\")\n",
    "    \n",
    "else:\n",
    "    print(\"a is greater than b\")"
   ]
  },
  {
   "cell_type": "code",
   "execution_count": 477,
   "id": "9f8f1dc8",
   "metadata": {},
   "outputs": [
    {
     "name": "stdout",
     "output_type": "stream",
     "text": [
      "b is greater of a\n"
     ]
    }
   ],
   "source": [
    "# You can also have an else without the elif:\n",
    "\n",
    "a = 10\n",
    "b = 20\n",
    "\n",
    "if a>b:\n",
    "    print(\"a is greater b\")\n",
    "else:\n",
    "    print(\"b is greater of a\")"
   ]
  },
  {
   "cell_type": "code",
   "execution_count": 478,
   "id": "18efc946",
   "metadata": {},
   "outputs": [
    {
     "name": "stdout",
     "output_type": "stream",
     "text": [
      "a is greater than b\n"
     ]
    }
   ],
   "source": [
    "# one line if statement\n",
    "a = 20\n",
    "b =10\n",
    "if a>b : print(\"a is greater than b\")"
   ]
  },
  {
   "cell_type": "code",
   "execution_count": 479,
   "id": "9e7e2c09",
   "metadata": {},
   "outputs": [
    {
     "name": "stdout",
     "output_type": "stream",
     "text": [
      "b\n"
     ]
    }
   ],
   "source": [
    "#  one line if , else statement\n",
    "\n",
    "a = 100\n",
    "b = 10\n",
    "\n",
    "print(\"a\") if a<b  else print(\"b\")\n"
   ]
  },
  {
   "cell_type": "code",
   "execution_count": 480,
   "id": "4cd0938e",
   "metadata": {},
   "outputs": [
    {
     "name": "stdout",
     "output_type": "stream",
     "text": [
      "b is big\n"
     ]
    }
   ],
   "source": [
    "a = 10\n",
    "b = 50\n",
    "\n",
    "print(\"a is less than b\")if b<a else print(\"b is big\")"
   ]
  },
  {
   "cell_type": "code",
   "execution_count": 481,
   "id": "b71d7e50",
   "metadata": {},
   "outputs": [
    {
     "name": "stdout",
     "output_type": "stream",
     "text": [
      "condition is ture\n"
     ]
    }
   ],
   "source": [
    "# One line if else statement, with 3 conditions:\n",
    "\n",
    "a = 10\n",
    "b = 10\n",
    "\n",
    "print(\"condition is ture\")if a==b else print(\"=\") if a>b else print(\"B\")"
   ]
  },
  {
   "cell_type": "code",
   "execution_count": 482,
   "id": "42c4c339",
   "metadata": {},
   "outputs": [
    {
     "name": "stdout",
     "output_type": "stream",
     "text": [
      "false condition\n"
     ]
    }
   ],
   "source": [
    "#  using the and Keyword\n",
    "\n",
    "a = 10\n",
    "b = 5\n",
    "c = 50\n",
    "\n",
    "if a>b and b>a:\n",
    "    print(\"the condition are true\")\n",
    "else:\n",
    "    print(\"false condition\")"
   ]
  },
  {
   "cell_type": "code",
   "execution_count": 483,
   "id": "8e6e91dc",
   "metadata": {},
   "outputs": [
    {
     "name": "stdout",
     "output_type": "stream",
     "text": [
      "any one condition is true\n"
     ]
    }
   ],
   "source": [
    "#  using or keyword\n",
    "\n",
    "a = 10\n",
    "b = 20 \n",
    "c = 15\n",
    "\n",
    "if a<b or a==b or c==b:\n",
    "    print(\"any one condition is true\")\n",
    "else:\n",
    "    print(\"than you\")"
   ]
  },
  {
   "cell_type": "code",
   "execution_count": 484,
   "id": "9db2b0c0",
   "metadata": {},
   "outputs": [
    {
     "name": "stdout",
     "output_type": "stream",
     "text": [
      "c is greater of a\n"
     ]
    }
   ],
   "source": [
    "# using  not keyword\n",
    "\n",
    "a = 10\n",
    "b = 20\n",
    "c = 30\n",
    "\n",
    "if not a>c:\n",
    "    print('c is greater of a')\n",
    "else:\n",
    "    print(\"condition is ture\")"
   ]
  },
  {
   "cell_type": "code",
   "execution_count": 485,
   "id": "178aa83e",
   "metadata": {},
   "outputs": [
    {
     "name": "stdout",
     "output_type": "stream",
     "text": [
      "Above ten,\n",
      "but not above 20\n"
     ]
    }
   ],
   "source": [
    "#  using the Nested if\n",
    "\n",
    "x = 40\n",
    "\n",
    "if x>10:\n",
    "    print(\"Above ten,\")\n",
    "    \n",
    "    if x<20:\n",
    "        print(\"Above 20\")\n",
    "        \n",
    "    else:\n",
    "        print(\"but not above 20\")"
   ]
  },
  {
   "cell_type": "code",
   "execution_count": 486,
   "id": "868d4b2e",
   "metadata": {},
   "outputs": [],
   "source": [
    "#  using pass  #code complication\n",
    "\n",
    "a = 33\n",
    "b = 200\n",
    "\n",
    "if b > a :\n",
    "    pass"
   ]
  },
  {
   "cell_type": "markdown",
   "id": "a17db7e7",
   "metadata": {},
   "source": [
    "# Python While loop"
   ]
  },
  {
   "cell_type": "markdown",
   "id": "cee95b17",
   "metadata": {},
   "source": [
    "With the while loop we can execute a set of statements as long as a condition is true."
   ]
  },
  {
   "cell_type": "code",
   "execution_count": 487,
   "id": "8661785a",
   "metadata": {},
   "outputs": [
    {
     "name": "stdout",
     "output_type": "stream",
     "text": [
      "0\n",
      "1\n",
      "2\n",
      "3\n",
      "4\n",
      "5\n"
     ]
    }
   ],
   "source": [
    "i = 0 # start point\n",
    "\n",
    "while i < 6:  # condition\n",
    "    \n",
    "    print(i)\n",
    "    \n",
    "    i += 1  # increment the value or decriment value\n",
    "\n"
   ]
  },
  {
   "cell_type": "code",
   "execution_count": 488,
   "id": "e142aae5",
   "metadata": {},
   "outputs": [
    {
     "name": "stdout",
     "output_type": "stream",
     "text": [
      "1\n",
      "2\n",
      "3\n"
     ]
    }
   ],
   "source": [
    "# The break Statement \n",
    "\n",
    "i = 1\n",
    "\n",
    "while i<6:\n",
    "    print(i)\n",
    "    \n",
    "    if i == 3:\n",
    "        break\n",
    "    \n",
    "    i +=1"
   ]
  },
  {
   "cell_type": "code",
   "execution_count": null,
   "id": "f1922a1b",
   "metadata": {},
   "outputs": [],
   "source": []
  },
  {
   "cell_type": "code",
   "execution_count": 489,
   "id": "4257209c",
   "metadata": {},
   "outputs": [
    {
     "name": "stdout",
     "output_type": "stream",
     "text": [
      "1\n",
      "2\n",
      "3\n",
      "4\n",
      "6\n",
      "7\n",
      "8\n",
      "9\n",
      "10\n"
     ]
    }
   ],
   "source": [
    "# the continue statement\n",
    "\n",
    "i = 0\n",
    "\n",
    "while i<10:\n",
    "    i += 1\n",
    "    \n",
    "    if i==5:\n",
    "        continue\n",
    "        \n",
    "    print(i)"
   ]
  },
  {
   "cell_type": "code",
   "execution_count": 491,
   "id": "ebce6ba5",
   "metadata": {},
   "outputs": [
    {
     "name": "stdout",
     "output_type": "stream",
     "text": [
      "1\n",
      "2\n",
      "3\n",
      "4\n",
      "5\n",
      "i is no longer less than 6\n"
     ]
    }
   ],
   "source": [
    "# The else Statement\n",
    "\n",
    "i = 1\n",
    "while i < 6:\n",
    "    print(i)\n",
    "    \n",
    "    i += 1\n",
    "else:\n",
    "      print(\"i is no longer less than 6\")"
   ]
  },
  {
   "cell_type": "markdown",
   "id": "1709612a",
   "metadata": {},
   "source": [
    "# Python For LOOP"
   ]
  },
  {
   "cell_type": "code",
   "execution_count": 492,
   "id": "d29d7c5f",
   "metadata": {},
   "outputs": [
    {
     "name": "stdout",
     "output_type": "stream",
     "text": [
      "Apple\n",
      "Banana\n",
      "Cherry\n"
     ]
    }
   ],
   "source": [
    "fruits = [\"Apple\",\"Banana\",\"Cherry\"]\n",
    "\n",
    "for i in fruits:\n",
    "    print(i)"
   ]
  },
  {
   "cell_type": "code",
   "execution_count": 493,
   "id": "12fa08cb",
   "metadata": {},
   "outputs": [
    {
     "name": "stdout",
     "output_type": "stream",
     "text": [
      "C\n",
      "h\n",
      "e\n",
      "r\n",
      "r\n",
      "y\n"
     ]
    }
   ],
   "source": [
    "for i in \"Cherry\":\n",
    "    print(i)"
   ]
  },
  {
   "cell_type": "code",
   "execution_count": 494,
   "id": "fd5ecf45",
   "metadata": {},
   "outputs": [
    {
     "name": "stdout",
     "output_type": "stream",
     "text": [
      "Apple\n",
      "Banana\n"
     ]
    }
   ],
   "source": [
    "# the break statement\n",
    "\n",
    "fruits = [\"Apple\",\"Banana\",\"Watermelon\"]\n",
    "\n",
    "for i in fruits:\n",
    "    print(i)\n",
    "    \n",
    "    if i==\"Banana\":\n",
    "        break"
   ]
  },
  {
   "cell_type": "code",
   "execution_count": 510,
   "id": "73563403",
   "metadata": {},
   "outputs": [
    {
     "name": "stdout",
     "output_type": "stream",
     "text": [
      "Apple\n",
      "Watermelon\n"
     ]
    }
   ],
   "source": [
    "for i in fruits:\n",
    "\n",
    "    \n",
    "    if i==\"Banana\":\n",
    "        continue\n",
    "    print(i)"
   ]
  },
  {
   "cell_type": "code",
   "execution_count": 508,
   "id": "5106e18c",
   "metadata": {},
   "outputs": [],
   "source": [
    "# x =fruits[::-1]\n",
    "# x"
   ]
  },
  {
   "cell_type": "code",
   "execution_count": 518,
   "id": "ae36f602",
   "metadata": {},
   "outputs": [
    {
     "name": "stdout",
     "output_type": "stream",
     "text": [
      "apple\n"
     ]
    }
   ],
   "source": [
    "fruits = [\"apple\", \"banana\", \"cherry\"]\n",
    "for x in fruits:\n",
    "    if x == \"banana\":\n",
    "        break\n",
    "    print(x)\n"
   ]
  },
  {
   "cell_type": "code",
   "execution_count": 519,
   "id": "a83fab19",
   "metadata": {},
   "outputs": [
    {
     "name": "stdout",
     "output_type": "stream",
     "text": [
      "0\n",
      "1\n",
      "2\n",
      "3\n",
      "4\n",
      "5\n",
      "6\n",
      "7\n",
      "8\n",
      "9\n"
     ]
    }
   ],
   "source": [
    "# The range() Function\n",
    "\n",
    "\n",
    "for i in range(10):\n",
    "    print(i)"
   ]
  },
  {
   "cell_type": "code",
   "execution_count": 520,
   "id": "4d48a417",
   "metadata": {},
   "outputs": [
    {
     "name": "stdout",
     "output_type": "stream",
     "text": [
      "2\n",
      "3\n",
      "4\n",
      "5\n"
     ]
    }
   ],
   "source": [
    "for x in range(2,6):\n",
    "    print(x)"
   ]
  },
  {
   "cell_type": "code",
   "execution_count": 523,
   "id": "f00a07fe",
   "metadata": {},
   "outputs": [
    {
     "name": "stdout",
     "output_type": "stream",
     "text": [
      "1\n",
      "3\n",
      "5\n",
      "7\n",
      "9\n",
      "11\n",
      "13\n",
      "15\n",
      "17\n",
      "19\n"
     ]
    }
   ],
   "source": [
    "for i in range(1,20,2):\n",
    "    print(i)"
   ]
  },
  {
   "cell_type": "code",
   "execution_count": 526,
   "id": "e85eb0f9",
   "metadata": {},
   "outputs": [
    {
     "name": "stdout",
     "output_type": "stream",
     "text": [
      "0\n",
      "1\n",
      "2\n",
      "3\n",
      "4\n",
      "5\n",
      "Finally Finished!!\n"
     ]
    }
   ],
   "source": [
    "for x in range(6):\n",
    "    print(x)\n",
    "    \n",
    "#     if x==2:\n",
    "#         break\n",
    "    \n",
    "else:\n",
    "    print(\"Finally Finished!!\")"
   ]
  },
  {
   "cell_type": "code",
   "execution_count": 527,
   "id": "227f897c",
   "metadata": {},
   "outputs": [
    {
     "name": "stdout",
     "output_type": "stream",
     "text": [
      "red apple\n",
      "red banana\n",
      "red cherry\n",
      "big apple\n",
      "big banana\n",
      "big cherry\n",
      "testy apple\n",
      "testy banana\n",
      "testy cherry\n"
     ]
    }
   ],
   "source": [
    "# Python Nested loop\n",
    "\n",
    "adj = [\"red\",\"big\",\"testy\"]\n",
    "fruits = [\"apple\",\"banana\",\"cherry\"]\n",
    "\n",
    "for i in adj:\n",
    "    for j in fruits:\n",
    "        print(i,j)"
   ]
  },
  {
   "cell_type": "code",
   "execution_count": 22,
   "id": "58f7f75e",
   "metadata": {},
   "outputs": [],
   "source": [
    "# pass statement\n",
    "\n",
    "for x in [1,2,3]: \n",
    "    pass  # code complication"
   ]
  },
  {
   "cell_type": "code",
   "execution_count": null,
   "id": "0c42ad0a",
   "metadata": {},
   "outputs": [],
   "source": []
  },
  {
   "cell_type": "markdown",
   "id": "0c768c1d",
   "metadata": {},
   "source": [
    "# Python Function"
   ]
  },
  {
   "cell_type": "markdown",
   "id": "8640486e",
   "metadata": {},
   "source": [
    "A function is a block of code which only runs when it is called.\n",
    "\n",
    "You can pass data, known as parameters, into a function.\n",
    "\n",
    "A function can return data as a result."
   ]
  },
  {
   "cell_type": "code",
   "execution_count": 26,
   "id": "f6903ee3",
   "metadata": {},
   "outputs": [
    {
     "name": "stdout",
     "output_type": "stream",
     "text": [
      "Hello World\n",
      "Hello World\n"
     ]
    }
   ],
   "source": [
    "# creating a function\n",
    "\n",
    "def my_function():\n",
    "    print(\"Hello World\")\n",
    "    \n",
    "my_function()\n",
    "my_function()"
   ]
  },
  {
   "cell_type": "code",
   "execution_count": 28,
   "id": "7a44fb49",
   "metadata": {},
   "outputs": [
    {
     "name": "stdout",
     "output_type": "stream",
     "text": [
      "Python Language\n",
      "c++ Language\n",
      "c Language\n"
     ]
    }
   ],
   "source": [
    "# function with argument\n",
    "\n",
    "def my_function(fname):\n",
    "    \n",
    "    print(fname + \" Language\")\n",
    "    \n",
    "my_function(\"Python\")\n",
    "my_function(\"c++\")\n",
    "my_function(\"c\")"
   ]
  },
  {
   "cell_type": "code",
   "execution_count": 34,
   "id": "a9262fa7",
   "metadata": {},
   "outputs": [
    {
     "name": "stdout",
     "output_type": "stream",
     "text": [
      "Python Devloper\n",
      "java Devloper\n"
     ]
    }
   ],
   "source": [
    "# This function expects 2 arguments, and gets 2 arguments:\n",
    "\n",
    "def function(fname,lname):\n",
    "    \n",
    "    print(fname + \" \" + lname)\n",
    "    \n",
    "function(\"Python\",\"Devloper\")\n",
    "function(\"java\",\"Devloper\")"
   ]
  },
  {
   "cell_type": "markdown",
   "id": "f6a77ea8",
   "metadata": {},
   "source": [
    "# Arbitrary Arguments, *args\n",
    "\n",
    "# If you do not know how many arguments that will be passed into your function, add a * before the parameter name in the function definition.\n",
    "\n",
    "# This way the function will receive a tuple of arguments, and can access the items accordingly:"
   ]
  },
  {
   "cell_type": "code",
   "execution_count": 41,
   "id": "d54b6f81",
   "metadata": {},
   "outputs": [
    {
     "name": "stdout",
     "output_type": "stream",
     "text": [
      "The youngest child is Linus\n"
     ]
    }
   ],
   "source": [
    "def func(*kids):\n",
    "    print(\"The youngest child is \" + kids[2])\n",
    "    \n",
    "func(\"Email\",\"Tobis\",\"Linus\")"
   ]
  },
  {
   "cell_type": "code",
   "execution_count": 43,
   "id": "92e2d7eb",
   "metadata": {},
   "outputs": [
    {
     "name": "stdout",
     "output_type": "stream",
     "text": [
      "the youngest child is :email\n"
     ]
    }
   ],
   "source": [
    "# Keyword Arguments\n",
    "\n",
    "def func(child3,child2,child1):\n",
    "    print(\"the youngest child is :\" + child1)\n",
    "    \n",
    "func(child1=\"email\",child2=\"Tobis\",child3=\"Linus\")"
   ]
  },
  {
   "cell_type": "markdown",
   "id": "e39c2371",
   "metadata": {},
   "source": [
    "# Arbitrary Keyword Arguments, **kwargs\n",
    "\n",
    "# If you do not know how many keyword arguments that will be passed into your function, add two asterisk: ** before the parameter name in the function definition.\n",
    "\n",
    "# This way the function will receive a dictionary of arguments, and can access the items accordingly:"
   ]
  },
  {
   "cell_type": "code",
   "execution_count": 44,
   "id": "f3a62696",
   "metadata": {},
   "outputs": [
    {
     "name": "stdout",
     "output_type": "stream",
     "text": [
      "His last name is jay\n"
     ]
    }
   ],
   "source": [
    "def func(**a):\n",
    "    print(\"His last name is \" +a[\"lname\"])\n",
    "    \n",
    "func(fname=\"ram\",lname=\"jay\")"
   ]
  },
  {
   "cell_type": "code",
   "execution_count": 48,
   "id": "c0d90d8e",
   "metadata": {},
   "outputs": [
    {
     "name": "stdout",
     "output_type": "stream",
     "text": [
      "I am From USA\n",
      "I am From caneda\n",
      "I am From IND\n"
     ]
    }
   ],
   "source": [
    "# Default Parameter Value\n",
    "\n",
    "def function(country=\"IND\"):\n",
    "    \n",
    "    print(\"I am From \" + country)\n",
    "    \n",
    "function(\"USA\")\n",
    "function(\"caneda\")\n",
    "function()"
   ]
  },
  {
   "cell_type": "code",
   "execution_count": 49,
   "id": "07443164",
   "metadata": {},
   "outputs": [
    {
     "name": "stdout",
     "output_type": "stream",
     "text": [
      "apple\n",
      "banana\n",
      "cherry\n"
     ]
    }
   ],
   "source": [
    "# Passing a List as an Argument\n",
    "\n",
    "def my_func(l1):\n",
    "    \n",
    "    for i in l1:\n",
    "        print(i)\n",
    "        \n",
    "l1 = [\"apple\",\"banana\",\"cherry\"]\n",
    "\n",
    "my_func(l1)"
   ]
  },
  {
   "cell_type": "markdown",
   "id": "95421392",
   "metadata": {},
   "source": [
    "# Return Values\n",
    "# To let a function return a value, use the return statement:"
   ]
  },
  {
   "cell_type": "code",
   "execution_count": 52,
   "id": "8094aa8d",
   "metadata": {},
   "outputs": [
    {
     "name": "stdout",
     "output_type": "stream",
     "text": [
      "10\n",
      "25\n"
     ]
    }
   ],
   "source": [
    "def multiplication(x):\n",
    "    \n",
    "    return 5*x\n",
    "\n",
    "print(multiplication(2))\n",
    "print(multiplication(5))"
   ]
  },
  {
   "cell_type": "code",
   "execution_count": 63,
   "id": "ca831055",
   "metadata": {},
   "outputs": [
    {
     "name": "stdout",
     "output_type": "stream",
     "text": [
      "hello\n",
      "50\n",
      "5\n",
      "True\n"
     ]
    }
   ],
   "source": [
    "# Positional-Only Arguments\n",
    "\n",
    "def my_func(x,/):\n",
    "    print(x)\n",
    "    \n",
    "my_func(\"hello\")\n",
    "my_func(50)\n",
    "my_func(1+4)\n",
    "my_func(True)"
   ]
  },
  {
   "cell_type": "code",
   "execution_count": 67,
   "id": "881c41e6",
   "metadata": {},
   "outputs": [
    {
     "name": "stdout",
     "output_type": "stream",
     "text": [
      "Length of string is : 6\n",
      "Length of string is : 11\n",
      "Length of this sting is: 17\n"
     ]
    }
   ],
   "source": [
    "# using user define function find the string length\n",
    "\n",
    "def a_func(string):\n",
    "    return len(string)\n",
    "\n",
    "print(\"Length of string is :\",a_func(\"Python\"))\n",
    "print(\"Length of string is :\",a_func(\"Hello World\"))\n",
    "print(\"Length of this sting is:\",a_func(\"Welcome to Python\"))"
   ]
  },
  {
   "cell_type": "code",
   "execution_count": 68,
   "id": "295b41d7",
   "metadata": {},
   "outputs": [
    {
     "name": "stdout",
     "output_type": "stream",
     "text": [
      "square of the list : [4, 16, 36]\n"
     ]
    }
   ],
   "source": [
    "# square of the List creating function\n",
    "\n",
    "def square(item_list):\n",
    "    squares=[]\n",
    "    \n",
    "    for i in item_list:\n",
    "        squares.append(i**2)\n",
    "        \n",
    "    return squares\n",
    "\n",
    "my_list=[2,4,6]\n",
    "my_result=square(my_list)\n",
    "\n",
    "print(\"square of the list :\",my_result)"
   ]
  },
  {
   "cell_type": "code",
   "execution_count": 75,
   "id": "a34e5da9",
   "metadata": {},
   "outputs": [
    {
     "name": "stdout",
     "output_type": "stream",
     "text": [
      "30\n"
     ]
    }
   ],
   "source": [
    "def add_two_number(a,b):\n",
    "    return a*b\n",
    "c = add_two_number(5,6)\n",
    "print(c)"
   ]
  },
  {
   "cell_type": "code",
   "execution_count": 76,
   "id": "3d5b3d63",
   "metadata": {},
   "outputs": [
    {
     "name": "stdout",
     "output_type": "stream",
     "text": [
      "with return statement\n",
      "144\n"
     ]
    }
   ],
   "source": [
    "def square(num):\n",
    "    return num**2\n",
    "\n",
    "print(\"with return statement\")\n",
    "print(square(12))"
   ]
  },
  {
   "cell_type": "code",
   "execution_count": 78,
   "id": "4a131e9e",
   "metadata": {},
   "outputs": [
    {
     "name": "stdout",
     "output_type": "stream",
     "text": [
      "Withuot return statement\n",
      "None\n"
     ]
    }
   ],
   "source": [
    "def square(num):\n",
    "    \n",
    "    num**2\n",
    "\n",
    "print(\"Without return statement\")\n",
    "print(square(12))"
   ]
  },
  {
   "cell_type": "markdown",
   "id": "7d6beed2",
   "metadata": {},
   "source": [
    "# The Anonymous Functions"
   ]
  },
  {
   "cell_type": "code",
   "execution_count": 79,
   "id": "2ed81a47",
   "metadata": {},
   "outputs": [
    {
     "name": "stdout",
     "output_type": "stream",
     "text": [
      "20\n"
     ]
    }
   ],
   "source": [
    "x = lambda a : a + 10\n",
    "print(x(10))"
   ]
  },
  {
   "cell_type": "code",
   "execution_count": 81,
   "id": "121dbdc5",
   "metadata": {},
   "outputs": [
    {
     "name": "stdout",
     "output_type": "stream",
     "text": [
      "<class 'function'>\n"
     ]
    }
   ],
   "source": [
    "print(type(x))"
   ]
  },
  {
   "cell_type": "code",
   "execution_count": 82,
   "id": "d2b52b8d",
   "metadata": {},
   "outputs": [
    {
     "name": "stdout",
     "output_type": "stream",
     "text": [
      "30\n"
     ]
    }
   ],
   "source": [
    "x = lambda a,b : a *b\n",
    "print(x(5,6))"
   ]
  },
  {
   "cell_type": "code",
   "execution_count": 83,
   "id": "49c8ee53",
   "metadata": {},
   "outputs": [
    {
     "name": "stdout",
     "output_type": "stream",
     "text": [
      "14\n"
     ]
    }
   ],
   "source": [
    "x = lambda a,b,c,d : a+b+c+d\n",
    "print(x(2,3,4,5))"
   ]
  },
  {
   "cell_type": "markdown",
   "id": "155bac9e",
   "metadata": {},
   "source": [
    "# Python file Handling"
   ]
  },
  {
   "cell_type": "markdown",
   "id": "1545b2d4",
   "metadata": {},
   "source": [
    "# File Handling\n",
    "\n",
    "\"r\" - Read - Default value. Opens a file for reading, error if the file does not exist\n",
    "\n",
    "\"a\" - Append - Opens a file for appending, creates the file if it does not exist\n",
    "\n",
    "\"w\" - Write - Opens a file for writing, creates the file if it does not exist\n",
    "\n",
    "\"x\" - Create - Creates the specified file, returns an error if the file exists"
   ]
  },
  {
   "cell_type": "markdown",
   "id": "fee57d1a",
   "metadata": {},
   "source": [
    "# In addition you can specify if the file should be handled as binary or text mode\n",
    "\n",
    "\"t\" - Text - Default value. Text mode\n",
    "\n",
    "\"b\" - Binary - Binary mode (e.g. images)\n"
   ]
  },
  {
   "cell_type": "code",
   "execution_count": 3,
   "id": "568874b2",
   "metadata": {},
   "outputs": [
    {
     "name": "stdout",
     "output_type": "stream",
     "text": [
      "32\n"
     ]
    }
   ],
   "source": [
    "f = open(\"Demo.txt\",\"w\")\n",
    "data = f.write(\"Hello World\\n Python with ML code\")\n",
    "print(data)\n",
    "f.close()"
   ]
  },
  {
   "cell_type": "code",
   "execution_count": 4,
   "id": "cea8cd66",
   "metadata": {},
   "outputs": [
    {
     "name": "stdout",
     "output_type": "stream",
     "text": [
      "Hello World\n",
      " Python with ML code\n"
     ]
    }
   ],
   "source": [
    "f = open(\"Demo.txt\",\"r\") # read the data from Demo.txt file\n",
    "print(f.read())"
   ]
  },
  {
   "cell_type": "code",
   "execution_count": 5,
   "id": "bfc9a60d",
   "metadata": {},
   "outputs": [
    {
     "name": "stdout",
     "output_type": "stream",
     "text": [
      "Hello\n"
     ]
    }
   ],
   "source": [
    "# Return the 5 first characters of the file:\n",
    "\n",
    "f = open(\"Demo.txt\",\"r\")\n",
    "print(f.read(5))"
   ]
  },
  {
   "cell_type": "markdown",
   "id": "f37b12d8",
   "metadata": {},
   "source": [
    "# Read Lines"
   ]
  },
  {
   "cell_type": "code",
   "execution_count": 8,
   "id": "ffac97ec",
   "metadata": {},
   "outputs": [
    {
     "name": "stdout",
     "output_type": "stream",
     "text": [
      "Hello World\n",
      "\n"
     ]
    }
   ],
   "source": [
    "f = open(\"Demo.txt\",\"r\")\n",
    "# data = f.readline()\n",
    "data = f.readline()\n",
    "print(data)"
   ]
  },
  {
   "cell_type": "markdown",
   "id": "0639c42a",
   "metadata": {},
   "source": [
    "# Write to an Existing File"
   ]
  },
  {
   "cell_type": "code",
   "execution_count": 15,
   "id": "256ceabd",
   "metadata": {},
   "outputs": [],
   "source": [
    "f = open(\"Demo.txt\",\"a\")\n",
    "f.write(\" \\n  Now the file has more content!\")\n",
    "f.close()"
   ]
  },
  {
   "cell_type": "code",
   "execution_count": 16,
   "id": "d30d14b6",
   "metadata": {},
   "outputs": [
    {
     "name": "stdout",
     "output_type": "stream",
     "text": [
      "Hello World\n",
      " Python with ML codeNow the file has more content! Now the file has more content! \n",
      "Now the file has more content! \n",
      "  Now the file has more content!\n"
     ]
    }
   ],
   "source": [
    "f=open(\"Demo.txt\",\"r\")\n",
    "print(f.read())\n",
    "f.close()\n"
   ]
  },
  {
   "cell_type": "markdown",
   "id": "1ced3ed5",
   "metadata": {},
   "source": [
    "# Create a New File"
   ]
  },
  {
   "cell_type": "markdown",
   "id": "77a7f60c",
   "metadata": {},
   "source": [
    "To create a new file in Python, use the open() method, with one of the following parameters:\n",
    "\n",
    "\"x\" - Create - will create a file, returns an error if the file exists\n",
    "\n",
    "\"a\" - Append - will create a file if the specified file does not exists\n",
    "\n",
    "\"w\" - Write - will create a file if the specified file does not exists"
   ]
  },
  {
   "cell_type": "code",
   "execution_count": 18,
   "id": "4f10332f",
   "metadata": {},
   "outputs": [
    {
     "ename": "FileExistsError",
     "evalue": "[Errno 17] File exists: 'myfile.txt'",
     "output_type": "error",
     "traceback": [
      "\u001b[1;31m---------------------------------------------------------------------------\u001b[0m",
      "\u001b[1;31mFileExistsError\u001b[0m                           Traceback (most recent call last)",
      "Cell \u001b[1;32mIn[18], line 3\u001b[0m\n\u001b[0;32m      1\u001b[0m \u001b[38;5;66;03m# Create a file called \"myfile.txt\":\u001b[39;00m\n\u001b[1;32m----> 3\u001b[0m f \u001b[38;5;241m=\u001b[39m \u001b[38;5;28;43mopen\u001b[39;49m\u001b[43m(\u001b[49m\u001b[38;5;124;43m\"\u001b[39;49m\u001b[38;5;124;43mmyfile.txt\u001b[39;49m\u001b[38;5;124;43m\"\u001b[39;49m\u001b[43m,\u001b[49m\u001b[38;5;124;43m\"\u001b[39;49m\u001b[38;5;124;43mx\u001b[39;49m\u001b[38;5;124;43m\"\u001b[39;49m\u001b[43m)\u001b[49m\n\u001b[0;32m      4\u001b[0m \u001b[38;5;28mprint\u001b[39m(f)\n",
      "File \u001b[1;32m~\\anaconda3\\lib\\site-packages\\IPython\\core\\interactiveshell.py:282\u001b[0m, in \u001b[0;36m_modified_open\u001b[1;34m(file, *args, **kwargs)\u001b[0m\n\u001b[0;32m    275\u001b[0m \u001b[38;5;28;01mif\u001b[39;00m file \u001b[38;5;129;01min\u001b[39;00m {\u001b[38;5;241m0\u001b[39m, \u001b[38;5;241m1\u001b[39m, \u001b[38;5;241m2\u001b[39m}:\n\u001b[0;32m    276\u001b[0m     \u001b[38;5;28;01mraise\u001b[39;00m \u001b[38;5;167;01mValueError\u001b[39;00m(\n\u001b[0;32m    277\u001b[0m         \u001b[38;5;124mf\u001b[39m\u001b[38;5;124m\"\u001b[39m\u001b[38;5;124mIPython won\u001b[39m\u001b[38;5;124m'\u001b[39m\u001b[38;5;124mt let you open fd=\u001b[39m\u001b[38;5;132;01m{\u001b[39;00mfile\u001b[38;5;132;01m}\u001b[39;00m\u001b[38;5;124m by default \u001b[39m\u001b[38;5;124m\"\u001b[39m\n\u001b[0;32m    278\u001b[0m         \u001b[38;5;124m\"\u001b[39m\u001b[38;5;124mas it is likely to crash IPython. If you know what you are doing, \u001b[39m\u001b[38;5;124m\"\u001b[39m\n\u001b[0;32m    279\u001b[0m         \u001b[38;5;124m\"\u001b[39m\u001b[38;5;124myou can use builtins\u001b[39m\u001b[38;5;124m'\u001b[39m\u001b[38;5;124m open.\u001b[39m\u001b[38;5;124m\"\u001b[39m\n\u001b[0;32m    280\u001b[0m     )\n\u001b[1;32m--> 282\u001b[0m \u001b[38;5;28;01mreturn\u001b[39;00m io_open(file, \u001b[38;5;241m*\u001b[39margs, \u001b[38;5;241m*\u001b[39m\u001b[38;5;241m*\u001b[39mkwargs)\n",
      "\u001b[1;31mFileExistsError\u001b[0m: [Errno 17] File exists: 'myfile.txt'"
     ]
    }
   ],
   "source": [
    "# Create a file called \"myfile.txt\":\n",
    "\n",
    "f = open(\"myfile.txt\",\"x\")\n",
    "print(f)"
   ]
  },
  {
   "cell_type": "code",
   "execution_count": 23,
   "id": "fbeb6f74",
   "metadata": {},
   "outputs": [
    {
     "name": "stdout",
     "output_type": "stream",
     "text": [
      "23\n"
     ]
    }
   ],
   "source": [
    "# Create a new file if it does not exist:\n",
    "\n",
    "f = open(\"myfile.txt\",\"w\")\n",
    "data = f.write(\"File Handling in Python\")\n",
    "print(data)\n",
    "f.close()"
   ]
  },
  {
   "cell_type": "code",
   "execution_count": 24,
   "id": "a63dd659",
   "metadata": {},
   "outputs": [
    {
     "name": "stdout",
     "output_type": "stream",
     "text": [
      "12\n"
     ]
    }
   ],
   "source": [
    "f = open(\"myfile.txt\",\"w\")\n",
    "data=f.write(\"Hello World!\")\n",
    "print(data)\n",
    "f.close()"
   ]
  },
  {
   "cell_type": "code",
   "execution_count": 25,
   "id": "7100f622",
   "metadata": {},
   "outputs": [
    {
     "name": "stdout",
     "output_type": "stream",
     "text": [
      "Hello World!\n"
     ]
    }
   ],
   "source": [
    "f = open(\"myfile.txt\",\"r\")\n",
    "data=f.read()\n",
    "print(data)"
   ]
  },
  {
   "cell_type": "code",
   "execution_count": null,
   "id": "9a520166",
   "metadata": {},
   "outputs": [],
   "source": []
  }
 ],
 "metadata": {
  "kernelspec": {
   "display_name": "Python 3 (ipykernel)",
   "language": "python",
   "name": "python3"
  },
  "language_info": {
   "codemirror_mode": {
    "name": "ipython",
    "version": 3
   },
   "file_extension": ".py",
   "mimetype": "text/x-python",
   "name": "python",
   "nbconvert_exporter": "python",
   "pygments_lexer": "ipython3",
   "version": "3.10.9"
  }
 },
 "nbformat": 4,
 "nbformat_minor": 5
}
