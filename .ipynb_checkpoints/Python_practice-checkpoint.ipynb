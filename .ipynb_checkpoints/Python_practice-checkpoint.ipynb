{
 "cells": [
  {
   "cell_type": "code",
   "execution_count": 1,
   "id": "e2310cd8",
   "metadata": {},
   "outputs": [
    {
     "name": "stdout",
     "output_type": "stream",
     "text": [
      "3.10.9 | packaged by Anaconda, Inc. | (main, Mar  1 2023, 18:18:15) [MSC v.1916 64 bit (AMD64)]\n"
     ]
    }
   ],
   "source": [
    "import sys\n",
    "print(sys.version)"
   ]
  },
  {
   "cell_type": "markdown",
   "id": "347acf0b",
   "metadata": {},
   "source": [
    "# Python comments"
   ]
  },
  {
   "cell_type": "code",
   "execution_count": 3,
   "id": "822eb0a9",
   "metadata": {},
   "outputs": [
    {
     "name": "stdout",
     "output_type": "stream",
     "text": [
      "27\n",
      "hello\n"
     ]
    }
   ],
   "source": [
    "# add tha two number\n",
    "print(5+22)\n",
    "# this is comments\n",
    "print('hello')"
   ]
  },
  {
   "cell_type": "code",
   "execution_count": 4,
   "id": "e9b20599",
   "metadata": {},
   "outputs": [
    {
     "name": "stdout",
     "output_type": "stream",
     "text": [
      "hii .. Python!\n"
     ]
    }
   ],
   "source": [
    "# print(\"hello Python\")\n",
    "print(\"hii .. Python!\")"
   ]
  },
  {
   "cell_type": "code",
   "execution_count": 5,
   "id": "1a009673",
   "metadata": {},
   "outputs": [
    {
     "name": "stdout",
     "output_type": "stream",
     "text": [
      "Python\n"
     ]
    }
   ],
   "source": [
    "# Multiline comments in Python\n",
    "\n",
    "# this is comments\n",
    "# hello \n",
    "# more line\n",
    "print('Python')"
   ]
  },
  {
   "cell_type": "code",
   "execution_count": 6,
   "id": "f2494dbd",
   "metadata": {},
   "outputs": [
    {
     "name": "stdout",
     "output_type": "stream",
     "text": [
      "hii..\n"
     ]
    }
   ],
   "source": [
    "''' hello \n",
    "How are you\n",
    "    welcome\n",
    "'''      #this is comments \n",
    "print('hii..')"
   ]
  },
  {
   "cell_type": "markdown",
   "id": "9b57a45b",
   "metadata": {},
   "source": [
    "# Python Variables"
   ]
  },
  {
   "cell_type": "markdown",
   "id": "7ca89a4b",
   "metadata": {},
   "source": [
    " Variables are containers for storing data values."
   ]
  },
  {
   "cell_type": "code",
   "execution_count": 17,
   "id": "eac287d7",
   "metadata": {},
   "outputs": [
    {
     "name": "stdout",
     "output_type": "stream",
     "text": [
      "5\n",
      "Python\n"
     ]
    }
   ],
   "source": [
    "x = 5  #int\n",
    "y = 'Python' #str\n",
    "\n",
    "print(x)\n",
    "print(y)"
   ]
  },
  {
   "cell_type": "markdown",
   "id": "11878067",
   "metadata": {},
   "source": [
    "# Python Casting"
   ]
  },
  {
   "cell_type": "code",
   "execution_count": 19,
   "id": "f9b5c8ce",
   "metadata": {},
   "outputs": [
    {
     "name": "stdout",
     "output_type": "stream",
     "text": [
      "5\n",
      "5\n",
      "5.0\n"
     ]
    }
   ],
   "source": [
    "x = str(5)\n",
    "print(x)\n",
    "y = int(5)\n",
    "print(y)\n",
    "z = float(5)\n",
    "print(z)"
   ]
  },
  {
   "cell_type": "code",
   "execution_count": 21,
   "id": "2ec25463",
   "metadata": {},
   "outputs": [
    {
     "name": "stdout",
     "output_type": "stream",
     "text": [
      "<class 'int'>\n",
      "<class 'str'>\n",
      "<class 'bool'>\n",
      "<class 'float'>\n"
     ]
    }
   ],
   "source": [
    "# Using type() function\n",
    "\n",
    "x = 10\n",
    "print(type(x))\n",
    "\n",
    "y = \"Python\"\n",
    "print(type(y))\n",
    "\n",
    "a = True\n",
    "print(type(a))\n",
    "\n",
    "b = 3.14\n",
    "print(type(b))"
   ]
  },
  {
   "cell_type": "code",
   "execution_count": 24,
   "id": "b58464f7",
   "metadata": {},
   "outputs": [
    {
     "name": "stdout",
     "output_type": "stream",
     "text": [
      "Python\n"
     ]
    }
   ],
   "source": [
    "# x = \"Python\"\n",
    "x = 'Python'\n",
    "print(x)"
   ]
  },
  {
   "cell_type": "markdown",
   "id": "ecc99dcf",
   "metadata": {},
   "source": [
    "#  Python is Case Sensitive "
   ]
  },
  {
   "cell_type": "code",
   "execution_count": 25,
   "id": "c50c2113",
   "metadata": {},
   "outputs": [
    {
     "name": "stdout",
     "output_type": "stream",
     "text": [
      "5\n",
      "Python\n"
     ]
    }
   ],
   "source": [
    "a = 5\n",
    "A = \"Python\"\n",
    "print(a)\n",
    "print(A)"
   ]
  },
  {
   "cell_type": "code",
   "execution_count": 28,
   "id": "39fd811c",
   "metadata": {},
   "outputs": [
    {
     "name": "stdout",
     "output_type": "stream",
     "text": [
      "Python\n"
     ]
    }
   ],
   "source": [
    "# var = 'Python'\n",
    "# my_var='Python'\n",
    "_='Python' \n",
    "print(_)\n"
   ]
  },
  {
   "cell_type": "code",
   "execution_count": 30,
   "id": "19e4a661",
   "metadata": {},
   "outputs": [
    {
     "name": "stdout",
     "output_type": "stream",
     "text": [
      "Python\n",
      "50\n",
      "AI\n"
     ]
    }
   ],
   "source": [
    "# Python multiple  variables  \n",
    "\n",
    "a,b,c = \"Python\",50,\"AI\"\n",
    "print(a)\n",
    "print(b)\n",
    "print(c)\n"
   ]
  },
  {
   "cell_type": "code",
   "execution_count": 35,
   "id": "8608370e",
   "metadata": {},
   "outputs": [
    {
     "name": "stdout",
     "output_type": "stream",
     "text": [
      "2541685393200\n",
      "2541685393200\n",
      "2541685393200\n"
     ]
    }
   ],
   "source": [
    "x = y = z = \"Python\"\n",
    "print(id(x))\n",
    "print(id(y))\n",
    "print(id(z))"
   ]
  },
  {
   "cell_type": "markdown",
   "id": "8702588b",
   "metadata": {},
   "source": [
    "# Python in Unpack a Collection"
   ]
  },
  {
   "cell_type": "code",
   "execution_count": 36,
   "id": "7c6ce9e2",
   "metadata": {},
   "outputs": [
    {
     "name": "stdout",
     "output_type": "stream",
     "text": [
      "Python\n",
      "ML\n",
      "AI\n"
     ]
    }
   ],
   "source": [
    "l1 = [\"Python\",\"ML\",\"AI\"]\n",
    "x,y,z=l1\n",
    "print(x)\n",
    "print(y)\n",
    "print(z)"
   ]
  },
  {
   "cell_type": "markdown",
   "id": "a6413b72",
   "metadata": {},
   "source": [
    "# Python - Global Variables"
   ]
  },
  {
   "cell_type": "markdown",
   "id": "f7a99189",
   "metadata": {},
   "source": [
    "Variables that are created outside of a function (as in all of the examples in the previous pages) are known as global variables.\n",
    "\n",
    "Global variables can be used by everyone, both inside of functions and outside."
   ]
  },
  {
   "cell_type": "code",
   "execution_count": 62,
   "id": "bed8e144",
   "metadata": {},
   "outputs": [
    {
     "name": "stdout",
     "output_type": "stream",
     "text": [
      "Best language is Python\n",
      "Python\n"
     ]
    }
   ],
   "source": [
    "x = \"Python\"\n",
    "\n",
    "def myfunc():\n",
    "    print(\"Best language is \" + x)\n",
    "    \n",
    "myfunc()\n",
    "print(x)"
   ]
  },
  {
   "cell_type": "code",
   "execution_count": 40,
   "id": "4ecfdc61",
   "metadata": {},
   "outputs": [
    {
     "name": "stdout",
     "output_type": "stream",
     "text": [
      "Python is Fantastic\n",
      "Python is awesome\n"
     ]
    }
   ],
   "source": [
    "x = \"awesome\"\n",
    "\n",
    "def myfunc():\n",
    "    x = \"Fantastic\"\n",
    "    \n",
    "    print(\"Python is \" + x)\n",
    "    \n",
    "myfunc()\n",
    "\n",
    "print(\"Python is \" + x)"
   ]
  },
  {
   "cell_type": "markdown",
   "id": "d2b1b5f0",
   "metadata": {},
   "source": [
    "# The global Keyword in Python"
   ]
  },
  {
   "cell_type": "code",
   "execution_count": 41,
   "id": "25535b8c",
   "metadata": {},
   "outputs": [
    {
     "name": "stdout",
     "output_type": "stream",
     "text": [
      "Python is Fantastic\n"
     ]
    }
   ],
   "source": [
    "def myfunc():\n",
    "    global x\n",
    "    x = \"Fantastic\"\n",
    "    \n",
    "myfunc()\n",
    "\n",
    "print(\"Python is \" + x)"
   ]
  },
  {
   "cell_type": "code",
   "execution_count": 42,
   "id": "13efd11b",
   "metadata": {},
   "outputs": [
    {
     "name": "stdout",
     "output_type": "stream",
     "text": [
      "25\n"
     ]
    }
   ],
   "source": [
    "# Accessing global Variable From Inside a Function\n",
    "\n",
    "# global variable\n",
    "\n",
    "a = 10\n",
    "b = 15\n",
    "\n",
    "# function to perform add\n",
    "\n",
    "def add():\n",
    "    c = a+b\n",
    "    print(c)\n",
    "    \n",
    "add()"
   ]
  },
  {
   "cell_type": "code",
   "execution_count": 44,
   "id": "59276689",
   "metadata": {},
   "outputs": [
    {
     "ename": "UnboundLocalError",
     "evalue": "local variable 'a' referenced before assignment",
     "output_type": "error",
     "traceback": [
      "\u001b[1;31m---------------------------------------------------------------------------\u001b[0m",
      "\u001b[1;31mUnboundLocalError\u001b[0m                         Traceback (most recent call last)",
      "Cell \u001b[1;32mIn[44], line 12\u001b[0m\n\u001b[0;32m      9\u001b[0m     a\u001b[38;5;241m=\u001b[39mb\n\u001b[0;32m     10\u001b[0m     \u001b[38;5;28mprint\u001b[39m(b)\n\u001b[1;32m---> 12\u001b[0m \u001b[43mchange\u001b[49m\u001b[43m(\u001b[49m\u001b[43m)\u001b[49m\n",
      "Cell \u001b[1;32mIn[44], line 8\u001b[0m, in \u001b[0;36mchange\u001b[1;34m()\u001b[0m\n\u001b[0;32m      7\u001b[0m \u001b[38;5;28;01mdef\u001b[39;00m \u001b[38;5;21mchange\u001b[39m():\n\u001b[1;32m----> 8\u001b[0m     b \u001b[38;5;241m=\u001b[39m \u001b[43ma\u001b[49m \u001b[38;5;241m+\u001b[39m \u001b[38;5;241m5\u001b[39m\n\u001b[0;32m      9\u001b[0m     a\u001b[38;5;241m=\u001b[39mb\n\u001b[0;32m     10\u001b[0m     \u001b[38;5;28mprint\u001b[39m(b)\n",
      "\u001b[1;31mUnboundLocalError\u001b[0m: local variable 'a' referenced before assignment"
     ]
    }
   ],
   "source": [
    "# Modifying Global Variable From Inside the Function\n",
    "\n",
    "a = 15\n",
    "\n",
    "# funtion to change a global value\n",
    "\n",
    "def change():\n",
    "    b = a + 5\n",
    "    a=b\n",
    "    print(b)\n",
    "    \n",
    "change()"
   ]
  },
  {
   "cell_type": "code",
   "execution_count": 61,
   "id": "3dd1e83c",
   "metadata": {},
   "outputs": [
    {
     "name": "stdout",
     "output_type": "stream",
     "text": [
      "Value of x inside a function : 20\n",
      "Value of x outside a function : 20\n"
     ]
    }
   ],
   "source": [
    "#  Changing Global Variable From Inside a Function using global\n",
    "\n",
    "x = 15\n",
    "\n",
    "\n",
    "def change():\n",
    "# using a global keyword\n",
    "    global x\n",
    "\n",
    "    # increment value of a by 5\n",
    "    x = x + 5\n",
    "    print(\"Value of x inside a function :\", x)\n",
    "\n",
    "\n",
    "change()\n",
    "print(\"Value of x outside a function :\", x)\n"
   ]
  },
  {
   "cell_type": "code",
   "execution_count": 65,
   "id": "00f4a87d",
   "metadata": {},
   "outputs": [
    {
     "name": "stdout",
     "output_type": "stream",
     "text": [
      "Python is awesome\n"
     ]
    }
   ],
   "source": [
    "# exercise global keyword\n",
    "\n",
    "x = \"awesome\"\n",
    "\n",
    "def myfunc():\n",
    "    x = \"fantastic\"\n",
    "myfunc()\n",
    "print(\"Python is \" + x)"
   ]
  },
  {
   "cell_type": "code",
   "execution_count": 66,
   "id": "21046410",
   "metadata": {},
   "outputs": [
    {
     "name": "stdout",
     "output_type": "stream",
     "text": [
      "Python is  Fantastic\n"
     ]
    }
   ],
   "source": [
    "# exercise\n",
    "\n",
    "x = \"awesome\"\n",
    "\n",
    "def myfunc():\n",
    "    global x \n",
    "    \n",
    "    x = \"Fantastic\"\n",
    "myfunc()\n",
    "print(\"Python is  \" + x)"
   ]
  },
  {
   "cell_type": "markdown",
   "id": "fa602493",
   "metadata": {},
   "source": [
    "# Python Data-Types"
   ]
  },
  {
   "cell_type": "markdown",
   "id": "1e323e91",
   "metadata": {},
   "source": [
    "# Text Type:\tstr\n",
    "# Numeric Types:\tint, float, complex\n",
    "# Sequence Types:\tlist, tuple, range\n",
    "# Mapping Type:\tdict\n",
    "# Set Types:\tset, frozenset\n",
    "# Boolean Type:\tbool\n",
    "# Binary Types:\tbytes, bytearray, memoryview\n",
    "# None Type:\tNoneType"
   ]
  },
  {
   "cell_type": "code",
   "execution_count": 69,
   "id": "9baaa187",
   "metadata": {},
   "outputs": [
    {
     "name": "stdout",
     "output_type": "stream",
     "text": [
      "<class 'str'>\n",
      "<class 'int'>\n",
      "<class 'float'>\n",
      "<class 'bool'>\n",
      "<class 'complex'>\n",
      "<class 'list'>\n",
      "<class 'tuple'>\n",
      "<class 'dict'>\n"
     ]
    }
   ],
   "source": [
    "x = \"Hello world\"\n",
    "print(type(x))\n",
    "\n",
    "x = 20\n",
    "print(type(x))\n",
    "\n",
    "x = 3.14\n",
    "print(type(x))\n",
    "\n",
    "x = True\n",
    "print(type(x))\n",
    "\n",
    "x = (1+2j)\n",
    "print(type(x))\n",
    "\n",
    "x = [1,'Python',False]\n",
    "print(type(x))\n",
    "\n",
    "x= (1,'Python')\n",
    "print(type(x))\n",
    "\n",
    "x = {1:'one',\n",
    "    2:'two'}\n",
    "print(type(x))\n",
    "\n"
   ]
  },
  {
   "cell_type": "code",
   "execution_count": 70,
   "id": "4f437f21",
   "metadata": {},
   "outputs": [
    {
     "name": "stdout",
     "output_type": "stream",
     "text": [
      "<class 'frozenset'>\n"
     ]
    }
   ],
   "source": [
    "x = frozenset({\"apple\",\"Banana\"})\n",
    "print(type(x))"
   ]
  },
  {
   "cell_type": "code",
   "execution_count": 74,
   "id": "995f1204",
   "metadata": {},
   "outputs": [
    {
     "name": "stdout",
     "output_type": "stream",
     "text": [
      "<class 'bytes'>\n",
      "<class 'bytes'>\n"
     ]
    }
   ],
   "source": [
    "x = b\"Hello\"\n",
    "print(type(x))\n",
    "x = b'1'\n",
    "print(type(x))"
   ]
  },
  {
   "cell_type": "code",
   "execution_count": 76,
   "id": "d3997379",
   "metadata": {},
   "outputs": [
    {
     "name": "stdout",
     "output_type": "stream",
     "text": [
      "<class 'bytearray'>\n"
     ]
    }
   ],
   "source": [
    "x = bytearray(50)\n",
    "print(type(x))"
   ]
  },
  {
   "cell_type": "code",
   "execution_count": 78,
   "id": "0c42c7ef",
   "metadata": {},
   "outputs": [
    {
     "name": "stdout",
     "output_type": "stream",
     "text": [
      "<class 'memoryview'>\n",
      "<memory at 0x0000024FCF6E7C40>\n"
     ]
    }
   ],
   "source": [
    "x = memoryview(bytes(5))\n",
    "print(type(x))\n",
    "print(x)"
   ]
  },
  {
   "cell_type": "code",
   "execution_count": 80,
   "id": "568320fa",
   "metadata": {},
   "outputs": [
    {
     "name": "stdout",
     "output_type": "stream",
     "text": [
      "<class 'str'>\n"
     ]
    }
   ],
   "source": [
    "a = str(\"Python\")\n",
    "print(type(a))"
   ]
  },
  {
   "cell_type": "code",
   "execution_count": 82,
   "id": "1ee3a903",
   "metadata": {},
   "outputs": [
    {
     "name": "stdout",
     "output_type": "stream",
     "text": [
      "<class 'complex'>\n"
     ]
    }
   ],
   "source": [
    "a = complex(1j)\n",
    "print(type(a))"
   ]
  },
  {
   "cell_type": "markdown",
   "id": "00e6c6b2",
   "metadata": {},
   "source": [
    "#  Python Type Conversion"
   ]
  },
  {
   "cell_type": "code",
   "execution_count": 83,
   "id": "a93a17db",
   "metadata": {},
   "outputs": [
    {
     "name": "stdout",
     "output_type": "stream",
     "text": [
      "1.0\n",
      "3\n",
      "(1+0j)\n",
      "<class 'float'>\n",
      "<class 'int'>\n",
      "<class 'complex'>\n"
     ]
    }
   ],
   "source": [
    "# You cannot convert complex numbers into another number type.\n",
    "\n",
    "x = 1     #int\n",
    "y = 3.14  #float\n",
    "z = 1j    #complex\n",
    "\n",
    "a = float(x)\n",
    "b = int(y)\n",
    "c = complex(x)\n",
    "\n",
    "print(a)\n",
    "print(b)\n",
    "print(c)\n",
    "\n",
    "print(type(a))\n",
    "print(type(b))\n",
    "print(type(c))"
   ]
  },
  {
   "cell_type": "code",
   "execution_count": 90,
   "id": "1fcaa6be",
   "metadata": {},
   "outputs": [
    {
     "name": "stdout",
     "output_type": "stream",
     "text": [
      "9\n",
      "7\n"
     ]
    }
   ],
   "source": [
    "# Python Random Module\n",
    "\n",
    "import random\n",
    "print(random.randrange(1,11))\n",
    "print(random.randint(1,10))"
   ]
  },
  {
   "cell_type": "markdown",
   "id": "1b1f740a",
   "metadata": {},
   "source": [
    "# Python Random Module"
   ]
  },
  {
   "cell_type": "code",
   "execution_count": 91,
   "id": "1a3e7fce",
   "metadata": {},
   "outputs": [],
   "source": [
    "import random"
   ]
  },
  {
   "cell_type": "code",
   "execution_count": 100,
   "id": "28e51557",
   "metadata": {},
   "outputs": [
    {
     "name": "stdout",
     "output_type": "stream",
     "text": [
      "0.5714025946899135\n"
     ]
    }
   ],
   "source": [
    "random.seed(10)\n",
    "print(random.random())"
   ]
  },
  {
   "cell_type": "code",
   "execution_count": 102,
   "id": "f42824b1",
   "metadata": {},
   "outputs": [
    {
     "name": "stdout",
     "output_type": "stream",
     "text": [
      "0.5714025946899135\n",
      "0.5714025946899135\n"
     ]
    }
   ],
   "source": [
    "import random\n",
    "\n",
    "random.seed(10)\n",
    "print(random.random())\n",
    "\n",
    "random.seed(10)\n",
    "print(random.random())"
   ]
  },
  {
   "cell_type": "code",
   "execution_count": 103,
   "id": "ef87f466",
   "metadata": {},
   "outputs": [
    {
     "name": "stdout",
     "output_type": "stream",
     "text": [
      "0.4288890546751146\n"
     ]
    }
   ],
   "source": [
    "import random\n",
    "\n",
    "print(random.random())"
   ]
  },
  {
   "cell_type": "code",
   "execution_count": null,
   "id": "bc9abbc6",
   "metadata": {},
   "outputs": [],
   "source": []
  },
  {
   "cell_type": "markdown",
   "id": "28746c06",
   "metadata": {},
   "source": [
    "# Python Strings"
   ]
  },
  {
   "cell_type": "code",
   "execution_count": 105,
   "id": "0d6ed343",
   "metadata": {},
   "outputs": [
    {
     "name": "stdout",
     "output_type": "stream",
     "text": [
      "Python\n",
      "Python\n"
     ]
    }
   ],
   "source": [
    "print(\"Python\")\n",
    "print('Python')"
   ]
  },
  {
   "cell_type": "code",
   "execution_count": 109,
   "id": "954eb227",
   "metadata": {},
   "outputs": [
    {
     "name": "stdout",
     "output_type": "stream",
     "text": [
      "it's alright\n",
      "he is called 'Jonny'\n",
      "He is called \"P\"\n"
     ]
    }
   ],
   "source": [
    "# Quotes Inside Quotes\n",
    "\n",
    "print(\"it's alright\")\n",
    "print(\"he is called 'Jonny'\")\n",
    "print('He is called \"P\"')"
   ]
  },
  {
   "cell_type": "code",
   "execution_count": 113,
   "id": "d2aa5266",
   "metadata": {},
   "outputs": [
    {
     "name": "stdout",
     "output_type": "stream",
     "text": [
      "l\n",
      "!\n"
     ]
    }
   ],
   "source": [
    "a = \"Hello World!\"\n",
    "print(a[2])\n",
    "print(a[-1])\n",
    "# print(a[5])"
   ]
  },
  {
   "cell_type": "code",
   "execution_count": 115,
   "id": "a5284fb8",
   "metadata": {},
   "outputs": [
    {
     "name": "stdout",
     "output_type": "stream",
     "text": [
      "Apple"
     ]
    }
   ],
   "source": [
    "for x in \"Apple\":\n",
    "    print(x,end=\"\")"
   ]
  },
  {
   "cell_type": "code",
   "execution_count": 116,
   "id": "4150ffa4",
   "metadata": {},
   "outputs": [
    {
     "name": "stdout",
     "output_type": "stream",
     "text": [
      "14\n"
     ]
    }
   ],
   "source": [
    "# how to find string Length\n",
    "\n",
    "a = \"Hello Everyone\"\n",
    "print(len(a))"
   ]
  },
  {
   "cell_type": "code",
   "execution_count": 118,
   "id": "79f1de56",
   "metadata": {},
   "outputs": [
    {
     "name": "stdout",
     "output_type": "stream",
     "text": [
      "True\n"
     ]
    }
   ],
   "source": [
    "txt = \"The best things in life are free\"\n",
    "print(\"life\" in txt)"
   ]
  },
  {
   "cell_type": "code",
   "execution_count": 119,
   "id": "e0363829",
   "metadata": {},
   "outputs": [
    {
     "data": {
      "text/plain": [
       "True"
      ]
     },
     "execution_count": 119,
     "metadata": {},
     "output_type": "execute_result"
    }
   ],
   "source": [
    "\"are\" in txt"
   ]
  },
  {
   "cell_type": "code",
   "execution_count": 122,
   "id": "79bb486c",
   "metadata": {},
   "outputs": [
    {
     "name": "stdout",
     "output_type": "stream",
     "text": [
      "not presents in txt\n"
     ]
    }
   ],
   "source": [
    "txt = \"The best things in life are free\"\n",
    "\n",
    "if \"bet\" in txt:\n",
    "    print(\"yes, 'best' in presents\")\n",
    "else:\n",
    "    print(\"not presents in txt\")"
   ]
  },
  {
   "cell_type": "code",
   "execution_count": 123,
   "id": "9e077129",
   "metadata": {},
   "outputs": [
    {
     "name": "stdout",
     "output_type": "stream",
     "text": [
      "True\n"
     ]
    }
   ],
   "source": [
    "txt = \"The best things in life are free\"  # NOT IN \n",
    "\n",
    "print(\"all\" not in txt)"
   ]
  },
  {
   "cell_type": "code",
   "execution_count": 124,
   "id": "60814e6e",
   "metadata": {},
   "outputs": [
    {
     "name": "stdout",
     "output_type": "stream",
     "text": [
      "c\n"
     ]
    }
   ],
   "source": [
    "# Exercise\n",
    "x = \"Welcome\"\n",
    "\n",
    "print(x[3])"
   ]
  },
  {
   "cell_type": "markdown",
   "id": "f9381117",
   "metadata": {},
   "source": [
    "# Python - Slicing Strings"
   ]
  },
  {
   "cell_type": "code",
   "execution_count": 131,
   "id": "88f72baf",
   "metadata": {},
   "outputs": [
    {
     "name": "stdout",
     "output_type": "stream",
     "text": [
      "Hello\n"
     ]
    }
   ],
   "source": [
    "a = \"Hello, World!\"\n",
    "# print(a[2:5])   \n",
    "print(a[:5])  # slice from the start"
   ]
  },
  {
   "cell_type": "code",
   "execution_count": 135,
   "id": "770707bd",
   "metadata": {},
   "outputs": [
    {
     "name": "stdout",
     "output_type": "stream",
     "text": [
      " World!\n"
     ]
    }
   ],
   "source": [
    "b = \"Hello, World!\"\n",
    "print(b[6:])      # slice th the END"
   ]
  },
  {
   "cell_type": "code",
   "execution_count": 136,
   "id": "c9d51430",
   "metadata": {},
   "outputs": [
    {
     "data": {
      "text/plain": [
       "'Hello, World!'"
      ]
     },
     "execution_count": 136,
     "metadata": {},
     "output_type": "execute_result"
    }
   ],
   "source": [
    "# nagative indexing\n",
    "b"
   ]
  },
  {
   "cell_type": "code",
   "execution_count": 143,
   "id": "562799bf",
   "metadata": {},
   "outputs": [
    {
     "name": "stdout",
     "output_type": "stream",
     "text": [
      "!\n"
     ]
    }
   ],
   "source": [
    "print(b[-1])"
   ]
  },
  {
   "cell_type": "code",
   "execution_count": 144,
   "id": "426ddb0a",
   "metadata": {},
   "outputs": [
    {
     "name": "stdout",
     "output_type": "stream",
     "text": [
      "orl\n"
     ]
    }
   ],
   "source": [
    "print(b[-5:-2])"
   ]
  },
  {
   "cell_type": "code",
   "execution_count": 146,
   "id": "00c27dca",
   "metadata": {},
   "outputs": [
    {
     "name": "stdout",
     "output_type": "stream",
     "text": [
      "llo, Wor\n"
     ]
    }
   ],
   "source": [
    "print(b[-11:-3])"
   ]
  },
  {
   "cell_type": "code",
   "execution_count": 149,
   "id": "57ac557d",
   "metadata": {},
   "outputs": [
    {
     "data": {
      "text/plain": [
       "'hello, world!'"
      ]
     },
     "execution_count": 149,
     "metadata": {},
     "output_type": "execute_result"
    }
   ],
   "source": [
    "# Python - Modify Strings\n",
    "\n",
    "a = \"Hello, World!\"\n",
    "# a.upper()\n",
    "a.lower()"
   ]
  },
  {
   "cell_type": "code",
   "execution_count": 152,
   "id": "aef70d96",
   "metadata": {
    "scrolled": true
   },
   "outputs": [
    {
     "name": "stdout",
     "output_type": "stream",
     "text": [
      "Hello , World\n",
      " Hello , World\n",
      "Hello , World  \n"
     ]
    }
   ],
   "source": [
    "a = \" Hello , World  \"\n",
    "\n",
    "print(a.strip())\n",
    "print(a.rstrip())\n",
    "print(a.lstrip())"
   ]
  },
  {
   "cell_type": "code",
   "execution_count": 153,
   "id": "a15126e6",
   "metadata": {},
   "outputs": [
    {
     "name": "stdout",
     "output_type": "stream",
     "text": [
      " Hello , World  \n"
     ]
    }
   ],
   "source": [
    "# Replace String\n",
    "print(a)"
   ]
  },
  {
   "cell_type": "code",
   "execution_count": 163,
   "id": "b5036368",
   "metadata": {},
   "outputs": [
    {
     "name": "stdout",
     "output_type": "stream",
     "text": [
      "Pr@t@p , M@kw@n@\n"
     ]
    }
   ],
   "source": [
    "x = \"Pratap , Makwana\"\n",
    "\n",
    "print(x.replace(\"a\",\"@\"))"
   ]
  },
  {
   "cell_type": "code",
   "execution_count": 164,
   "id": "bcbfe7c4",
   "metadata": {},
   "outputs": [
    {
     "name": "stdout",
     "output_type": "stream",
     "text": [
      "PraTap , Makwana\n"
     ]
    }
   ],
   "source": [
    "print(x.replace(\"t\",\"T\"))"
   ]
  },
  {
   "cell_type": "code",
   "execution_count": 166,
   "id": "9547b481",
   "metadata": {},
   "outputs": [
    {
     "name": "stdout",
     "output_type": "stream",
     "text": [
      "Pratap bhai Makwana\n"
     ]
    }
   ],
   "source": [
    "print(x.replace(\",\",\"bhai\"))"
   ]
  },
  {
   "cell_type": "code",
   "execution_count": 167,
   "id": "cc98590c",
   "metadata": {},
   "outputs": [
    {
     "name": "stdout",
     "output_type": "stream",
     "text": [
      "['Python', ',@', 'and', 'AI!']\n"
     ]
    }
   ],
   "source": [
    "x = \"Python ,@  and AI!\"\n",
    "print(x.split())"
   ]
  },
  {
   "cell_type": "code",
   "execution_count": 168,
   "id": "55feeabe",
   "metadata": {},
   "outputs": [
    {
     "data": {
      "text/plain": [
       "['P', 'y', 'th', 'o', 'n']"
      ]
     },
     "execution_count": 168,
     "metadata": {},
     "output_type": "execute_result"
    }
   ],
   "source": [
    "x = \"P y th o n\"\n",
    "x.split()"
   ]
  },
  {
   "cell_type": "code",
   "execution_count": 170,
   "id": "9c3f384e",
   "metadata": {},
   "outputs": [
    {
     "data": {
      "text/plain": [
       "['P y th o n']"
      ]
     },
     "execution_count": 170,
     "metadata": {},
     "output_type": "execute_result"
    }
   ],
   "source": [
    "x.splitlines()"
   ]
  },
  {
   "cell_type": "code",
   "execution_count": 171,
   "id": "6f278a79",
   "metadata": {},
   "outputs": [
    {
     "data": {
      "text/plain": [
       "' Hello , World  '"
      ]
     },
     "execution_count": 171,
     "metadata": {},
     "output_type": "execute_result"
    }
   ],
   "source": [
    "a"
   ]
  },
  {
   "cell_type": "code",
   "execution_count": 172,
   "id": "f003ddf8",
   "metadata": {},
   "outputs": [
    {
     "data": {
      "text/plain": [
       "[' Hello , World  ']"
      ]
     },
     "execution_count": 172,
     "metadata": {},
     "output_type": "execute_result"
    }
   ],
   "source": [
    "a.splitlines()"
   ]
  },
  {
   "cell_type": "code",
   "execution_count": 173,
   "id": "55f1ca4f",
   "metadata": {},
   "outputs": [
    {
     "data": {
      "text/plain": [
       "'P y th o n'"
      ]
     },
     "execution_count": 173,
     "metadata": {},
     "output_type": "execute_result"
    }
   ],
   "source": [
    "x"
   ]
  },
  {
   "cell_type": "code",
   "execution_count": 185,
   "id": "216f52ef",
   "metadata": {},
   "outputs": [
    {
     "name": "stdout",
     "output_type": "stream",
     "text": [
      "['Pyt', 'ho', 'n,ML', '']\n"
     ]
    }
   ],
   "source": [
    "x= \"Pyt!ho!n,ML!\"\n",
    "print(x.split(\"!\"))"
   ]
  },
  {
   "cell_type": "markdown",
   "id": "b0e46016",
   "metadata": {},
   "source": [
    "# Python - String Concatenation\n"
   ]
  },
  {
   "cell_type": "code",
   "execution_count": 190,
   "id": "764e0579",
   "metadata": {},
   "outputs": [
    {
     "name": "stdout",
     "output_type": "stream",
     "text": [
      "Hello World\n"
     ]
    }
   ],
   "source": [
    "a = \"Hello \"\n",
    "b = \"World\"\n",
    "x = a+b\n",
    "print(x)"
   ]
  },
  {
   "cell_type": "code",
   "execution_count": 194,
   "id": "988cec8a",
   "metadata": {},
   "outputs": [
    {
     "name": "stdout",
     "output_type": "stream",
     "text": [
      "Hello  World\n"
     ]
    }
   ],
   "source": [
    "a = \"Hello\"\n",
    "b = \"World\"\n",
    "\n",
    "c = a + \"  \" +b\n",
    "print(c)"
   ]
  },
  {
   "cell_type": "markdown",
   "id": "37703c01",
   "metadata": {},
   "source": [
    "# F-Strings"
   ]
  },
  {
   "cell_type": "code",
   "execution_count": 198,
   "id": "2f2830d8",
   "metadata": {},
   "outputs": [
    {
     "name": "stdout",
     "output_type": "stream",
     "text": [
      "My name is Jay, I am 27 year old!\n"
     ]
    }
   ],
   "source": [
    "name = \"Jay\"\n",
    "age = 27\n",
    "txt = f\"My name is {name}, I am {age} year old!\"\n",
    "print(txt)"
   ]
  },
  {
   "cell_type": "code",
   "execution_count": 199,
   "id": "a6915ebc",
   "metadata": {},
   "outputs": [
    {
     "name": "stdout",
     "output_type": "stream",
     "text": [
      "The price is 60 dollers($)\n"
     ]
    }
   ],
   "source": [
    "price = 60\n",
    "\n",
    "txt = f\"The price is {price} dollers($)\"\n",
    "print(txt)"
   ]
  },
  {
   "cell_type": "code",
   "execution_count": 206,
   "id": "985775a2",
   "metadata": {},
   "outputs": [
    {
     "name": "stdout",
     "output_type": "stream",
     "text": [
      "The price is 60.00 dollers($)\n"
     ]
    }
   ],
   "source": [
    "price = 60\n",
    "txt = f\"The price is {price:.2f} dollers($)\"\n",
    "print(txt)"
   ]
  },
  {
   "cell_type": "code",
   "execution_count": 207,
   "id": "07f22795",
   "metadata": {},
   "outputs": [
    {
     "name": "stdout",
     "output_type": "stream",
     "text": [
      "The price is 200 dollers\n"
     ]
    }
   ],
   "source": [
    "txt = f\"The price is {20*10} dollers\"\n",
    "print(txt)"
   ]
  },
  {
   "cell_type": "markdown",
   "id": "39b756c4",
   "metadata": {},
   "source": [
    "# Python - Escape Characters"
   ]
  },
  {
   "cell_type": "code",
   "execution_count": 210,
   "id": "4f4cc69e",
   "metadata": {},
   "outputs": [
    {
     "name": "stdout",
     "output_type": "stream",
     "text": [
      "We are the so-called \"Vikings\" from the north.\n"
     ]
    }
   ],
   "source": [
    "txt = \"We are the so-called \\\"Vikings\\\" from the north.\"\n",
    "print(txt)"
   ]
  },
  {
   "cell_type": "code",
   "execution_count": 212,
   "id": "e89a428b",
   "metadata": {},
   "outputs": [
    {
     "name": "stdout",
     "output_type": "stream",
     "text": [
      "Hello Everyone , How \"are\" you .\n"
     ]
    }
   ],
   "source": [
    "txt = \"Hello Everyone , How \\\"are\\\" you .\" #using backslash \\\n",
    "print(txt)"
   ]
  },
  {
   "cell_type": "code",
   "execution_count": 213,
   "id": "d52b4a37",
   "metadata": {},
   "outputs": [
    {
     "name": "stdout",
     "output_type": "stream",
     "text": [
      "It's alright.\n"
     ]
    }
   ],
   "source": [
    "# single quote\n",
    "\n",
    "txt = 'It\\'s alright.'\n",
    "print(txt) \n"
   ]
  },
  {
   "cell_type": "code",
   "execution_count": 214,
   "id": "162b223c",
   "metadata": {},
   "outputs": [
    {
     "name": "stdout",
     "output_type": "stream",
     "text": [
      "This will insert one \\ (backslash).\n"
     ]
    }
   ],
   "source": [
    "# Backslash\n",
    "\n",
    "txt = \"This will insert one \\\\ (backslash).\"\n",
    "print(txt) \n"
   ]
  },
  {
   "cell_type": "code",
   "execution_count": 215,
   "id": "391db68c",
   "metadata": {},
   "outputs": [
    {
     "name": "stdout",
     "output_type": "stream",
     "text": [
      "Hello\n",
      "World!\n"
     ]
    }
   ],
   "source": [
    "# new line\n",
    "\n",
    "txt = \"Hello\\nWorld!\"\n",
    "print(txt) "
   ]
  },
  {
   "cell_type": "code",
   "execution_count": 217,
   "id": "03948d9a",
   "metadata": {},
   "outputs": [
    {
     "name": "stdout",
     "output_type": "stream",
     "text": [
      "Hello\n",
      "Everyone!\n"
     ]
    }
   ],
   "source": [
    "txt = \"Hello\\nEveryone!\"\n",
    "print(txt)"
   ]
  },
  {
   "cell_type": "code",
   "execution_count": 218,
   "id": "3ffce050",
   "metadata": {},
   "outputs": [
    {
     "name": "stdout",
     "output_type": "stream",
     "text": [
      "Hello\r",
      "World!\n"
     ]
    }
   ],
   "source": [
    "# Carriage Return\n",
    "\n",
    "txt = \"Hello\\rWorld!\"\n",
    "print(txt) \n"
   ]
  },
  {
   "cell_type": "code",
   "execution_count": 221,
   "id": "95b47e95",
   "metadata": {},
   "outputs": [
    {
     "name": "stdout",
     "output_type": "stream",
     "text": [
      "welcome to\n",
      " \r",
      "our office!\n"
     ]
    }
   ],
   "source": [
    "x = \"welcome to\\n \\rour office!\"\n",
    "print(x)"
   ]
  },
  {
   "cell_type": "code",
   "execution_count": 222,
   "id": "6bd3f574",
   "metadata": {},
   "outputs": [
    {
     "name": "stdout",
     "output_type": "stream",
     "text": [
      "Hello\tWorld\n"
     ]
    }
   ],
   "source": [
    "# Tab\n",
    "\n",
    "x = \"Hello\\tWorld\"\n",
    "print(x)"
   ]
  },
  {
   "cell_type": "code",
   "execution_count": 228,
   "id": "f8e60d7d",
   "metadata": {},
   "outputs": [
    {
     "name": "stdout",
     "output_type": "stream",
     "text": [
      "Hello  \bWorld!\n"
     ]
    }
   ],
   "source": [
    "# Backspace\n",
    "\n",
    "txt = \"Hello  \\bWorld!\"\n",
    "print(txt) \n"
   ]
  },
  {
   "cell_type": "code",
   "execution_count": 232,
   "id": "c69610cc",
   "metadata": {},
   "outputs": [
    {
     "name": "stdout",
     "output_type": "stream",
     "text": [
      "Hello\f",
      " world\n"
     ]
    }
   ],
   "source": [
    "# Form Feed\n",
    "txt = \"Hello\\f world\"\n",
    "print(txt)\n"
   ]
  },
  {
   "cell_type": "code",
   "execution_count": 233,
   "id": "7a28a53c",
   "metadata": {},
   "outputs": [
    {
     "name": "stdout",
     "output_type": "stream",
     "text": [
      "Hello\n"
     ]
    }
   ],
   "source": [
    "# octal value\n",
    "\n",
    "txt = \"\\110\\145\\154\\154\\157\"\n",
    "print(txt) \n"
   ]
  },
  {
   "cell_type": "markdown",
   "id": "d8dde378",
   "metadata": {},
   "source": [
    "# Python - String Methods"
   ]
  },
  {
   "cell_type": "code",
   "execution_count": 306,
   "id": "3f52d936",
   "metadata": {},
   "outputs": [],
   "source": [
    "txt = \"Hello , World!\"\n",
    "# print(txt.capitalize())\n",
    "# print(txt.casefold())\n",
    "# print(txt.center(1))\n",
    "# print(txt.count('o'))\n",
    "# print(txt.encode())\n",
    "# print(txt.endswith('d!'))\n",
    "# print(txt.expandtabs())\n",
    "# print(txt.find('r'))\n",
    "# print(txt.format())\n",
    "# print(txt.format_map(','))\n",
    "# print(txt.index('o'))\n",
    "# print(txt.isalnum())\n",
    "# print(txt.isalpha())\n",
    "# print(txt.isascii())\n",
    "# print(txt.isdecimal())\n",
    "# print(txt.isdigit())\n",
    "# print(txt.isidentifier())\n",
    "# print(txt.islower())\n",
    "# print(txt.isnumeric())\n",
    "# print(txt.isprintable())\n",
    "# print(id(txt))\n",
    "# print(txt.isspace())\n",
    "# print(txt.istitle())\n",
    "# print(txt.isupper())"
   ]
  },
  {
   "cell_type": "code",
   "execution_count": 307,
   "id": "7d937c2c",
   "metadata": {},
   "outputs": [
    {
     "data": {
      "text/plain": [
       "'Hello , World!'"
      ]
     },
     "execution_count": 307,
     "metadata": {},
     "output_type": "execute_result"
    }
   ],
   "source": [
    "txt"
   ]
  },
  {
   "cell_type": "code",
   "execution_count": 308,
   "id": "3f717795",
   "metadata": {},
   "outputs": [
    {
     "data": {
      "text/plain": [
       "True"
      ]
     },
     "execution_count": 308,
     "metadata": {},
     "output_type": "execute_result"
    }
   ],
   "source": [
    "txt.startswith(\"H\")"
   ]
  },
  {
   "cell_type": "code",
   "execution_count": 312,
   "id": "dff4f5e3",
   "metadata": {},
   "outputs": [
    {
     "data": {
      "text/plain": [
       "['He', '', 'o , Wor', 'd!']"
      ]
     },
     "execution_count": 312,
     "metadata": {},
     "output_type": "execute_result"
    }
   ],
   "source": [
    "txt.split('l')"
   ]
  },
  {
   "cell_type": "code",
   "execution_count": 310,
   "id": "e275dccc",
   "metadata": {},
   "outputs": [
    {
     "data": {
      "text/plain": [
       "['Hello , World!']"
      ]
     },
     "execution_count": 310,
     "metadata": {},
     "output_type": "execute_result"
    }
   ],
   "source": [
    "txt.splitlines()"
   ]
  },
  {
   "cell_type": "code",
   "execution_count": 313,
   "id": "10bfaa14",
   "metadata": {},
   "outputs": [
    {
     "data": {
      "text/plain": [
       "'Hello , World!'"
      ]
     },
     "execution_count": 313,
     "metadata": {},
     "output_type": "execute_result"
    }
   ],
   "source": [
    "txt"
   ]
  },
  {
   "cell_type": "code",
   "execution_count": 314,
   "id": "e47fe2f2",
   "metadata": {},
   "outputs": [
    {
     "data": {
      "text/plain": [
       "'hELLO , wORLD!'"
      ]
     },
     "execution_count": 314,
     "metadata": {},
     "output_type": "execute_result"
    }
   ],
   "source": [
    "txt.swapcase()"
   ]
  },
  {
   "cell_type": "code",
   "execution_count": 317,
   "id": "bfec79a1",
   "metadata": {},
   "outputs": [
    {
     "data": {
      "text/plain": [
       "'Hello , World!'"
      ]
     },
     "execution_count": 317,
     "metadata": {},
     "output_type": "execute_result"
    }
   ],
   "source": [
    "txt.translate('H')"
   ]
  },
  {
   "cell_type": "code",
   "execution_count": 318,
   "id": "92dfd4ea",
   "metadata": {},
   "outputs": [
    {
     "data": {
      "text/plain": [
       "'Python'"
      ]
     },
     "execution_count": 318,
     "metadata": {},
     "output_type": "execute_result"
    }
   ],
   "source": [
    "a = \"Python\"\n",
    "a.translate('y')"
   ]
  },
  {
   "cell_type": "markdown",
   "id": "6c1705b4",
   "metadata": {},
   "source": [
    "# Python Booleans"
   ]
  },
  {
   "cell_type": "code",
   "execution_count": 322,
   "id": "401509ef",
   "metadata": {},
   "outputs": [
    {
     "name": "stdout",
     "output_type": "stream",
     "text": [
      "True\n",
      "False\n",
      "False\n"
     ]
    }
   ],
   "source": [
    "print(10>0)\n",
    "print(1<-8)\n",
    "print(0==1)"
   ]
  },
  {
   "cell_type": "code",
   "execution_count": 325,
   "id": "755fd474",
   "metadata": {},
   "outputs": [
    {
     "name": "stdout",
     "output_type": "stream",
     "text": [
      "b  is greter of a\n"
     ]
    }
   ],
   "source": [
    "a = 200\n",
    "b= 33\n",
    "\n",
    "if b<a:\n",
    "    print(\"b  is greter of a\")\n",
    "    \n",
    "else:\n",
    "    print(\"b is not grater than a\")"
   ]
  },
  {
   "cell_type": "code",
   "execution_count": 326,
   "id": "8198fa4d",
   "metadata": {},
   "outputs": [
    {
     "name": "stdout",
     "output_type": "stream",
     "text": [
      "True\n"
     ]
    }
   ],
   "source": [
    "print(bool(\"Hello\"))"
   ]
  },
  {
   "cell_type": "code",
   "execution_count": 330,
   "id": "323a520c",
   "metadata": {},
   "outputs": [
    {
     "name": "stdout",
     "output_type": "stream",
     "text": [
      "False\n"
     ]
    }
   ],
   "source": [
    "print(bool(0))"
   ]
  },
  {
   "cell_type": "code",
   "execution_count": 331,
   "id": "57be946e",
   "metadata": {},
   "outputs": [
    {
     "name": "stdout",
     "output_type": "stream",
     "text": [
      "True\n"
     ]
    }
   ],
   "source": [
    "print(bool(17))"
   ]
  },
  {
   "cell_type": "code",
   "execution_count": 332,
   "id": "e078f891",
   "metadata": {},
   "outputs": [
    {
     "name": "stdout",
     "output_type": "stream",
     "text": [
      "True\n"
     ]
    }
   ],
   "source": [
    "print(bool(1))"
   ]
  },
  {
   "cell_type": "code",
   "execution_count": 333,
   "id": "b6e742f8",
   "metadata": {},
   "outputs": [
    {
     "name": "stdout",
     "output_type": "stream",
     "text": [
      "False\n"
     ]
    }
   ],
   "source": [
    "print(bool(''))"
   ]
  },
  {
   "cell_type": "code",
   "execution_count": 334,
   "id": "23fd814b",
   "metadata": {},
   "outputs": [
    {
     "name": "stdout",
     "output_type": "stream",
     "text": [
      "True\n",
      "True\n"
     ]
    }
   ],
   "source": [
    "x=\"Hello\"\n",
    "y = 18\n",
    "\n",
    "print(bool(x))\n",
    "print(bool(y))"
   ]
  },
  {
   "cell_type": "code",
   "execution_count": 335,
   "id": "2323bca5",
   "metadata": {},
   "outputs": [
    {
     "data": {
      "text/plain": [
       "True"
      ]
     },
     "execution_count": 335,
     "metadata": {},
     "output_type": "execute_result"
    }
   ],
   "source": [
    "bool(\"abc\")"
   ]
  },
  {
   "cell_type": "code",
   "execution_count": 336,
   "id": "57b2ede3",
   "metadata": {},
   "outputs": [
    {
     "data": {
      "text/plain": [
       "True"
      ]
     },
     "execution_count": 336,
     "metadata": {},
     "output_type": "execute_result"
    }
   ],
   "source": [
    "bool(123)"
   ]
  },
  {
   "cell_type": "code",
   "execution_count": 337,
   "id": "df6b4ba1",
   "metadata": {},
   "outputs": [
    {
     "data": {
      "text/plain": [
       "True"
      ]
     },
     "execution_count": 337,
     "metadata": {},
     "output_type": "execute_result"
    }
   ],
   "source": [
    "bool([\"apple\",\"banana\",\"cgerry\"])"
   ]
  },
  {
   "cell_type": "code",
   "execution_count": 338,
   "id": "113e9e4b",
   "metadata": {},
   "outputs": [
    {
     "data": {
      "text/plain": [
       "True"
      ]
     },
     "execution_count": 338,
     "metadata": {},
     "output_type": "execute_result"
    }
   ],
   "source": [
    "bool({1:\"one\",2:\"two\"})"
   ]
  },
  {
   "cell_type": "code",
   "execution_count": 339,
   "id": "1cd4051e",
   "metadata": {},
   "outputs": [
    {
     "data": {
      "text/plain": [
       "True"
      ]
     },
     "execution_count": 339,
     "metadata": {},
     "output_type": "execute_result"
    }
   ],
   "source": [
    "bool(1,)"
   ]
  },
  {
   "cell_type": "code",
   "execution_count": 340,
   "id": "d17be1f3",
   "metadata": {},
   "outputs": [
    {
     "name": "stdout",
     "output_type": "stream",
     "text": [
      "False\n"
     ]
    }
   ],
   "source": [
    "class MyClass():\n",
    "    def __len__(self):\n",
    "        return 0\n",
    "    \n",
    "obj = MyClass()\n",
    "print(bool(obj))"
   ]
  },
  {
   "cell_type": "code",
   "execution_count": 341,
   "id": "c73f1595",
   "metadata": {},
   "outputs": [
    {
     "name": "stdout",
     "output_type": "stream",
     "text": [
      "True\n"
     ]
    }
   ],
   "source": [
    "def MyFunction():\n",
    "    return True\n",
    "print(MyFunction())"
   ]
  },
  {
   "cell_type": "code",
   "execution_count": 344,
   "id": "b15254d4",
   "metadata": {},
   "outputs": [
    {
     "name": "stdout",
     "output_type": "stream",
     "text": [
      "Yes!\n"
     ]
    }
   ],
   "source": [
    "def MyFunction():\n",
    "    return 1\n",
    "if MyFunction():\n",
    "    print(\"Yes!\")\n",
    "    \n",
    "else:\n",
    "    print(\"NOO!\")"
   ]
  },
  {
   "cell_type": "code",
   "execution_count": 350,
   "id": "95932072",
   "metadata": {},
   "outputs": [
    {
     "name": "stdout",
     "output_type": "stream",
     "text": [
      "True\n"
     ]
    }
   ],
   "source": [
    "a = 200\n",
    "\n",
    "print(isinstance(a,int))"
   ]
  },
  {
   "cell_type": "code",
   "execution_count": 352,
   "id": "763cead2",
   "metadata": {},
   "outputs": [
    {
     "name": "stdout",
     "output_type": "stream",
     "text": [
      "True\n"
     ]
    }
   ],
   "source": [
    "x = 'Python'\n",
    "\n",
    "print(isinstance(x,str))"
   ]
  },
  {
   "cell_type": "markdown",
   "id": "7b8d19a8",
   "metadata": {},
   "source": [
    "# Python Operators"
   ]
  },
  {
   "cell_type": "markdown",
   "id": "7f9d2356",
   "metadata": {},
   "source": [
    "Operators are used to perform operations on variables and values.\n",
    "\n"
   ]
  },
  {
   "cell_type": "markdown",
   "id": "82358843",
   "metadata": {},
   "source": [
    "#### Python divides the operators in the following groups:\n",
    "\n",
    "### Arithmetic operators\n",
    "### Assignment operators\n",
    "### Comparison operators\n",
    "### Logical operators\n",
    "### Identity operators\n",
    "### Membership operators\n",
    "### Bitwise operators\n"
   ]
  },
  {
   "cell_type": "code",
   "execution_count": 356,
   "id": "400d089d",
   "metadata": {},
   "outputs": [
    {
     "name": "stdout",
     "output_type": "stream",
     "text": [
      "60\n",
      "40\n",
      "500\n",
      "5.0\n",
      "0\n",
      "5\n",
      "97656250000000000\n"
     ]
    }
   ],
   "source": [
    "# Python Arithmetic Operators\n",
    "\n",
    "a = 50\n",
    "b = 10\n",
    "\n",
    "print(a+b)\n",
    "print(a-b)\n",
    "print(a*b)\n",
    "print(a/b)\n",
    "print(a%b)\n",
    "print(a//b)\n",
    "print(a**b)"
   ]
  },
  {
   "cell_type": "code",
   "execution_count": 365,
   "id": "5a5e9c45",
   "metadata": {},
   "outputs": [
    {
     "name": "stdout",
     "output_type": "stream",
     "text": [
      "100\n"
     ]
    }
   ],
   "source": [
    "# Python Assignment Operators\n",
    "# Assignment operators are used to assign values to variables:\n",
    "\n",
    "a = 10\n",
    "# a +=50\n",
    "# a = a + 50\n",
    "# a *=2\n",
    "# a /=2\n",
    "# a //= 2\n",
    "a **=2\n",
    "print(a)\n"
   ]
  },
  {
   "cell_type": "code",
   "execution_count": 379,
   "id": "74c8d41b",
   "metadata": {},
   "outputs": [
    {
     "name": "stdout",
     "output_type": "stream",
     "text": [
      "2\n"
     ]
    }
   ],
   "source": [
    "x = 10\n",
    "\n",
    "# x &= 9\n",
    "# x |=2\n",
    "# x >>= 3\n",
    "\n",
    "print(x:=2)"
   ]
  },
  {
   "cell_type": "code",
   "execution_count": 383,
   "id": "fd350e66",
   "metadata": {},
   "outputs": [
    {
     "name": "stdout",
     "output_type": "stream",
     "text": [
      "False\n",
      "True\n",
      "False\n",
      "True\n",
      "False\n",
      "True\n"
     ]
    }
   ],
   "source": [
    "# Python Comparison Operators\n",
    "\n",
    "x = 10\n",
    "y = 20\n",
    "\n",
    "print(x==y)\n",
    "print(x<=y)\n",
    "print(x>=y)\n",
    "print(x<y)\n",
    "print(x>y)\n",
    "print(x != y)"
   ]
  },
  {
   "cell_type": "code",
   "execution_count": 385,
   "id": "b832d9f5",
   "metadata": {},
   "outputs": [
    {
     "name": "stdout",
     "output_type": "stream",
     "text": [
      "False\n",
      "True\n"
     ]
    }
   ],
   "source": [
    "# Python Logical Operators\n",
    "\n",
    "\n",
    "x = 10\n",
    "\n",
    "print(x>5 and x<5)\n",
    "print(x<15 and x>2)"
   ]
  },
  {
   "cell_type": "code",
   "execution_count": 386,
   "id": "9adcda50",
   "metadata": {},
   "outputs": [
    {
     "name": "stdout",
     "output_type": "stream",
     "text": [
      "True\n",
      "True\n",
      "False\n"
     ]
    }
   ],
   "source": [
    "x = 10\n",
    "\n",
    "print(x>5 or x<5)\n",
    "print(x>2 or x<20)\n",
    "print(x<0 or x>20)"
   ]
  },
  {
   "cell_type": "code",
   "execution_count": 390,
   "id": "a3393a67",
   "metadata": {},
   "outputs": [
    {
     "name": "stdout",
     "output_type": "stream",
     "text": [
      "False\n",
      "False\n"
     ]
    }
   ],
   "source": [
    "x = 10\n",
    "\n",
    "print(not(x<15 and x>5))\n",
    "print(not(x<15 or x>20))"
   ]
  },
  {
   "cell_type": "code",
   "execution_count": 395,
   "id": "8c086596",
   "metadata": {},
   "outputs": [
    {
     "name": "stdout",
     "output_type": "stream",
     "text": [
      "False\n",
      "True\n"
     ]
    }
   ],
   "source": [
    "# Python Identity Operators\n",
    "\n",
    "x = 10\n",
    "y = 1\n",
    "\n",
    "print(x is y)\n",
    "print(x is not y)"
   ]
  },
  {
   "cell_type": "code",
   "execution_count": 405,
   "id": "a492d173",
   "metadata": {},
   "outputs": [
    {
     "name": "stdout",
     "output_type": "stream",
     "text": [
      "True\n",
      "False\n"
     ]
    }
   ],
   "source": [
    "# Python Membership Operators\n",
    "\n",
    "x = [\"apple\",\"cherry\",\"Banana\"]\n",
    "print(\"cherry\" in x)\n",
    "\n",
    "print(\"apple\" not in x)\n",
    "\n"
   ]
  },
  {
   "cell_type": "code",
   "execution_count": 406,
   "id": "48f50007",
   "metadata": {},
   "outputs": [
    {
     "name": "stdout",
     "output_type": "stream",
     "text": [
      "0\n"
     ]
    }
   ],
   "source": [
    "print((6 + 3) - (6 + 3))"
   ]
  },
  {
   "cell_type": "code",
   "execution_count": 407,
   "id": "9436fbcb",
   "metadata": {},
   "outputs": [
    {
     "name": "stdout",
     "output_type": "stream",
     "text": [
      "115\n"
     ]
    }
   ],
   "source": [
    "print(100 + 5 * 3)"
   ]
  },
  {
   "cell_type": "code",
   "execution_count": 408,
   "id": "88bbac45",
   "metadata": {},
   "outputs": [
    {
     "name": "stdout",
     "output_type": "stream",
     "text": [
      "5\n"
     ]
    }
   ],
   "source": [
    "print(5 + 4 - 7 + 3)\n"
   ]
  },
  {
   "cell_type": "markdown",
   "id": "25968941",
   "metadata": {},
   "source": [
    "# Python Lists"
   ]
  },
  {
   "cell_type": "markdown",
   "id": "da341dd3",
   "metadata": {},
   "source": [
    "Lists are used to store multiple items in a single variable.\n",
    "\n",
    "Lists are one of 4 built-in data types in Python used to store collections of data, the other 3 are Tuple, Set, and Dictionary, all with different qualities and usage.\n",
    "\n",
    "Lists are created using square brackets:"
   ]
  },
  {
   "cell_type": "code",
   "execution_count": 409,
   "id": "ee1a9886",
   "metadata": {},
   "outputs": [
    {
     "name": "stdout",
     "output_type": "stream",
     "text": [
      "['Apple', 'Banana', 'Cherry']\n"
     ]
    }
   ],
   "source": [
    "list1 = [\"Apple\",\"Banana\",\"Cherry\"]\n",
    "print(list1)"
   ]
  },
  {
   "cell_type": "code",
   "execution_count": 410,
   "id": "8ff62cc0",
   "metadata": {},
   "outputs": [
    {
     "name": "stdout",
     "output_type": "stream",
     "text": [
      "<class 'list'>\n"
     ]
    }
   ],
   "source": [
    "print(type(list1))"
   ]
  },
  {
   "cell_type": "code",
   "execution_count": 411,
   "id": "ed3ccbf3",
   "metadata": {},
   "outputs": [
    {
     "name": "stdout",
     "output_type": "stream",
     "text": [
      "['apple', 'banana', 'apple', 'Cherry', 'Banana']\n"
     ]
    }
   ],
   "source": [
    "l1 = [\"apple\",\"banana\",\"apple\",\"Cherry\",\"Banana\"]\n",
    "print(l1)"
   ]
  },
  {
   "cell_type": "code",
   "execution_count": 413,
   "id": "288d29f7",
   "metadata": {},
   "outputs": [
    {
     "name": "stdout",
     "output_type": "stream",
     "text": [
      "5\n"
     ]
    }
   ],
   "source": [
    "print(len(l1))"
   ]
  },
  {
   "cell_type": "code",
   "execution_count": 414,
   "id": "144a7043",
   "metadata": {},
   "outputs": [
    {
     "name": "stdout",
     "output_type": "stream",
     "text": [
      "<class 'list'>\n",
      "<class 'list'>\n",
      "<class 'list'>\n"
     ]
    }
   ],
   "source": [
    "l1 = [\"apple\",\"Banana\",\"Cherry\"]\n",
    "l2 = [1,2,3,4,5]\n",
    "l3 = [True,True,False]\n",
    "print(type(l1))\n",
    "print(type(l2))\n",
    "print(type(l3))"
   ]
  },
  {
   "cell_type": "code",
   "execution_count": 415,
   "id": "3449b7df",
   "metadata": {},
   "outputs": [
    {
     "data": {
      "text/plain": [
       "['apple', 'Banana', 'Cherry']"
      ]
     },
     "execution_count": 415,
     "metadata": {},
     "output_type": "execute_result"
    }
   ],
   "source": [
    "l1"
   ]
  },
  {
   "cell_type": "code",
   "execution_count": 416,
   "id": "80d9ea6a",
   "metadata": {},
   "outputs": [],
   "source": [
    "del l1"
   ]
  },
  {
   "cell_type": "code",
   "execution_count": 418,
   "id": "0c624ee9",
   "metadata": {},
   "outputs": [
    {
     "name": "stdout",
     "output_type": "stream",
     "text": [
      "[1, True, 'Python', 27]\n"
     ]
    }
   ],
   "source": [
    "l1 = [1,True,\"Python\",27]\n",
    "print(l1)"
   ]
  },
  {
   "cell_type": "code",
   "execution_count": 421,
   "id": "db052cc4",
   "metadata": {},
   "outputs": [
    {
     "name": "stdout",
     "output_type": "stream",
     "text": [
      "<class 'list'>\n",
      "['apple', 10, True]\n"
     ]
    }
   ],
   "source": [
    "l2 = list((\"apple\",10,True))\n",
    "print(type(l2))\n",
    "print(l2)"
   ]
  },
  {
   "cell_type": "code",
   "execution_count": 422,
   "id": "77c9e757",
   "metadata": {},
   "outputs": [
    {
     "data": {
      "text/plain": [
       "[1, True, 'Python', 27]"
      ]
     },
     "execution_count": 422,
     "metadata": {},
     "output_type": "execute_result"
    }
   ],
   "source": [
    "# Python - Access List Items\n",
    "\n",
    "l1"
   ]
  },
  {
   "cell_type": "code",
   "execution_count": 423,
   "id": "d4389fbf",
   "metadata": {},
   "outputs": [
    {
     "name": "stdout",
     "output_type": "stream",
     "text": [
      "Python\n"
     ]
    }
   ],
   "source": [
    "print(l1[2])"
   ]
  },
  {
   "cell_type": "code",
   "execution_count": 424,
   "id": "02b05998",
   "metadata": {},
   "outputs": [
    {
     "name": "stdout",
     "output_type": "stream",
     "text": [
      "27\n"
     ]
    }
   ],
   "source": [
    "print(l1[-1])"
   ]
  },
  {
   "cell_type": "code",
   "execution_count": 425,
   "id": "8dd9599d",
   "metadata": {},
   "outputs": [
    {
     "name": "stdout",
     "output_type": "stream",
     "text": [
      "[27, 'Python', True, 1]\n"
     ]
    }
   ],
   "source": [
    "print(l1[::-1])"
   ]
  },
  {
   "cell_type": "code",
   "execution_count": 431,
   "id": "6f6bbeae",
   "metadata": {},
   "outputs": [
    {
     "name": "stdout",
     "output_type": "stream",
     "text": [
      "['Python', 27]\n"
     ]
    }
   ],
   "source": [
    "print(l1[2:4])"
   ]
  },
  {
   "cell_type": "code",
   "execution_count": 440,
   "id": "77e0aa64",
   "metadata": {},
   "outputs": [
    {
     "name": "stdout",
     "output_type": "stream",
     "text": [
      "['Python']\n"
     ]
    }
   ],
   "source": [
    "print(l1[-2:-1])"
   ]
  },
  {
   "cell_type": "code",
   "execution_count": 441,
   "id": "b605093d",
   "metadata": {},
   "outputs": [
    {
     "data": {
      "text/plain": [
       "[1, True, 'Python', 27]"
      ]
     },
     "execution_count": 441,
     "metadata": {},
     "output_type": "execute_result"
    }
   ],
   "source": [
    "l1"
   ]
  },
  {
   "cell_type": "code",
   "execution_count": 442,
   "id": "403ab65a",
   "metadata": {},
   "outputs": [
    {
     "name": "stdout",
     "output_type": "stream",
     "text": [
      "[1, True, 'Python', 27]\n"
     ]
    }
   ],
   "source": [
    "print(l1[-4:])"
   ]
  },
  {
   "cell_type": "code",
   "execution_count": 443,
   "id": "7720599d",
   "metadata": {},
   "outputs": [
    {
     "name": "stdout",
     "output_type": "stream",
     "text": [
      "nohtyP\n"
     ]
    }
   ],
   "source": [
    "s = \"Python\"\n",
    "print(s[::-1])"
   ]
  },
  {
   "cell_type": "code",
   "execution_count": 445,
   "id": "c1f873a5",
   "metadata": {},
   "outputs": [
    {
     "data": {
      "text/plain": [
       "'thon'"
      ]
     },
     "execution_count": 445,
     "metadata": {},
     "output_type": "execute_result"
    }
   ],
   "source": [
    "s[-4:]"
   ]
  },
  {
   "cell_type": "code",
   "execution_count": 446,
   "id": "ab9ce281",
   "metadata": {},
   "outputs": [
    {
     "name": "stdout",
     "output_type": "stream",
     "text": [
      "['apple', 'banana', 'cherry', 'orange', 'kiwi', 'melon', 'mango']\n"
     ]
    }
   ],
   "source": [
    "thislist = [\"apple\", \"banana\", \"cherry\", \"orange\", \"kiwi\", \"melon\", \"mango\"]\n",
    "print(thislist)"
   ]
  },
  {
   "cell_type": "code",
   "execution_count": 448,
   "id": "f4003a4f",
   "metadata": {},
   "outputs": [
    {
     "name": "stdout",
     "output_type": "stream",
     "text": [
      "['banana', 'cherry', 'orange']\n"
     ]
    }
   ],
   "source": [
    "print(thislist[-6:-3])"
   ]
  },
  {
   "cell_type": "code",
   "execution_count": 450,
   "id": "9898ad27",
   "metadata": {},
   "outputs": [
    {
     "name": "stdout",
     "output_type": "stream",
     "text": [
      "['apple', 'banana', 'cherry', 'orange', 'kiwi']\n"
     ]
    }
   ],
   "source": [
    "print(thislist[:-2])"
   ]
  },
  {
   "cell_type": "code",
   "execution_count": 451,
   "id": "07d88eae",
   "metadata": {},
   "outputs": [
    {
     "data": {
      "text/plain": [
       "['apple', 'banana', 'cherry', 'orange', 'kiwi', 'melon', 'mango']"
      ]
     },
     "execution_count": 451,
     "metadata": {},
     "output_type": "execute_result"
    }
   ],
   "source": [
    "# Python change list items\n",
    "thislist\n"
   ]
  },
  {
   "cell_type": "code",
   "execution_count": 455,
   "id": "fa33b25c",
   "metadata": {},
   "outputs": [
    {
     "name": "stdout",
     "output_type": "stream",
     "text": [
      "['apple', 'Banana', 'cherry', 'orange', 'kiwi', 'melon', 'mango']\n"
     ]
    }
   ],
   "source": [
    "thislist[1]= \"Banana\"\n",
    "print(thislist)"
   ]
  },
  {
   "cell_type": "code",
   "execution_count": 456,
   "id": "4851d55e",
   "metadata": {},
   "outputs": [
    {
     "data": {
      "text/plain": [
       "['apple', 'Banana', 'cherry', 'orange', 'kiwi', 'melon', 'mango']"
      ]
     },
     "execution_count": 456,
     "metadata": {},
     "output_type": "execute_result"
    }
   ],
   "source": [
    "thislist"
   ]
  },
  {
   "cell_type": "code",
   "execution_count": 458,
   "id": "7a813463",
   "metadata": {},
   "outputs": [
    {
     "name": "stdout",
     "output_type": "stream",
     "text": [
      "['apple', 'blackcurrant', 'watermelon', 'orange', 'kiwi', 'melon', 'mango']\n"
     ]
    }
   ],
   "source": [
    "thislist[1:3] = [\"blackcurrant\", \"watermelon\"]\n",
    "print(thislist)"
   ]
  },
  {
   "cell_type": "code",
   "execution_count": 459,
   "id": "61e4e32c",
   "metadata": {},
   "outputs": [
    {
     "data": {
      "text/plain": [
       "['apple', 'blackcurrant', 'watermelon', 'orange', 'kiwi', 'melon', 'mango']"
      ]
     },
     "execution_count": 459,
     "metadata": {},
     "output_type": "execute_result"
    }
   ],
   "source": [
    "thislist"
   ]
  },
  {
   "cell_type": "code",
   "execution_count": 460,
   "id": "7302ece0",
   "metadata": {},
   "outputs": [
    {
     "name": "stdout",
     "output_type": "stream",
     "text": [
      "['apple', 'blackcurrant', 'watermelon', 'cherry']\n"
     ]
    }
   ],
   "source": [
    "thislist1 = [\"apple\", \"banana\", \"cherry\"]\n",
    "thislist1[1:2] = [\"blackcurrant\", \"watermelon\"]\n",
    "print(thislist1)"
   ]
  },
  {
   "cell_type": "code",
   "execution_count": 462,
   "id": "b1a062e9",
   "metadata": {},
   "outputs": [
    {
     "name": "stdout",
     "output_type": "stream",
     "text": [
      "['apple', 'cherry']\n"
     ]
    }
   ],
   "source": [
    "l1 = [\"apple\",\"Banana\",\"watermelon\"]\n",
    "l1[1:3] = [\"cherry\"]\n",
    "print(l1)"
   ]
  },
  {
   "cell_type": "code",
   "execution_count": 463,
   "id": "b2f459ae",
   "metadata": {},
   "outputs": [
    {
     "data": {
      "text/plain": [
       "['apple', 'cherry']"
      ]
     },
     "execution_count": 463,
     "metadata": {},
     "output_type": "execute_result"
    }
   ],
   "source": [
    "l1"
   ]
  },
  {
   "cell_type": "code",
   "execution_count": 464,
   "id": "4afefab2",
   "metadata": {},
   "outputs": [
    {
     "data": {
      "text/plain": [
       "['apple', 'blackcurrant', 'watermelon', 'orange', 'kiwi', 'melon', 'mango']"
      ]
     },
     "execution_count": 464,
     "metadata": {},
     "output_type": "execute_result"
    }
   ],
   "source": [
    "thislist"
   ]
  },
  {
   "cell_type": "code",
   "execution_count": 465,
   "id": "0c3ff9d0",
   "metadata": {},
   "outputs": [
    {
     "data": {
      "text/plain": [
       "['apple', 'cherry']"
      ]
     },
     "execution_count": 465,
     "metadata": {},
     "output_type": "execute_result"
    }
   ],
   "source": [
    "l1"
   ]
  },
  {
   "cell_type": "code",
   "execution_count": 467,
   "id": "d6c09b6f",
   "metadata": {},
   "outputs": [
    {
     "data": {
      "text/plain": [
       "['apple', 'watermelon', 'cherry', 'watermelon']"
      ]
     },
     "execution_count": 467,
     "metadata": {},
     "output_type": "execute_result"
    }
   ],
   "source": [
    "l1.insert(1,\"watermelon\")\n",
    "l1"
   ]
  },
  {
   "cell_type": "code",
   "execution_count": 468,
   "id": "013e5d67",
   "metadata": {},
   "outputs": [
    {
     "data": {
      "text/plain": [
       "'watermelon'"
      ]
     },
     "execution_count": 468,
     "metadata": {},
     "output_type": "execute_result"
    }
   ],
   "source": [
    "l1.pop()"
   ]
  },
  {
   "cell_type": "code",
   "execution_count": 469,
   "id": "2771fff7",
   "metadata": {},
   "outputs": [
    {
     "data": {
      "text/plain": [
       "['apple', 'watermelon', 'cherry']"
      ]
     },
     "execution_count": 469,
     "metadata": {},
     "output_type": "execute_result"
    }
   ],
   "source": [
    "l1"
   ]
  },
  {
   "cell_type": "code",
   "execution_count": 471,
   "id": "d08e9918",
   "metadata": {},
   "outputs": [
    {
     "name": "stdout",
     "output_type": "stream",
     "text": [
      "mango\n"
     ]
    }
   ],
   "source": [
    "# example\n",
    "\n",
    "mylist = [\"apple\",\"banana\",\"cherry\"]\n",
    "mylist[1:2] = [\"kiwi\",\"mango\"]\n",
    "print(mylist[2])\n",
    "\n",
    "# apple kiwi mango banana cherry"
   ]
  },
  {
   "cell_type": "code",
   "execution_count": 477,
   "id": "680d4584",
   "metadata": {},
   "outputs": [
    {
     "data": {
      "text/plain": [
       "['apple', 'kiwi', 'mango', 'cherry', 'watermelon', 'MANGO']"
      ]
     },
     "execution_count": 477,
     "metadata": {},
     "output_type": "execute_result"
    }
   ],
   "source": [
    "# Python - Add List Items\n",
    "mylist\n"
   ]
  },
  {
   "cell_type": "code",
   "execution_count": 480,
   "id": "3d78a1b5",
   "metadata": {},
   "outputs": [
    {
     "name": "stdout",
     "output_type": "stream",
     "text": [
      "['apple', 'kiwi', 'mango', 'cherry', 'watermelon', 'MANGO', 'MANGO', 'MANGO', 'MANGO']\n"
     ]
    }
   ],
   "source": [
    "mylist.append(\"MANGO\")\n",
    "print(mylist)"
   ]
  },
  {
   "cell_type": "code",
   "execution_count": 481,
   "id": "7699dbf9",
   "metadata": {},
   "outputs": [],
   "source": [
    "del mylist"
   ]
  },
  {
   "cell_type": "code",
   "execution_count": 482,
   "id": "47565541",
   "metadata": {},
   "outputs": [
    {
     "data": {
      "text/plain": [
       "['apple', 'Banana']"
      ]
     },
     "execution_count": 482,
     "metadata": {},
     "output_type": "execute_result"
    }
   ],
   "source": [
    "mylist = [\"apple\",\"Banana\"]\n",
    "mylist"
   ]
  },
  {
   "cell_type": "code",
   "execution_count": 483,
   "id": "4a541068",
   "metadata": {},
   "outputs": [
    {
     "name": "stdout",
     "output_type": "stream",
     "text": [
      "['apple', 'Banana', 'watermelon']\n"
     ]
    }
   ],
   "source": [
    "mylist.append(\"watermelon\")\n",
    "print(mylist)"
   ]
  },
  {
   "cell_type": "code",
   "execution_count": 484,
   "id": "72590403",
   "metadata": {},
   "outputs": [
    {
     "data": {
      "text/plain": [
       "['apple', 'Banana', 'watermelon']"
      ]
     },
     "execution_count": 484,
     "metadata": {},
     "output_type": "execute_result"
    }
   ],
   "source": [
    "# insert method\n",
    "\n",
    "mylist"
   ]
  },
  {
   "cell_type": "code",
   "execution_count": 485,
   "id": "74b860c9",
   "metadata": {},
   "outputs": [
    {
     "name": "stdout",
     "output_type": "stream",
     "text": [
      "None\n"
     ]
    }
   ],
   "source": [
    "print(mylist.insert(1,\"APPLE\"))"
   ]
  },
  {
   "cell_type": "code",
   "execution_count": 486,
   "id": "1c50509e",
   "metadata": {},
   "outputs": [
    {
     "data": {
      "text/plain": [
       "['apple', 'APPLE', 'Banana', 'watermelon']"
      ]
     },
     "execution_count": 486,
     "metadata": {},
     "output_type": "execute_result"
    }
   ],
   "source": [
    "mylist"
   ]
  },
  {
   "cell_type": "code",
   "execution_count": 487,
   "id": "3b072cb1",
   "metadata": {},
   "outputs": [
    {
     "name": "stdout",
     "output_type": "stream",
     "text": [
      "['apple', 'banana', 'cherry', 'APPLE', 'BANANA', 'CHERRY']\n"
     ]
    }
   ],
   "source": [
    "# Extend List\n",
    "\n",
    "l1 = ['apple','banana','cherry']\n",
    "l2 = ['APPLE','BANANA','CHERRY']\n",
    "l1.extend(l2)\n",
    "print(l1)"
   ]
  },
  {
   "cell_type": "code",
   "execution_count": 488,
   "id": "82ad221f",
   "metadata": {},
   "outputs": [
    {
     "name": "stdout",
     "output_type": "stream",
     "text": [
      "['apple', 'banana', 'cherry', 'APPLE', 'BANANA', 'CHERRY', 'APPLE', 'BANANA', 'CHERRY']\n"
     ]
    }
   ],
   "source": [
    "l3 = l1 + l2\n",
    "print(l3)"
   ]
  },
  {
   "cell_type": "code",
   "execution_count": 489,
   "id": "d53c03cb",
   "metadata": {},
   "outputs": [],
   "source": [
    "del l3"
   ]
  },
  {
   "cell_type": "code",
   "execution_count": 490,
   "id": "c6718544",
   "metadata": {},
   "outputs": [
    {
     "data": {
      "text/plain": [
       "['apple', 'banana', 'cherry', 'APPLE', 'BANANA', 'CHERRY']"
      ]
     },
     "execution_count": 490,
     "metadata": {},
     "output_type": "execute_result"
    }
   ],
   "source": [
    "l1"
   ]
  },
  {
   "cell_type": "code",
   "execution_count": 491,
   "id": "e5defed5",
   "metadata": {},
   "outputs": [
    {
     "data": {
      "text/plain": [
       "['APPLE', 'BANANA', 'CHERRY']"
      ]
     },
     "execution_count": 491,
     "metadata": {},
     "output_type": "execute_result"
    }
   ],
   "source": [
    "l2"
   ]
  },
  {
   "cell_type": "code",
   "execution_count": 492,
   "id": "cbeac3ab",
   "metadata": {},
   "outputs": [
    {
     "name": "stdout",
     "output_type": "stream",
     "text": [
      "['APPLE', 'BANANA', 'CHERRY', 'orange', 'kiwi']\n"
     ]
    }
   ],
   "source": [
    "tup1 = (\"orange\",\"kiwi\")\n",
    "\n",
    "l2.extend(tup1)\n",
    "print(l2)"
   ]
  },
  {
   "cell_type": "code",
   "execution_count": 493,
   "id": "0d1d8515",
   "metadata": {},
   "outputs": [
    {
     "data": {
      "text/plain": [
       "['APPLE', 'BANANA', 'CHERRY', 'orange', 'kiwi']"
      ]
     },
     "execution_count": 493,
     "metadata": {},
     "output_type": "execute_result"
    }
   ],
   "source": [
    "l2"
   ]
  },
  {
   "cell_type": "code",
   "execution_count": 494,
   "id": "566c67ca",
   "metadata": {},
   "outputs": [
    {
     "data": {
      "text/plain": [
       "['APPLE', 'BANANA', 'CHERRY', 'orange', 'kiwi']"
      ]
     },
     "execution_count": 494,
     "metadata": {},
     "output_type": "execute_result"
    }
   ],
   "source": [
    "# Python - Remove List Items\n",
    "l2\n"
   ]
  },
  {
   "cell_type": "code",
   "execution_count": 495,
   "id": "1b545850",
   "metadata": {},
   "outputs": [
    {
     "name": "stdout",
     "output_type": "stream",
     "text": [
      "['APPLE', 'BANANA', 'orange', 'kiwi']\n"
     ]
    }
   ],
   "source": [
    "l2.remove(\"CHERRY\")\n",
    "print(l2)"
   ]
  },
  {
   "cell_type": "code",
   "execution_count": 496,
   "id": "b695049c",
   "metadata": {},
   "outputs": [
    {
     "data": {
      "text/plain": [
       "['APPLE', 'BANANA', 'orange', 'kiwi']"
      ]
     },
     "execution_count": 496,
     "metadata": {},
     "output_type": "execute_result"
    }
   ],
   "source": [
    "l2"
   ]
  },
  {
   "cell_type": "code",
   "execution_count": 498,
   "id": "ba5d7522",
   "metadata": {},
   "outputs": [
    {
     "name": "stdout",
     "output_type": "stream",
     "text": [
      "['apple', 'cherry', 'kiwi']\n"
     ]
    }
   ],
   "source": [
    "thislist = [\"apple\", \"banana\", \"cherry\", \"banana\", \"kiwi\"]\n",
    "thislist.remove(\"banana\")\n",
    "thislist.remove(\"banana\")\n",
    "print(thislist)"
   ]
  },
  {
   "cell_type": "code",
   "execution_count": 500,
   "id": "361e2b95",
   "metadata": {},
   "outputs": [
    {
     "name": "stdout",
     "output_type": "stream",
     "text": [
      "['APPLE', 'BANANA', 'orange', 'kiwi']\n"
     ]
    }
   ],
   "source": [
    "l2.reverse()\n",
    "print(l2)"
   ]
  },
  {
   "cell_type": "code",
   "execution_count": 501,
   "id": "7418dc65",
   "metadata": {},
   "outputs": [
    {
     "name": "stdout",
     "output_type": "stream",
     "text": [
      "[1, 2, 3, 4]\n"
     ]
    }
   ],
   "source": [
    "a = [1,2,3,4]\n",
    "print(a)"
   ]
  },
  {
   "cell_type": "code",
   "execution_count": 505,
   "id": "e1570e78",
   "metadata": {},
   "outputs": [],
   "source": [
    "a.reverse()"
   ]
  },
  {
   "cell_type": "code",
   "execution_count": 506,
   "id": "3b27ecc8",
   "metadata": {},
   "outputs": [
    {
     "name": "stdout",
     "output_type": "stream",
     "text": [
      "[1, 2, 3, 4]\n"
     ]
    }
   ],
   "source": [
    "print(a)"
   ]
  },
  {
   "cell_type": "code",
   "execution_count": 508,
   "id": "d6b4483f",
   "metadata": {},
   "outputs": [
    {
     "data": {
      "text/plain": [
       "[1, 2, 3, 4]"
      ]
     },
     "execution_count": 508,
     "metadata": {},
     "output_type": "execute_result"
    }
   ],
   "source": [
    "a"
   ]
  },
  {
   "cell_type": "code",
   "execution_count": 515,
   "id": "a50aea29",
   "metadata": {},
   "outputs": [
    {
     "name": "stdout",
     "output_type": "stream",
     "text": [
      "<class 'list'>\n"
     ]
    }
   ],
   "source": [
    "a\n",
    "print(type(a))"
   ]
  },
  {
   "cell_type": "code",
   "execution_count": 516,
   "id": "b85fac9b",
   "metadata": {},
   "outputs": [
    {
     "name": "stdout",
     "output_type": "stream",
     "text": [
      "[4, 3, 2, 1]\n"
     ]
    }
   ],
   "source": [
    "a.reverse()\n",
    "print(a)"
   ]
  },
  {
   "cell_type": "code",
   "execution_count": 517,
   "id": "12cac0b1",
   "metadata": {},
   "outputs": [
    {
     "data": {
      "text/plain": [
       "[4, 3, 2, 1]"
      ]
     },
     "execution_count": 517,
     "metadata": {},
     "output_type": "execute_result"
    }
   ],
   "source": [
    "a"
   ]
  },
  {
   "cell_type": "code",
   "execution_count": 518,
   "id": "91f4a83b",
   "metadata": {},
   "outputs": [
    {
     "name": "stdout",
     "output_type": "stream",
     "text": [
      "[4, 3, 2, 1]\n"
     ]
    }
   ],
   "source": [
    "# reversing a for loop using\n",
    "\n",
    "list1 = [1,2,3,4]\n",
    "\n",
    "rev = []\n",
    "\n",
    "for i in list1:\n",
    "    rev.insert(0,i)\n",
    "print(rev)"
   ]
  },
  {
   "cell_type": "code",
   "execution_count": 521,
   "id": "3d76527d",
   "metadata": {},
   "outputs": [
    {
     "name": "stdout",
     "output_type": "stream",
     "text": [
      "[5, 4, 3, 2, 1]\n"
     ]
    }
   ],
   "source": [
    "# Using List Comprehension\n",
    "\n",
    "a = [1, 2, 3, 4, 5]\n",
    "\n",
    "# Use list comprehension to create\n",
    "# a reversed version of the list\n",
    "rev = [a[i] for i in range(len(a) - 1, -1, -1)]\n",
    "print(rev)"
   ]
  },
  {
   "cell_type": "code",
   "execution_count": 522,
   "id": "1524092b",
   "metadata": {},
   "outputs": [
    {
     "data": {
      "text/plain": [
       "['apple', 'banana', 'cherry', 'APPLE', 'BANANA', 'CHERRY']"
      ]
     },
     "execution_count": 522,
     "metadata": {},
     "output_type": "execute_result"
    }
   ],
   "source": [
    "# pop() method\n",
    "\n",
    "l1"
   ]
  },
  {
   "cell_type": "code",
   "execution_count": 523,
   "id": "6adec08d",
   "metadata": {},
   "outputs": [
    {
     "data": {
      "text/plain": [
       "'CHERRY'"
      ]
     },
     "execution_count": 523,
     "metadata": {},
     "output_type": "execute_result"
    }
   ],
   "source": [
    "l1.pop()"
   ]
  },
  {
   "cell_type": "code",
   "execution_count": 524,
   "id": "e365dcb1",
   "metadata": {},
   "outputs": [
    {
     "data": {
      "text/plain": [
       "['apple', 'banana', 'cherry', 'APPLE', 'BANANA']"
      ]
     },
     "execution_count": 524,
     "metadata": {},
     "output_type": "execute_result"
    }
   ],
   "source": [
    "l1"
   ]
  },
  {
   "cell_type": "code",
   "execution_count": 526,
   "id": "4540af41",
   "metadata": {},
   "outputs": [
    {
     "data": {
      "text/plain": [
       "'APPLE'"
      ]
     },
     "execution_count": 526,
     "metadata": {},
     "output_type": "execute_result"
    }
   ],
   "source": [
    "l1.pop(3)"
   ]
  },
  {
   "cell_type": "code",
   "execution_count": 527,
   "id": "e5affd03",
   "metadata": {},
   "outputs": [
    {
     "data": {
      "text/plain": [
       "['apple', 'banana', 'cherry', 'BANANA']"
      ]
     },
     "execution_count": 527,
     "metadata": {},
     "output_type": "execute_result"
    }
   ],
   "source": [
    "l1"
   ]
  },
  {
   "cell_type": "code",
   "execution_count": 528,
   "id": "bdab9fd3",
   "metadata": {},
   "outputs": [
    {
     "data": {
      "text/plain": [
       "['apple', 'banana', 'cherry', 'BANANA']"
      ]
     },
     "execution_count": 528,
     "metadata": {},
     "output_type": "execute_result"
    }
   ],
   "source": [
    "# clear the list\n",
    "\n",
    "l1"
   ]
  },
  {
   "cell_type": "code",
   "execution_count": 529,
   "id": "b58f2cc9",
   "metadata": {},
   "outputs": [
    {
     "name": "stdout",
     "output_type": "stream",
     "text": [
      "[]\n"
     ]
    }
   ],
   "source": [
    "l1.clear()\n",
    "print(l1)"
   ]
  },
  {
   "cell_type": "code",
   "execution_count": 530,
   "id": "8ffecdf4",
   "metadata": {},
   "outputs": [
    {
     "data": {
      "text/plain": [
       "[]"
      ]
     },
     "execution_count": 530,
     "metadata": {},
     "output_type": "execute_result"
    }
   ],
   "source": [
    "l1"
   ]
  },
  {
   "cell_type": "code",
   "execution_count": 532,
   "id": "047177ff",
   "metadata": {},
   "outputs": [
    {
     "name": "stdout",
     "output_type": "stream",
     "text": [
      "[['apple', 'banana', 'watermelon']]\n"
     ]
    }
   ],
   "source": [
    "# Python loop list\n",
    "\n",
    "l1.insert(0,[\"apple\",\"banana\",\"watermelon\"])\n",
    "print(l1)"
   ]
  },
  {
   "cell_type": "code",
   "execution_count": 533,
   "id": "108793e1",
   "metadata": {},
   "outputs": [
    {
     "data": {
      "text/plain": [
       "[['apple', 'banana', 'watermelon']]"
      ]
     },
     "execution_count": 533,
     "metadata": {},
     "output_type": "execute_result"
    }
   ],
   "source": [
    "l1"
   ]
  },
  {
   "cell_type": "code",
   "execution_count": 534,
   "id": "74ce06a4",
   "metadata": {},
   "outputs": [],
   "source": [
    "del l1\n"
   ]
  },
  {
   "cell_type": "code",
   "execution_count": 536,
   "id": "229f8a70",
   "metadata": {},
   "outputs": [
    {
     "data": {
      "text/plain": [
       "['apple', 'banana', 'watermelon']"
      ]
     },
     "execution_count": 536,
     "metadata": {},
     "output_type": "execute_result"
    }
   ],
   "source": [
    "l1 = [\"apple\",\"banana\",\"watermelon\"]\n",
    "l1"
   ]
  },
  {
   "cell_type": "code",
   "execution_count": 537,
   "id": "25f195b8",
   "metadata": {},
   "outputs": [
    {
     "name": "stdout",
     "output_type": "stream",
     "text": [
      "apple\n",
      "banana\n",
      "watermelon\n"
     ]
    }
   ],
   "source": [
    "for i in l1:\n",
    "    print(i)"
   ]
  },
  {
   "cell_type": "code",
   "execution_count": 538,
   "id": "f4687e2e",
   "metadata": {},
   "outputs": [
    {
     "name": "stdout",
     "output_type": "stream",
     "text": [
      "apple\n",
      "banana\n",
      "watermelon\n"
     ]
    }
   ],
   "source": [
    "for i in range(len(l1)):\n",
    "    print(l1[i])"
   ]
  },
  {
   "cell_type": "code",
   "execution_count": null,
   "id": "f733ed11",
   "metadata": {},
   "outputs": [],
   "source": []
  }
 ],
 "metadata": {
  "kernelspec": {
   "display_name": "Python 3 (ipykernel)",
   "language": "python",
   "name": "python3"
  },
  "language_info": {
   "codemirror_mode": {
    "name": "ipython",
    "version": 3
   },
   "file_extension": ".py",
   "mimetype": "text/x-python",
   "name": "python",
   "nbconvert_exporter": "python",
   "pygments_lexer": "ipython3",
   "version": "3.10.9"
  }
 },
 "nbformat": 4,
 "nbformat_minor": 5
}
