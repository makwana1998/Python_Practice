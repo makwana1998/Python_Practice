{
 "cells": [
  {
   "cell_type": "code",
   "execution_count": 1,
   "id": "f3de5e67",
   "metadata": {},
   "outputs": [
    {
     "name": "stdout",
     "output_type": "stream",
     "text": [
      "['a', 'b', 'c']\n"
     ]
    }
   ],
   "source": [
    "# How to Remove Duplicates From a Python List\n",
    "\n",
    "\n",
    "# Remove any duplicates from a List:\n",
    "\n",
    "\n",
    "mylist = [\"a\",\"b\",\"a\",\"c\",\"c\"]\n",
    "\n",
    "mylist = list(dict.fromkeys(mylist))\n",
    "print(mylist)"
   ]
  },
  {
   "cell_type": "code",
   "execution_count": 2,
   "id": "d8acda28",
   "metadata": {},
   "outputs": [
    {
     "name": "stdout",
     "output_type": "stream",
     "text": [
      "['apple', 'Banana', 'cherry']\n"
     ]
    }
   ],
   "source": [
    "l1 = [\"apple\",\"Banana\",\"apple\",\"cherry\",\"Banana\",\"cherry\"]\n",
    "l1 = list(dict.fromkeys(l1))\n",
    "print(l1)"
   ]
  },
  {
   "cell_type": "code",
   "execution_count": 3,
   "id": "7a82e69f",
   "metadata": {},
   "outputs": [
    {
     "name": "stdout",
     "output_type": "stream",
     "text": [
      "['apple', 'Banana', 'cherry']\n"
     ]
    }
   ],
   "source": [
    "# create a function\n",
    "\n",
    "def my_function(x):\n",
    "    return list(dict.fromkeys(x))\n",
    "\n",
    "l1 = my_function([\"apple\",\"Banana\",\"apple\",\"cherry\",\"Banana\",\"cherry\"])\n",
    "print(l1)"
   ]
  },
  {
   "cell_type": "code",
   "execution_count": null,
   "id": "61d1fae5",
   "metadata": {},
   "outputs": [],
   "source": []
  },
  {
   "cell_type": "code",
   "execution_count": null,
   "id": "61eb926d",
   "metadata": {},
   "outputs": [],
   "source": []
  },
  {
   "cell_type": "markdown",
   "id": "3c29d778",
   "metadata": {},
   "source": [
    "# How to Reverse a String in Python"
   ]
  },
  {
   "cell_type": "code",
   "execution_count": 4,
   "id": "9c8a5488",
   "metadata": {},
   "outputs": [
    {
     "name": "stdout",
     "output_type": "stream",
     "text": [
      "!dlroW olleH\n"
     ]
    }
   ],
   "source": [
    "# using  string slicing \n",
    "\n",
    "txt = \"Hello World!\"\n",
    "print(txt[::-1])"
   ]
  },
  {
   "cell_type": "code",
   "execution_count": 5,
   "id": "70233784",
   "metadata": {},
   "outputs": [
    {
     "name": "stdout",
     "output_type": "stream",
     "text": [
      "uoy era woH , olleh\n"
     ]
    }
   ],
   "source": [
    "# creating a function \n",
    "\n",
    "def reverse_string(x):\n",
    "    \n",
    "    return x[::-1]\n",
    "\n",
    "mytxt = reverse_string(\"hello , How are you\")\n",
    "print(mytxt)"
   ]
  },
  {
   "cell_type": "markdown",
   "id": "b499de30",
   "metadata": {},
   "source": [
    "# Using reversed() and join()\n",
    "\n"
   ]
  },
  {
   "cell_type": "code",
   "execution_count": 7,
   "id": "d5e17a30",
   "metadata": {},
   "outputs": [
    {
     "name": "stdout",
     "output_type": "stream",
     "text": [
      "dlroW olleH\n"
     ]
    }
   ],
   "source": [
    "s = \"Hello World\"\n",
    "rev = \"\".join(reversed(s))\n",
    "print(rev)"
   ]
  },
  {
   "cell_type": "code",
   "execution_count": 8,
   "id": "bdfdd1dc",
   "metadata": {},
   "outputs": [
    {
     "name": "stdout",
     "output_type": "stream",
     "text": [
      "python\n"
     ]
    }
   ],
   "source": [
    "str1 = \"nohtyp\"\n",
    "rev = \"\".join(reversed(str1))\n",
    "print(rev)"
   ]
  },
  {
   "cell_type": "markdown",
   "id": "33c7e1be",
   "metadata": {},
   "source": [
    "# Using a Loop"
   ]
  },
  {
   "cell_type": "code",
   "execution_count": 9,
   "id": "5f4d08c3",
   "metadata": {},
   "outputs": [
    {
     "name": "stdout",
     "output_type": "stream",
     "text": [
      "NOHTYP\n"
     ]
    }
   ],
   "source": [
    "s = \"PYTHON\"\n",
    "\n",
    "rev = \"\"\n",
    "\n",
    "for i in s:\n",
    "    \n",
    "    rev = i + rev\n",
    "print(rev)"
   ]
  },
  {
   "cell_type": "code",
   "execution_count": 10,
   "id": "ff7902da",
   "metadata": {},
   "outputs": [
    {
     "name": "stdout",
     "output_type": "stream",
     "text": [
      "edoC nohtyP ot ,emocleW\n"
     ]
    }
   ],
   "source": [
    "str1 = \"Welcome, to Python Code\"\n",
    "\n",
    "rev = \"\"   # Initialize an empty string to hold reversed result\n",
    "\n",
    "for i in str1: # Loop through each character in original string\n",
    "    \n",
    "    rev = i + rev # Add current character to front of reversed string\n",
    "    \n",
    "print(rev)"
   ]
  },
  {
   "cell_type": "code",
   "execution_count": 24,
   "id": "750162f2",
   "metadata": {},
   "outputs": [
    {
     "name": "stdout",
     "output_type": "stream",
     "text": [
      "reversed string  LM htiw nohtyP\n"
     ]
    }
   ],
   "source": [
    "# using for loop\n",
    "\n",
    "my_string = \"Python with ML\"\n",
    "\n",
    "str = \"\"\n",
    "\n",
    "for i in my_string:\n",
    "    str = i + str\n",
    "    \n",
    "print(\"reversed string \",str)\n",
    "\n"
   ]
  },
  {
   "cell_type": "code",
   "execution_count": 26,
   "id": "56b025ef",
   "metadata": {},
   "outputs": [
    {
     "name": "stdout",
     "output_type": "stream",
     "text": [
      "Enter the string: pj\n",
      "The reverse string is  jp\n"
     ]
    }
   ],
   "source": [
    "# function \n",
    "\n",
    "def FindReverse(string):\n",
    "    \n",
    "    reverse = \"\"\n",
    "    \n",
    "    for i in range(len(string)-1,-1,-1):\n",
    "        reverse += string[i]\n",
    "    return reverse\n",
    "\n",
    "string = input(\"Enter the string: \")\n",
    "reverse = FindReverse(string)\n",
    "print(\"The reverse string is \",reverse)\n"
   ]
  },
  {
   "cell_type": "code",
   "execution_count": null,
   "id": "466f3fed",
   "metadata": {},
   "outputs": [],
   "source": []
  },
  {
   "cell_type": "code",
   "execution_count": null,
   "id": "12f9e3c1",
   "metadata": {},
   "outputs": [],
   "source": []
  },
  {
   "cell_type": "code",
   "execution_count": null,
   "id": "3834c758",
   "metadata": {},
   "outputs": [],
   "source": []
  },
  {
   "cell_type": "markdown",
   "id": "f83ea630",
   "metadata": {},
   "source": [
    "# Using list comprehension and join()"
   ]
  },
  {
   "cell_type": "code",
   "execution_count": 15,
   "id": "a6222834",
   "metadata": {},
   "outputs": [
    {
     "name": "stdout",
     "output_type": "stream",
     "text": [
      "emoC leW\n"
     ]
    }
   ],
   "source": [
    "s = \"Wel Come\"\n",
    "\n",
    "rev = \"\".join([s[i] for i in range(len(s)-1,-1,-1)])\n",
    "print(rev)\n",
    "               "
   ]
  },
  {
   "cell_type": "code",
   "execution_count": 17,
   "id": "4b8b8c74",
   "metadata": {},
   "outputs": [
    {
     "name": "stdout",
     "output_type": "stream",
     "text": [
      "!dlroW olleH\n"
     ]
    }
   ],
   "source": [
    "s1 = \"Hello World!\"\n",
    "\n",
    "rev = ''.join([s1[i] for i in range(len(s1)-1,-1,-1)])\n",
    "print(rev)"
   ]
  },
  {
   "cell_type": "code",
   "execution_count": null,
   "id": "68e6c548",
   "metadata": {},
   "outputs": [],
   "source": []
  },
  {
   "cell_type": "markdown",
   "id": "6d5342a2",
   "metadata": {},
   "source": [
    "# Using stack"
   ]
  },
  {
   "cell_type": "code",
   "execution_count": 20,
   "id": "e0acbfbd",
   "metadata": {},
   "outputs": [
    {
     "name": "stdout",
     "output_type": "stream",
     "text": [
      "nohtyp\n"
     ]
    }
   ],
   "source": [
    "s = \"python\"\n",
    "\n",
    "# Convert the string into a list to use it as a stack\n",
    "\n",
    "stack = list(s)\n",
    "\n",
    "# Initialize an empty string to hold the reversed\n",
    "\n",
    "rev = \"\"\n",
    "\n",
    "# Continue looping until the stack is empty\n",
    "\n",
    "while stack:\n",
    "    \n",
    "    \n",
    "    # Remove the top element from the stack \n",
    "    # and add it to the reversed string\n",
    "    \n",
    "    rev += stack.pop()\n",
    "    \n",
    "print(rev)\n"
   ]
  },
  {
   "cell_type": "code",
   "execution_count": 21,
   "id": "f01b37b1",
   "metadata": {},
   "outputs": [
    {
     "name": "stdout",
     "output_type": "stream",
     "text": [
      "patarp\n"
     ]
    }
   ],
   "source": [
    "str1 = \"pratap\"\n",
    "\n",
    "stack = list(str1)\n",
    "\n",
    "rev = \"\"\n",
    "\n",
    "while stack:\n",
    "    \n",
    "    rev += stack.pop()\n",
    "    \n",
    "print(rev)"
   ]
  },
  {
   "cell_type": "markdown",
   "id": "f8e6ab67",
   "metadata": {},
   "source": [
    "# palindrom in Python"
   ]
  },
  {
   "cell_type": "code",
   "execution_count": 28,
   "id": "4322835a",
   "metadata": {},
   "outputs": [
    {
     "name": "stdout",
     "output_type": "stream",
     "text": [
      "Enter the string: malayalam\n",
      "malayalam is a Palindrome\n"
     ]
    }
   ],
   "source": [
    "# Python program to check if string is Palindrome\n",
    "\n",
    "# take inputs\n",
    "string = input('Enter the string: ')\n",
    "\n",
    "# find reverse of string\n",
    "i = string\n",
    "reverse = ''\n",
    "while(len(i) > 0):\n",
    "    if(len(i) > 0):\n",
    "        a = i[-1]\n",
    "        i = i[:-1]\n",
    "        reverse += a\n",
    "\n",
    "# compare reverse to original string\n",
    "if(reverse == string):\n",
    "    print(string,'is a Palindrome')\n",
    "else:\n",
    "    print(string,'is not a Palindrome')"
   ]
  },
  {
   "cell_type": "code",
   "execution_count": null,
   "id": "157fab1c",
   "metadata": {},
   "outputs": [],
   "source": []
  }
 ],
 "metadata": {
  "kernelspec": {
   "display_name": "Python 3 (ipykernel)",
   "language": "python",
   "name": "python3"
  },
  "language_info": {
   "codemirror_mode": {
    "name": "ipython",
    "version": 3
   },
   "file_extension": ".py",
   "mimetype": "text/x-python",
   "name": "python",
   "nbconvert_exporter": "python",
   "pygments_lexer": "ipython3",
   "version": "3.10.9"
  }
 },
 "nbformat": 4,
 "nbformat_minor": 5
}
